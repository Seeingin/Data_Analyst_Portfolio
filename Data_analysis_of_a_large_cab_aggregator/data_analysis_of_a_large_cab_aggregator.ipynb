{
 "cells": [
  {
   "cell_type": "markdown",
   "metadata": {
    "id": "uU7BuigbNWb2"
   },
   "source": [
    "**Тема:**\n",
    "«Анализ данных крупного агрегатора такси (поиск инсайтов, проверка гипотезы, составление\n",
    "рекомендаций стейкхолдерам)»."
   ]
  },
  {
   "cell_type": "markdown",
   "metadata": {
    "id": "pyUGxhXWNaXi"
   },
   "source": [
    "**Цели:**\n",
    "\n",
    "* исследовать данные\n",
    "* выделить основные закономерности в данных\n",
    "* проверить гипотезу о поведенческом\n",
    "предпочтении пользователей к определённому классу такси\n",
    "* сделать выводы и презентовать результаты"
   ]
  },
  {
   "cell_type": "markdown",
   "metadata": {
    "id": "ntwM9zFAOFVi"
   },
   "source": [
    "**План исследования:**\n",
    "\n",
    "* предобработка данных\n",
    "\n",
    "* анализ качественных и количественных параметров\n",
    "\n",
    "* формулирование и проверка гипотез\n",
    "\n",
    "* выводы"
   ]
  },
  {
   "cell_type": "markdown",
   "metadata": {
    "id": "CGwO3kCAMbGX"
   },
   "source": [
    "**Описание датасета:**\n",
    "\n",
    "Датасет содержит информацию о поездках на такси одного из известных агрегаторов:\n",
    "*   order_gk — идентификатор поездки;\n",
    "*   weekday_key — день недели совершения поездки;\n",
    "* hour_key — час совершения поездки;\n",
    "* distance_km — дистанция поездки;\n",
    "* offer_class_group — класс поездки (Economy, Comfort, Premium, Delivery);\n",
    "* driver_response — статус поездки (1 — поездка совершена; 0 — отмена)."
   ]
  },
  {
   "cell_type": "markdown",
   "metadata": {
    "id": "SHa19yc2OP8n"
   },
   "source": [
    "# Общая информация"
   ]
  },
  {
   "cell_type": "code",
   "execution_count": 1,
   "metadata": {
    "colab": {
     "base_uri": "https://localhost:8080/"
    },
    "id": "JlZFWtYJLqA-",
    "outputId": "4869f660-671e-4528-fb37-51f4d21dafc7"
   },
   "outputs": [],
   "source": [
    "# импорт библиотек\n",
    "\n",
    "import pandas as pd\n",
    "import numpy as np\n",
    "import matplotlib.pyplot as plt\n",
    "from matplotlib import style\n",
    "plt.style.use('seaborn-white')\n",
    "import seaborn as sns\n",
    "import scipy\n",
    "import scipy.stats as stats\n",
    "import statsmodels.api as sm\n",
    "\n",
    "import warnings\n",
    "warnings.filterwarnings(\"ignore\")"
   ]
  },
  {
   "cell_type": "code",
   "execution_count": 11,
   "metadata": {
    "colab": {
     "base_uri": "https://localhost:8080/",
     "height": 206
    },
    "id": "P5qTFNiUOcK1",
    "outputId": "276fd4f0-954a-4b68-eb88-027418bd12d0"
   },
   "outputs": [
    {
     "data": {
      "text/html": [
       "<div>\n",
       "<style scoped>\n",
       "    .dataframe tbody tr th:only-of-type {\n",
       "        vertical-align: middle;\n",
       "    }\n",
       "\n",
       "    .dataframe tbody tr th {\n",
       "        vertical-align: top;\n",
       "    }\n",
       "\n",
       "    .dataframe thead th {\n",
       "        text-align: right;\n",
       "    }\n",
       "</style>\n",
       "<table border=\"1\" class=\"dataframe\">\n",
       "  <thead>\n",
       "    <tr style=\"text-align: right;\">\n",
       "      <th></th>\n",
       "      <th>order_gk</th>\n",
       "      <th>weekday_key</th>\n",
       "      <th>hour_key</th>\n",
       "      <th>distance_km</th>\n",
       "      <th>offer_class_group</th>\n",
       "      <th>driver_response</th>\n",
       "    </tr>\n",
       "  </thead>\n",
       "  <tbody>\n",
       "    <tr>\n",
       "      <th>0</th>\n",
       "      <td>412</td>\n",
       "      <td>7</td>\n",
       "      <td>23</td>\n",
       "      <td>53.114</td>\n",
       "      <td>Premium</td>\n",
       "      <td>1</td>\n",
       "    </tr>\n",
       "    <tr>\n",
       "      <th>1</th>\n",
       "      <td>436</td>\n",
       "      <td>3</td>\n",
       "      <td>10</td>\n",
       "      <td>5.781</td>\n",
       "      <td>Delivery</td>\n",
       "      <td>1</td>\n",
       "    </tr>\n",
       "    <tr>\n",
       "      <th>2</th>\n",
       "      <td>1327</td>\n",
       "      <td>6</td>\n",
       "      <td>19</td>\n",
       "      <td>16.200</td>\n",
       "      <td>Delivery</td>\n",
       "      <td>0</td>\n",
       "    </tr>\n",
       "    <tr>\n",
       "      <th>3</th>\n",
       "      <td>2013</td>\n",
       "      <td>2</td>\n",
       "      <td>2</td>\n",
       "      <td>13.732</td>\n",
       "      <td>Delivery</td>\n",
       "      <td>0</td>\n",
       "    </tr>\n",
       "    <tr>\n",
       "      <th>4</th>\n",
       "      <td>2241</td>\n",
       "      <td>6</td>\n",
       "      <td>3</td>\n",
       "      <td>20.436</td>\n",
       "      <td>Premium</td>\n",
       "      <td>1</td>\n",
       "    </tr>\n",
       "  </tbody>\n",
       "</table>\n",
       "</div>"
      ],
      "text/plain": [
       "   order_gk  weekday_key  hour_key  distance_km offer_class_group  \\\n",
       "0       412            7        23       53.114           Premium   \n",
       "1       436            3        10        5.781          Delivery   \n",
       "2      1327            6        19       16.200          Delivery   \n",
       "3      2013            2         2       13.732          Delivery   \n",
       "4      2241            6         3       20.436           Premium   \n",
       "\n",
       "   driver_response  \n",
       "0                1  \n",
       "1                1  \n",
       "2                0  \n",
       "3                0  \n",
       "4                1  "
      ]
     },
     "execution_count": 11,
     "metadata": {},
     "output_type": "execute_result"
    }
   ],
   "source": [
    "# загрузка данных\n",
    "\n",
    "data = pd.read_csv(r'C:\\Users\\Alexa\\Downloads\\dip_hw_x_taxi.csv')\n",
    "data.head(5)"
   ]
  },
  {
   "cell_type": "code",
   "execution_count": 12,
   "metadata": {
    "colab": {
     "base_uri": "https://localhost:8080/",
     "height": 206
    },
    "id": "bTkp5qLK7C3L",
    "outputId": "fe6e2cff-f26e-450b-fd97-dad95fe6ac47"
   },
   "outputs": [
    {
     "data": {
      "text/html": [
       "<div>\n",
       "<style scoped>\n",
       "    .dataframe tbody tr th:only-of-type {\n",
       "        vertical-align: middle;\n",
       "    }\n",
       "\n",
       "    .dataframe tbody tr th {\n",
       "        vertical-align: top;\n",
       "    }\n",
       "\n",
       "    .dataframe thead th {\n",
       "        text-align: right;\n",
       "    }\n",
       "</style>\n",
       "<table border=\"1\" class=\"dataframe\">\n",
       "  <thead>\n",
       "    <tr style=\"text-align: right;\">\n",
       "      <th></th>\n",
       "      <th>order_gk</th>\n",
       "      <th>weekday_key</th>\n",
       "      <th>hour_key</th>\n",
       "      <th>distance_km</th>\n",
       "      <th>offer_class_group</th>\n",
       "      <th>driver_response</th>\n",
       "    </tr>\n",
       "  </thead>\n",
       "  <tbody>\n",
       "    <tr>\n",
       "      <th>1995</th>\n",
       "      <td>918581</td>\n",
       "      <td>5</td>\n",
       "      <td>16</td>\n",
       "      <td>8.591</td>\n",
       "      <td>Delivery</td>\n",
       "      <td>1</td>\n",
       "    </tr>\n",
       "    <tr>\n",
       "      <th>1996</th>\n",
       "      <td>918656</td>\n",
       "      <td>7</td>\n",
       "      <td>14</td>\n",
       "      <td>30.835</td>\n",
       "      <td>Comfort</td>\n",
       "      <td>1</td>\n",
       "    </tr>\n",
       "    <tr>\n",
       "      <th>1997</th>\n",
       "      <td>918683</td>\n",
       "      <td>4</td>\n",
       "      <td>19</td>\n",
       "      <td>20.365</td>\n",
       "      <td>Delivery</td>\n",
       "      <td>0</td>\n",
       "    </tr>\n",
       "    <tr>\n",
       "      <th>1998</th>\n",
       "      <td>918737</td>\n",
       "      <td>2</td>\n",
       "      <td>23</td>\n",
       "      <td>14.960</td>\n",
       "      <td>Economy</td>\n",
       "      <td>0</td>\n",
       "    </tr>\n",
       "    <tr>\n",
       "      <th>1999</th>\n",
       "      <td>919196</td>\n",
       "      <td>4</td>\n",
       "      <td>19</td>\n",
       "      <td>68.559</td>\n",
       "      <td>Economy</td>\n",
       "      <td>0</td>\n",
       "    </tr>\n",
       "  </tbody>\n",
       "</table>\n",
       "</div>"
      ],
      "text/plain": [
       "      order_gk  weekday_key  hour_key  distance_km offer_class_group  \\\n",
       "1995    918581            5        16        8.591          Delivery   \n",
       "1996    918656            7        14       30.835           Comfort   \n",
       "1997    918683            4        19       20.365          Delivery   \n",
       "1998    918737            2        23       14.960           Economy   \n",
       "1999    919196            4        19       68.559           Economy   \n",
       "\n",
       "      driver_response  \n",
       "1995                1  \n",
       "1996                1  \n",
       "1997                0  \n",
       "1998                0  \n",
       "1999                0  "
      ]
     },
     "execution_count": 12,
     "metadata": {},
     "output_type": "execute_result"
    }
   ],
   "source": [
    "data.tail(5)"
   ]
  },
  {
   "cell_type": "code",
   "execution_count": 13,
   "metadata": {
    "colab": {
     "base_uri": "https://localhost:8080/"
    },
    "id": "qlAagewqOrmo",
    "outputId": "2a576767-5648-42a1-fc53-c1ce9fda30d7"
   },
   "outputs": [
    {
     "name": "stdout",
     "output_type": "stream",
     "text": [
      "<class 'pandas.core.frame.DataFrame'>\n",
      "RangeIndex: 2000 entries, 0 to 1999\n",
      "Data columns (total 6 columns):\n",
      " #   Column             Non-Null Count  Dtype  \n",
      "---  ------             --------------  -----  \n",
      " 0   order_gk           2000 non-null   int64  \n",
      " 1   weekday_key        2000 non-null   int64  \n",
      " 2   hour_key           2000 non-null   int64  \n",
      " 3   distance_km        2000 non-null   float64\n",
      " 4   offer_class_group  2000 non-null   object \n",
      " 5   driver_response    2000 non-null   int64  \n",
      "dtypes: float64(1), int64(4), object(1)\n",
      "memory usage: 93.9+ KB\n"
     ]
    }
   ],
   "source": [
    "data.info()"
   ]
  },
  {
   "cell_type": "markdown",
   "metadata": {
    "id": "Jj0uXHc2PHs6"
   },
   "source": [
    "В таблице data 6 столбцов и 2000 строк, пропущенных значений нет. Столбец driver_response можно преобразовать в булев формат.\n",
    "\n",
    "Согласно документации к данным:\n",
    "*   order_gk — идентификатор поездки;\n",
    "*   weekday_key — день недели совершения поездки;\n",
    "* hour_key — час совершения поездки;\n",
    "* distance_km — дистанция поездки;\n",
    "* offer_class_group — класс поездки (Economy, Comfort, Premium, Delivery);\n",
    "* driver_response — статус поездки (1 — поездка совершена; 0 — отмена)"
   ]
  },
  {
   "cell_type": "markdown",
   "metadata": {
    "id": "ez9PBK9qQdKG"
   },
   "source": [
    "# Предобработка данных"
   ]
  },
  {
   "cell_type": "markdown",
   "metadata": {
    "id": "UVvzm_FL9Vyp"
   },
   "source": [
    "Проверим на наличие дубликатов в датасете:"
   ]
  },
  {
   "cell_type": "code",
   "execution_count": 14,
   "metadata": {
    "colab": {
     "base_uri": "https://localhost:8080/",
     "height": 49
    },
    "id": "jUlmGWxM9OMs",
    "outputId": "5f8555c9-3287-40d1-9101-c88577d07d33"
   },
   "outputs": [
    {
     "data": {
      "text/html": [
       "<div>\n",
       "<style scoped>\n",
       "    .dataframe tbody tr th:only-of-type {\n",
       "        vertical-align: middle;\n",
       "    }\n",
       "\n",
       "    .dataframe tbody tr th {\n",
       "        vertical-align: top;\n",
       "    }\n",
       "\n",
       "    .dataframe thead th {\n",
       "        text-align: right;\n",
       "    }\n",
       "</style>\n",
       "<table border=\"1\" class=\"dataframe\">\n",
       "  <thead>\n",
       "    <tr style=\"text-align: right;\">\n",
       "      <th></th>\n",
       "      <th>order_gk</th>\n",
       "      <th>weekday_key</th>\n",
       "      <th>hour_key</th>\n",
       "      <th>distance_km</th>\n",
       "      <th>offer_class_group</th>\n",
       "      <th>driver_response</th>\n",
       "    </tr>\n",
       "  </thead>\n",
       "  <tbody>\n",
       "  </tbody>\n",
       "</table>\n",
       "</div>"
      ],
      "text/plain": [
       "Empty DataFrame\n",
       "Columns: [order_gk, weekday_key, hour_key, distance_km, offer_class_group, driver_response]\n",
       "Index: []"
      ]
     },
     "execution_count": 14,
     "metadata": {},
     "output_type": "execute_result"
    }
   ],
   "source": [
    "data[data.duplicated()]"
   ]
  },
  {
   "cell_type": "markdown",
   "metadata": {
    "id": "YyvtaQHF18bn"
   },
   "source": [
    "Преобразуем столбец driver_response в булев формат."
   ]
  },
  {
   "cell_type": "code",
   "execution_count": 15,
   "metadata": {
    "id": "R3wkF2UJP_rx"
   },
   "outputs": [],
   "source": [
    "data['driver_response'] = data['driver_response'].astype(bool)"
   ]
  },
  {
   "cell_type": "code",
   "execution_count": 16,
   "metadata": {
    "colab": {
     "base_uri": "https://localhost:8080/"
    },
    "id": "y7keMsqEQLZZ",
    "outputId": "e5290f35-52e8-41c1-f9b7-d58689499d60"
   },
   "outputs": [
    {
     "name": "stdout",
     "output_type": "stream",
     "text": [
      "<class 'pandas.core.frame.DataFrame'>\n",
      "RangeIndex: 2000 entries, 0 to 1999\n",
      "Data columns (total 6 columns):\n",
      " #   Column             Non-Null Count  Dtype  \n",
      "---  ------             --------------  -----  \n",
      " 0   order_gk           2000 non-null   int64  \n",
      " 1   weekday_key        2000 non-null   int64  \n",
      " 2   hour_key           2000 non-null   int64  \n",
      " 3   distance_km        2000 non-null   float64\n",
      " 4   offer_class_group  2000 non-null   object \n",
      " 5   driver_response    2000 non-null   bool   \n",
      "dtypes: bool(1), float64(1), int64(3), object(1)\n",
      "memory usage: 80.2+ KB\n"
     ]
    }
   ],
   "source": [
    "data.info()"
   ]
  },
  {
   "cell_type": "markdown",
   "metadata": {
    "id": "f2DIC4PrrkWp"
   },
   "source": [
    "Посмотрим на основные описательные статистики."
   ]
  },
  {
   "cell_type": "code",
   "execution_count": 17,
   "metadata": {
    "colab": {
     "base_uri": "https://localhost:8080/",
     "height": 300
    },
    "id": "PqIHxV_nkKPs",
    "outputId": "ee29bc50-5ae9-430e-ca26-03ad8b92d889"
   },
   "outputs": [
    {
     "data": {
      "text/html": [
       "<div>\n",
       "<style scoped>\n",
       "    .dataframe tbody tr th:only-of-type {\n",
       "        vertical-align: middle;\n",
       "    }\n",
       "\n",
       "    .dataframe tbody tr th {\n",
       "        vertical-align: top;\n",
       "    }\n",
       "\n",
       "    .dataframe thead th {\n",
       "        text-align: right;\n",
       "    }\n",
       "</style>\n",
       "<table border=\"1\" class=\"dataframe\">\n",
       "  <thead>\n",
       "    <tr style=\"text-align: right;\">\n",
       "      <th></th>\n",
       "      <th>order_gk</th>\n",
       "      <th>weekday_key</th>\n",
       "      <th>hour_key</th>\n",
       "      <th>distance_km</th>\n",
       "    </tr>\n",
       "  </thead>\n",
       "  <tbody>\n",
       "    <tr>\n",
       "      <th>count</th>\n",
       "      <td>2000.000000</td>\n",
       "      <td>2000.000000</td>\n",
       "      <td>2000.000000</td>\n",
       "      <td>2000.000000</td>\n",
       "    </tr>\n",
       "    <tr>\n",
       "      <th>mean</th>\n",
       "      <td>462807.384000</td>\n",
       "      <td>4.044000</td>\n",
       "      <td>11.608500</td>\n",
       "      <td>26.275848</td>\n",
       "    </tr>\n",
       "    <tr>\n",
       "      <th>std</th>\n",
       "      <td>270556.211847</td>\n",
       "      <td>2.007256</td>\n",
       "      <td>6.918465</td>\n",
       "      <td>18.876336</td>\n",
       "    </tr>\n",
       "    <tr>\n",
       "      <th>min</th>\n",
       "      <td>412.000000</td>\n",
       "      <td>1.000000</td>\n",
       "      <td>0.000000</td>\n",
       "      <td>0.024000</td>\n",
       "    </tr>\n",
       "    <tr>\n",
       "      <th>25%</th>\n",
       "      <td>227126.500000</td>\n",
       "      <td>2.000000</td>\n",
       "      <td>6.000000</td>\n",
       "      <td>12.177000</td>\n",
       "    </tr>\n",
       "    <tr>\n",
       "      <th>50%</th>\n",
       "      <td>458637.000000</td>\n",
       "      <td>4.000000</td>\n",
       "      <td>12.000000</td>\n",
       "      <td>22.828500</td>\n",
       "    </tr>\n",
       "    <tr>\n",
       "      <th>75%</th>\n",
       "      <td>709420.250000</td>\n",
       "      <td>6.000000</td>\n",
       "      <td>18.000000</td>\n",
       "      <td>36.434250</td>\n",
       "    </tr>\n",
       "    <tr>\n",
       "      <th>max</th>\n",
       "      <td>919196.000000</td>\n",
       "      <td>7.000000</td>\n",
       "      <td>23.000000</td>\n",
       "      <td>138.950000</td>\n",
       "    </tr>\n",
       "  </tbody>\n",
       "</table>\n",
       "</div>"
      ],
      "text/plain": [
       "            order_gk  weekday_key     hour_key  distance_km\n",
       "count    2000.000000  2000.000000  2000.000000  2000.000000\n",
       "mean   462807.384000     4.044000    11.608500    26.275848\n",
       "std    270556.211847     2.007256     6.918465    18.876336\n",
       "min       412.000000     1.000000     0.000000     0.024000\n",
       "25%    227126.500000     2.000000     6.000000    12.177000\n",
       "50%    458637.000000     4.000000    12.000000    22.828500\n",
       "75%    709420.250000     6.000000    18.000000    36.434250\n",
       "max    919196.000000     7.000000    23.000000   138.950000"
      ]
     },
     "execution_count": 17,
     "metadata": {},
     "output_type": "execute_result"
    }
   ],
   "source": [
    "data.describe()"
   ]
  },
  {
   "cell_type": "markdown",
   "metadata": {
    "id": "62QDXCxhrfGy"
   },
   "source": [
    "Вычислим количество значений по классам такси."
   ]
  },
  {
   "cell_type": "code",
   "execution_count": 18,
   "metadata": {
    "colab": {
     "base_uri": "https://localhost:8080/",
     "height": 206
    },
    "id": "IcsRwblirmKc",
    "outputId": "30118e53-847e-4394-d9ab-6206039b99de"
   },
   "outputs": [
    {
     "data": {
      "text/html": [
       "<div>\n",
       "<style scoped>\n",
       "    .dataframe tbody tr th:only-of-type {\n",
       "        vertical-align: middle;\n",
       "    }\n",
       "\n",
       "    .dataframe tbody tr th {\n",
       "        vertical-align: top;\n",
       "    }\n",
       "\n",
       "    .dataframe thead th {\n",
       "        text-align: right;\n",
       "    }\n",
       "</style>\n",
       "<table border=\"1\" class=\"dataframe\">\n",
       "  <thead>\n",
       "    <tr style=\"text-align: right;\">\n",
       "      <th></th>\n",
       "      <th>order_gk</th>\n",
       "      <th>weekday_key</th>\n",
       "      <th>hour_key</th>\n",
       "      <th>distance_km</th>\n",
       "      <th>driver_response</th>\n",
       "    </tr>\n",
       "    <tr>\n",
       "      <th>offer_class_group</th>\n",
       "      <th></th>\n",
       "      <th></th>\n",
       "      <th></th>\n",
       "      <th></th>\n",
       "      <th></th>\n",
       "    </tr>\n",
       "  </thead>\n",
       "  <tbody>\n",
       "    <tr>\n",
       "      <th>Comfort</th>\n",
       "      <td>500</td>\n",
       "      <td>500</td>\n",
       "      <td>500</td>\n",
       "      <td>500</td>\n",
       "      <td>500</td>\n",
       "    </tr>\n",
       "    <tr>\n",
       "      <th>Delivery</th>\n",
       "      <td>500</td>\n",
       "      <td>500</td>\n",
       "      <td>500</td>\n",
       "      <td>500</td>\n",
       "      <td>500</td>\n",
       "    </tr>\n",
       "    <tr>\n",
       "      <th>Economy</th>\n",
       "      <td>500</td>\n",
       "      <td>500</td>\n",
       "      <td>500</td>\n",
       "      <td>500</td>\n",
       "      <td>500</td>\n",
       "    </tr>\n",
       "    <tr>\n",
       "      <th>Premium</th>\n",
       "      <td>500</td>\n",
       "      <td>500</td>\n",
       "      <td>500</td>\n",
       "      <td>500</td>\n",
       "      <td>500</td>\n",
       "    </tr>\n",
       "  </tbody>\n",
       "</table>\n",
       "</div>"
      ],
      "text/plain": [
       "                   order_gk  weekday_key  hour_key  distance_km  \\\n",
       "offer_class_group                                                 \n",
       "Comfort                 500          500       500          500   \n",
       "Delivery                500          500       500          500   \n",
       "Economy                 500          500       500          500   \n",
       "Premium                 500          500       500          500   \n",
       "\n",
       "                   driver_response  \n",
       "offer_class_group                   \n",
       "Comfort                        500  \n",
       "Delivery                       500  \n",
       "Economy                        500  \n",
       "Premium                        500  "
      ]
     },
     "execution_count": 18,
     "metadata": {},
     "output_type": "execute_result"
    }
   ],
   "source": [
    "data.groupby(data['offer_class_group']).count()"
   ]
  },
  {
   "cell_type": "markdown",
   "metadata": {
    "id": "GkxTKvYQ7tJh"
   },
   "source": [
    "## Анализ"
   ]
  },
  {
   "cell_type": "markdown",
   "metadata": {
    "id": "NIXjqy2ir_U3"
   },
   "source": [
    "Визуализируем распределение дистанций поездок."
   ]
  },
  {
   "cell_type": "code",
   "execution_count": 19,
   "metadata": {
    "colab": {
     "base_uri": "https://localhost:8080/",
     "height": 482
    },
    "id": "eAF8eZZvvZGO",
    "outputId": "61c680ee-858e-4d81-83b8-ef499dd99dbd"
   },
   "outputs": [
    {
     "data": {
      "text/plain": [
       "Text(0, 0.5, 'Частота')"
      ]
     },
     "execution_count": 19,
     "metadata": {},
     "output_type": "execute_result"
    },
    {
     "data": {
      "image/png": "[encoded data removed]",
      "text/plain": [
       "<Figure size 640x480 with 1 Axes>"
      ]
     },
     "metadata": {},
     "output_type": "display_data"
    }
   ],
   "source": [
    "sns.histplot(data['distance_km'], bins=25)\n",
    "plt.title('Распределение дистанций поездок в км')\n",
    "plt.xlabel('Значение')\n",
    "plt.ylabel('Частота')"
   ]
  },
  {
   "cell_type": "markdown",
   "metadata": {
    "id": "MjX7WgXbtBRa"
   },
   "source": [
    "Визуализируем распределения дистанций поездок, по каждому классу\n",
    "такси в отдельности, а также определим типы распределений для\n",
    "эконом-класса и комфорт-класса."
   ]
  },
  {
   "cell_type": "code",
   "execution_count": 20,
   "metadata": {
    "colab": {
     "base_uri": "https://localhost:8080/",
     "height": 482
    },
    "id": "PBc4Uau2tKNi",
    "outputId": "48b15cef-d39d-4678-b97a-019cd57f338c"
   },
   "outputs": [
    {
     "data": {
      "text/plain": [
       "Text(0, 0.5, 'Дистанция')"
      ]
     },
     "execution_count": 20,
     "metadata": {},
     "output_type": "execute_result"
    },
    {
     "data": {
      "image/png": "[encoded data removed]",
      "text/plain": [
       "<Figure size 640x480 with 1 Axes>"
      ]
     },
     "metadata": {},
     "output_type": "display_data"
    }
   ],
   "source": [
    "sns.histplot(data=data, x=data['offer_class_group'], y=data['distance_km'])\n",
    "plt.title('Распределения дистанций поездок по каждому классу такси')\n",
    "plt.xlabel('Класс')\n",
    "plt.ylabel('Дистанция')"
   ]
  },
  {
   "cell_type": "markdown",
   "metadata": {
    "id": "AgOE0XYs5xtG"
   },
   "source": [
    "Сформируем отдельные фреймы, содержащие информацию по двум классам такси: Economy и Comfort. Визуализируем распределения дистанций поездок по каждому классу такси в отдельности."
   ]
  },
  {
   "cell_type": "code",
   "execution_count": 21,
   "metadata": {
    "id": "LxAJtJ9qxSkh"
   },
   "outputs": [],
   "source": [
    "economy = data[data['offer_class_group'] == 'Economy']\n",
    "comfort = data[data['offer_class_group'] == 'Comfort']"
   ]
  },
  {
   "cell_type": "code",
   "execution_count": 22,
   "metadata": {
    "colab": {
     "base_uri": "https://localhost:8080/",
     "height": 410
    },
    "id": "vJQqik0Z1IXX",
    "outputId": "68c3adfc-b47b-4049-9504-d7018bd56c1a"
   },
   "outputs": [
    {
     "data": {
      "image/png": "[encoded data removed]",
      "text/plain": [
       "<Figure size 1300x1100 with 2 Axes>"
      ]
     },
     "metadata": {},
     "output_type": "display_data"
    }
   ],
   "source": [
    "fig = plt.figure(figsize=(13, 11))\n",
    "\n",
    "ax1 = plt.subplot(3, 3, 1)\n",
    "sns.histplot(economy['distance_km'])\n",
    "plt.title('Распределение дистанций по классу Economy')\n",
    "plt.xlabel('Дистанция')\n",
    "plt.ylabel('Частота')\n",
    "\n",
    "ax2 = plt.subplot(3, 3, 2)\n",
    "sns.histplot(comfort['distance_km'])\n",
    "plt.title('Распределение дистанций по классу Comfort')\n",
    "plt.xlabel('Дистанция')\n",
    "plt.ylabel('Частота')\n",
    "\n",
    "plt.tight_layout()\n",
    "plt.show();"
   ]
  },
  {
   "cell_type": "markdown",
   "metadata": {
    "id": "PzdyK_2EmlTo"
   },
   "source": [
    "Определим типы распределений для эконом-класса и комфорт-класса.\n",
    "\n",
    "Визуально оценив графики, можно предположить, что выборки не имеют нормального распределения. Чтобы проверить это, можно воспользоваться критерием Шапиро-Уилка.\n",
    "\n",
    "В основе проверки лежит проверка гипотез. Н₀ — данные распределены нормально, Н₁ — данные не имеют нормального распределения.\n",
    "\n",
    "Проверим критерий Шапиро-Уилка, возвращающий значение вычисленной статистики и p-value. В качестве критического значения в большинстве случаев берется 0.05. При p-value меньше 0.05 мы вынуждены отклонить нулевую гипотезу о нормальности распределения."
   ]
  },
  {
   "cell_type": "markdown",
   "metadata": {
    "id": "Q_8AocdWlLVz"
   },
   "source": [
    "Проверим распределение атрибута distance_km для класса Economy:"
   ]
  },
  {
   "cell_type": "code",
   "execution_count": 23,
   "metadata": {
    "colab": {
     "base_uri": "https://localhost:8080/"
    },
    "id": "L84P3bmsmFNF",
    "outputId": "62ef44c3-e373-4237-97b3-f68ddf5d7a76"
   },
   "outputs": [
    {
     "data": {
      "text/plain": [
       "11      83.830\n",
       "13      14.239\n",
       "14       4.334\n",
       "20      26.413\n",
       "21      21.296\n",
       "         ...  \n",
       "1984    13.201\n",
       "1986    20.151\n",
       "1994    42.714\n",
       "1998    14.960\n",
       "1999    68.559\n",
       "Name: distance_km, Length: 500, dtype: float64"
      ]
     },
     "execution_count": 23,
     "metadata": {},
     "output_type": "execute_result"
    }
   ],
   "source": [
    "economy = economy['distance_km']\n",
    "economy"
   ]
  },
  {
   "cell_type": "code",
   "execution_count": 24,
   "metadata": {
    "colab": {
     "base_uri": "https://localhost:8080/"
    },
    "id": "ZGoc9xjFleMK",
    "outputId": "4ed9cff3-75d0-436c-dd2a-3382fe8203f6"
   },
   "outputs": [
    {
     "name": "stdout",
     "output_type": "stream",
     "text": [
      "p-value 1.533143195731057e-10 меньше 0.05, мы вынуждены отклонить Н₀. Данные не распределены нормально\n"
     ]
    }
   ],
   "source": [
    "stat, p = scipy.stats.shapiro(economy)\n",
    "alpha = 0.05\n",
    "\n",
    "if p < alpha:\n",
    "  print(f'p-value {p} меньше 0.05, мы вынуждены отклонить Н₀. Данные не распределены нормально')\n",
    "else:\n",
    "  print(f'p-value {p} больше 0.05, мы можем принять Н₀. Данные распределены нормально')"
   ]
  },
  {
   "cell_type": "markdown",
   "metadata": {
    "id": "lVPK6tJOob_f"
   },
   "source": [
    "Проверим распределение атрибута distance_km для класса Comfort:"
   ]
  },
  {
   "cell_type": "code",
   "execution_count": 25,
   "metadata": {
    "colab": {
     "base_uri": "https://localhost:8080/"
    },
    "id": "-8pHwkeZoI_y",
    "outputId": "1d83d44b-fe26-4eeb-8a25-8b45a0cabb88"
   },
   "outputs": [
    {
     "data": {
      "text/plain": [
       "6        2.142\n",
       "15      10.889\n",
       "16      28.825\n",
       "17      17.281\n",
       "23       4.126\n",
       "         ...  \n",
       "1979    33.284\n",
       "1988    56.873\n",
       "1989    13.005\n",
       "1993    32.839\n",
       "1996    30.835\n",
       "Name: distance_km, Length: 500, dtype: float64"
      ]
     },
     "execution_count": 25,
     "metadata": {},
     "output_type": "execute_result"
    }
   ],
   "source": [
    "comfort = comfort['distance_km']\n",
    "comfort"
   ]
  },
  {
   "cell_type": "code",
   "execution_count": 26,
   "metadata": {
    "colab": {
     "base_uri": "https://localhost:8080/"
    },
    "id": "nY3bjpoOoQ22",
    "outputId": "1c25cd8a-2438-4470-f211-8d83db6992be"
   },
   "outputs": [
    {
     "name": "stdout",
     "output_type": "stream",
     "text": [
      "p-value 7.28838500663187e-08 меньше 0.05, мы вынуждены отклонить Н₀. Данные не распределены нормально\n"
     ]
    }
   ],
   "source": [
    "stat, p = scipy.stats.shapiro(comfort)\n",
    "alpha = 0.05\n",
    "\n",
    "if p < alpha:\n",
    "  print(f'p-value {p} меньше 0.05, мы вынуждены отклонить Н₀. Данные не распределены нормально')\n",
    "else:\n",
    "  print(f'p-value {p} больше 0.05, мы можем принять Н₀. Данные распределены нормально')"
   ]
  },
  {
   "cell_type": "markdown",
   "metadata": {
    "id": "s-0eaGttp7GL"
   },
   "source": [
    "Используем график qq-plot для того, чтобы визуально проверить полученные выше выводы. Если данные распределены нормально, все точки на графике QQ будут лежать близко к прямой диагональной линии."
   ]
  },
  {
   "cell_type": "code",
   "execution_count": 27,
   "metadata": {
    "colab": {
     "base_uri": "https://localhost:8080/",
     "height": 445
    },
    "id": "8DOOKgwDFDRC",
    "outputId": "7a7cdda9-7433-4a48-f219-6728206c604c"
   },
   "outputs": [
    {
     "data": {
      "image/png": "[encoded data removed]",
      "text/plain": [
       "<Figure size 640x480 with 1 Axes>"
      ]
     },
     "metadata": {},
     "output_type": "display_data"
    }
   ],
   "source": [
    "plot = sm.ProbPlot(economy, stats.t, fit=True)\n",
    "fig = plot.qqplot(line='45')\n",
    "plt.show()"
   ]
  },
  {
   "cell_type": "code",
   "execution_count": 28,
   "metadata": {
    "colab": {
     "base_uri": "https://localhost:8080/",
     "height": 445
    },
    "id": "DxK9btNqrHRk",
    "outputId": "68e426a6-9536-40a3-9500-150861cdefae"
   },
   "outputs": [
    {
     "data": {
      "image/png": "[encoded data removed]",
      "text/plain": [
       "<Figure size 640x480 with 1 Axes>"
      ]
     },
     "metadata": {},
     "output_type": "display_data"
    }
   ],
   "source": [
    "probplot = sm.ProbPlot(comfort, stats.t, fit=True)\n",
    "fig = probplot.qqplot(line='45')\n",
    "plt.show()"
   ]
  },
  {
   "cell_type": "markdown",
   "metadata": {
    "id": "FkUrL2Qx3lSB"
   },
   "source": [
    "Как мы видим, выборки действительно не имеют нормального распределения."
   ]
  },
  {
   "cell_type": "markdown",
   "metadata": {
    "id": "yPZYTshdmy2K"
   },
   "source": [
    "Сформируем выборки по классам эконом и комфорт. Визуализируем\n",
    "пересечение интервалов дистанций этих классов."
   ]
  },
  {
   "cell_type": "code",
   "execution_count": 29,
   "metadata": {
    "id": "f7oQW3Qomz1x"
   },
   "outputs": [],
   "source": [
    "data_filtered = data[(data.offer_class_group == 'Comfort') | (data.offer_class_group == 'Economy')]"
   ]
  },
  {
   "cell_type": "code",
   "execution_count": 30,
   "metadata": {
    "colab": {
     "base_uri": "https://localhost:8080/",
     "height": 523
    },
    "id": "vK_wS_MdBCoZ",
    "outputId": "90e827dc-dae2-4114-f996-7290d45825fe"
   },
   "outputs": [
    {
     "data": {
      "text/plain": [
       "<seaborn.axisgrid.FacetGrid at 0x2068d7221c0>"
      ]
     },
     "execution_count": 30,
     "metadata": {},
     "output_type": "execute_result"
    },
    {
     "data": {
      "image/png": "[encoded data removed]",
      "text/plain": [
       "<Figure size 621.486x500 with 1 Axes>"
      ]
     },
     "metadata": {},
     "output_type": "display_data"
    }
   ],
   "source": [
    "sns.displot(x='distance_km',\n",
    "            hue='offer_class_group',\n",
    "            data=data_filtered)"
   ]
  },
  {
   "cell_type": "markdown",
   "metadata": {
    "id": "R6rGuewm2SQg"
   },
   "source": [
    "По графику можно видеть, что распределение дистанций поездок классом Comfort больше смещено вправо относительно распределения дистанций в классе Economy, что может свидетельствовать о том, что для совершения поездок на более дальние дистанции пассажиры предпочитают пользоваться классом Comfort, а не Economy."
   ]
  },
  {
   "cell_type": "markdown",
   "metadata": {
    "id": "06WPQZYz5Ns8"
   },
   "source": [
    "Прежде чем мы проведем статистический тест и проверем гипоетезу, что дистанции поездок в комфорт-классе отличаются от дистанций поездок эконом-класса, нужно решить, будем ли мы предполагать, что две совокупности имеют одинаковую дисперсию или нет. Это важно для дальнейшего выбора статистического критерия. Как правило, мы можем предположить, что совокупности имеют равные дисперсии, если отношение большей выборочной дисперсии к меньшей выборочной дисперсии составляет менее 4:1.\n",
    "\n",
    "Для проверки этого предположения преобразуем интересующие нас срезы данных в массив numpy array и расчитаем их дисперсии."
   ]
  },
  {
   "cell_type": "code",
   "execution_count": 31,
   "metadata": {
    "id": "F_T3ac3K42g9"
   },
   "outputs": [],
   "source": [
    "comfort_np = comfort.to_numpy()\n",
    "economy_np = economy.to_numpy()"
   ]
  },
  {
   "cell_type": "code",
   "execution_count": 32,
   "metadata": {
    "colab": {
     "base_uri": "https://localhost:8080/"
    },
    "id": "jO2i2wdy4y1h",
    "outputId": "af709dfb-6491-4880-a917-f1989f93a5a3"
   },
   "outputs": [
    {
     "name": "stdout",
     "output_type": "stream",
     "text": [
      "288.970467792396 310.710160016944\n"
     ]
    }
   ],
   "source": [
    "print(np.var(economy_np), np.var(comfort_np))"
   ]
  },
  {
   "cell_type": "markdown",
   "metadata": {
    "id": "lGloNsSUpg_8"
   },
   "source": [
    "Посчитаем отношение большей выборочной дисперсии к меньшей выборочной дисперсии: "
   ]
  },
  {
   "cell_type": "code",
   "execution_count": 33,
   "metadata": {
    "colab": {
     "base_uri": "https://localhost:8080/"
    },
    "id": "397R2X5Z5ZxV",
    "outputId": "331fc912-372e-4fb6-9df0-ed90040bbc6c"
   },
   "outputs": [
    {
     "name": "stdout",
     "output_type": "stream",
     "text": [
      "1.0752315362556921\n"
     ]
    }
   ],
   "source": [
    "print(np.var(comfort_np) / np.var(economy_np))"
   ]
  },
  {
   "cell_type": "markdown",
   "metadata": {
    "id": "YO0yfjL-uiYk"
   },
   "source": [
    "Как видно, соотношение < 4. Это означает, что мы можем предположить, что дисперсии генеральной совокупности равны.\n",
    "\n",
    "Проверим этот вывод с помощью теста Левена. Это статистика, используемая для оценки равенства дисперсий для переменной, рассчитанной для двух или более групп. Тест Левена проверяет гипотезу Н₀ о том, что дисперсии популяции равны. Если результирующее p-значение теста Левена меньше некоторого уровня значимости (обычно 0.05), полученные различия в выборочных дисперсиях вряд ли имели место на основе случайной выборки из популяции с равными дисперсиями. Таким образом, нулевая гипотеза равных дисперсий отвергается и делается вывод о наличии разницы между дисперсиями в популяции."
   ]
  },
  {
   "cell_type": "code",
   "execution_count": 34,
   "metadata": {
    "colab": {
     "base_uri": "https://localhost:8080/"
    },
    "id": "NmaCwtlwuWNT",
    "outputId": "808ef993-37ca-41ec-9090-09e19be9a82e"
   },
   "outputs": [
    {
     "name": "stdout",
     "output_type": "stream",
     "text": [
      "Statistics=0.9060251439274503, p-value=0.3414017329239566\n",
      "Принять гипотезу о равенстве дисперсий\n"
     ]
    }
   ],
   "source": [
    "test_leven, p = stats.levene(economy_np, comfort_np)\n",
    "print(f'Statistics={test_leven}, p-value={p}')\n",
    "alpha = 0.05\n",
    "\n",
    "if p < alpha:\n",
    "    print('Отклонить гипотезу о равенстве дисперсий')\n",
    "else:\n",
    "    print('Принять гипотезу о равенстве дисперсий')"
   ]
  },
  {
   "cell_type": "markdown",
   "metadata": {
    "id": "JxzFwFAeu_ik"
   },
   "source": [
    "По результатам теста мы можем подтвердить предположение о равентсве дисперсий."
   ]
  },
  {
   "cell_type": "markdown",
   "metadata": {
    "id": "mRlidpTs77tn"
   },
   "source": [
    "## Проверка гипотезы"
   ]
  },
  {
   "cell_type": "markdown",
   "metadata": {
    "id": "_-tM4ZD5wACO"
   },
   "source": [
    "Для оценки уровня статистической значимости мы возьмем двухвыборочный t-критерий, он решает задачу доказательства наличия различий средних значений количественной переменной в случае, когда имеются лишь две сравниваемые группы. Нам необходима функция ttest_ind, вычисляющая t-тест для двух независимых выборок.\n",
    "\n",
    "Проведем статистический тест и проверим гипотезу, что дистанции поездок в комфорт-классе отличаются от дистанций поездок эконом-класса.\n",
    "\n",
    "Сформулируем гипотезу: \n",
    "\n",
    "Н₀ – средняя дистанция поездок в классах Comfort и Economy одинакова\n",
    "\n",
    "Н₁ – средняя дистанция поездок значимо отличается\n",
    "\n",
    "\n",
    "уровень значимости = 5%"
   ]
  },
  {
   "cell_type": "code",
   "execution_count": 35,
   "metadata": {
    "colab": {
     "base_uri": "https://localhost:8080/"
    },
    "id": "4FSsvhwr5rTv",
    "outputId": "3cef14bd-8f64-40eb-a941-21f05497ceb4"
   },
   "outputs": [
    {
     "name": "stdout",
     "output_type": "stream",
     "text": [
      "Statistics=-3.1706426042389815, p-value=0.001567442448178933\n",
      "Отклонить гипотезу о равенстве выборок\n"
     ]
    }
   ],
   "source": [
    "import scipy.stats as stats\n",
    "\n",
    "statistic, p = stats.ttest_ind(a=economy, b=comfort, equal_var=False) # Так как нормальность распределения не соблюдается\n",
    "print(f'Statistics={statistic}, p-value={p}')\n",
    "\n",
    "alpha = 0.05\n",
    "if p < alpha:\n",
    "    print('Отклонить гипотезу о равенстве выборок')\n",
    "else:\n",
    "    print('Принять гипотезу о равенстве выборок')"
   ]
  },
  {
   "cell_type": "markdown",
   "metadata": {
    "id": "pYzBmFHUwf3L"
   },
   "source": [
    "Тест показывает, что гипотеза Н₀ не подтверждена, следовательно, отвергаем нулевую гипотезу. Поэтому принимаем альтернативную гипотезу Н₁, что средняя дистанция поездок в классах Comfort и Economy отличается.\n",
    "\n",
    "Вычислим средние выборок исследуемых классов и с учётом полученного\n",
    "результата проверки гипотез определим какой из классов\n",
    "предпочитают на дальние поездки (Comfort или Economy)."
   ]
  },
  {
   "cell_type": "code",
   "execution_count": 36,
   "metadata": {
    "colab": {
     "base_uri": "https://localhost:8080/"
    },
    "id": "VpvuXW_axDSD",
    "outputId": "cba27de5-34e4-468c-b661-24acb64d4f31"
   },
   "outputs": [
    {
     "name": "stdout",
     "output_type": "stream",
     "text": [
      "средняя дистанция поездок для класса Comfort: 29.759 \n",
      "средняя дистанция поездок для класса Economy: 26.283\n"
     ]
    }
   ],
   "source": [
    "print(f'средняя дистанция поездок для класса Comfort: {round(comfort.mean(), 3)} \\n'\n",
    "      f'средняя дистанция поездок для класса Economy: {round(economy.mean(), 3)}')"
   ]
  },
  {
   "cell_type": "markdown",
   "metadata": {
    "id": "wk3SbZI4xlYR"
   },
   "source": [
    "Для формулирования выводов и рекомендаций необходимо так же проанализировать закономерности в количестве отменяемых поездок и в распределении количества заказов по дням недели. \n",
    "Посмотрим, в каком из классов доля отмененных поездок по отношению ко все заказам этого класса выше."
   ]
  },
  {
   "cell_type": "code",
   "execution_count": 37,
   "metadata": {
    "id": "LQUQLWHExy-5"
   },
   "outputs": [],
   "source": [
    "canceled_orders = data.loc[data.driver_response == False] \\\n",
    "                      .groupby('offer_class_group') \\\n",
    "                      .agg({'driver_response':'count'}) \\\n",
    "                      .sort_values(by='driver_response', ascending=False)"
   ]
  },
  {
   "cell_type": "code",
   "execution_count": 38,
   "metadata": {
    "id": "4HtOC7F7g68-"
   },
   "outputs": [],
   "source": [
    "all_orders = data.groupby('offer_class_group') \\\n",
    "                 .agg({'driver_response':'count'}) \\\n",
    "                 .sort_values(by='driver_response', ascending=False)"
   ]
  },
  {
   "cell_type": "code",
   "execution_count": 39,
   "metadata": {
    "colab": {
     "base_uri": "https://localhost:8080/",
     "height": 206
    },
    "id": "tmEC0z9nyE4u",
    "outputId": "b8ec6e67-9e69-472a-d1ae-9293bcbe9238"
   },
   "outputs": [
    {
     "data": {
      "text/html": [
       "<div>\n",
       "<style scoped>\n",
       "    .dataframe tbody tr th:only-of-type {\n",
       "        vertical-align: middle;\n",
       "    }\n",
       "\n",
       "    .dataframe tbody tr th {\n",
       "        vertical-align: top;\n",
       "    }\n",
       "\n",
       "    .dataframe thead th {\n",
       "        text-align: right;\n",
       "    }\n",
       "</style>\n",
       "<table border=\"1\" class=\"dataframe\">\n",
       "  <thead>\n",
       "    <tr style=\"text-align: right;\">\n",
       "      <th></th>\n",
       "      <th>driver_response</th>\n",
       "    </tr>\n",
       "    <tr>\n",
       "      <th>offer_class_group</th>\n",
       "      <th></th>\n",
       "    </tr>\n",
       "  </thead>\n",
       "  <tbody>\n",
       "    <tr>\n",
       "      <th>Economy</th>\n",
       "      <td>57.8</td>\n",
       "    </tr>\n",
       "    <tr>\n",
       "      <th>Comfort</th>\n",
       "      <td>51.4</td>\n",
       "    </tr>\n",
       "    <tr>\n",
       "      <th>Delivery</th>\n",
       "      <td>34.8</td>\n",
       "    </tr>\n",
       "    <tr>\n",
       "      <th>Premium</th>\n",
       "      <td>21.2</td>\n",
       "    </tr>\n",
       "  </tbody>\n",
       "</table>\n",
       "</div>"
      ],
      "text/plain": [
       "                   driver_response\n",
       "offer_class_group                 \n",
       "Economy                       57.8\n",
       "Comfort                       51.4\n",
       "Delivery                      34.8\n",
       "Premium                       21.2"
      ]
     },
     "execution_count": 39,
     "metadata": {},
     "output_type": "execute_result"
    }
   ],
   "source": [
    "round((canceled_orders / all_orders) * 100, 2).sort_values(by='driver_response', ascending=False)"
   ]
  },
  {
   "cell_type": "markdown",
   "metadata": {
    "id": "nIyrpkmvyvsp"
   },
   "source": [
    "Как можно видеть, самый большой процент отменяемых заказов приходится на класс Economy (57.8%), второй по количеству - класс Comfort (51.4%).\n",
    "\n",
    "Теперь посмотрим, в какие дни недели чаще всего заказывают такси классов Comfort и Economy."
   ]
  },
  {
   "cell_type": "code",
   "execution_count": 40,
   "metadata": {
    "colab": {
     "base_uri": "https://localhost:8080/",
     "height": 519
    },
    "id": "7wZ0GzCthN9g",
    "outputId": "6ab75a75-c36f-439d-f6ed-e069ea092dc2"
   },
   "outputs": [
    {
     "data": {
      "text/html": [
       "<div>\n",
       "<style scoped>\n",
       "    .dataframe tbody tr th:only-of-type {\n",
       "        vertical-align: middle;\n",
       "    }\n",
       "\n",
       "    .dataframe tbody tr th {\n",
       "        vertical-align: top;\n",
       "    }\n",
       "\n",
       "    .dataframe thead th {\n",
       "        text-align: right;\n",
       "    }\n",
       "</style>\n",
       "<table border=\"1\" class=\"dataframe\">\n",
       "  <thead>\n",
       "    <tr style=\"text-align: right;\">\n",
       "      <th></th>\n",
       "      <th></th>\n",
       "      <th>driver_response</th>\n",
       "    </tr>\n",
       "    <tr>\n",
       "      <th>offer_class_group</th>\n",
       "      <th>weekday_key</th>\n",
       "      <th></th>\n",
       "    </tr>\n",
       "  </thead>\n",
       "  <tbody>\n",
       "    <tr>\n",
       "      <th>Comfort</th>\n",
       "      <th>6</th>\n",
       "      <td>87</td>\n",
       "    </tr>\n",
       "    <tr>\n",
       "      <th rowspan=\"2\" valign=\"top\">Economy</th>\n",
       "      <th>2</th>\n",
       "      <td>86</td>\n",
       "    </tr>\n",
       "    <tr>\n",
       "      <th>3</th>\n",
       "      <td>82</td>\n",
       "    </tr>\n",
       "    <tr>\n",
       "      <th rowspan=\"2\" valign=\"top\">Comfort</th>\n",
       "      <th>5</th>\n",
       "      <td>81</td>\n",
       "    </tr>\n",
       "    <tr>\n",
       "      <th>4</th>\n",
       "      <td>75</td>\n",
       "    </tr>\n",
       "    <tr>\n",
       "      <th rowspan=\"2\" valign=\"top\">Economy</th>\n",
       "      <th>7</th>\n",
       "      <td>72</td>\n",
       "    </tr>\n",
       "    <tr>\n",
       "      <th>5</th>\n",
       "      <td>71</td>\n",
       "    </tr>\n",
       "    <tr>\n",
       "      <th>Comfort</th>\n",
       "      <th>1</th>\n",
       "      <td>69</td>\n",
       "    </tr>\n",
       "    <tr>\n",
       "      <th>Economy</th>\n",
       "      <th>1</th>\n",
       "      <td>67</td>\n",
       "    </tr>\n",
       "    <tr>\n",
       "      <th>Comfort</th>\n",
       "      <th>7</th>\n",
       "      <td>64</td>\n",
       "    </tr>\n",
       "    <tr>\n",
       "      <th>Economy</th>\n",
       "      <th>4</th>\n",
       "      <td>64</td>\n",
       "    </tr>\n",
       "    <tr>\n",
       "      <th rowspan=\"2\" valign=\"top\">Comfort</th>\n",
       "      <th>2</th>\n",
       "      <td>63</td>\n",
       "    </tr>\n",
       "    <tr>\n",
       "      <th>3</th>\n",
       "      <td>61</td>\n",
       "    </tr>\n",
       "    <tr>\n",
       "      <th>Economy</th>\n",
       "      <th>6</th>\n",
       "      <td>58</td>\n",
       "    </tr>\n",
       "  </tbody>\n",
       "</table>\n",
       "</div>"
      ],
      "text/plain": [
       "                               driver_response\n",
       "offer_class_group weekday_key                 \n",
       "Comfort           6                         87\n",
       "Economy           2                         86\n",
       "                  3                         82\n",
       "Comfort           5                         81\n",
       "                  4                         75\n",
       "Economy           7                         72\n",
       "                  5                         71\n",
       "Comfort           1                         69\n",
       "Economy           1                         67\n",
       "Comfort           7                         64\n",
       "Economy           4                         64\n",
       "Comfort           2                         63\n",
       "                  3                         61\n",
       "Economy           6                         58"
      ]
     },
     "execution_count": 40,
     "metadata": {},
     "output_type": "execute_result"
    }
   ],
   "source": [
    "data.loc[(data.offer_class_group == 'Comfort') | (data.offer_class_group == 'Economy')] \\\n",
    ".groupby(['offer_class_group', 'weekday_key']) \\\n",
    ".agg({'driver_response':'count'}) \\\n",
    ".sort_values(by='driver_response', ascending=False)\n",
    "    "
   ]
  },
  {
   "cell_type": "markdown",
   "metadata": {
    "id": "Q84K2zLtj52J"
   },
   "source": [
    "Исходя из наших данных, можно сделать вывод, что классом Economy чаще пользуются по вторникам и средам, а классом Comfort - по четвергам, пятницам и субботам. "
   ]
  },
  {
   "cell_type": "markdown",
   "metadata": {
    "id": "iUh6esSE7_Qh"
   },
   "source": [
    "## Выводы"
   ]
  },
  {
   "cell_type": "markdown",
   "metadata": {
    "id": "sSkGqOPz8xxq"
   },
   "source": [
    "В ходе работы:\n",
    "\n",
    "* ознакомились с предоставленными данными, проверили датасет на пропуски и дубликаты, преобразовали данные в нужные типы\n",
    "\n",
    "* провели исследовательский анализ данных\n",
    "\n",
    "* визуализировали распределения дистанций поездок: общее и по каждому классу такси в отдельности\n",
    "\n",
    "* проверили распределение дистанций поездок в классах Comfort и Economy на нормальность с помощью критерия Шапиро-Уилка и графика qq-plot. Определили, что данные не имеют нормального распределения \n",
    "\n",
    "* проверили, что выборки из классов Comfort и Economy имеют одинаковую дисперсию с помощью теста Левена\n",
    "\n",
    "* сформулировали и проверили гипотезу о том, что средняя дистанция поездок в классе Comfort статистически значимо отличается от средней дистанции поездок в классе Economy\n",
    "\n",
    "* вычислили и сравнили среднее по этим двум классам\n",
    "\n",
    "В результате проведенного исследования мы можем сделать вывод о том, что средняя дистанция поездок в классах Comfort и Economy значимо различается и для совершения поездок на более длительные расстояния пассажиры чаще предпочитают класс Comfort."
   ]
  },
  {
   "cell_type": "markdown",
   "metadata": {
    "id": "5jrt6bnFy4D2"
   },
   "source": [
    "## Рекомендации"
   ]
  },
  {
   "cell_type": "markdown",
   "metadata": {
    "id": "heyMYzm_y7KQ"
   },
   "source": [
    "1. Исходя из того, что для длительных поездок пассажиры чаще выбирают класс Comfort, рекомендуется увеличить парк автомобилей для этого класса так, чтобы для заказа всегда были доступные машины, так как такие поездки приносят хорошую прибыль.\n",
    "\n",
    "2. Учитывая количество заказов в зависимости от дня недели, рекомендуется распределять заказы на Comfort класс таким образом, чтобы в самые популярные дни для этого класса (четверг, пятница и суббота) - всегда были свободные машины.\n",
    "\n",
    "3. В обоих классах (Comfort и Economy) очень высокий процент отмененных поездок - более половины всех поездок не состоялось. Для снижения доли отмен можно рекомендовать ввести оплату за подачу машины вне зависимости от того, состоялась ли поездка. Так мы сможем частично компенсировать убытки из-за отмененных поездок.\n",
    "\n",
    "4. Для популяризации класса Economy и его более частого использования для длительных поездок можно предложить пассажирам скидки на поездки этим классом (чем больше дистанция - тем выше скидка), особенно в не-пиковые дни для этого класса (понедельник, четверг, суббота)."
   ]
  }
 ],
 "metadata": {
  "colab": {
   "provenance": []
  },
  "kernelspec": {
   "display_name": "Python 3 (ipykernel)",
   "language": "python",
   "name": "python3"
  },
  "language_info": {
   "codemirror_mode": {
    "name": "ipython",
    "version": 3
   },
   "file_extension": ".py",
   "mimetype": "text/x-python",
   "name": "python",
   "nbconvert_exporter": "python",
   "pygments_lexer": "ipython3",
   "version": "3.9.13"
  }
 },
 "nbformat": 4,
 "nbformat_minor": 1
}
