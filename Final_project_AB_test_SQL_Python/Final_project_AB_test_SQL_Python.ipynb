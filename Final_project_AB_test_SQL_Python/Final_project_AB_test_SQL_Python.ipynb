{
 "cells": [
  {
   "cell_type": "code",
   "execution_count": null,
   "metadata": {
    "id": "zZ3ZX9HJAlMF"
   },
   "outputs": [],
   "source": [
    "import requests\n",
    "from urllib.parse import urlencode\n",
    "import pandahouse as ph\n",
    "import pandas as pd\n",
    "import numpy as np\n",
    "\n",
    "from scipy import stats\n",
    "from scipy.stats import chi2_contingency\n",
    "\n",
    "import seaborn as sns\n",
    "import matplotlib.pyplot as plt\n",
    "\n",
    "import warnings\n",
    "warnings.filterwarnings(\"ignore\")\n",
    "\n",
    "%matplotlib inline"
   ]
  },
  {
   "cell_type": "markdown",
   "metadata": {
    "id": "IXRE6sBcouOV"
   },
   "source": [
    "## Задание 1. A/B–тестирование"
   ]
  },
  {
   "cell_type": "markdown",
   "metadata": {
    "id": "udRoOUh3ouOY"
   },
   "source": [
    "В ходе тестирования одной гипотезы целевой группе была предложена новая механика оплаты услуг на сайте, у контрольной группы оставалась базовая механика. В качестве задания Вам необходимо проанализировать итоги эксперимента и сделать вывод, стоит ли запускать новую механику оплаты на всех пользователей."
   ]
  },
  {
   "cell_type": "markdown",
   "metadata": {
    "id": "_zHsRIVjouOa"
   },
   "source": [
    "### **1.2 Входные данные**\n",
    "\n",
    "В качестве входных данных Вы имеете 4 csv-файла:\n",
    "\n",
    "* `groups.csv` - файл с информацией о принадлежности пользователя к контрольной или экспериментальной группе (А – контроль, B – целевая группа)\n",
    "* `groups_add.csv` - дополнительный файл с пользователями, который вам прислали спустя 2 дня после передачи данных\n",
    "* `active_studs.csv` - файл с информацией о пользователях, которые зашли на платформу в дни проведения эксперимента.\n",
    "* `checks.csv` - файл с информацией об оплатах пользователей в дни проведения эксперимента."
   ]
  },
  {
   "cell_type": "markdown",
   "metadata": {
    "id": "EOIpPc1CouOb"
   },
   "source": [
    "* **А** - контрольная (базовая механика оплаты услуг на сайте)\n",
    "* **B** - целевая (новая механика оплаты услуг на сайте)"
   ]
  },
  {
   "cell_type": "markdown",
   "metadata": {
    "id": "1loIsmQPouOc"
   },
   "source": [
    "### 1.3 Исследование данных"
   ]
  },
  {
   "cell_type": "markdown",
   "metadata": {
    "id": "I1-e9p3pouOd"
   },
   "source": [
    "Загрузим данные и посмотрим их характеристики:"
   ]
  },
  {
   "cell_type": "code",
   "execution_count": null,
   "metadata": {
    "id": "wDg0O7fpouOf",
    "outputId": "73227305-87fd-4574-ce74-14ad89ea4f7b"
   },
   "outputs": [
    {
     "data": {
      "text/html": [
       "<div>\n",
       "<style scoped>\n",
       "    .dataframe tbody tr th:only-of-type {\n",
       "        vertical-align: middle;\n",
       "    }\n",
       "\n",
       "    .dataframe tbody tr th {\n",
       "        vertical-align: top;\n",
       "    }\n",
       "\n",
       "    .dataframe thead th {\n",
       "        text-align: right;\n",
       "    }\n",
       "</style>\n",
       "<table border=\"1\" class=\"dataframe\">\n",
       "  <thead>\n",
       "    <tr style=\"text-align: right;\">\n",
       "      <th></th>\n",
       "      <th>id</th>\n",
       "      <th>grp</th>\n",
       "    </tr>\n",
       "  </thead>\n",
       "  <tbody>\n",
       "    <tr>\n",
       "      <th>0</th>\n",
       "      <td>1489</td>\n",
       "      <td>B</td>\n",
       "    </tr>\n",
       "    <tr>\n",
       "      <th>1</th>\n",
       "      <td>1627</td>\n",
       "      <td>A</td>\n",
       "    </tr>\n",
       "    <tr>\n",
       "      <th>2</th>\n",
       "      <td>1768</td>\n",
       "      <td>B</td>\n",
       "    </tr>\n",
       "    <tr>\n",
       "      <th>3</th>\n",
       "      <td>1783</td>\n",
       "      <td>B</td>\n",
       "    </tr>\n",
       "    <tr>\n",
       "      <th>4</th>\n",
       "      <td>1794</td>\n",
       "      <td>A</td>\n",
       "    </tr>\n",
       "  </tbody>\n",
       "</table>\n",
       "</div>"
      ],
      "text/plain": [
       "     id grp\n",
       "0  1489   B\n",
       "1  1627   A\n",
       "2  1768   B\n",
       "3  1783   B\n",
       "4  1794   A"
      ]
     },
     "execution_count": 38,
     "metadata": {},
     "output_type": "execute_result"
    }
   ],
   "source": [
    "# загрузим файл Проект_2_groups.csv по ссылке\n",
    "\n",
    "base_url = 'https://cloud-api.yandex.net/v1/disk/public/resources/download?'\n",
    "public_key = 'https://disk.yandex.ru/d/JdoH-IrGfCM7Vg'\n",
    "final_url = base_url + urlencode(dict(public_key=public_key))\n",
    "response = requests.get(final_url)\n",
    "download_url = response.json()['href']\n",
    "groups = pd.read_csv(download_url, sep=';')\n",
    "groups.head()"
   ]
  },
  {
   "cell_type": "code",
   "execution_count": null,
   "metadata": {
    "id": "CCt5R43xouOh",
    "outputId": "ab483375-b703-4290-b791-5c20642cb967"
   },
   "outputs": [
    {
     "name": "stdout",
     "output_type": "stream",
     "text": [
      "Количество строк: 74484\n",
      "Количество уникальных id: 74484\n",
      "Количество уникальных групп: 2\n",
      "Количество пропущенных значений в колонке id: 0\n",
      "Количество пропущенных значений в колонке group: 0\n",
      "Количество пользователей в группе А: 14671\n",
      "Количество пользователей в группе В: 59813\n"
     ]
    }
   ],
   "source": [
    "print(f'Количество строк: {groups.shape[0]}')\n",
    "print(f'Количество уникальных id: {groups.id.nunique()}')\n",
    "print(f'Количество уникальных групп: {groups.grp.nunique()}')\n",
    "print(f'Количество пропущенных значений в колонке id: {groups.isna().sum().id}')\n",
    "print(f'Количество пропущенных значений в колонке group: {groups.isna().sum().grp}')\n",
    "print(f'Количество пользователей в группе А: {groups[groups[\"grp\"] == \"A\"].id.count()}')\n",
    "print(f'Количество пользователей в группе В: {groups[groups[\"grp\"] == \"B\"].id.count()}')"
   ]
  },
  {
   "cell_type": "markdown",
   "metadata": {
    "id": "jWy6AvzlouOj"
   },
   "source": [
    "Как видно, количество уникальных пользователей совпадает с количеством записей, а значит дубликатов нет. Группа В по численности в 4 раза больше группы А."
   ]
  },
  {
   "cell_type": "code",
   "execution_count": null,
   "metadata": {
    "id": "8HC7Uua9ouOk",
    "outputId": "33e25733-efdf-4a5d-da15-930d473a8eb8"
   },
   "outputs": [
    {
     "data": {
      "text/html": [
       "<div>\n",
       "<style scoped>\n",
       "    .dataframe tbody tr th:only-of-type {\n",
       "        vertical-align: middle;\n",
       "    }\n",
       "\n",
       "    .dataframe tbody tr th {\n",
       "        vertical-align: top;\n",
       "    }\n",
       "\n",
       "    .dataframe thead th {\n",
       "        text-align: right;\n",
       "    }\n",
       "</style>\n",
       "<table border=\"1\" class=\"dataframe\">\n",
       "  <thead>\n",
       "    <tr style=\"text-align: right;\">\n",
       "      <th></th>\n",
       "      <th>id</th>\n",
       "      <th>grp</th>\n",
       "    </tr>\n",
       "  </thead>\n",
       "  <tbody>\n",
       "    <tr>\n",
       "      <th>0</th>\n",
       "      <td>5694584</td>\n",
       "      <td>B</td>\n",
       "    </tr>\n",
       "    <tr>\n",
       "      <th>1</th>\n",
       "      <td>5694830</td>\n",
       "      <td>B</td>\n",
       "    </tr>\n",
       "    <tr>\n",
       "      <th>2</th>\n",
       "      <td>5695057</td>\n",
       "      <td>B</td>\n",
       "    </tr>\n",
       "    <tr>\n",
       "      <th>3</th>\n",
       "      <td>5698872</td>\n",
       "      <td>B</td>\n",
       "    </tr>\n",
       "    <tr>\n",
       "      <th>4</th>\n",
       "      <td>5699067</td>\n",
       "      <td>B</td>\n",
       "    </tr>\n",
       "  </tbody>\n",
       "</table>\n",
       "</div>"
      ],
      "text/plain": [
       "        id grp\n",
       "0  5694584   B\n",
       "1  5694830   B\n",
       "2  5695057   B\n",
       "3  5698872   B\n",
       "4  5699067   B"
      ]
     },
     "execution_count": 40,
     "metadata": {},
     "output_type": "execute_result"
    }
   ],
   "source": [
    "# загрузим файл Проект_2_group_add.csv по ссылке\n",
    "\n",
    "public_key = 'https://disk.yandex.ru/d/qY-v6oiKel6mzg'\n",
    "final_url = base_url + urlencode(dict(public_key=public_key))\n",
    "response = requests.get(final_url)\n",
    "download_url = response.json()['href']\n",
    "group_add = pd.read_csv(download_url, sep=',')\n",
    "group_add.head()"
   ]
  },
  {
   "cell_type": "code",
   "execution_count": null,
   "metadata": {
    "id": "lVe9Sc7PouOl",
    "outputId": "2cb8a565-de9a-4bac-8165-cc51e0245b17"
   },
   "outputs": [
    {
     "name": "stdout",
     "output_type": "stream",
     "text": [
      "Количество строк: 92\n",
      "Количество уникальных id: 92\n",
      "Количество уникальных групп: 2\n",
      "Количество пропущенных значений в колонке id: 0\n",
      "Количество пропущенных значений в колонке group: 0\n",
      "Количество пользователей в группе А: 22\n",
      "Количество пользователей в группе В: 70\n"
     ]
    }
   ],
   "source": [
    "print(f'Количество строк: {group_add.shape[0]}')\n",
    "print(f'Количество уникальных id: {group_add.id.nunique()}')\n",
    "print(f'Количество уникальных групп: {group_add.grp.nunique()}')\n",
    "print(f'Количество пропущенных значений в колонке id: {group_add.isna().sum().id}')\n",
    "print(f'Количество пропущенных значений в колонке group: {group_add.isna().sum().grp}')\n",
    "print(f'Количество пользователей в группе А: {group_add[group_add[\"grp\"] == \"A\"].id.count()}')\n",
    "print(f'Количество пользователей в группе В: {group_add[group_add[\"grp\"] == \"B\"].id.count()}')"
   ]
  },
  {
   "cell_type": "code",
   "execution_count": null,
   "metadata": {
    "id": "BvYRkYXtouOm",
    "outputId": "06322c99-a0e7-43de-a5c3-00bd7910a70d"
   },
   "outputs": [
    {
     "data": {
      "text/html": [
       "<div>\n",
       "<style scoped>\n",
       "    .dataframe tbody tr th:only-of-type {\n",
       "        vertical-align: middle;\n",
       "    }\n",
       "\n",
       "    .dataframe tbody tr th {\n",
       "        vertical-align: top;\n",
       "    }\n",
       "\n",
       "    .dataframe thead th {\n",
       "        text-align: right;\n",
       "    }\n",
       "</style>\n",
       "<table border=\"1\" class=\"dataframe\">\n",
       "  <thead>\n",
       "    <tr style=\"text-align: right;\">\n",
       "      <th></th>\n",
       "      <th>id</th>\n",
       "      <th>grp_x</th>\n",
       "      <th>grp_y</th>\n",
       "    </tr>\n",
       "  </thead>\n",
       "  <tbody>\n",
       "  </tbody>\n",
       "</table>\n",
       "</div>"
      ],
      "text/plain": [
       "Empty DataFrame\n",
       "Columns: [id, grp_x, grp_y]\n",
       "Index: []"
      ]
     },
     "execution_count": 42,
     "metadata": {},
     "output_type": "execute_result"
    }
   ],
   "source": [
    "# как видно, в новом присланном файле нет пользователей, которые уже были в первом файле groups\n",
    "\n",
    "groups.merge(group_add, on='id')"
   ]
  },
  {
   "cell_type": "code",
   "execution_count": null,
   "metadata": {
    "id": "vWVA6FsqouOm",
    "outputId": "df019b4c-ac45-4377-fa9f-defb816aa7e7"
   },
   "outputs": [
    {
     "data": {
      "text/plain": [
       "(74576, 2)"
      ]
     },
     "execution_count": 43,
     "metadata": {},
     "output_type": "execute_result"
    }
   ],
   "source": [
    "# объединим оба датафрейма для более удобной работы\n",
    "\n",
    "all_groups = pd.concat([groups, group_add], ignore_index=True)\n",
    "all_groups.shape"
   ]
  },
  {
   "cell_type": "code",
   "execution_count": null,
   "metadata": {
    "id": "HYyqcGGbouOn",
    "outputId": "feefefe6-f54d-48c8-b85c-a7761e8fd1d1"
   },
   "outputs": [
    {
     "data": {
      "text/html": [
       "<div>\n",
       "<style scoped>\n",
       "    .dataframe tbody tr th:only-of-type {\n",
       "        vertical-align: middle;\n",
       "    }\n",
       "\n",
       "    .dataframe tbody tr th {\n",
       "        vertical-align: top;\n",
       "    }\n",
       "\n",
       "    .dataframe thead th {\n",
       "        text-align: right;\n",
       "    }\n",
       "</style>\n",
       "<table border=\"1\" class=\"dataframe\">\n",
       "  <thead>\n",
       "    <tr style=\"text-align: right;\">\n",
       "      <th></th>\n",
       "      <th>student_id</th>\n",
       "    </tr>\n",
       "  </thead>\n",
       "  <tbody>\n",
       "    <tr>\n",
       "      <th>0</th>\n",
       "      <td>581585</td>\n",
       "    </tr>\n",
       "    <tr>\n",
       "      <th>1</th>\n",
       "      <td>5723133</td>\n",
       "    </tr>\n",
       "    <tr>\n",
       "      <th>2</th>\n",
       "      <td>3276743</td>\n",
       "    </tr>\n",
       "    <tr>\n",
       "      <th>3</th>\n",
       "      <td>4238589</td>\n",
       "    </tr>\n",
       "    <tr>\n",
       "      <th>4</th>\n",
       "      <td>4475369</td>\n",
       "    </tr>\n",
       "  </tbody>\n",
       "</table>\n",
       "</div>"
      ],
      "text/plain": [
       "   student_id\n",
       "0      581585\n",
       "1     5723133\n",
       "2     3276743\n",
       "3     4238589\n",
       "4     4475369"
      ]
     },
     "execution_count": 44,
     "metadata": {},
     "output_type": "execute_result"
    }
   ],
   "source": [
    "# загрузим файлПроект_2_active_studs.csv по ссылке\n",
    "\n",
    "public_key = 'https://disk.yandex.ru/d/HcUAu8klTwSCDg'\n",
    "final_url = base_url + urlencode(dict(public_key=public_key))\n",
    "response = requests.get(final_url)\n",
    "download_url = response.json()['href']\n",
    "active_studs = pd.read_csv(download_url, sep=';')\n",
    "active_studs.head()"
   ]
  },
  {
   "cell_type": "code",
   "execution_count": null,
   "metadata": {
    "id": "_1lo6gSXouOo",
    "outputId": "56e83941-22c3-4555-fed3-6df984d73716"
   },
   "outputs": [
    {
     "name": "stdout",
     "output_type": "stream",
     "text": [
      "Количество строк: 8341\n",
      "Количество уникальных id: 8341\n",
      "Количество пропущенных значений в колонке group: 0\n"
     ]
    }
   ],
   "source": [
    "print(f'Количество строк: {active_studs.shape[0]}')\n",
    "print(f'Количество уникальных id: {active_studs.student_id.nunique()}')\n",
    "print(f'Количество пропущенных значений в колонке group: {active_studs.isna().sum().student_id}')"
   ]
  },
  {
   "cell_type": "code",
   "execution_count": null,
   "metadata": {
    "id": "QrZOl2-gouOp"
   },
   "outputs": [],
   "source": [
    "# добавим столбец с признаком \"1\" для активных пользователей\n",
    "\n",
    "active_studs['active_user'] = '1'"
   ]
  },
  {
   "cell_type": "code",
   "execution_count": null,
   "metadata": {
    "id": "ynDTiyGGouOp",
    "outputId": "fa61f75b-da50-4101-bb3d-7768904a6b1b"
   },
   "outputs": [
    {
     "data": {
      "text/html": [
       "<div>\n",
       "<style scoped>\n",
       "    .dataframe tbody tr th:only-of-type {\n",
       "        vertical-align: middle;\n",
       "    }\n",
       "\n",
       "    .dataframe tbody tr th {\n",
       "        vertical-align: top;\n",
       "    }\n",
       "\n",
       "    .dataframe thead th {\n",
       "        text-align: right;\n",
       "    }\n",
       "</style>\n",
       "<table border=\"1\" class=\"dataframe\">\n",
       "  <thead>\n",
       "    <tr style=\"text-align: right;\">\n",
       "      <th></th>\n",
       "      <th>student_id</th>\n",
       "      <th>rev</th>\n",
       "    </tr>\n",
       "  </thead>\n",
       "  <tbody>\n",
       "    <tr>\n",
       "      <th>0</th>\n",
       "      <td>1627</td>\n",
       "      <td>990.0</td>\n",
       "    </tr>\n",
       "    <tr>\n",
       "      <th>1</th>\n",
       "      <td>3185</td>\n",
       "      <td>690.0</td>\n",
       "    </tr>\n",
       "    <tr>\n",
       "      <th>2</th>\n",
       "      <td>25973</td>\n",
       "      <td>690.0</td>\n",
       "    </tr>\n",
       "    <tr>\n",
       "      <th>3</th>\n",
       "      <td>26280</td>\n",
       "      <td>690.0</td>\n",
       "    </tr>\n",
       "    <tr>\n",
       "      <th>4</th>\n",
       "      <td>100300</td>\n",
       "      <td>990.0</td>\n",
       "    </tr>\n",
       "  </tbody>\n",
       "</table>\n",
       "</div>"
      ],
      "text/plain": [
       "   student_id    rev\n",
       "0        1627  990.0\n",
       "1        3185  690.0\n",
       "2       25973  690.0\n",
       "3       26280  690.0\n",
       "4      100300  990.0"
      ]
     },
     "execution_count": 47,
     "metadata": {},
     "output_type": "execute_result"
    }
   ],
   "source": [
    "# загрузим файл Проект_2_checks.csv по ссылке\n",
    "\n",
    "public_key = 'https://disk.yandex.ru/d/90ev2ZpQcVHRLQ'\n",
    "final_url = base_url + urlencode(dict(public_key=public_key))\n",
    "response = requests.get(final_url)\n",
    "download_url = response.json()['href']\n",
    "checks = pd.read_csv(download_url, sep=';')\n",
    "checks.head()"
   ]
  },
  {
   "cell_type": "code",
   "execution_count": null,
   "metadata": {
    "id": "wrhLJONWouOq",
    "outputId": "674da799-8294-4525-a039-b28d051d4149"
   },
   "outputs": [
    {
     "name": "stdout",
     "output_type": "stream",
     "text": [
      "Количество строк: 541\n",
      "Количество уникальных id: 541\n",
      "Количество пропущенных значений в колонке group: 0\n",
      "Количество пропущенных значений в колонке group: 0\n",
      "Минимальная сумма оплаты: 199.0\n",
      "Максимальная сумма оплаты: 4650.0\n",
      "Самая часто встречающаяся сумма: 1900.0\n"
     ]
    }
   ],
   "source": [
    "print(f'Количество строк: {checks.shape[0]}')\n",
    "print(f'Количество уникальных id: {checks.student_id.nunique()}')\n",
    "print(f'Количество пропущенных значений в колонке group: {checks.isna().sum().student_id}')\n",
    "print(f'Количество пропущенных значений в колонке group: {checks.isna().sum().rev}')\n",
    "print(f'Минимальная сумма оплаты: {checks.rev.min()}')\n",
    "print(f'Максимальная сумма оплаты: {checks.rev.max()}')\n",
    "print(f'Самая часто встречающаяся сумма: {checks.rev.mode()[0]}')"
   ]
  },
  {
   "cell_type": "code",
   "execution_count": null,
   "metadata": {
    "id": "Rct7b8KCouOr"
   },
   "outputs": [],
   "source": [
    "# добавим столбец с признаком \"1\" для оплативших пользователей\n",
    "\n",
    "checks['paid_user'] = '1'"
   ]
  },
  {
   "cell_type": "code",
   "execution_count": null,
   "metadata": {
    "id": "0uH-vxu9ouOr"
   },
   "outputs": [],
   "source": [
    "# переименовываем колонки в df groups\n",
    "\n",
    "all_groups = groups.rename(columns={'id': 'student_id', 'grp': 'group'})"
   ]
  },
  {
   "cell_type": "markdown",
   "metadata": {
    "id": "964__-X8ouOr"
   },
   "source": [
    "Посмотрим на суммы, которые оплачивали пользователи:"
   ]
  },
  {
   "cell_type": "code",
   "execution_count": null,
   "metadata": {
    "id": "GQsoQI4JouOr",
    "outputId": "a9b39c70-427f-4d5d-c345-3b1d75915b4f"
   },
   "outputs": [
    {
     "data": {
      "text/html": [
       "<div>\n",
       "<style scoped>\n",
       "    .dataframe tbody tr th:only-of-type {\n",
       "        vertical-align: middle;\n",
       "    }\n",
       "\n",
       "    .dataframe tbody tr th {\n",
       "        vertical-align: top;\n",
       "    }\n",
       "\n",
       "    .dataframe thead th {\n",
       "        text-align: right;\n",
       "    }\n",
       "</style>\n",
       "<table border=\"1\" class=\"dataframe\">\n",
       "  <thead>\n",
       "    <tr style=\"text-align: right;\">\n",
       "      <th></th>\n",
       "      <th>rev</th>\n",
       "      <th>student_id</th>\n",
       "    </tr>\n",
       "  </thead>\n",
       "  <tbody>\n",
       "    <tr>\n",
       "      <th>24</th>\n",
       "      <td>1900.0000</td>\n",
       "      <td>97</td>\n",
       "    </tr>\n",
       "    <tr>\n",
       "      <th>1</th>\n",
       "      <td>290.0000</td>\n",
       "      <td>94</td>\n",
       "    </tr>\n",
       "    <tr>\n",
       "      <th>8</th>\n",
       "      <td>690.0000</td>\n",
       "      <td>78</td>\n",
       "    </tr>\n",
       "    <tr>\n",
       "      <th>0</th>\n",
       "      <td>199.0000</td>\n",
       "      <td>46</td>\n",
       "    </tr>\n",
       "    <tr>\n",
       "      <th>13</th>\n",
       "      <td>990.0000</td>\n",
       "      <td>41</td>\n",
       "    </tr>\n",
       "    <tr>\n",
       "      <th>25</th>\n",
       "      <td>1900.0001</td>\n",
       "      <td>36</td>\n",
       "    </tr>\n",
       "    <tr>\n",
       "      <th>10</th>\n",
       "      <td>840.0000</td>\n",
       "      <td>27</td>\n",
       "    </tr>\n",
       "    <tr>\n",
       "      <th>16</th>\n",
       "      <td>1140.0000</td>\n",
       "      <td>25</td>\n",
       "    </tr>\n",
       "    <tr>\n",
       "      <th>4</th>\n",
       "      <td>580.0000</td>\n",
       "      <td>15</td>\n",
       "    </tr>\n",
       "    <tr>\n",
       "      <th>5</th>\n",
       "      <td>590.0000</td>\n",
       "      <td>11</td>\n",
       "    </tr>\n",
       "    <tr>\n",
       "      <th>2</th>\n",
       "      <td>398.0000</td>\n",
       "      <td>9</td>\n",
       "    </tr>\n",
       "    <tr>\n",
       "      <th>21</th>\n",
       "      <td>1530.0000</td>\n",
       "      <td>8</td>\n",
       "    </tr>\n",
       "    <tr>\n",
       "      <th>11</th>\n",
       "      <td>870.0000</td>\n",
       "      <td>6</td>\n",
       "    </tr>\n",
       "    <tr>\n",
       "      <th>37</th>\n",
       "      <td>3660.0000</td>\n",
       "      <td>5</td>\n",
       "    </tr>\n",
       "    <tr>\n",
       "      <th>34</th>\n",
       "      <td>2910.0000</td>\n",
       "      <td>4</td>\n",
       "    </tr>\n",
       "    <tr>\n",
       "      <th>27</th>\n",
       "      <td>1980.0000</td>\n",
       "      <td>4</td>\n",
       "    </tr>\n",
       "    <tr>\n",
       "      <th>32</th>\n",
       "      <td>2890.0000</td>\n",
       "      <td>4</td>\n",
       "    </tr>\n",
       "    <tr>\n",
       "      <th>28</th>\n",
       "      <td>2099.0000</td>\n",
       "      <td>3</td>\n",
       "    </tr>\n",
       "    <tr>\n",
       "      <th>17</th>\n",
       "      <td>1160.0000</td>\n",
       "      <td>3</td>\n",
       "    </tr>\n",
       "    <tr>\n",
       "      <th>3</th>\n",
       "      <td>489.0000</td>\n",
       "      <td>3</td>\n",
       "    </tr>\n",
       "    <tr>\n",
       "      <th>30</th>\n",
       "      <td>2220.0000</td>\n",
       "      <td>2</td>\n",
       "    </tr>\n",
       "    <tr>\n",
       "      <th>18</th>\n",
       "      <td>1180.0000</td>\n",
       "      <td>2</td>\n",
       "    </tr>\n",
       "    <tr>\n",
       "      <th>31</th>\n",
       "      <td>2820.0000</td>\n",
       "      <td>2</td>\n",
       "    </tr>\n",
       "    <tr>\n",
       "      <th>29</th>\n",
       "      <td>2190.0000</td>\n",
       "      <td>1</td>\n",
       "    </tr>\n",
       "    <tr>\n",
       "      <th>33</th>\n",
       "      <td>2900.0000</td>\n",
       "      <td>1</td>\n",
       "    </tr>\n",
       "    <tr>\n",
       "      <th>36</th>\n",
       "      <td>3260.0000</td>\n",
       "      <td>1</td>\n",
       "    </tr>\n",
       "    <tr>\n",
       "      <th>35</th>\n",
       "      <td>3040.0000</td>\n",
       "      <td>1</td>\n",
       "    </tr>\n",
       "    <tr>\n",
       "      <th>19</th>\n",
       "      <td>1339.0000</td>\n",
       "      <td>1</td>\n",
       "    </tr>\n",
       "    <tr>\n",
       "      <th>26</th>\n",
       "      <td>1968.0000</td>\n",
       "      <td>1</td>\n",
       "    </tr>\n",
       "    <tr>\n",
       "      <th>23</th>\n",
       "      <td>1830.0000</td>\n",
       "      <td>1</td>\n",
       "    </tr>\n",
       "    <tr>\n",
       "      <th>22</th>\n",
       "      <td>1729.0000</td>\n",
       "      <td>1</td>\n",
       "    </tr>\n",
       "    <tr>\n",
       "      <th>20</th>\n",
       "      <td>1388.0000</td>\n",
       "      <td>1</td>\n",
       "    </tr>\n",
       "    <tr>\n",
       "      <th>15</th>\n",
       "      <td>1050.0000</td>\n",
       "      <td>1</td>\n",
       "    </tr>\n",
       "    <tr>\n",
       "      <th>14</th>\n",
       "      <td>1039.0000</td>\n",
       "      <td>1</td>\n",
       "    </tr>\n",
       "    <tr>\n",
       "      <th>12</th>\n",
       "      <td>880.0000</td>\n",
       "      <td>1</td>\n",
       "    </tr>\n",
       "    <tr>\n",
       "      <th>9</th>\n",
       "      <td>796.0000</td>\n",
       "      <td>1</td>\n",
       "    </tr>\n",
       "    <tr>\n",
       "      <th>7</th>\n",
       "      <td>630.0000</td>\n",
       "      <td>1</td>\n",
       "    </tr>\n",
       "    <tr>\n",
       "      <th>6</th>\n",
       "      <td>597.0000</td>\n",
       "      <td>1</td>\n",
       "    </tr>\n",
       "    <tr>\n",
       "      <th>38</th>\n",
       "      <td>4650.0000</td>\n",
       "      <td>1</td>\n",
       "    </tr>\n",
       "  </tbody>\n",
       "</table>\n",
       "</div>"
      ],
      "text/plain": [
       "          rev  student_id\n",
       "24  1900.0000          97\n",
       "1    290.0000          94\n",
       "8    690.0000          78\n",
       "0    199.0000          46\n",
       "13   990.0000          41\n",
       "25  1900.0001          36\n",
       "10   840.0000          27\n",
       "16  1140.0000          25\n",
       "4    580.0000          15\n",
       "5    590.0000          11\n",
       "2    398.0000           9\n",
       "21  1530.0000           8\n",
       "11   870.0000           6\n",
       "37  3660.0000           5\n",
       "34  2910.0000           4\n",
       "27  1980.0000           4\n",
       "32  2890.0000           4\n",
       "28  2099.0000           3\n",
       "17  1160.0000           3\n",
       "3    489.0000           3\n",
       "30  2220.0000           2\n",
       "18  1180.0000           2\n",
       "31  2820.0000           2\n",
       "29  2190.0000           1\n",
       "33  2900.0000           1\n",
       "36  3260.0000           1\n",
       "35  3040.0000           1\n",
       "19  1339.0000           1\n",
       "26  1968.0000           1\n",
       "23  1830.0000           1\n",
       "22  1729.0000           1\n",
       "20  1388.0000           1\n",
       "15  1050.0000           1\n",
       "14  1039.0000           1\n",
       "12   880.0000           1\n",
       "9    796.0000           1\n",
       "7    630.0000           1\n",
       "6    597.0000           1\n",
       "38  4650.0000           1"
      ]
     },
     "execution_count": 51,
     "metadata": {},
     "output_type": "execute_result"
    }
   ],
   "source": [
    "checks.groupby('rev', as_index=False) \\\n",
    "    .agg({'student_id': 'count'})\\\n",
    "    .sort_values('student_id', ascending=False)"
   ]
  },
  {
   "cell_type": "markdown",
   "metadata": {
    "id": "DTBgl7CLouOs"
   },
   "source": [
    "Можно заметить странную сумму в 1900.0001 руб, коорая встречается 36 раз."
   ]
  },
  {
   "cell_type": "markdown",
   "metadata": {
    "id": "FkKvnMXuouOs"
   },
   "source": [
    "Для простоты работы объединим все данные в одну таблицу:"
   ]
  },
  {
   "cell_type": "code",
   "execution_count": null,
   "metadata": {
    "id": "twhmwBowouOt",
    "outputId": "92bc5436-224e-4fd9-a380-8bb61aa4f15f"
   },
   "outputs": [
    {
     "data": {
      "text/html": [
       "<div>\n",
       "<style scoped>\n",
       "    .dataframe tbody tr th:only-of-type {\n",
       "        vertical-align: middle;\n",
       "    }\n",
       "\n",
       "    .dataframe tbody tr th {\n",
       "        vertical-align: top;\n",
       "    }\n",
       "\n",
       "    .dataframe thead th {\n",
       "        text-align: right;\n",
       "    }\n",
       "</style>\n",
       "<table border=\"1\" class=\"dataframe\">\n",
       "  <thead>\n",
       "    <tr style=\"text-align: right;\">\n",
       "      <th></th>\n",
       "      <th>student_id</th>\n",
       "      <th>group</th>\n",
       "      <th>rev</th>\n",
       "      <th>paid_user</th>\n",
       "      <th>active_user</th>\n",
       "    </tr>\n",
       "  </thead>\n",
       "  <tbody>\n",
       "    <tr>\n",
       "      <th>0</th>\n",
       "      <td>1489</td>\n",
       "      <td>B</td>\n",
       "      <td>0.0</td>\n",
       "      <td>0</td>\n",
       "      <td>0</td>\n",
       "    </tr>\n",
       "    <tr>\n",
       "      <th>1</th>\n",
       "      <td>1627</td>\n",
       "      <td>A</td>\n",
       "      <td>990.0</td>\n",
       "      <td>1</td>\n",
       "      <td>1</td>\n",
       "    </tr>\n",
       "    <tr>\n",
       "      <th>2</th>\n",
       "      <td>1768</td>\n",
       "      <td>B</td>\n",
       "      <td>0.0</td>\n",
       "      <td>0</td>\n",
       "      <td>0</td>\n",
       "    </tr>\n",
       "    <tr>\n",
       "      <th>3</th>\n",
       "      <td>1783</td>\n",
       "      <td>B</td>\n",
       "      <td>0.0</td>\n",
       "      <td>0</td>\n",
       "      <td>0</td>\n",
       "    </tr>\n",
       "    <tr>\n",
       "      <th>4</th>\n",
       "      <td>1794</td>\n",
       "      <td>A</td>\n",
       "      <td>0.0</td>\n",
       "      <td>0</td>\n",
       "      <td>0</td>\n",
       "    </tr>\n",
       "  </tbody>\n",
       "</table>\n",
       "</div>"
      ],
      "text/plain": [
       "   student_id group    rev paid_user active_user\n",
       "0        1489     B    0.0         0           0\n",
       "1        1627     A  990.0         1           1\n",
       "2        1768     B    0.0         0           0\n",
       "3        1783     B    0.0         0           0\n",
       "4        1794     A    0.0         0           0"
      ]
     },
     "execution_count": 52,
     "metadata": {},
     "output_type": "execute_result"
    }
   ],
   "source": [
    "full_info_df = all_groups.merge(checks, on='student_id', how='left').fillna(0) \\\n",
    "                         .merge(active_studs, on='student_id', how='left', ).fillna('0')\n",
    "\n",
    "full_info_df.head()"
   ]
  },
  {
   "cell_type": "markdown",
   "metadata": {
    "id": "7UP_jn20ouOt"
   },
   "source": [
    "Посмотрим, есть ли пользователи, которые совершили оплату, но при этом не являются активными:"
   ]
  },
  {
   "cell_type": "code",
   "execution_count": null,
   "metadata": {
    "id": "6yGKP6cUouOt",
    "outputId": "b0ed0a6b-00c6-48f1-e283-ab32d3d59828"
   },
   "outputs": [
    {
     "data": {
      "text/plain": [
       "student_id    149\n",
       "dtype: int64"
      ]
     },
     "execution_count": 53,
     "metadata": {},
     "output_type": "execute_result"
    }
   ],
   "source": [
    "full_info_df.query('active_user == \"0\" and rev != 0') \\\n",
    "            .agg({'student_id': 'count'}) \\"
   ]
  },
  {
   "cell_type": "markdown",
   "metadata": {
    "id": "L9791X9pouOu"
   },
   "source": [
    "Видно, что такие пользователи есть и их 149 человек."
   ]
  },
  {
   "cell_type": "markdown",
   "metadata": {
    "id": "UIYp2rmDouOu"
   },
   "source": [
    "Посмотрим на распределение оплат по группам:"
   ]
  },
  {
   "cell_type": "code",
   "execution_count": null,
   "metadata": {
    "id": "pHjawEfxouOu",
    "outputId": "5e044140-6a05-474a-e55c-4200e9d94ad0"
   },
   "outputs": [
    {
     "data": {
      "image/png": "[encoded data removed]",
      "text/plain": [
       "<Figure size 407.1x360 with 1 Axes>"
      ]
     },
     "metadata": {
      "needs_background": "light"
     },
     "output_type": "display_data"
    }
   ],
   "source": [
    "ax_sum = sns.displot(data=full_info_df.query('rev>0'), x='rev', hue='group')\n",
    "plt.ylabel(\"Количество\")\n",
    "plt.xlabel(\"Сумма оплаты\")\n",
    "plt.title(\"Распределение оплат\\n\", fontsize=15, fontweight = 'bold')\n",
    "plt.show()"
   ]
  },
  {
   "cell_type": "markdown",
   "metadata": {
    "id": "oMPl5esXouOv"
   },
   "source": [
    "Оплаты в группах распределены не нормальным образом, также присутствуют выбросы. Так же видно, что странная сумма в 1900.0001 руб встречается только в группе В. Точно нельзя сказать, почему такая сумма могла возникнуть, возможно,клиенты пользовались промокодом или проводилась какая-то акция или, например, новая механика оплаты дала сбой (что могло бы объяснить наличие таких оплат только в группе В)."
   ]
  },
  {
   "cell_type": "code",
   "execution_count": null,
   "metadata": {
    "id": "VRhyZvqgouOv",
    "outputId": "283e031b-3892-442e-bc5f-43b5eb584c3c"
   },
   "outputs": [
    {
     "data": {
      "text/html": [
       "<div>\n",
       "<style scoped>\n",
       "    .dataframe tbody tr th:only-of-type {\n",
       "        vertical-align: middle;\n",
       "    }\n",
       "\n",
       "    .dataframe tbody tr th {\n",
       "        vertical-align: top;\n",
       "    }\n",
       "\n",
       "    .dataframe thead th {\n",
       "        text-align: right;\n",
       "    }\n",
       "</style>\n",
       "<table border=\"1\" class=\"dataframe\">\n",
       "  <thead>\n",
       "    <tr style=\"text-align: right;\">\n",
       "      <th></th>\n",
       "      <th>group</th>\n",
       "      <th>rev</th>\n",
       "      <th>student_id</th>\n",
       "    </tr>\n",
       "  </thead>\n",
       "  <tbody>\n",
       "    <tr>\n",
       "      <th>0</th>\n",
       "      <td>A</td>\n",
       "      <td>72820.0000</td>\n",
       "      <td>78</td>\n",
       "    </tr>\n",
       "    <tr>\n",
       "      <th>1</th>\n",
       "      <td>B</td>\n",
       "      <td>393074.0035</td>\n",
       "      <td>313</td>\n",
       "    </tr>\n",
       "  </tbody>\n",
       "</table>\n",
       "</div>"
      ],
      "text/plain": [
       "  group          rev  student_id\n",
       "0     A   72820.0000          78\n",
       "1     B  393074.0035         313"
      ]
     },
     "execution_count": 55,
     "metadata": {},
     "output_type": "execute_result"
    }
   ],
   "source": [
    "full_info_sum = full_info_df.query('active_user == \"1\" and rev != 0') \\\n",
    "                            .groupby('group', as_index=False) \\\n",
    "                            .agg({'rev': 'sum', 'student_id': 'count'})\n",
    "full_info_sum"
   ]
  },
  {
   "cell_type": "markdown",
   "metadata": {
    "id": "QZlZYItlouOw"
   },
   "source": [
    "Как можно видеть, из 541 пользователей, совершивших оплату, активных - 391 чел. в обеих группах. Нам интересны именно они, поэтому оставим только таких пользователей и создадим датафрейм activity_df_final."
   ]
  },
  {
   "cell_type": "code",
   "execution_count": null,
   "metadata": {
    "id": "jUfNwaaUouOw",
    "outputId": "5b570296-301e-403b-f2d1-90df7f39eb5e"
   },
   "outputs": [
    {
     "data": {
      "text/html": [
       "<div>\n",
       "<style scoped>\n",
       "    .dataframe tbody tr th:only-of-type {\n",
       "        vertical-align: middle;\n",
       "    }\n",
       "\n",
       "    .dataframe tbody tr th {\n",
       "        vertical-align: top;\n",
       "    }\n",
       "\n",
       "    .dataframe thead th {\n",
       "        text-align: right;\n",
       "    }\n",
       "</style>\n",
       "<table border=\"1\" class=\"dataframe\">\n",
       "  <thead>\n",
       "    <tr style=\"text-align: right;\">\n",
       "      <th></th>\n",
       "      <th>student_id</th>\n",
       "      <th>group</th>\n",
       "      <th>rev</th>\n",
       "      <th>paid_user</th>\n",
       "      <th>active_user</th>\n",
       "    </tr>\n",
       "  </thead>\n",
       "  <tbody>\n",
       "    <tr>\n",
       "      <th>1</th>\n",
       "      <td>1627</td>\n",
       "      <td>A</td>\n",
       "      <td>990.0000</td>\n",
       "      <td>1</td>\n",
       "      <td>1</td>\n",
       "    </tr>\n",
       "    <tr>\n",
       "      <th>220</th>\n",
       "      <td>100300</td>\n",
       "      <td>B</td>\n",
       "      <td>990.0000</td>\n",
       "      <td>1</td>\n",
       "      <td>1</td>\n",
       "    </tr>\n",
       "    <tr>\n",
       "      <th>320</th>\n",
       "      <td>108270</td>\n",
       "      <td>B</td>\n",
       "      <td>290.0000</td>\n",
       "      <td>1</td>\n",
       "      <td>1</td>\n",
       "    </tr>\n",
       "    <tr>\n",
       "      <th>3779</th>\n",
       "      <td>264473</td>\n",
       "      <td>B</td>\n",
       "      <td>1900.0001</td>\n",
       "      <td>1</td>\n",
       "      <td>1</td>\n",
       "    </tr>\n",
       "    <tr>\n",
       "      <th>4187</th>\n",
       "      <td>274352</td>\n",
       "      <td>B</td>\n",
       "      <td>690.0000</td>\n",
       "      <td>1</td>\n",
       "      <td>1</td>\n",
       "    </tr>\n",
       "  </tbody>\n",
       "</table>\n",
       "</div>"
      ],
      "text/plain": [
       "      student_id group        rev paid_user active_user\n",
       "1           1627     A   990.0000         1           1\n",
       "220       100300     B   990.0000         1           1\n",
       "320       108270     B   290.0000         1           1\n",
       "3779      264473     B  1900.0001         1           1\n",
       "4187      274352     B   690.0000         1           1"
      ]
     },
     "execution_count": 56,
     "metadata": {},
     "output_type": "execute_result"
    }
   ],
   "source": [
    "activity_df_final = full_info_df.query('rev > 0 and active_user == \"1\"')\n",
    "activity_df_final.head()"
   ]
  },
  {
   "cell_type": "markdown",
   "metadata": {
    "id": "NEmQwZjuouOx"
   },
   "source": [
    "В ходе предварительного анализе было выяснено:\n",
    "\n",
    "Во всех трёх датафреймах (groups, groups_add, active_studs) процентное соотношение пользователей в группах А и B примерно одинаковое. Отметим, что в контрольной группе количество пользователей намного меньше.\n",
    "* Общее количество уникальных пользователей - 74576.\n",
    "* Количество пользователей, которые совершили оплату в дни проведения эксперимента - 541.\n",
    "\n",
    "Наибольшее количество пользователей совершили оплату на сумму 1900р. Но 149 пользователей, совершивших оплату, не захоидили на платформу во время проведения эксперимента. Так как дополнительной информации нет, то причины могут быть разными, например автоматические списания (подписка), ошибка при проведении платежа или сбой в данных. Выделяется сумма 1900.0001, она тоже выглядит как какой-то сбой. Так как у нас нет возможности узнать реальные причины этих аномалий, было решено убрать их из результирующего датафрейма."
   ]
  },
  {
   "cell_type": "markdown",
   "metadata": {
    "id": "qCcmQo6xouOx"
   },
   "source": [
    "### 1.4 Выбор метрик"
   ]
  },
  {
   "cell_type": "markdown",
   "metadata": {
    "id": "DTV1_t4LouOy"
   },
   "source": [
    "У нас нет данных о длительности проведения теста, поэтому логично исключить метрики, завязанные на времени (напр., WAU, LTV и т.д.). Так как основная цель это увеличить доход с помощью новой механики оплаты, то нам интересно посмотреть на различие в факте оплаты и сумме оплат в двух группах, если такие различия есть. Поэтому для анализа возьмем две метрики CR и ARPPU. СR покажет изменилось ли количество пользователей, совершивших оплату после внедрения новой механике оплаты, а ARPPU покажет увеличился ли доход с активного платящего пользователя.\n",
    "\n",
    "Перед выбором стат.теста проведем проверку на нормальность распределения (тест Шапиро-Уилка) и на гомогенность дисперсии (тест Левена)."
   ]
  },
  {
   "cell_type": "markdown",
   "metadata": {
    "id": "z8JJDc7couOy"
   },
   "source": [
    "Обозначим гипотезу и альтернативу:\n",
    "\n",
    "* H0 = распределение нормальное\n",
    "* H1 = распределение отлично от нормального"
   ]
  },
  {
   "cell_type": "code",
   "execution_count": null,
   "metadata": {
    "id": "fJyBK9oiouPM",
    "outputId": "05d0740c-b3de-4577-95b2-12631f1819ab"
   },
   "outputs": [
    {
     "name": "stdout",
     "output_type": "stream",
     "text": [
      "Не можем принять нулевую гипотезу \n",
      "p-value =  1.4986822893803264e-10\n"
     ]
    }
   ],
   "source": [
    "# проверка на нормальность группы A\n",
    "\n",
    "res = stats.shapiro(activity_df_final.query('group ==\"A\"').rev)\n",
    "p_value = res.pvalue\n",
    "alpha = 0.05\n",
    "\n",
    "if p_value > alpha:\n",
    "    print('Не можем отклонить нулевую гипотезу \\np-value = ',p_value)\n",
    "else:\n",
    "    print('Не можем принять нулевую гипотезу \\np-value = ',p_value)"
   ]
  },
  {
   "cell_type": "code",
   "execution_count": null,
   "metadata": {
    "id": "xtDP1zYvouPN",
    "outputId": "51d7e1a7-f3d8-4caa-ab32-bada8eb3407e"
   },
   "outputs": [
    {
     "name": "stdout",
     "output_type": "stream",
     "text": [
      "Не можем принять нулевую гипотезу \n",
      "p-value =  1.756778758085431e-16\n"
     ]
    }
   ],
   "source": [
    "# проверка на нормальность группы В\n",
    "\n",
    "res = stats.shapiro(activity_df_final.query('group ==\"B\"').rev)\n",
    "p_value = res.pvalue\n",
    "alpha = 0.05\n",
    "\n",
    "if p_value > alpha:\n",
    "    print('Не можем отклонить нулевую гипотезу \\np-value = ',p_value)\n",
    "else:\n",
    "    print('Не можем принять нулевую гипотезу \\np-value = ',p_value)"
   ]
  },
  {
   "cell_type": "markdown",
   "metadata": {
    "id": "usccTNe-ouPO"
   },
   "source": [
    "Распределения в обеих группах отличаются от нормального. Проверим гомогенность дисперсии в группах."
   ]
  },
  {
   "cell_type": "markdown",
   "metadata": {
    "id": "vYDwInAPouPO"
   },
   "source": [
    "Обозначим гипотезу и альтернативу:\n",
    "\n",
    "* H0 = дисперсии в двух группах гомогенны\n",
    "* H1 = дисперсии не гомогенны"
   ]
  },
  {
   "cell_type": "code",
   "execution_count": null,
   "metadata": {
    "id": "G1Az_gq_ouPO",
    "outputId": "7d822e78-3c78-4a8a-cc40-1c64181313ba"
   },
   "outputs": [
    {
     "name": "stdout",
     "output_type": "stream",
     "text": [
      "Не можем отклонить нулевую гипотезу \n",
      "p-value =  0.08123509393501775\n"
     ]
    }
   ],
   "source": [
    "res = stats.levene(activity_df_final.query('group == \"A\"').rev,\n",
    "                    activity_df_final.query('group == \"B\"').rev, center='median')\n",
    "p_value = res.pvalue\n",
    "alpha = 0.05\n",
    "\n",
    "if p_value > alpha:\n",
    "    print('Не можем отклонить нулевую гипотезу \\np-value = ',p_value)\n",
    "else:\n",
    "    print('Не можем принять нулевую гипотезу \\np-value = ',p_value)"
   ]
  },
  {
   "cell_type": "markdown",
   "metadata": {
    "id": "-DQKxfujouPP"
   },
   "source": [
    "Так как p-value > 0.05, то принимаем нулевую гипотезу - дисперсии групп одинаковы.\n",
    "\n",
    "Хотя распределение групп и отличается от нормального, но выборка достаточно большая и дисперсии групп одинаковы, поэтому для сравнения ARPPU в двух группах мы можем использовать t-критерий. Для сравнения CR будем использовать Хи-квадрат Пирсона, т.к он позволяет сравнить отношения количества успеха к неуспехам в двух таблицах."
   ]
  },
  {
   "cell_type": "markdown",
   "metadata": {
    "id": "SgHmRMgGouPP"
   },
   "source": [
    "#### 1. Метрика ARPPU"
   ]
  },
  {
   "cell_type": "code",
   "execution_count": null,
   "metadata": {
    "id": "bl5of050ouPP",
    "outputId": "fac77bc0-1b21-4b4a-9f62-12c90d1b9025"
   },
   "outputs": [
    {
     "data": {
      "text/plain": [
       "933.59"
      ]
     },
     "execution_count": 60,
     "metadata": {},
     "output_type": "execute_result"
    }
   ],
   "source": [
    "ARPPU_A = (full_info_sum.rev[0] / full_info_sum.student_id[0]).round(2)\n",
    "ARPPU_A"
   ]
  },
  {
   "cell_type": "code",
   "execution_count": null,
   "metadata": {
    "id": "s3a28xZ-ouPQ",
    "outputId": "23057111-8a3b-4665-86a0-84ba05d24cbf"
   },
   "outputs": [
    {
     "data": {
      "text/plain": [
       "1255.83"
      ]
     },
     "execution_count": 61,
     "metadata": {},
     "output_type": "execute_result"
    }
   ],
   "source": [
    "ARPPU_B = (full_info_sum.rev[1] / full_info_sum.student_id[1]).round(2)\n",
    "ARPPU_B"
   ]
  },
  {
   "cell_type": "markdown",
   "metadata": {
    "id": "etcX338QouPQ"
   },
   "source": [
    "Обозначим гипотезу и альтернативу:\n",
    "\n",
    "* H0 = средние в двух группах не различаются\n",
    "* H1 = средние различны"
   ]
  },
  {
   "cell_type": "code",
   "execution_count": null,
   "metadata": {
    "id": "p6z6z4utouPR",
    "outputId": "1ca4cfc4-572b-4499-d066-b4e35fcdc56f"
   },
   "outputs": [
    {
     "name": "stdout",
     "output_type": "stream",
     "text": [
      "Не можем принять нулевую гипотезу \n",
      "p-value =  0.001999178025210522\n"
     ]
    }
   ],
   "source": [
    "res = stats.ttest_ind(activity_df_final.query('group == \"A\"').rev,\n",
    "                        activity_df_final.query('group == \"B\"').rev)\n",
    "p_value = res.pvalue\n",
    "alpha = 0.05\n",
    "\n",
    "if p_value > alpha:\n",
    "    print('Не можем отклонить нулевую гипотезу \\np-value = ',p_value)\n",
    "else:\n",
    "    print('Не можем принять нулевую гипотезу \\np-value = ',p_value)"
   ]
  },
  {
   "cell_type": "markdown",
   "metadata": {
    "id": "-seIvpm-ouPR"
   },
   "source": [
    "Так как p-value < 0.05, то нулевую гипотезу отклоняем, следовательно можно говорить о том, что средний доход в расчёте на одного платящего пользователя в группе В статистически значимо выше."
   ]
  },
  {
   "cell_type": "markdown",
   "metadata": {
    "id": "srF23GuqouPR"
   },
   "source": [
    "#### 2. CR"
   ]
  },
  {
   "cell_type": "markdown",
   "metadata": {
    "id": "Fb7vuK_0ouPR"
   },
   "source": [
    "Построим таблицу сопряженности:"
   ]
  },
  {
   "cell_type": "code",
   "execution_count": null,
   "metadata": {
    "id": "Je79-GLxouPS"
   },
   "outputs": [],
   "source": [
    "# оставим только активных пользователей\n",
    "\n",
    "full_info_df = full_info_df.query('active_user == \"1\"')"
   ]
  },
  {
   "cell_type": "code",
   "execution_count": null,
   "metadata": {
    "id": "WI9YIwELouPT",
    "outputId": "519ac1b9-4e38-482e-e4d0-021bae4349d4"
   },
   "outputs": [
    {
     "data": {
      "text/html": [
       "<div>\n",
       "<style scoped>\n",
       "    .dataframe tbody tr th:only-of-type {\n",
       "        vertical-align: middle;\n",
       "    }\n",
       "\n",
       "    .dataframe tbody tr th {\n",
       "        vertical-align: top;\n",
       "    }\n",
       "\n",
       "    .dataframe thead th {\n",
       "        text-align: right;\n",
       "    }\n",
       "</style>\n",
       "<table border=\"1\" class=\"dataframe\">\n",
       "  <thead>\n",
       "    <tr style=\"text-align: right;\">\n",
       "      <th>paid_user</th>\n",
       "      <th>0</th>\n",
       "      <th>1</th>\n",
       "    </tr>\n",
       "    <tr>\n",
       "      <th>group</th>\n",
       "      <th></th>\n",
       "      <th></th>\n",
       "    </tr>\n",
       "  </thead>\n",
       "  <tbody>\n",
       "    <tr>\n",
       "      <th>A</th>\n",
       "      <td>1457</td>\n",
       "      <td>78</td>\n",
       "    </tr>\n",
       "    <tr>\n",
       "      <th>B</th>\n",
       "      <td>6480</td>\n",
       "      <td>313</td>\n",
       "    </tr>\n",
       "  </tbody>\n",
       "</table>\n",
       "</div>"
      ],
      "text/plain": [
       "paid_user     0    1\n",
       "group               \n",
       "A          1457   78\n",
       "B          6480  313"
      ]
     },
     "execution_count": 64,
     "metadata": {},
     "output_type": "execute_result"
    }
   ],
   "source": [
    "crosstab = pd.crosstab(full_info_df.group, full_info_df.paid_user)\n",
    "crosstab"
   ]
  },
  {
   "cell_type": "markdown",
   "metadata": {
    "id": "hQGf2mAbouPT"
   },
   "source": [
    "Обозначим гипотезу и альтернативу:\n",
    "\n",
    "* H0 = Конверсии в двух группах одинаковы\n",
    "* H1 = Есть значимое различие в конверсиях"
   ]
  },
  {
   "cell_type": "code",
   "execution_count": null,
   "metadata": {
    "id": "R7TH9IK-ouPT",
    "outputId": "4f99f376-4748-4e98-b8e3-34fc7c44b184"
   },
   "outputs": [
    {
     "name": "stdout",
     "output_type": "stream",
     "text": [
      "Не можем отклонить нулевую гипотезу \n",
      "p-value =  0.46803677583199144\n"
     ]
    }
   ],
   "source": [
    "stat, p_value, dof, expected_fred = chi2_contingency(crosstab)\n",
    "\n",
    "alpha = 0.05\n",
    "\n",
    "if p_value > alpha:\n",
    "    print('Не можем отклонить нулевую гипотезу \\np-value = ',p_value)\n",
    "else:\n",
    "    print('Не можем принять нулевую гипотезу \\np-value = ',p_value)"
   ]
  },
  {
   "cell_type": "markdown",
   "metadata": {
    "id": "cf20W7bHouPU"
   },
   "source": [
    "Так как p-value больше 0,05 мы не имеем достаточных оснований отклонить нулевую гипотезу, следовательно, статистически значимых различий в CR между пользователями группы А и группы В нет."
   ]
  },
  {
   "cell_type": "markdown",
   "metadata": {
    "id": "9CcDv54jouPU"
   },
   "source": [
    "### 1.5 Вывод\n",
    "\n",
    "При формулировании выводов и, как следствие, принятия решения о запуске новой механике на всех пользователей необходимо обратить внимание на следующие моменты:\n",
    "1. Большое различие в численности тестовой и контрольной групп. Необходимо понять из-за чего так получилось: такие группы изначально были заложены в дизайне эксперимента, это ошибка системы сплитования, ошибка системы логирования или есть какие-то другие объяснения.\n",
    "2. Наличие оплат на сумму 1900.0001 руб в тестовой группе. Так же необходимо разобраться, что это и является ли это ошибкой.\n",
    "3. Наличие 149 пользователей, совершивших платеж, но не заходивших на сайт. Тут тоже нужно понять, были ли это например автосписания платежей или какая-то ошибка.\n",
    "\n",
    "Несмотря на то, что у нас недостаточно данных, чтобы ответить на эти вопросы, по результатам теста можно сделать следующие выводы:\n",
    "* Статистически значимых различий в CR между группами не выявлено\n",
    "* ARPPU вырос в тестовой группе, изменения статистически значимы\n",
    "\n",
    "Учитывая все выше сказанное, я бы рекомендовала раскатывать новую механику на всех пользователей, но после изучения отмеченных выше моментов."
   ]
  },
  {
   "cell_type": "markdown",
   "metadata": {
    "id": "XVbGwiuwouPV"
   },
   "source": [
    "## Задание 2. SQL"
   ]
  },
  {
   "cell_type": "markdown",
   "metadata": {
    "id": "0frdv1zGouPV"
   },
   "source": [
    "### **2.1 Очень усердные ученики.**\n",
    "\n",
    "Образовательные курсы состоят из различных уроков, каждый из которых состоит из нескольких маленьких заданий. Каждое такое маленькое задание называется \"горошиной\".\n",
    "\n",
    "Дана таблица default.peas.\n",
    "Необходимо написать оптимальный запрос, который даст информацию о количестве очень усердных студентов.NB! Под усердным студентом мы понимаем студента, который правильно решил 20 задач за текущий месяц."
   ]
  },
  {
   "cell_type": "markdown",
   "metadata": {
    "id": "oQ9hZIHFouPW"
   },
   "source": [
    " Дана таблицы:\n",
    "_default.peas:_\n",
    "\n",
    "|Название атрибута||Тип атрибута||Смысловое значение|\n",
    "|---||---||---|\n",
    "|st_id||int||ID ученика|\n",
    "|timesst||timestamp||Время решения карточки|\n",
    "|correct||bool||Правильно ли решена горошина?|\n",
    "|subject||text||Дисциплина в которой находится горошина|\n",
    "\n",
    "\n",
    "\\\n",
    "_default.studs:_\n",
    "\n",
    "|Название атрибута||Тип атрибута||Смысловое значение|\n",
    "|---||---||---|\n",
    "|st_id||int||ID ученика|\n",
    "|test_grp||text||Метка ученика в данном эксперименте|\n",
    "\n",
    "\n",
    "\\\n",
    "_default.final_project_check:_\n",
    "\n",
    "|Название атрибута||Тип атрибута||Смысловое значение|\n",
    "|---||---||---|\n",
    "|st_id||int||ID ученика|\n",
    "|saletime||timestamp||Время покупки|\n",
    "|money||int||Цена, по которой приобрели данный курс|\n",
    "|subject||text||Дисциплина в которой находится горошина|"
   ]
  },
  {
   "cell_type": "code",
   "execution_count": null,
   "metadata": {
    "id": "OW-bEBYfouPW"
   },
   "outputs": [],
   "source": [
    "connection = dict(database='default',\n",
    "                  host='http://clickhouse.lab.karpov.courses:80',\n",
    "                  user='student',\n",
    "                  password='dpo_python_2020')"
   ]
  },
  {
   "cell_type": "code",
   "execution_count": null,
   "metadata": {
    "id": "4OmtEbr0ouPX",
    "outputId": "f2b0f377-d1e0-4653-9727-9d204bd7b496"
   },
   "outputs": [
    {
     "data": {
      "text/html": [
       "<div>\n",
       "<style scoped>\n",
       "    .dataframe tbody tr th:only-of-type {\n",
       "        vertical-align: middle;\n",
       "    }\n",
       "\n",
       "    .dataframe tbody tr th {\n",
       "        vertical-align: top;\n",
       "    }\n",
       "\n",
       "    .dataframe thead th {\n",
       "        text-align: right;\n",
       "    }\n",
       "</style>\n",
       "<table border=\"1\" class=\"dataframe\">\n",
       "  <thead>\n",
       "    <tr style=\"text-align: right;\">\n",
       "      <th></th>\n",
       "      <th>st_id</th>\n",
       "      <th>date</th>\n",
       "      <th>correct</th>\n",
       "      <th>subject</th>\n",
       "    </tr>\n",
       "  </thead>\n",
       "  <tbody>\n",
       "    <tr>\n",
       "      <th>0</th>\n",
       "      <td>100379</td>\n",
       "      <td>2021-10-30</td>\n",
       "      <td>1</td>\n",
       "      <td>Theory of probability</td>\n",
       "    </tr>\n",
       "    <tr>\n",
       "      <th>1</th>\n",
       "      <td>100379</td>\n",
       "      <td>2021-10-30</td>\n",
       "      <td>0</td>\n",
       "      <td>Vizualization</td>\n",
       "    </tr>\n",
       "    <tr>\n",
       "      <th>2</th>\n",
       "      <td>100379</td>\n",
       "      <td>2021-10-30</td>\n",
       "      <td>1</td>\n",
       "      <td>Theory of probability</td>\n",
       "    </tr>\n",
       "    <tr>\n",
       "      <th>3</th>\n",
       "      <td>100379</td>\n",
       "      <td>2021-10-30</td>\n",
       "      <td>1</td>\n",
       "      <td>Vizualization</td>\n",
       "    </tr>\n",
       "    <tr>\n",
       "      <th>4</th>\n",
       "      <td>100379</td>\n",
       "      <td>2021-10-30</td>\n",
       "      <td>1</td>\n",
       "      <td>Theory of probability</td>\n",
       "    </tr>\n",
       "  </tbody>\n",
       "</table>\n",
       "</div>"
      ],
      "text/plain": [
       "    st_id       date  correct                subject\n",
       "0  100379 2021-10-30        1  Theory of probability\n",
       "1  100379 2021-10-30        0          Vizualization\n",
       "2  100379 2021-10-30        1  Theory of probability\n",
       "3  100379 2021-10-30        1          Vizualization\n",
       "4  100379 2021-10-30        1  Theory of probability"
      ]
     },
     "execution_count": 67,
     "metadata": {},
     "output_type": "execute_result"
    }
   ],
   "source": [
    "# Посмотрим на данные default.peas\n",
    "\n",
    "query = \"\"\"\n",
    "SELECT st_id\n",
    "      ,timest::DATE as date\n",
    "      ,correct\n",
    "      ,subject\n",
    "FROM default.peas\n",
    "ORDER BY date\n",
    "\"\"\"\n",
    "peas = ph.read_clickhouse(query, connection=connection)\n",
    "peas.head()"
   ]
  },
  {
   "cell_type": "code",
   "execution_count": null,
   "metadata": {
    "id": "PV2DDWLqouPX",
    "outputId": "40bffb76-232a-4e5d-c203-e96c04245217"
   },
   "outputs": [
    {
     "name": "stdout",
     "output_type": "stream",
     "text": [
      "Количество уникальных предметов: 5\n",
      "Количество уникальных студентов: 308\n",
      "Количество правильно решенных горошин: 6481\n",
      "Количество неправильно решенных горошин: 6764\n",
      "Минимальная дата: 2021-10-30 00:00:00, максимальная дата 2021-10-31 00:00:00\n"
     ]
    }
   ],
   "source": [
    "print(f'Количество уникальных предметов: {peas.subject.nunique()}')\n",
    "print(f'Количество уникальных студентов: {peas.st_id.nunique()}')\n",
    "print(f'Количество правильно решенных горошин: {peas.query(\"correct == 0\").st_id.count()}')\n",
    "print(f'Количество неправильно решенных горошин: {peas.query(\"correct == 1\").st_id.count()}')\n",
    "print(f'Минимальная дата: {peas.date.min()}, максимальная дата {peas.date.max()}')"
   ]
  },
  {
   "cell_type": "code",
   "execution_count": null,
   "metadata": {
    "id": "LaC-q1KLouPY",
    "outputId": "c8bf5464-bf98-48ff-d588-ce120127732e"
   },
   "outputs": [
    {
     "data": {
      "text/html": [
       "<div>\n",
       "<style scoped>\n",
       "    .dataframe tbody tr th:only-of-type {\n",
       "        vertical-align: middle;\n",
       "    }\n",
       "\n",
       "    .dataframe tbody tr th {\n",
       "        vertical-align: top;\n",
       "    }\n",
       "\n",
       "    .dataframe thead th {\n",
       "        text-align: right;\n",
       "    }\n",
       "</style>\n",
       "<table border=\"1\" class=\"dataframe\">\n",
       "  <thead>\n",
       "    <tr style=\"text-align: right;\">\n",
       "      <th></th>\n",
       "      <th>count_success_id</th>\n",
       "    </tr>\n",
       "  </thead>\n",
       "  <tbody>\n",
       "    <tr>\n",
       "      <th>0</th>\n",
       "      <td>136</td>\n",
       "    </tr>\n",
       "  </tbody>\n",
       "</table>\n",
       "</div>"
      ],
      "text/plain": [
       "   count_success_id\n",
       "0               136"
      ]
     },
     "execution_count": 69,
     "metadata": {},
     "output_type": "execute_result"
    }
   ],
   "source": [
    "query_1 = \"\"\"\n",
    "SELECT\n",
    "  COUNT(DISTINCT st_id) as count_success_id\n",
    "FROM(\n",
    "      SELECT st_id\n",
    "            ,COUNT(correct) as sum_correct\n",
    "      FROM\n",
    "          default.peas\n",
    "      WHERE correct = 1\n",
    "      GROUP BY st_id\n",
    "      HAVING sum_correct >= 20)\n",
    "\"\"\"\n",
    "result = ph.read_clickhouse(query_1, connection=connection)\n",
    "result"
   ]
  },
  {
   "cell_type": "markdown",
   "metadata": {
    "id": "l6kaR6QsouPY"
   },
   "source": [
    "#### Ответ приведен в датафрейме `result`"
   ]
  },
  {
   "cell_type": "markdown",
   "metadata": {
    "id": "j-QQWXKQouPb"
   },
   "source": [
    "### **2.2 Оптимизация воронки**\n",
    "\n",
    "Образовательная платформа предлагает пройти студентам курсы по модели trial: студент может решить бесплатно лишь 30 горошин в день. Для неограниченного количества заданий в определенной дисциплине студенту необходимо приобрести полный доступ. Команда провела эксперимент, где был протестирован новый экран оплаты.Необходимо в одном запросе выгрузить следующую информацию о группах пользователей:\n",
    "\n",
    "* ARPU\n",
    "* ARPAU\n",
    "* CR в покупку\n",
    "* СR активного пользователя в покупку\n",
    "* CR пользователя из активности по математике (subject = ’math’) в покупку курса по математике\n",
    "\n",
    "ARPU считается относительно всех пользователей, попавших в группы.\n",
    "\n",
    "Активным считается пользователь, за все время решивший больше 10 задач правильно в любых дисциплинах.\n",
    "\n",
    "Активным по математике считается пользователь, за все время решивший 2 или больше задач правильно по математике."
   ]
  },
  {
   "cell_type": "code",
   "execution_count": null,
   "metadata": {
    "id": "HCyg3vttouPc",
    "outputId": "446261a0-5326-452f-d927-568f37fdc006"
   },
   "outputs": [
    {
     "data": {
      "text/html": [
       "<div>\n",
       "<style scoped>\n",
       "    .dataframe tbody tr th:only-of-type {\n",
       "        vertical-align: middle;\n",
       "    }\n",
       "\n",
       "    .dataframe tbody tr th {\n",
       "        vertical-align: top;\n",
       "    }\n",
       "\n",
       "    .dataframe thead th {\n",
       "        text-align: right;\n",
       "    }\n",
       "</style>\n",
       "<table border=\"1\" class=\"dataframe\">\n",
       "  <thead>\n",
       "    <tr style=\"text-align: right;\">\n",
       "      <th></th>\n",
       "      <th>st_id</th>\n",
       "      <th>test_grp</th>\n",
       "    </tr>\n",
       "  </thead>\n",
       "  <tbody>\n",
       "    <tr>\n",
       "      <th>0</th>\n",
       "      <td>100379</td>\n",
       "      <td>pilot</td>\n",
       "    </tr>\n",
       "    <tr>\n",
       "      <th>1</th>\n",
       "      <td>101432</td>\n",
       "      <td>control</td>\n",
       "    </tr>\n",
       "    <tr>\n",
       "      <th>2</th>\n",
       "      <td>104818</td>\n",
       "      <td>pilot</td>\n",
       "    </tr>\n",
       "    <tr>\n",
       "      <th>3</th>\n",
       "      <td>104885</td>\n",
       "      <td>pilot</td>\n",
       "    </tr>\n",
       "    <tr>\n",
       "      <th>4</th>\n",
       "      <td>104966</td>\n",
       "      <td>pilot</td>\n",
       "    </tr>\n",
       "  </tbody>\n",
       "</table>\n",
       "</div>"
      ],
      "text/plain": [
       "    st_id test_grp\n",
       "0  100379    pilot\n",
       "1  101432  control\n",
       "2  104818    pilot\n",
       "3  104885    pilot\n",
       "4  104966    pilot"
      ]
     },
     "execution_count": 70,
     "metadata": {},
     "output_type": "execute_result"
    }
   ],
   "source": [
    "# Посмотрим на данные default.studs\n",
    "\n",
    "query_2 = \"\"\"\n",
    "SELECT *\n",
    "FROM default.studs\n",
    "LIMIT 5\n",
    "\"\"\"\n",
    "studs = ph.read_clickhouse(query_2, connection=connection)\n",
    "studs"
   ]
  },
  {
   "cell_type": "code",
   "execution_count": null,
   "metadata": {
    "id": "uAc5E_hdouPc",
    "outputId": "f61284ea-84f3-4b63-9609-f5d010cae060"
   },
   "outputs": [
    {
     "data": {
      "text/html": [
       "<div>\n",
       "<style scoped>\n",
       "    .dataframe tbody tr th:only-of-type {\n",
       "        vertical-align: middle;\n",
       "    }\n",
       "\n",
       "    .dataframe tbody tr th {\n",
       "        vertical-align: top;\n",
       "    }\n",
       "\n",
       "    .dataframe thead th {\n",
       "        text-align: right;\n",
       "    }\n",
       "</style>\n",
       "<table border=\"1\" class=\"dataframe\">\n",
       "  <thead>\n",
       "    <tr style=\"text-align: right;\">\n",
       "      <th></th>\n",
       "      <th>st_id</th>\n",
       "      <th>date</th>\n",
       "      <th>money</th>\n",
       "      <th>subject</th>\n",
       "    </tr>\n",
       "  </thead>\n",
       "  <tbody>\n",
       "    <tr>\n",
       "      <th>0</th>\n",
       "      <td>101432</td>\n",
       "      <td>2021-10-31</td>\n",
       "      <td>85000</td>\n",
       "      <td>Math</td>\n",
       "    </tr>\n",
       "    <tr>\n",
       "      <th>1</th>\n",
       "      <td>101432</td>\n",
       "      <td>2021-10-31</td>\n",
       "      <td>65000</td>\n",
       "      <td>Vizualization</td>\n",
       "    </tr>\n",
       "    <tr>\n",
       "      <th>2</th>\n",
       "      <td>104885</td>\n",
       "      <td>2021-10-30</td>\n",
       "      <td>65000</td>\n",
       "      <td>Vizualization</td>\n",
       "    </tr>\n",
       "    <tr>\n",
       "      <th>3</th>\n",
       "      <td>104885</td>\n",
       "      <td>2021-10-30</td>\n",
       "      <td>75000</td>\n",
       "      <td>Statistics</td>\n",
       "    </tr>\n",
       "    <tr>\n",
       "      <th>4</th>\n",
       "      <td>106464</td>\n",
       "      <td>2021-10-31</td>\n",
       "      <td>85000</td>\n",
       "      <td>Math</td>\n",
       "    </tr>\n",
       "  </tbody>\n",
       "</table>\n",
       "</div>"
      ],
      "text/plain": [
       "    st_id       date  money        subject\n",
       "0  101432 2021-10-31  85000           Math\n",
       "1  101432 2021-10-31  65000  Vizualization\n",
       "2  104885 2021-10-30  65000  Vizualization\n",
       "3  104885 2021-10-30  75000     Statistics\n",
       "4  106464 2021-10-31  85000           Math"
      ]
     },
     "execution_count": 71,
     "metadata": {},
     "output_type": "execute_result"
    }
   ],
   "source": [
    "# Посмотрим на данные default.final_project_check\n",
    "\n",
    "query_3 = \"\"\"\n",
    "SELECT st_id\n",
    "        ,sale_time::DATE as date\n",
    "        ,money\n",
    "        ,subject\n",
    "FROM default.final_project_check\n",
    "LIMIT 5\n",
    "\"\"\"\n",
    "final_project = ph.read_clickhouse(query_3, connection=connection)\n",
    "final_project"
   ]
  },
  {
   "cell_type": "code",
   "execution_count": null,
   "metadata": {
    "id": "EUi-0IsgouPd",
    "outputId": "c91a7995-daa9-43a7-cfc5-873c8a7fe18a"
   },
   "outputs": [
    {
     "data": {
      "text/html": [
       "<div>\n",
       "<style scoped>\n",
       "    .dataframe tbody tr th:only-of-type {\n",
       "        vertical-align: middle;\n",
       "    }\n",
       "\n",
       "    .dataframe tbody tr th {\n",
       "        vertical-align: top;\n",
       "    }\n",
       "\n",
       "    .dataframe thead th {\n",
       "        text-align: right;\n",
       "    }\n",
       "</style>\n",
       "<table border=\"1\" class=\"dataframe\">\n",
       "  <thead>\n",
       "    <tr style=\"text-align: right;\">\n",
       "      <th></th>\n",
       "      <th>group</th>\n",
       "      <th>ARPU</th>\n",
       "      <th>ARPAU</th>\n",
       "      <th>CR</th>\n",
       "      <th>CR_Active</th>\n",
       "      <th>CR_math</th>\n",
       "    </tr>\n",
       "  </thead>\n",
       "  <tbody>\n",
       "    <tr>\n",
       "      <th>0</th>\n",
       "      <td>control</td>\n",
       "      <td>4540.98</td>\n",
       "      <td>10393.70</td>\n",
       "      <td>4.92</td>\n",
       "      <td>11.02</td>\n",
       "      <td>6.12</td>\n",
       "    </tr>\n",
       "    <tr>\n",
       "      <th>1</th>\n",
       "      <td>pilot</td>\n",
       "      <td>11508.47</td>\n",
       "      <td>29739.58</td>\n",
       "      <td>10.85</td>\n",
       "      <td>26.04</td>\n",
       "      <td>9.52</td>\n",
       "    </tr>\n",
       "  </tbody>\n",
       "</table>\n",
       "</div>"
      ],
      "text/plain": [
       "     group      ARPU     ARPAU     CR  CR_Active  CR_math\n",
       "0  control   4540.98  10393.70   4.92      11.02     6.12\n",
       "1    pilot  11508.47  29739.58  10.85      26.04     9.52"
      ]
     },
     "execution_count": 72,
     "metadata": {},
     "output_type": "execute_result"
    }
   ],
   "source": [
    "query_4 = \"\"\"\n",
    "SELECT test_grp as group\n",
    "      ,round(SUM(t2.money) / uniqExact(t1.st_id), 2) as ARPU\n",
    "      ,round(SUMIf(t2.money, t3.active > 10) / uniqIf(t1.st_id,  t3.active > 10), 2) as ARPAU\n",
    "      ,round(uniqIf(t1.st_id, t2.money > 0) / uniqExact(t1.st_id) * 100, 2) AS CR\n",
    "      ,round(uniqIf(t1.st_id, t2.money > 0 and t3.active > 10) / uniqIf(t1.st_id, t3.active > 10)* 100, 2) AS CR_Active\n",
    "      ,round(uniqIf(t1.st_id, t2.money > 0 and t3.math_active >= 2 and t2.subject = 'Math') /\n",
    "                                                  uniqIf(t1.st_id, t3.math_active >= 2) * 100, 2) AS CR_math\n",
    "FROM default.studs t1\n",
    "LEFT JOIN default.final_project_check t2\n",
    "    ON t1.st_id = t2.st_id\n",
    "LEFT JOIN (SELECT st_id\n",
    "                ,SUM(correct) as active\n",
    "                ,SUMIf(correct, subject = 'Math') as math_active\n",
    "            FROM default.peas\n",
    "            GROUP BY st_id) t3\n",
    "    ON t1.st_id = t3.st_id\n",
    "GROUP BY test_grp\n",
    "\"\"\"\n",
    "\n",
    "\n",
    "result_2 = ph.read_clickhouse(query_4, connection=connection)\n",
    "result_2"
   ]
  },
  {
   "cell_type": "markdown",
   "metadata": {
    "id": "Hh2HPzUkouPe"
   },
   "source": [
    "#### Ответ приведен в датафрейме `result_2`"
   ]
  },
  {
   "cell_type": "markdown",
   "metadata": {
    "id": "g4vH4gyfouPe"
   },
   "source": [
    "## Задание 3. Python"
   ]
  },
  {
   "cell_type": "markdown",
   "metadata": {
    "id": "wlJP1gXTouPe"
   },
   "source": [
    "### **3.1**\n",
    "\n",
    "Реализуйте функцию, которая будет автоматически подгружать информацию из дополнительного файла groups_add.csv (заголовки могут отличаться) и на основании дополнительных параметров пересчитывать метрики."
   ]
  },
  {
   "cell_type": "code",
   "execution_count": null,
   "metadata": {
    "id": "Bqn_rZTBouPf"
   },
   "outputs": [],
   "source": [
    "def calculate_metrics(groups, group_add, active_studs, checks):\n",
    "    '''Добавляет новые колонки с признаком активного и платящего пользователя,\n",
    "    Мерджит датафреймы с пользователями и считает необходимые метрики'''\n",
    "\n",
    "    active_studs['activity'] = 1\n",
    "    checks['is_paid'] = 1\n",
    "\n",
    "    all_groups = pd.concat([groups, group_add]).rename(columns={'grp': 'group', 'id':'student_id'})\n",
    "    full_info_df = all_groups.merge(checks, on='student_id', how='left').fillna(0) \\\n",
    "                             .merge(active_studs, on='student_id', how='left').fillna(0)\n",
    "\n",
    "    full_info_active = full_info_df.query('activity == 1')\n",
    "    metrics = full_info_active.groupby('group', as_index=False) \\\n",
    "                      .agg({'student_id': 'count', 'is_paid': ['sum', 'mean'], 'rev': ['sum', 'mean']})\n",
    "\n",
    "    metrics.columns = ['group', 'students', 'checks', 'CR', 'rev', 'ARPPU']\n",
    "    metrics['CR'] = round(metrics['CR'] * 100, 1)\n",
    "    metrics['ARPPU'] = round(metrics['rev'] / metrics['checks'], 1)\n",
    "    metrics['ARPU'] = round(metrics['rev'] / metrics['students'], 1)\n",
    "\n",
    "    return metrics"
   ]
  },
  {
   "cell_type": "code",
   "execution_count": null,
   "metadata": {
    "id": "HLq5tirRouPf",
    "outputId": "e5e50510-747a-49e3-ce31-b320537abbba"
   },
   "outputs": [
    {
     "data": {
      "text/html": [
       "<div>\n",
       "<style scoped>\n",
       "    .dataframe tbody tr th:only-of-type {\n",
       "        vertical-align: middle;\n",
       "    }\n",
       "\n",
       "    .dataframe tbody tr th {\n",
       "        vertical-align: top;\n",
       "    }\n",
       "\n",
       "    .dataframe thead th {\n",
       "        text-align: right;\n",
       "    }\n",
       "</style>\n",
       "<table border=\"1\" class=\"dataframe\">\n",
       "  <thead>\n",
       "    <tr style=\"text-align: right;\">\n",
       "      <th></th>\n",
       "      <th>group</th>\n",
       "      <th>students</th>\n",
       "      <th>checks</th>\n",
       "      <th>CR</th>\n",
       "      <th>rev</th>\n",
       "      <th>ARPPU</th>\n",
       "      <th>ARPU</th>\n",
       "    </tr>\n",
       "  </thead>\n",
       "  <tbody>\n",
       "    <tr>\n",
       "      <th>0</th>\n",
       "      <td>A</td>\n",
       "      <td>1538</td>\n",
       "      <td>78.0</td>\n",
       "      <td>5.1</td>\n",
       "      <td>72820.0000</td>\n",
       "      <td>933.6</td>\n",
       "      <td>47.3</td>\n",
       "    </tr>\n",
       "    <tr>\n",
       "      <th>1</th>\n",
       "      <td>B</td>\n",
       "      <td>6803</td>\n",
       "      <td>314.0</td>\n",
       "      <td>4.6</td>\n",
       "      <td>394974.0035</td>\n",
       "      <td>1257.9</td>\n",
       "      <td>58.1</td>\n",
       "    </tr>\n",
       "  </tbody>\n",
       "</table>\n",
       "</div>"
      ],
      "text/plain": [
       "  group  students  checks   CR          rev   ARPPU  ARPU\n",
       "0     A      1538    78.0  5.1   72820.0000   933.6  47.3\n",
       "1     B      6803   314.0  4.6  394974.0035  1257.9  58.1"
      ]
     },
     "execution_count": 36,
     "metadata": {},
     "output_type": "execute_result"
    }
   ],
   "source": [
    "df = calculate_metrics(groups, group_add, active_studs, checks)\n",
    "df"
   ]
  },
  {
   "cell_type": "markdown",
   "metadata": {
    "id": "2Q0KWqzEouPg"
   },
   "source": [
    "### **3.2**\n",
    "Реализуйте функцию, которая будет строить графики по получаемым метрикам."
   ]
  },
  {
   "cell_type": "code",
   "execution_count": null,
   "metadata": {
    "id": "DA47icItouPg"
   },
   "outputs": [],
   "source": [
    "def plotting(df):\n",
    "    '''Функция строит графики по подсчитанным метрикам'''\n",
    "\n",
    "    sns.set_theme(style = 'darkgrid')\n",
    "    fig, axs = plt.subplots(ncols = 3, figsize = (20, 9))\n",
    "\n",
    "    sns.barplot(x = \"group\", y = \"CR\", data = df, ax = axs[0]).set_title('CR', fontsize=12, fontweight = 'bold')\n",
    "    sns.barplot(x = \"group\", y = \"ARPU\", data = df, ax = axs[1]).set_title('ARPU', fontsize=12, fontweight = 'bold')\n",
    "    sns.barplot(x = \"group\", y = \"ARPPU\", data = df, ax = axs[2]).set_title('ARPPU', fontsize=12, fontweight = 'bold')\n",
    "    fig.show()"
   ]
  },
  {
   "cell_type": "code",
   "execution_count": null,
   "metadata": {
    "id": "mKi2rpr3ouPh",
    "outputId": "6ef95003-acbe-40f5-eb32-9e84dfa3d5f7"
   },
   "outputs": [
    {
     "data": {
      "image/png": "[encoded data removed]",
      "text/plain": [
       "<Figure size 1440x648 with 3 Axes>"
      ]
     },
     "metadata": {},
     "output_type": "display_data"
    }
   ],
   "source": [
    "plotting(df)"
   ]
  }
 ],
 "metadata": {
  "colab": {
   "provenance": []
  },
  "kernelspec": {
   "display_name": "Python 3 (ipykernel)",
   "language": "python",
   "name": "python3"
  },
  "language_info": {
   "codemirror_mode": {
    "name": "ipython",
    "version": 3
   },
   "file_extension": ".py",
   "mimetype": "text/x-python",
   "name": "python",
   "nbconvert_exporter": "python",
   "pygments_lexer": "ipython3",
   "version": "3.9.13"
  }
 },
 "nbformat": 4,
 "nbformat_minor": 1
}
