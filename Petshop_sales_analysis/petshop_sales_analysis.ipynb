{
 "cells": [
  {
   "cell_type": "markdown",
   "metadata": {
    "id": "7snlEWSQhSP4"
   },
   "source": [
    "## **Overview**"
   ]
  },
  {
   "cell_type": "markdown",
   "metadata": {
    "id": "8GYdaQ5FiLBg"
   },
   "source": [
    "PetMind is a retailer of products for pets. They are based in the United States.\n",
    "PetMind sells products that are a mix of luxury items and everyday items. Luxury items include\n",
    "toys. Everyday items include food.\n",
    "The company wants to increase sales by selling more everyday products repeatedly.\n",
    "They have been testing this approach for the last year.\n",
    "They now want a report on how repeat purchases impact sales."
   ]
  },
  {
   "cell_type": "markdown",
   "metadata": {
    "id": "jM2EgYblj21C"
   },
   "source": [
    "**Data description**\n",
    "\n",
    "* **product_id**. Nominal. The unique identifier of the product.\n",
    "Missing values are not possible due to the database structure.\n",
    "\n",
    "* **category**. Nominal. The category of the product, one of 6 values (Housing,\n",
    "Food, Toys, Equipment, Medicine, Accessory).\n",
    "Missing values should be replaced with “Unknown”.\n",
    "\n",
    "* **animal**. Nominal. The type of animal the product is for. One of Dog, Cat,\n",
    "Fish, Bird.\n",
    "Missing values should be replaced with “Unknown”.\n",
    "\n",
    "* **size**. Ordinal. The size of animal the product is for. Small, Medium,\n",
    "Large.\n",
    "Missing values should be replaced with “Unknown”.\n",
    "\n",
    "* **price**. Continuous. The price the product is sold at. Can be any positive\n",
    "value, round to 2 decimal places.\n",
    "Missing values should be replaced with the overall median price.\n",
    "\n",
    "* **sales**. Continuous. The value of all sales of the product in the last year.\n",
    "This can be any positive value, rounded to 2 decimal places\n",
    "Missing values should be replaced with the overall median sales.\n",
    "\n",
    "* **rating**. Discrete. Customer rating of the product from 1 to 10.\n",
    "Missing values should be replaced with 0.\n",
    "\n",
    "* **repeat_purchase**. Nominal. Whether customers repeatedly buy the product (1) or not (0). Missing values should be removed.\n"
   ]
  },
  {
   "cell_type": "markdown",
   "metadata": {
    "id": "LJSdPW5QxteJ"
   },
   "source": [
    "## **Tasks**\n",
    "\n",
    "Submit your answers directly in the workspace provided.\n",
    "\n",
    "1. For every column in the data:\n",
    "  * State whether the values match the description given in the table above.\n",
    "  * State the number of missing values in the column.\n",
    "  * Describe what you did to make values match the description if they did not match.\n",
    "\n",
    "2. Create a visualization that shows how many products are repeat purchases. Use the visualization to:\n",
    "  * State which category of the variable repeat purchases has the most observations\n",
    "  * Explain whether the observations are balanced across categories of the\n",
    "variable repeat purchases\n",
    "\n",
    "3. Describe the distribution of all of the sales. Your answer must include a visualization that shows the distribution.\n",
    "\n",
    "4. Describe the relationship between repeat purchases and sales. Your answer must include a visualization to demonstrate the relationship."
   ]
  },
  {
   "cell_type": "markdown",
   "metadata": {
    "id": "E4TKIbv_mDH7"
   },
   "source": [
    "# **1. Data cleaning**\n",
    "\n",
    "For every column in the data:\n",
    "\n",
    "  * State whether the values match the description given in the table above.\n",
    "\n",
    "  * State the number of missing values in the column.\n",
    "\n",
    "  * Describe what you did to make values match the description if they did not\n",
    "match.\n"
   ]
  },
  {
   "cell_type": "code",
   "execution_count": null,
   "metadata": {
    "id": "8lyHlfo4h_lv"
   },
   "outputs": [],
   "source": [
    "import pandas as pd"
   ]
  },
  {
   "cell_type": "code",
   "execution_count": null,
   "metadata": {
    "id": "io8TzdCri-6O"
   },
   "outputs": [],
   "source": [
    "data = pd.read_csv('pet_supplies_2212.csv')"
   ]
  },
  {
   "cell_type": "code",
   "execution_count": null,
   "metadata": {
    "colab": {
     "base_uri": "https://localhost:8080/"
    },
    "id": "QKiI1cw2mQw4",
    "outputId": "1ca1a85a-e926-4dc1-b1a4-2800774343f8"
   },
   "outputs": [
    {
     "data": {
      "text/plain": [
       "(1500, 8)"
      ]
     },
     "execution_count": 4,
     "metadata": {},
     "output_type": "execute_result"
    }
   ],
   "source": [
    "data.shape"
   ]
  },
  {
   "cell_type": "code",
   "execution_count": null,
   "metadata": {
    "colab": {
     "base_uri": "https://localhost:8080/",
     "height": 206
    },
    "id": "LS9RWdDajJa4",
    "outputId": "70d20ece-d94a-406a-fb31-577723adfcb2"
   },
   "outputs": [
    {
     "data": {
      "text/html": [
       "\n",
       "  <div id=\"df-3001aa24-9a30-4b77-8564-d32bee9e4b75\">\n",
       "    <div class=\"colab-df-container\">\n",
       "      <div>\n",
       "<style scoped>\n",
       "    .dataframe tbody tr th:only-of-type {\n",
       "        vertical-align: middle;\n",
       "    }\n",
       "\n",
       "    .dataframe tbody tr th {\n",
       "        vertical-align: top;\n",
       "    }\n",
       "\n",
       "    .dataframe thead th {\n",
       "        text-align: right;\n",
       "    }\n",
       "</style>\n",
       "<table border=\"1\" class=\"dataframe\">\n",
       "  <thead>\n",
       "    <tr style=\"text-align: right;\">\n",
       "      <th></th>\n",
       "      <th>product_id</th>\n",
       "      <th>category</th>\n",
       "      <th>animal</th>\n",
       "      <th>size</th>\n",
       "      <th>price</th>\n",
       "      <th>sales</th>\n",
       "      <th>rating</th>\n",
       "      <th>repeat_purchase</th>\n",
       "    </tr>\n",
       "  </thead>\n",
       "  <tbody>\n",
       "    <tr>\n",
       "      <th>0</th>\n",
       "      <td>1</td>\n",
       "      <td>Food</td>\n",
       "      <td>Bird</td>\n",
       "      <td>large</td>\n",
       "      <td>51.1</td>\n",
       "      <td>1860.62</td>\n",
       "      <td>7.0</td>\n",
       "      <td>1</td>\n",
       "    </tr>\n",
       "    <tr>\n",
       "      <th>1</th>\n",
       "      <td>2</td>\n",
       "      <td>Housing</td>\n",
       "      <td>Bird</td>\n",
       "      <td>MEDIUM</td>\n",
       "      <td>35.98</td>\n",
       "      <td>963.60</td>\n",
       "      <td>6.0</td>\n",
       "      <td>0</td>\n",
       "    </tr>\n",
       "    <tr>\n",
       "      <th>2</th>\n",
       "      <td>3</td>\n",
       "      <td>Food</td>\n",
       "      <td>Dog</td>\n",
       "      <td>medium</td>\n",
       "      <td>31.23</td>\n",
       "      <td>898.30</td>\n",
       "      <td>5.0</td>\n",
       "      <td>1</td>\n",
       "    </tr>\n",
       "    <tr>\n",
       "      <th>3</th>\n",
       "      <td>4</td>\n",
       "      <td>Medicine</td>\n",
       "      <td>Cat</td>\n",
       "      <td>small</td>\n",
       "      <td>24.95</td>\n",
       "      <td>982.15</td>\n",
       "      <td>6.0</td>\n",
       "      <td>1</td>\n",
       "    </tr>\n",
       "    <tr>\n",
       "      <th>4</th>\n",
       "      <td>5</td>\n",
       "      <td>Housing</td>\n",
       "      <td>Cat</td>\n",
       "      <td>Small</td>\n",
       "      <td>26.18</td>\n",
       "      <td>832.63</td>\n",
       "      <td>7.0</td>\n",
       "      <td>1</td>\n",
       "    </tr>\n",
       "  </tbody>\n",
       "</table>\n",
       "</div>\n",
       "      <button class=\"colab-df-convert\" onclick=\"convertToInteractive('df-3001aa24-9a30-4b77-8564-d32bee9e4b75')\"\n",
       "              title=\"Convert this dataframe to an interactive table.\"\n",
       "              style=\"display:none;\">\n",
       "        \n",
       "  <svg xmlns=\"http://www.w3.org/2000/svg\" height=\"24px\"viewBox=\"0 0 24 24\"\n",
       "       width=\"24px\">\n",
       "    <path d=\"M0 0h24v24H0V0z\" fill=\"none\"/>\n",
       "    <path d=\"M18.56 5.44l.94 2.06.94-2.06 2.06-.94-2.06-.94-.94-2.06-.94 2.06-2.06.94zm-11 1L8.5 8.5l.94-2.06 2.06-.94-2.06-.94L8.5 2.5l-.94 2.06-2.06.94zm10 10l.94 2.06.94-2.06 2.06-.94-2.06-.94-.94-2.06-.94 2.06-2.06.94z\"/><path d=\"M17.41 7.96l-1.37-1.37c-.4-.4-.92-.59-1.43-.59-.52 0-1.04.2-1.43.59L10.3 9.45l-7.72 7.72c-.78.78-.78 2.05 0 2.83L4 21.41c.39.39.9.59 1.41.59.51 0 1.02-.2 1.41-.59l7.78-7.78 2.81-2.81c.8-.78.8-2.07 0-2.86zM5.41 20L4 18.59l7.72-7.72 1.47 1.35L5.41 20z\"/>\n",
       "  </svg>\n",
       "      </button>\n",
       "      \n",
       "  <style>\n",
       "    .colab-df-container {\n",
       "      display:flex;\n",
       "      flex-wrap:wrap;\n",
       "      gap: 12px;\n",
       "    }\n",
       "\n",
       "    .colab-df-convert {\n",
       "      background-color: #E8F0FE;\n",
       "      border: none;\n",
       "      border-radius: 50%;\n",
       "      cursor: pointer;\n",
       "      display: none;\n",
       "      fill: #1967D2;\n",
       "      height: 32px;\n",
       "      padding: 0 0 0 0;\n",
       "      width: 32px;\n",
       "    }\n",
       "\n",
       "    .colab-df-convert:hover {\n",
       "      background-color: #E2EBFA;\n",
       "      box-shadow: 0px 1px 2px rgba(60, 64, 67, 0.3), 0px 1px 3px 1px rgba(60, 64, 67, 0.15);\n",
       "      fill: #174EA6;\n",
       "    }\n",
       "\n",
       "    [theme=dark] .colab-df-convert {\n",
       "      background-color: #3B4455;\n",
       "      fill: #D2E3FC;\n",
       "    }\n",
       "\n",
       "    [theme=dark] .colab-df-convert:hover {\n",
       "      background-color: #434B5C;\n",
       "      box-shadow: 0px 1px 3px 1px rgba(0, 0, 0, 0.15);\n",
       "      filter: drop-shadow(0px 1px 2px rgba(0, 0, 0, 0.3));\n",
       "      fill: #FFFFFF;\n",
       "    }\n",
       "  </style>\n",
       "\n",
       "      <script>\n",
       "        const buttonEl =\n",
       "          document.querySelector('#df-3001aa24-9a30-4b77-8564-d32bee9e4b75 button.colab-df-convert');\n",
       "        buttonEl.style.display =\n",
       "          google.colab.kernel.accessAllowed ? 'block' : 'none';\n",
       "\n",
       "        async function convertToInteractive(key) {\n",
       "          const element = document.querySelector('#df-3001aa24-9a30-4b77-8564-d32bee9e4b75');\n",
       "          const dataTable =\n",
       "            await google.colab.kernel.invokeFunction('convertToInteractive',\n",
       "                                                     [key], {});\n",
       "          if (!dataTable) return;\n",
       "\n",
       "          const docLinkHtml = 'Like what you see? Visit the ' +\n",
       "            '<a target=\"_blank\" href=https://colab.research.google.com/notebooks/data_table.ipynb>data table notebook</a>'\n",
       "            + ' to learn more about interactive tables.';\n",
       "          element.innerHTML = '';\n",
       "          dataTable['output_type'] = 'display_data';\n",
       "          await google.colab.output.renderOutput(dataTable, element);\n",
       "          const docLink = document.createElement('div');\n",
       "          docLink.innerHTML = docLinkHtml;\n",
       "          element.appendChild(docLink);\n",
       "        }\n",
       "      </script>\n",
       "    </div>\n",
       "  </div>\n",
       "  "
      ],
      "text/plain": [
       "   product_id  category animal    size  price    sales  rating  \\\n",
       "0           1      Food   Bird   large   51.1  1860.62     7.0   \n",
       "1           2   Housing   Bird  MEDIUM  35.98   963.60     6.0   \n",
       "2           3      Food    Dog  medium  31.23   898.30     5.0   \n",
       "3           4  Medicine    Cat   small  24.95   982.15     6.0   \n",
       "4           5   Housing    Cat   Small  26.18   832.63     7.0   \n",
       "\n",
       "   repeat_purchase  \n",
       "0                1  \n",
       "1                0  \n",
       "2                1  \n",
       "3                1  \n",
       "4                1  "
      ]
     },
     "execution_count": 5,
     "metadata": {},
     "output_type": "execute_result"
    }
   ],
   "source": [
    "data.head()"
   ]
  },
  {
   "cell_type": "code",
   "execution_count": null,
   "metadata": {
    "colab": {
     "base_uri": "https://localhost:8080/",
     "height": 206
    },
    "id": "jzBhDEEOjTHe",
    "outputId": "d4908696-fc96-4ade-f39d-b31e0382df49"
   },
   "outputs": [
    {
     "data": {
      "text/html": [
       "\n",
       "  <div id=\"df-2634c3a8-2613-4ebd-bd38-1d57a0bf3986\">\n",
       "    <div class=\"colab-df-container\">\n",
       "      <div>\n",
       "<style scoped>\n",
       "    .dataframe tbody tr th:only-of-type {\n",
       "        vertical-align: middle;\n",
       "    }\n",
       "\n",
       "    .dataframe tbody tr th {\n",
       "        vertical-align: top;\n",
       "    }\n",
       "\n",
       "    .dataframe thead th {\n",
       "        text-align: right;\n",
       "    }\n",
       "</style>\n",
       "<table border=\"1\" class=\"dataframe\">\n",
       "  <thead>\n",
       "    <tr style=\"text-align: right;\">\n",
       "      <th></th>\n",
       "      <th>product_id</th>\n",
       "      <th>category</th>\n",
       "      <th>animal</th>\n",
       "      <th>size</th>\n",
       "      <th>price</th>\n",
       "      <th>sales</th>\n",
       "      <th>rating</th>\n",
       "      <th>repeat_purchase</th>\n",
       "    </tr>\n",
       "  </thead>\n",
       "  <tbody>\n",
       "    <tr>\n",
       "      <th>1495</th>\n",
       "      <td>1496</td>\n",
       "      <td>Food</td>\n",
       "      <td>Bird</td>\n",
       "      <td>medium</td>\n",
       "      <td>40.91</td>\n",
       "      <td>1203.36</td>\n",
       "      <td>5.0</td>\n",
       "      <td>0</td>\n",
       "    </tr>\n",
       "    <tr>\n",
       "      <th>1496</th>\n",
       "      <td>1497</td>\n",
       "      <td>Equipment</td>\n",
       "      <td>Dog</td>\n",
       "      <td>small</td>\n",
       "      <td>32.89</td>\n",
       "      <td>1099.97</td>\n",
       "      <td>5.0</td>\n",
       "      <td>0</td>\n",
       "    </tr>\n",
       "    <tr>\n",
       "      <th>1497</th>\n",
       "      <td>1498</td>\n",
       "      <td>Food</td>\n",
       "      <td>Fish</td>\n",
       "      <td>Small</td>\n",
       "      <td>25.79</td>\n",
       "      <td>724.02</td>\n",
       "      <td>3.0</td>\n",
       "      <td>0</td>\n",
       "    </tr>\n",
       "    <tr>\n",
       "      <th>1498</th>\n",
       "      <td>1499</td>\n",
       "      <td>Medicine</td>\n",
       "      <td>Fish</td>\n",
       "      <td>small</td>\n",
       "      <td>19.94</td>\n",
       "      <td>658.66</td>\n",
       "      <td>5.0</td>\n",
       "      <td>1</td>\n",
       "    </tr>\n",
       "    <tr>\n",
       "      <th>1499</th>\n",
       "      <td>1500</td>\n",
       "      <td>Food</td>\n",
       "      <td>Cat</td>\n",
       "      <td>Medium</td>\n",
       "      <td>25.95</td>\n",
       "      <td>826.08</td>\n",
       "      <td>4.0</td>\n",
       "      <td>1</td>\n",
       "    </tr>\n",
       "  </tbody>\n",
       "</table>\n",
       "</div>\n",
       "      <button class=\"colab-df-convert\" onclick=\"convertToInteractive('df-2634c3a8-2613-4ebd-bd38-1d57a0bf3986')\"\n",
       "              title=\"Convert this dataframe to an interactive table.\"\n",
       "              style=\"display:none;\">\n",
       "        \n",
       "  <svg xmlns=\"http://www.w3.org/2000/svg\" height=\"24px\"viewBox=\"0 0 24 24\"\n",
       "       width=\"24px\">\n",
       "    <path d=\"M0 0h24v24H0V0z\" fill=\"none\"/>\n",
       "    <path d=\"M18.56 5.44l.94 2.06.94-2.06 2.06-.94-2.06-.94-.94-2.06-.94 2.06-2.06.94zm-11 1L8.5 8.5l.94-2.06 2.06-.94-2.06-.94L8.5 2.5l-.94 2.06-2.06.94zm10 10l.94 2.06.94-2.06 2.06-.94-2.06-.94-.94-2.06-.94 2.06-2.06.94z\"/><path d=\"M17.41 7.96l-1.37-1.37c-.4-.4-.92-.59-1.43-.59-.52 0-1.04.2-1.43.59L10.3 9.45l-7.72 7.72c-.78.78-.78 2.05 0 2.83L4 21.41c.39.39.9.59 1.41.59.51 0 1.02-.2 1.41-.59l7.78-7.78 2.81-2.81c.8-.78.8-2.07 0-2.86zM5.41 20L4 18.59l7.72-7.72 1.47 1.35L5.41 20z\"/>\n",
       "  </svg>\n",
       "      </button>\n",
       "      \n",
       "  <style>\n",
       "    .colab-df-container {\n",
       "      display:flex;\n",
       "      flex-wrap:wrap;\n",
       "      gap: 12px;\n",
       "    }\n",
       "\n",
       "    .colab-df-convert {\n",
       "      background-color: #E8F0FE;\n",
       "      border: none;\n",
       "      border-radius: 50%;\n",
       "      cursor: pointer;\n",
       "      display: none;\n",
       "      fill: #1967D2;\n",
       "      height: 32px;\n",
       "      padding: 0 0 0 0;\n",
       "      width: 32px;\n",
       "    }\n",
       "\n",
       "    .colab-df-convert:hover {\n",
       "      background-color: #E2EBFA;\n",
       "      box-shadow: 0px 1px 2px rgba(60, 64, 67, 0.3), 0px 1px 3px 1px rgba(60, 64, 67, 0.15);\n",
       "      fill: #174EA6;\n",
       "    }\n",
       "\n",
       "    [theme=dark] .colab-df-convert {\n",
       "      background-color: #3B4455;\n",
       "      fill: #D2E3FC;\n",
       "    }\n",
       "\n",
       "    [theme=dark] .colab-df-convert:hover {\n",
       "      background-color: #434B5C;\n",
       "      box-shadow: 0px 1px 3px 1px rgba(0, 0, 0, 0.15);\n",
       "      filter: drop-shadow(0px 1px 2px rgba(0, 0, 0, 0.3));\n",
       "      fill: #FFFFFF;\n",
       "    }\n",
       "  </style>\n",
       "\n",
       "      <script>\n",
       "        const buttonEl =\n",
       "          document.querySelector('#df-2634c3a8-2613-4ebd-bd38-1d57a0bf3986 button.colab-df-convert');\n",
       "        buttonEl.style.display =\n",
       "          google.colab.kernel.accessAllowed ? 'block' : 'none';\n",
       "\n",
       "        async function convertToInteractive(key) {\n",
       "          const element = document.querySelector('#df-2634c3a8-2613-4ebd-bd38-1d57a0bf3986');\n",
       "          const dataTable =\n",
       "            await google.colab.kernel.invokeFunction('convertToInteractive',\n",
       "                                                     [key], {});\n",
       "          if (!dataTable) return;\n",
       "\n",
       "          const docLinkHtml = 'Like what you see? Visit the ' +\n",
       "            '<a target=\"_blank\" href=https://colab.research.google.com/notebooks/data_table.ipynb>data table notebook</a>'\n",
       "            + ' to learn more about interactive tables.';\n",
       "          element.innerHTML = '';\n",
       "          dataTable['output_type'] = 'display_data';\n",
       "          await google.colab.output.renderOutput(dataTable, element);\n",
       "          const docLink = document.createElement('div');\n",
       "          docLink.innerHTML = docLinkHtml;\n",
       "          element.appendChild(docLink);\n",
       "        }\n",
       "      </script>\n",
       "    </div>\n",
       "  </div>\n",
       "  "
      ],
      "text/plain": [
       "      product_id   category animal    size  price    sales  rating  \\\n",
       "1495        1496       Food   Bird  medium  40.91  1203.36     5.0   \n",
       "1496        1497  Equipment    Dog   small  32.89  1099.97     5.0   \n",
       "1497        1498       Food   Fish   Small  25.79   724.02     3.0   \n",
       "1498        1499   Medicine   Fish   small  19.94   658.66     5.0   \n",
       "1499        1500       Food    Cat  Medium  25.95   826.08     4.0   \n",
       "\n",
       "      repeat_purchase  \n",
       "1495                0  \n",
       "1496                0  \n",
       "1497                0  \n",
       "1498                1  \n",
       "1499                1  "
      ]
     },
     "execution_count": 6,
     "metadata": {},
     "output_type": "execute_result"
    }
   ],
   "source": [
    "data.tail()"
   ]
  },
  {
   "cell_type": "code",
   "execution_count": null,
   "metadata": {
    "colab": {
     "base_uri": "https://localhost:8080/"
    },
    "id": "RobYkMdbjQaJ",
    "outputId": "c4b5aa88-ea6e-4e2f-f78f-a82f32a8a137"
   },
   "outputs": [
    {
     "name": "stdout",
     "output_type": "stream",
     "text": [
      "<class 'pandas.core.frame.DataFrame'>\n",
      "RangeIndex: 1500 entries, 0 to 1499\n",
      "Data columns (total 8 columns):\n",
      " #   Column           Non-Null Count  Dtype  \n",
      "---  ------           --------------  -----  \n",
      " 0   product_id       1500 non-null   int64  \n",
      " 1   category         1500 non-null   object \n",
      " 2   animal           1500 non-null   object \n",
      " 3   size             1500 non-null   object \n",
      " 4   price            1500 non-null   object \n",
      " 5   sales            1500 non-null   float64\n",
      " 6   rating           1350 non-null   float64\n",
      " 7   repeat_purchase  1500 non-null   int64  \n",
      "dtypes: float64(2), int64(2), object(4)\n",
      "memory usage: 93.9+ KB\n"
     ]
    }
   ],
   "source": [
    "data.info()"
   ]
  },
  {
   "cell_type": "code",
   "execution_count": null,
   "metadata": {
    "colab": {
     "base_uri": "https://localhost:8080/",
     "height": 394
    },
    "id": "u7qOtLDCjZHv",
    "outputId": "58b03852-9ba1-49ca-aa5b-3b9debfb185e"
   },
   "outputs": [
    {
     "data": {
      "text/html": [
       "\n",
       "  <div id=\"df-1db9b5d9-5c18-40f6-93a4-05fe82417cdb\">\n",
       "    <div class=\"colab-df-container\">\n",
       "      <div>\n",
       "<style scoped>\n",
       "    .dataframe tbody tr th:only-of-type {\n",
       "        vertical-align: middle;\n",
       "    }\n",
       "\n",
       "    .dataframe tbody tr th {\n",
       "        vertical-align: top;\n",
       "    }\n",
       "\n",
       "    .dataframe thead th {\n",
       "        text-align: right;\n",
       "    }\n",
       "</style>\n",
       "<table border=\"1\" class=\"dataframe\">\n",
       "  <thead>\n",
       "    <tr style=\"text-align: right;\">\n",
       "      <th></th>\n",
       "      <th>product_id</th>\n",
       "      <th>category</th>\n",
       "      <th>animal</th>\n",
       "      <th>size</th>\n",
       "      <th>price</th>\n",
       "      <th>sales</th>\n",
       "      <th>rating</th>\n",
       "      <th>repeat_purchase</th>\n",
       "    </tr>\n",
       "  </thead>\n",
       "  <tbody>\n",
       "    <tr>\n",
       "      <th>count</th>\n",
       "      <td>1500.000000</td>\n",
       "      <td>1500</td>\n",
       "      <td>1500</td>\n",
       "      <td>1500</td>\n",
       "      <td>1500</td>\n",
       "      <td>1500.000000</td>\n",
       "      <td>1350.000000</td>\n",
       "      <td>1500.000000</td>\n",
       "    </tr>\n",
       "    <tr>\n",
       "      <th>unique</th>\n",
       "      <td>NaN</td>\n",
       "      <td>7</td>\n",
       "      <td>4</td>\n",
       "      <td>9</td>\n",
       "      <td>707</td>\n",
       "      <td>NaN</td>\n",
       "      <td>NaN</td>\n",
       "      <td>NaN</td>\n",
       "    </tr>\n",
       "    <tr>\n",
       "      <th>top</th>\n",
       "      <td>NaN</td>\n",
       "      <td>Equipment</td>\n",
       "      <td>Cat</td>\n",
       "      <td>small</td>\n",
       "      <td>unlisted</td>\n",
       "      <td>NaN</td>\n",
       "      <td>NaN</td>\n",
       "      <td>NaN</td>\n",
       "    </tr>\n",
       "    <tr>\n",
       "      <th>freq</th>\n",
       "      <td>NaN</td>\n",
       "      <td>370</td>\n",
       "      <td>567</td>\n",
       "      <td>372</td>\n",
       "      <td>150</td>\n",
       "      <td>NaN</td>\n",
       "      <td>NaN</td>\n",
       "      <td>NaN</td>\n",
       "    </tr>\n",
       "    <tr>\n",
       "      <th>mean</th>\n",
       "      <td>750.500000</td>\n",
       "      <td>NaN</td>\n",
       "      <td>NaN</td>\n",
       "      <td>NaN</td>\n",
       "      <td>NaN</td>\n",
       "      <td>996.597847</td>\n",
       "      <td>4.991111</td>\n",
       "      <td>0.604000</td>\n",
       "    </tr>\n",
       "    <tr>\n",
       "      <th>std</th>\n",
       "      <td>433.157015</td>\n",
       "      <td>NaN</td>\n",
       "      <td>NaN</td>\n",
       "      <td>NaN</td>\n",
       "      <td>NaN</td>\n",
       "      <td>323.952676</td>\n",
       "      <td>1.559755</td>\n",
       "      <td>0.489228</td>\n",
       "    </tr>\n",
       "    <tr>\n",
       "      <th>min</th>\n",
       "      <td>1.000000</td>\n",
       "      <td>NaN</td>\n",
       "      <td>NaN</td>\n",
       "      <td>NaN</td>\n",
       "      <td>NaN</td>\n",
       "      <td>286.940000</td>\n",
       "      <td>1.000000</td>\n",
       "      <td>0.000000</td>\n",
       "    </tr>\n",
       "    <tr>\n",
       "      <th>25%</th>\n",
       "      <td>375.750000</td>\n",
       "      <td>NaN</td>\n",
       "      <td>NaN</td>\n",
       "      <td>NaN</td>\n",
       "      <td>NaN</td>\n",
       "      <td>747.420000</td>\n",
       "      <td>4.000000</td>\n",
       "      <td>0.000000</td>\n",
       "    </tr>\n",
       "    <tr>\n",
       "      <th>50%</th>\n",
       "      <td>750.500000</td>\n",
       "      <td>NaN</td>\n",
       "      <td>NaN</td>\n",
       "      <td>NaN</td>\n",
       "      <td>NaN</td>\n",
       "      <td>1000.830000</td>\n",
       "      <td>5.000000</td>\n",
       "      <td>1.000000</td>\n",
       "    </tr>\n",
       "    <tr>\n",
       "      <th>75%</th>\n",
       "      <td>1125.250000</td>\n",
       "      <td>NaN</td>\n",
       "      <td>NaN</td>\n",
       "      <td>NaN</td>\n",
       "      <td>NaN</td>\n",
       "      <td>1158.157500</td>\n",
       "      <td>6.000000</td>\n",
       "      <td>1.000000</td>\n",
       "    </tr>\n",
       "    <tr>\n",
       "      <th>max</th>\n",
       "      <td>1500.000000</td>\n",
       "      <td>NaN</td>\n",
       "      <td>NaN</td>\n",
       "      <td>NaN</td>\n",
       "      <td>NaN</td>\n",
       "      <td>2255.960000</td>\n",
       "      <td>9.000000</td>\n",
       "      <td>1.000000</td>\n",
       "    </tr>\n",
       "  </tbody>\n",
       "</table>\n",
       "</div>\n",
       "      <button class=\"colab-df-convert\" onclick=\"convertToInteractive('df-1db9b5d9-5c18-40f6-93a4-05fe82417cdb')\"\n",
       "              title=\"Convert this dataframe to an interactive table.\"\n",
       "              style=\"display:none;\">\n",
       "        \n",
       "  <svg xmlns=\"http://www.w3.org/2000/svg\" height=\"24px\"viewBox=\"0 0 24 24\"\n",
       "       width=\"24px\">\n",
       "    <path d=\"M0 0h24v24H0V0z\" fill=\"none\"/>\n",
       "    <path d=\"M18.56 5.44l.94 2.06.94-2.06 2.06-.94-2.06-.94-.94-2.06-.94 2.06-2.06.94zm-11 1L8.5 8.5l.94-2.06 2.06-.94-2.06-.94L8.5 2.5l-.94 2.06-2.06.94zm10 10l.94 2.06.94-2.06 2.06-.94-2.06-.94-.94-2.06-.94 2.06-2.06.94z\"/><path d=\"M17.41 7.96l-1.37-1.37c-.4-.4-.92-.59-1.43-.59-.52 0-1.04.2-1.43.59L10.3 9.45l-7.72 7.72c-.78.78-.78 2.05 0 2.83L4 21.41c.39.39.9.59 1.41.59.51 0 1.02-.2 1.41-.59l7.78-7.78 2.81-2.81c.8-.78.8-2.07 0-2.86zM5.41 20L4 18.59l7.72-7.72 1.47 1.35L5.41 20z\"/>\n",
       "  </svg>\n",
       "      </button>\n",
       "      \n",
       "  <style>\n",
       "    .colab-df-container {\n",
       "      display:flex;\n",
       "      flex-wrap:wrap;\n",
       "      gap: 12px;\n",
       "    }\n",
       "\n",
       "    .colab-df-convert {\n",
       "      background-color: #E8F0FE;\n",
       "      border: none;\n",
       "      border-radius: 50%;\n",
       "      cursor: pointer;\n",
       "      display: none;\n",
       "      fill: #1967D2;\n",
       "      height: 32px;\n",
       "      padding: 0 0 0 0;\n",
       "      width: 32px;\n",
       "    }\n",
       "\n",
       "    .colab-df-convert:hover {\n",
       "      background-color: #E2EBFA;\n",
       "      box-shadow: 0px 1px 2px rgba(60, 64, 67, 0.3), 0px 1px 3px 1px rgba(60, 64, 67, 0.15);\n",
       "      fill: #174EA6;\n",
       "    }\n",
       "\n",
       "    [theme=dark] .colab-df-convert {\n",
       "      background-color: #3B4455;\n",
       "      fill: #D2E3FC;\n",
       "    }\n",
       "\n",
       "    [theme=dark] .colab-df-convert:hover {\n",
       "      background-color: #434B5C;\n",
       "      box-shadow: 0px 1px 3px 1px rgba(0, 0, 0, 0.15);\n",
       "      filter: drop-shadow(0px 1px 2px rgba(0, 0, 0, 0.3));\n",
       "      fill: #FFFFFF;\n",
       "    }\n",
       "  </style>\n",
       "\n",
       "      <script>\n",
       "        const buttonEl =\n",
       "          document.querySelector('#df-1db9b5d9-5c18-40f6-93a4-05fe82417cdb button.colab-df-convert');\n",
       "        buttonEl.style.display =\n",
       "          google.colab.kernel.accessAllowed ? 'block' : 'none';\n",
       "\n",
       "        async function convertToInteractive(key) {\n",
       "          const element = document.querySelector('#df-1db9b5d9-5c18-40f6-93a4-05fe82417cdb');\n",
       "          const dataTable =\n",
       "            await google.colab.kernel.invokeFunction('convertToInteractive',\n",
       "                                                     [key], {});\n",
       "          if (!dataTable) return;\n",
       "\n",
       "          const docLinkHtml = 'Like what you see? Visit the ' +\n",
       "            '<a target=\"_blank\" href=https://colab.research.google.com/notebooks/data_table.ipynb>data table notebook</a>'\n",
       "            + ' to learn more about interactive tables.';\n",
       "          element.innerHTML = '';\n",
       "          dataTable['output_type'] = 'display_data';\n",
       "          await google.colab.output.renderOutput(dataTable, element);\n",
       "          const docLink = document.createElement('div');\n",
       "          docLink.innerHTML = docLinkHtml;\n",
       "          element.appendChild(docLink);\n",
       "        }\n",
       "      </script>\n",
       "    </div>\n",
       "  </div>\n",
       "  "
      ],
      "text/plain": [
       "         product_id   category animal   size     price        sales  \\\n",
       "count   1500.000000       1500   1500   1500      1500  1500.000000   \n",
       "unique          NaN          7      4      9       707          NaN   \n",
       "top             NaN  Equipment    Cat  small  unlisted          NaN   \n",
       "freq            NaN        370    567    372       150          NaN   \n",
       "mean     750.500000        NaN    NaN    NaN       NaN   996.597847   \n",
       "std      433.157015        NaN    NaN    NaN       NaN   323.952676   \n",
       "min        1.000000        NaN    NaN    NaN       NaN   286.940000   \n",
       "25%      375.750000        NaN    NaN    NaN       NaN   747.420000   \n",
       "50%      750.500000        NaN    NaN    NaN       NaN  1000.830000   \n",
       "75%     1125.250000        NaN    NaN    NaN       NaN  1158.157500   \n",
       "max     1500.000000        NaN    NaN    NaN       NaN  2255.960000   \n",
       "\n",
       "             rating  repeat_purchase  \n",
       "count   1350.000000      1500.000000  \n",
       "unique          NaN              NaN  \n",
       "top             NaN              NaN  \n",
       "freq            NaN              NaN  \n",
       "mean       4.991111         0.604000  \n",
       "std        1.559755         0.489228  \n",
       "min        1.000000         0.000000  \n",
       "25%        4.000000         0.000000  \n",
       "50%        5.000000         1.000000  \n",
       "75%        6.000000         1.000000  \n",
       "max        9.000000         1.000000  "
      ]
     },
     "execution_count": 8,
     "metadata": {},
     "output_type": "execute_result"
    }
   ],
   "source": [
    "data.describe(include = \"all\")"
   ]
  },
  {
   "cell_type": "code",
   "execution_count": null,
   "metadata": {
    "id": "qZiedzvJPL2M"
   },
   "outputs": [],
   "source": [
    "data_cleared = data"
   ]
  },
  {
   "cell_type": "markdown",
   "metadata": {
    "id": "1zzbkkRJei0F"
   },
   "source": [
    "**product_id**. The column had 1500 unique values, as expected."
   ]
  },
  {
   "cell_type": "code",
   "execution_count": null,
   "metadata": {
    "id": "9ItkDZQEs3bE"
   },
   "outputs": [],
   "source": [
    "data_cleared['product_id'] = data_cleared['product_id'].astype(object)"
   ]
  },
  {
   "cell_type": "code",
   "execution_count": null,
   "metadata": {
    "colab": {
     "base_uri": "https://localhost:8080/"
    },
    "id": "-9t7dgjRtvQf",
    "outputId": "002d3c20-0270-4dc4-905f-6a87278769a6"
   },
   "outputs": [
    {
     "data": {
      "text/plain": [
       "1500"
      ]
     },
     "execution_count": 11,
     "metadata": {},
     "output_type": "execute_result"
    }
   ],
   "source": [
    "len(data_cleared['product_id'].unique())"
   ]
  },
  {
   "cell_type": "markdown",
   "metadata": {
    "id": "ocScxSB-e10z"
   },
   "source": [
    "**category**. The column had 25 missing values (written as '-'). They were replaced with 'Unknown' according to the condition. The column has 6 unique categories (Housing, Food, Toys, Equipment, Medicine, Accessory) and the category 'Unknown'."
   ]
  },
  {
   "cell_type": "code",
   "execution_count": null,
   "metadata": {
    "colab": {
     "base_uri": "https://localhost:8080/"
    },
    "id": "D0Ho_Pu8nQYl",
    "outputId": "301a9adf-9eb2-4291-947e-b3f49e7ebffa"
   },
   "outputs": [
    {
     "data": {
      "text/plain": [
       "array(['Food', 'Housing', 'Medicine', 'Toys', 'Equipment', 'Accessory',\n",
       "       '-'], dtype=object)"
      ]
     },
     "execution_count": 12,
     "metadata": {},
     "output_type": "execute_result"
    }
   ],
   "source": [
    "data_cleared['category'].unique()"
   ]
  },
  {
   "cell_type": "code",
   "execution_count": null,
   "metadata": {
    "colab": {
     "base_uri": "https://localhost:8080/"
    },
    "id": "5YyMM9MdTiIW",
    "outputId": "bdb89d7f-c9cc-4f85-8f9e-0e19396f2f79"
   },
   "outputs": [
    {
     "data": {
      "text/plain": [
       "25"
      ]
     },
     "execution_count": 13,
     "metadata": {},
     "output_type": "execute_result"
    }
   ],
   "source": [
    "len(data_cleared[data_cleared['category'] == '-'])"
   ]
  },
  {
   "cell_type": "code",
   "execution_count": null,
   "metadata": {
    "id": "yh7RK16qobG8"
   },
   "outputs": [],
   "source": [
    "data_cleared.loc[data_cleared['category'] == '-', 'category'] = 'Unknown'"
   ]
  },
  {
   "cell_type": "code",
   "execution_count": null,
   "metadata": {
    "colab": {
     "base_uri": "https://localhost:8080/"
    },
    "id": "ahmKipgcqBr3",
    "outputId": "e92bea48-0666-4bdf-9e50-cec6a19db503"
   },
   "outputs": [
    {
     "data": {
      "text/plain": [
       "array(['Food', 'Housing', 'Medicine', 'Toys', 'Equipment', 'Accessory',\n",
       "       'Unknown'], dtype=object)"
      ]
     },
     "execution_count": 15,
     "metadata": {},
     "output_type": "execute_result"
    }
   ],
   "source": [
    "data_cleared['category'].unique()"
   ]
  },
  {
   "cell_type": "code",
   "execution_count": null,
   "metadata": {
    "colab": {
     "base_uri": "https://localhost:8080/"
    },
    "id": "iVBq4k1JSdue",
    "outputId": "09d51aa7-a311-4182-a457-6af7e0a37daa"
   },
   "outputs": [
    {
     "data": {
      "text/plain": [
       "1500"
      ]
     },
     "execution_count": 16,
     "metadata": {},
     "output_type": "execute_result"
    }
   ],
   "source": [
    "len(data_cleared['category'])"
   ]
  },
  {
   "cell_type": "markdown",
   "metadata": {
    "id": "Remict2WfETl"
   },
   "source": [
    "**animal**. The values in the column correspond to one of the categories (Dog, Cat, Fish, Bird), there are no missing values."
   ]
  },
  {
   "cell_type": "code",
   "execution_count": null,
   "metadata": {
    "colab": {
     "base_uri": "https://localhost:8080/"
    },
    "id": "Fz0_Nmnmngmr",
    "outputId": "65d046a8-8ac7-4196-8993-463b5d52c0cf"
   },
   "outputs": [
    {
     "data": {
      "text/plain": [
       "array(['Bird', 'Dog', 'Cat', 'Fish'], dtype=object)"
      ]
     },
     "execution_count": 17,
     "metadata": {},
     "output_type": "execute_result"
    }
   ],
   "source": [
    "data_cleared['animal'].unique()"
   ]
  },
  {
   "cell_type": "code",
   "execution_count": null,
   "metadata": {
    "colab": {
     "base_uri": "https://localhost:8080/"
    },
    "id": "VEBBxpKESY6I",
    "outputId": "3eeea302-3809-4241-9867-954c949deb3c"
   },
   "outputs": [
    {
     "data": {
      "text/plain": [
       "1500"
      ]
     },
     "execution_count": 18,
     "metadata": {},
     "output_type": "execute_result"
    }
   ],
   "source": [
    "len(data_cleared['animal'])"
   ]
  },
  {
   "cell_type": "markdown",
   "metadata": {
    "id": "ksJhutHGfMr0"
   },
   "source": [
    "**size**. the column contained different kinds of entries of the same categories (e.g. 'large', 'MEDIUM', 'medium'), so I reduced them to the same format and got three unique categories (Small, Medium, Large), as requested. There are no missing values."
   ]
  },
  {
   "cell_type": "code",
   "execution_count": null,
   "metadata": {
    "colab": {
     "base_uri": "https://localhost:8080/"
    },
    "id": "IpcJn65Snw6t",
    "outputId": "505b5cb4-7b11-4d40-bfe1-1f09d8d196c4"
   },
   "outputs": [
    {
     "data": {
      "text/plain": [
       "array(['large', 'MEDIUM', 'medium', 'small', 'Small', 'Large', 'SMALL',\n",
       "       'Medium', 'LARGE'], dtype=object)"
      ]
     },
     "execution_count": 19,
     "metadata": {},
     "output_type": "execute_result"
    }
   ],
   "source": [
    "data_cleared['size'].unique()"
   ]
  },
  {
   "cell_type": "code",
   "execution_count": null,
   "metadata": {
    "id": "GxzfCx76pZRR"
   },
   "outputs": [],
   "source": [
    "data_cleared['size'] = data_cleared['size'].str.lower()"
   ]
  },
  {
   "cell_type": "code",
   "execution_count": null,
   "metadata": {
    "id": "_lxW4SHiqHVB"
   },
   "outputs": [],
   "source": [
    "data_cleared['size'] = data_cleared['size'].str.capitalize()"
   ]
  },
  {
   "cell_type": "code",
   "execution_count": null,
   "metadata": {
    "colab": {
     "base_uri": "https://localhost:8080/"
    },
    "id": "FusTFOGSp5uF",
    "outputId": "fba794fb-33bc-400a-ef80-6cb979893941"
   },
   "outputs": [
    {
     "data": {
      "text/plain": [
       "array(['Large', 'Medium', 'Small'], dtype=object)"
      ]
     },
     "execution_count": 22,
     "metadata": {},
     "output_type": "execute_result"
    }
   ],
   "source": [
    "data_cleared['size'].unique()"
   ]
  },
  {
   "cell_type": "code",
   "execution_count": null,
   "metadata": {
    "colab": {
     "base_uri": "https://localhost:8080/"
    },
    "id": "oH1QLlwdRx-J",
    "outputId": "b7ad8a34-6712-4d6e-a839-7785b4f969e4"
   },
   "outputs": [
    {
     "data": {
      "text/plain": [
       "1500"
      ]
     },
     "execution_count": 23,
     "metadata": {},
     "output_type": "execute_result"
    }
   ],
   "source": [
    "len(data_cleared['size'])"
   ]
  },
  {
   "cell_type": "markdown",
   "metadata": {
    "id": "RXjP8v96fVKg"
   },
   "source": [
    "**price**. The column contained 150 missing values (written as 'unlisted'). That's why I first replaced them with 0, then converted the column to the necessary format (float, rounded to 2 decimal places), calculated the median and replaced 0 with the median value."
   ]
  },
  {
   "cell_type": "code",
   "execution_count": null,
   "metadata": {
    "colab": {
     "base_uri": "https://localhost:8080/"
    },
    "id": "GFQhHDRjP3Vl",
    "outputId": "03d5b163-5944-452b-9d0f-66014284f361"
   },
   "outputs": [
    {
     "data": {
      "text/plain": [
       "array(['51.1', '35.98', '31.23', '24.95', '26.18', '30.77', '31.04',\n",
       "       '28.9', '17.82', '24.93', '40.87', '34.96', '31.07', '40.8',\n",
       "       '33.13', '43.09', '28.29', '43.91', '33.87', '44', 'unlisted',\n",
       "       '41', '32.98', '22.99', '38.99', '45.83', '28.24', '28.19',\n",
       "       '27.79', '38.86', '22.89', '26.07', '28.02', '23.99', '28.25',\n",
       "       '30.87', '28.09', '29.01', '26.13', '54.03', '31.2', '30.92',\n",
       "       '20.95', '17.98', '27.7', '24.8', '31.09', '19.83', '33.15',\n",
       "       '21.25', '38.06', '30.89', '35.04', '26.03', '33.94', '25.81',\n",
       "       '32.99', '17.9', '30.96', '40.93', '24.98', '26.08', '23.08', '26',\n",
       "       '22.95', '39.03', '23.19', '31', '21.05', '31.5', '24.7', '27.76',\n",
       "       '18.06', '28.43', '43.99', '41.03', '28.28', '25.96', '27.86',\n",
       "       '38.95', '36.22', '23.02', '21.14', '42.99', '27.95', '38', '28.2',\n",
       "       '39.16', '25.07', '15', '35.95', '30.03', '22.98', '27.97',\n",
       "       '28.74', '26.05', '45.99', '25.83', '22.75', '28.03', '29.02',\n",
       "       '26.32', '27.99', '34.18', '21.07', '25.97', '23.14', '42.85',\n",
       "       '34.08', '22.97', '24.24', '41.02', '41.04', '22.68', '24.83',\n",
       "       '27.77', '50.92', '41.01', '36.08', '21.12', '16.11', '29.99',\n",
       "       '34.17', '19.76', '30.86', '24.94', '51.18', '20.06', '27.93',\n",
       "       '26.24', '25.88', '28.17', '39.26', '28.07', '34.03', '41.08',\n",
       "       '25.05', '19.88', '50.99', '15.91', '20.79', '40.88', '26.3',\n",
       "       '22.86', '34.11', '34.02', '20.03', '26.67', '41.15', '33.1',\n",
       "       '28.31', '25.06', '27.98', '25.02', '27.65', '33.09', '28',\n",
       "       '23.01', '46.02', '45.94', '28.04', '38.87', '20.05', '19.86',\n",
       "       '35.99', '22.9', '48.91', '25.91', '33.03', '27.89', '35.97',\n",
       "       '23.16', '35.89', '25.84', '34.85', '22.94', '31.08', '25.16',\n",
       "       '50.84', '32.91', '27.74', '36.03', '30.75', '23.05', '24.05',\n",
       "       '27.96', '33.93', '23.28', '34.01', '16.23', '24.03', '19.87',\n",
       "       '21.02', '42.97', '38.32', '24.96', '23.07', '12.89', '25.09',\n",
       "       '32.96', '21.22', '28.33', '38.89', '35.87', '25.92', '18.08',\n",
       "       '28.92', '23.12', '27.87', '35.03', '22.93', '15.03', '43.9', '29',\n",
       "       '26.1', '41.11', '28.1', '27.82', '34', '50.9', '50.98', '29.19',\n",
       "       '54.05', '24.16', '43.92', '15.05', '26.06', '33.91', '30.97',\n",
       "       '33.97', '34.12', '22.92', '25.19', '30.85', '28.18', '30.82',\n",
       "       '28.42', '20.89', '27.91', '33.84', '34.53', '28.86', '41.14',\n",
       "       '30.99', '25.99', '39', '25.98', '27.84', '29.13', '19.84',\n",
       "       '24.85', '33.78', '27.78', '28.05', '30.73', '19.99', '28.11',\n",
       "       '46.16', '42.93', '34.88', '28.36', '33.99', '44.07', '31.22',\n",
       "       '46.11', '22.91', '33.11', '32.79', '27.81', '27.92', '28.97',\n",
       "       '18.12', '21.04', '27.9', '22.88', '20.21', '27.88', '35.76',\n",
       "       '25.76', '34.09', '35.11', '40.89', '28.15', '23.86', '23.11',\n",
       "       '33.14', '28.06', '28.85', '42.88', '21.36', '19.95', '34.24',\n",
       "       '41.13', '26.19', '26.44', '26.01', '27.94', '20.92', '31.16',\n",
       "       '22.87', '21.03', '50.91', '32.95', '36.04', '30.18', '38.84',\n",
       "       '45.78', '26.29', '20.87', '33.89', '31.19', '34.47', '43.95',\n",
       "       '40.99', '18.01', '24.06', '40.9', '24.02', '54.16', '34.1',\n",
       "       '42.82', '28.98', '43.12', '17.95', '42.92', '26.33', '25.17',\n",
       "       '45.06', '24.76', '20.09', '29.98', '19.98', '26.15', '53.97',\n",
       "       '43.04', '51.04', '28.3', '19.94', '26.22', '14.99', '38.98',\n",
       "       '23.09', '39.79', '43.03', '24.74', '15.95', '30.93', '27.83',\n",
       "       '30.81', '40.83', '40.91', '25.7', '31.03', '37.89', '36.01',\n",
       "       '16.17', '15.94', '40.97', '33.04', '26.2', '39.19', '19.97', '36',\n",
       "       '38.66', '23.95', '25.93', '25.29', '44.03', '25.9', '19.91',\n",
       "       '26.09', '19.89', '33.06', '22.69', '24.78', '29.09', '18.09',\n",
       "       '20.11', '36.09', '24.88', '34.28', '29.05', '49.02', '28.27',\n",
       "       '28.84', '14.94', '35.05', '28.89', '39.21', '41.12', '29.25',\n",
       "       '34.33', '30.94', '34.23', '29.16', '28.13', '32.97', '20.98',\n",
       "       '23.82', '23.33', '35.96', '33', '23', '28.91', '42.86', '43.01',\n",
       "       '25.85', '28.79', '25.2', '30.08', '34.25', '24.82', '40.96', '20',\n",
       "       '34.06', '15.99', '15.14', '36.05', '25.04', '15.16', '20.84',\n",
       "       '39.09', '31.15', '33.86', '30.74', '27.85', '31.27', '54.02',\n",
       "       '26.16', '35.92', '25.86', '36.07', '24.92', '18.14', '12.85',\n",
       "       '26.11', '19.78', '25.94', '39.07', '29.22', '24.9', '15.21', '25',\n",
       "       '14.96', '25.82', '28.93', '35.84', '30.84', '25.95', '43.13',\n",
       "       '36.12', '22.8', '36.02', '36.21', '34.93', '22.84', '24.86',\n",
       "       '23.03', '18.1', '29.11', '22.96', '17.99', '20.83', '29.86',\n",
       "       '18.22', '23.92', '45.98', '34.95', '25.72', '25.03', '20.13',\n",
       "       '21.01', '35.09', '39.24', '16.1', '34.05', '41.07', '16.02',\n",
       "       '36.16', '32.85', '34.94', '29.26', '27.71', '39.01', '23.18',\n",
       "       '22.7', '43.16', '41.1', '13.13', '34.29', '46.22', '16.12',\n",
       "       '31.06', '25.87', '30.9', '30.8', '27.69', '23.89', '40.92',\n",
       "       '25.46', '33.95', '28.14', '29.95', '23.13', '30.98', '20.02',\n",
       "       '24.91', '33.88', '16.16', '20.07', '14.89', '33.08', '25.1',\n",
       "       '19.93', '31.14', '21.21', '37.87', '28.12', '28.99', '16.03',\n",
       "       '20.99', '18.13', '34.07', '28.22', '30.12', '34.15', '28.08',\n",
       "       '25.78', '30.78', '31.11', '43.1', '20.04', '23.06', '34.21',\n",
       "       '41.32', '16.08', '43.97', '35.85', '23.9', '43.85', '33.92',\n",
       "       '38.79', '34.04', '20.26', '26.02', '30.02', '31.01', '16.19',\n",
       "       '51.05', '21.1', '35.88', '35.07', '38.77', '28.82', '28.95',\n",
       "       '40.81', '16.07', '31.12', '28.94', '20.91', '25.26', '20.15',\n",
       "       '20.82', '46.04', '29.24', '28.01', '26.12', '15.09', '22.81',\n",
       "       '39.38', '15.98', '21.19', '43.2', '33.85', '28.96', '28.88',\n",
       "       '43.05', '30.95', '26.14', '32.84', '33.2', '50.93', '23.1',\n",
       "       '35.78', '54.07', '15.06', '33.01', '40.85', '22.83', '21.15',\n",
       "       '29.04', '16', '39.97', '23.23', '16.31', '46.03', '40.12',\n",
       "       '21.09', '14.91', '34.89', '40.94', '33.19', '29.93', '44.99',\n",
       "       '39.08', '30.14', '35.13', '29.28', '15.86', '29.89', '33.9',\n",
       "       '20.97', '25.13', '26.23', '24.84', '31.13', '23.32', '22.67',\n",
       "       '25.24', '29.14', '22.85', '29.06', '20.25', '31.17', '28.23',\n",
       "       '29.08', '25.12', '40.82', '30.2', '29.15', '25.08', '29.78',\n",
       "       '33.82', '23.91', '38.18', '30', '39.32', '29.17', '31.24',\n",
       "       '15.82', '35.82', '21.23', '23.04', '43.06', '16.01', '48.58',\n",
       "       '18.02', '34.97', '28.69', '31.05', '14.97', '18.05', '35.91',\n",
       "       '33.05', '42.96', '23.17', '41.18', '28.26', '29.91', '34.87',\n",
       "       '22.77', '46.01', '36.18', '43.07', '25.52', '32.74', '15.77',\n",
       "       '43.84', '33.43', '37.92', '42.91', '28.75', '15.22', '29.35',\n",
       "       '39.04', '13.02', '29.92', '32.82', '29.53', '46.18', '21.08',\n",
       "       '27.75', '23.15', '18.24', '48', '29.1', '17.93', '26.53', '23.25',\n",
       "       '25.71', '25.35', '32.9', '51.06', '15.08', '33.79', '42.98',\n",
       "       '17.94', '21', '29.79', '45.96', '29.81', '41.16', '40.98',\n",
       "       '20.14', '39.96', '32.89', '25.79'], dtype=object)"
      ]
     },
     "execution_count": 24,
     "metadata": {},
     "output_type": "execute_result"
    }
   ],
   "source": [
    "data_cleared['price'].unique()"
   ]
  },
  {
   "cell_type": "code",
   "execution_count": null,
   "metadata": {
    "colab": {
     "base_uri": "https://localhost:8080/"
    },
    "id": "O-7H4b3jT2M7",
    "outputId": "226cbe5d-a54b-4d97-b99a-533a1e833763"
   },
   "outputs": [
    {
     "data": {
      "text/plain": [
       "150"
      ]
     },
     "execution_count": 25,
     "metadata": {},
     "output_type": "execute_result"
    }
   ],
   "source": [
    "len(data[data['price'] == 'unlisted'])"
   ]
  },
  {
   "cell_type": "code",
   "execution_count": null,
   "metadata": {
    "id": "ua5FH_k1rzp3"
   },
   "outputs": [],
   "source": [
    "data_cleared.loc[data_cleared['price'] == 'unlisted', 'price'] = 0"
   ]
  },
  {
   "cell_type": "code",
   "execution_count": null,
   "metadata": {
    "id": "ZY3ssQdaqsfK"
   },
   "outputs": [],
   "source": [
    "data_cleared['price'] = data_cleared['price'].astype(float)"
   ]
  },
  {
   "cell_type": "code",
   "execution_count": null,
   "metadata": {
    "id": "LrkDrbYjrBqL"
   },
   "outputs": [],
   "source": [
    "med = data_cleared['price'].median()"
   ]
  },
  {
   "cell_type": "code",
   "execution_count": null,
   "metadata": {
    "id": "sNpU0N3er5Bp"
   },
   "outputs": [],
   "source": [
    "data_cleared.loc[data_cleared['price'] == 0, 'price'] = med"
   ]
  },
  {
   "cell_type": "code",
   "execution_count": null,
   "metadata": {
    "id": "YjXO-UScsXn2"
   },
   "outputs": [],
   "source": [
    "data_cleared['price'] = data_cleared['price'].round(decimals=2)"
   ]
  },
  {
   "cell_type": "markdown",
   "metadata": {
    "id": "rjQuzY06fgmB"
   },
   "source": [
    "**rating**. The column contained 150 missing values, I replaced them with 0 as requested. The rating values vary from 1 to 9 (except for the replaced values), so they're all within the expected range"
   ]
  },
  {
   "cell_type": "code",
   "execution_count": null,
   "metadata": {
    "colab": {
     "base_uri": "https://localhost:8080/"
    },
    "id": "eVr5CrGNvK_T",
    "outputId": "b77c4bf8-ee21-4b6a-b35f-6ed8798c968d"
   },
   "outputs": [
    {
     "data": {
      "text/plain": [
       "array([ 7.,  6.,  5.,  4.,  8.,  1.,  3., nan,  2.,  9.])"
      ]
     },
     "execution_count": 31,
     "metadata": {},
     "output_type": "execute_result"
    }
   ],
   "source": [
    "data_cleared['rating'].unique()"
   ]
  },
  {
   "cell_type": "code",
   "execution_count": null,
   "metadata": {
    "colab": {
     "base_uri": "https://localhost:8080/"
    },
    "id": "HOofqJ8IUPs9",
    "outputId": "2cfc872d-cc01-452b-fc06-55e6aa509016"
   },
   "outputs": [
    {
     "data": {
      "text/plain": [
       "150"
      ]
     },
     "execution_count": 32,
     "metadata": {},
     "output_type": "execute_result"
    }
   ],
   "source": [
    "len(data[(data['rating'].isna()) == True])"
   ]
  },
  {
   "cell_type": "code",
   "execution_count": null,
   "metadata": {
    "id": "v1KT1BrxvfgS"
   },
   "outputs": [],
   "source": [
    "data_cleared['rating'] = data_cleared['rating'].fillna(0)"
   ]
  },
  {
   "cell_type": "code",
   "execution_count": null,
   "metadata": {
    "colab": {
     "base_uri": "https://localhost:8080/"
    },
    "id": "MNNMd9EEQY09",
    "outputId": "5f0778be-c79d-44a7-a813-c1dd55fb8207"
   },
   "outputs": [
    {
     "data": {
      "text/plain": [
       "1500"
      ]
     },
     "execution_count": 34,
     "metadata": {},
     "output_type": "execute_result"
    }
   ],
   "source": [
    "len(data_cleared['rating'])"
   ]
  },
  {
   "cell_type": "markdown",
   "metadata": {
    "id": "jSN4D_wDfpqR"
   },
   "source": [
    "**sales**. The column corresponded to the format, there were no missing values."
   ]
  },
  {
   "cell_type": "code",
   "execution_count": null,
   "metadata": {
    "colab": {
     "base_uri": "https://localhost:8080/"
    },
    "id": "FPcpAXCQRbZP",
    "outputId": "c15812cc-cc8a-49a7-952d-80e96a89ac87"
   },
   "outputs": [
    {
     "data": {
      "text/plain": [
       "array([1860.62,  963.6 ,  898.3 , ..., 1099.97,  724.02,  826.08])"
      ]
     },
     "execution_count": 35,
     "metadata": {},
     "output_type": "execute_result"
    }
   ],
   "source": [
    "data_cleared['sales'].unique()"
   ]
  },
  {
   "cell_type": "code",
   "execution_count": null,
   "metadata": {
    "colab": {
     "base_uri": "https://localhost:8080/"
    },
    "id": "8i7no6BsRhbd",
    "outputId": "723474c4-d5f7-474c-e1f5-08c0717d08c9"
   },
   "outputs": [
    {
     "data": {
      "text/plain": [
       "1500"
      ]
     },
     "execution_count": 36,
     "metadata": {},
     "output_type": "execute_result"
    }
   ],
   "source": [
    "len(data_cleared['sales'])"
   ]
  },
  {
   "cell_type": "markdown",
   "metadata": {
    "id": "61nwrrOLf0BV"
   },
   "source": [
    "**repeat_purchase**. The column matched the format (0, 1), no missing values."
   ]
  },
  {
   "cell_type": "code",
   "execution_count": null,
   "metadata": {
    "colab": {
     "base_uri": "https://localhost:8080/"
    },
    "id": "jYBwyaQKwrjb",
    "outputId": "54c0b5ac-0135-4eaa-83c3-1a15ee44d0cf"
   },
   "outputs": [
    {
     "data": {
      "text/plain": [
       "array([1, 0])"
      ]
     },
     "execution_count": 37,
     "metadata": {},
     "output_type": "execute_result"
    }
   ],
   "source": [
    "data_cleared['repeat_purchase'].unique()"
   ]
  },
  {
   "cell_type": "code",
   "execution_count": null,
   "metadata": {
    "colab": {
     "base_uri": "https://localhost:8080/"
    },
    "id": "i6gpJs6GQe1F",
    "outputId": "1f2dfd4f-a73a-4635-ae39-dd0c00d2e1d0"
   },
   "outputs": [
    {
     "data": {
      "text/plain": [
       "1500"
      ]
     },
     "execution_count": 38,
     "metadata": {},
     "output_type": "execute_result"
    }
   ],
   "source": [
    "len(data_cleared['repeat_purchase'])"
   ]
  },
  {
   "cell_type": "code",
   "execution_count": null,
   "metadata": {
    "colab": {
     "base_uri": "https://localhost:8080/",
     "height": 423
    },
    "id": "-VRknlMEUrbH",
    "outputId": "603c5599-181e-4f11-dca5-4cfcb590a241"
   },
   "outputs": [
    {
     "data": {
      "text/html": [
       "\n",
       "  <div id=\"df-81e03d2d-2473-4d60-940f-e392d0dbb44d\">\n",
       "    <div class=\"colab-df-container\">\n",
       "      <div>\n",
       "<style scoped>\n",
       "    .dataframe tbody tr th:only-of-type {\n",
       "        vertical-align: middle;\n",
       "    }\n",
       "\n",
       "    .dataframe tbody tr th {\n",
       "        vertical-align: top;\n",
       "    }\n",
       "\n",
       "    .dataframe thead th {\n",
       "        text-align: right;\n",
       "    }\n",
       "</style>\n",
       "<table border=\"1\" class=\"dataframe\">\n",
       "  <thead>\n",
       "    <tr style=\"text-align: right;\">\n",
       "      <th></th>\n",
       "      <th>product_id</th>\n",
       "      <th>category</th>\n",
       "      <th>animal</th>\n",
       "      <th>size</th>\n",
       "      <th>price</th>\n",
       "      <th>sales</th>\n",
       "      <th>rating</th>\n",
       "      <th>repeat_purchase</th>\n",
       "    </tr>\n",
       "  </thead>\n",
       "  <tbody>\n",
       "    <tr>\n",
       "      <th>0</th>\n",
       "      <td>1</td>\n",
       "      <td>Food</td>\n",
       "      <td>Bird</td>\n",
       "      <td>Large</td>\n",
       "      <td>51.10</td>\n",
       "      <td>1860.62</td>\n",
       "      <td>7.0</td>\n",
       "      <td>1</td>\n",
       "    </tr>\n",
       "    <tr>\n",
       "      <th>1</th>\n",
       "      <td>2</td>\n",
       "      <td>Housing</td>\n",
       "      <td>Bird</td>\n",
       "      <td>Medium</td>\n",
       "      <td>35.98</td>\n",
       "      <td>963.60</td>\n",
       "      <td>6.0</td>\n",
       "      <td>0</td>\n",
       "    </tr>\n",
       "    <tr>\n",
       "      <th>2</th>\n",
       "      <td>3</td>\n",
       "      <td>Food</td>\n",
       "      <td>Dog</td>\n",
       "      <td>Medium</td>\n",
       "      <td>31.23</td>\n",
       "      <td>898.30</td>\n",
       "      <td>5.0</td>\n",
       "      <td>1</td>\n",
       "    </tr>\n",
       "    <tr>\n",
       "      <th>3</th>\n",
       "      <td>4</td>\n",
       "      <td>Medicine</td>\n",
       "      <td>Cat</td>\n",
       "      <td>Small</td>\n",
       "      <td>24.95</td>\n",
       "      <td>982.15</td>\n",
       "      <td>6.0</td>\n",
       "      <td>1</td>\n",
       "    </tr>\n",
       "    <tr>\n",
       "      <th>4</th>\n",
       "      <td>5</td>\n",
       "      <td>Housing</td>\n",
       "      <td>Cat</td>\n",
       "      <td>Small</td>\n",
       "      <td>26.18</td>\n",
       "      <td>832.63</td>\n",
       "      <td>7.0</td>\n",
       "      <td>1</td>\n",
       "    </tr>\n",
       "    <tr>\n",
       "      <th>...</th>\n",
       "      <td>...</td>\n",
       "      <td>...</td>\n",
       "      <td>...</td>\n",
       "      <td>...</td>\n",
       "      <td>...</td>\n",
       "      <td>...</td>\n",
       "      <td>...</td>\n",
       "      <td>...</td>\n",
       "    </tr>\n",
       "    <tr>\n",
       "      <th>1495</th>\n",
       "      <td>1496</td>\n",
       "      <td>Food</td>\n",
       "      <td>Bird</td>\n",
       "      <td>Medium</td>\n",
       "      <td>40.91</td>\n",
       "      <td>1203.36</td>\n",
       "      <td>5.0</td>\n",
       "      <td>0</td>\n",
       "    </tr>\n",
       "    <tr>\n",
       "      <th>1496</th>\n",
       "      <td>1497</td>\n",
       "      <td>Equipment</td>\n",
       "      <td>Dog</td>\n",
       "      <td>Small</td>\n",
       "      <td>32.89</td>\n",
       "      <td>1099.97</td>\n",
       "      <td>5.0</td>\n",
       "      <td>0</td>\n",
       "    </tr>\n",
       "    <tr>\n",
       "      <th>1497</th>\n",
       "      <td>1498</td>\n",
       "      <td>Food</td>\n",
       "      <td>Fish</td>\n",
       "      <td>Small</td>\n",
       "      <td>25.79</td>\n",
       "      <td>724.02</td>\n",
       "      <td>3.0</td>\n",
       "      <td>0</td>\n",
       "    </tr>\n",
       "    <tr>\n",
       "      <th>1498</th>\n",
       "      <td>1499</td>\n",
       "      <td>Medicine</td>\n",
       "      <td>Fish</td>\n",
       "      <td>Small</td>\n",
       "      <td>19.94</td>\n",
       "      <td>658.66</td>\n",
       "      <td>5.0</td>\n",
       "      <td>1</td>\n",
       "    </tr>\n",
       "    <tr>\n",
       "      <th>1499</th>\n",
       "      <td>1500</td>\n",
       "      <td>Food</td>\n",
       "      <td>Cat</td>\n",
       "      <td>Medium</td>\n",
       "      <td>25.95</td>\n",
       "      <td>826.08</td>\n",
       "      <td>4.0</td>\n",
       "      <td>1</td>\n",
       "    </tr>\n",
       "  </tbody>\n",
       "</table>\n",
       "<p>1500 rows × 8 columns</p>\n",
       "</div>\n",
       "      <button class=\"colab-df-convert\" onclick=\"convertToInteractive('df-81e03d2d-2473-4d60-940f-e392d0dbb44d')\"\n",
       "              title=\"Convert this dataframe to an interactive table.\"\n",
       "              style=\"display:none;\">\n",
       "        \n",
       "  <svg xmlns=\"http://www.w3.org/2000/svg\" height=\"24px\"viewBox=\"0 0 24 24\"\n",
       "       width=\"24px\">\n",
       "    <path d=\"M0 0h24v24H0V0z\" fill=\"none\"/>\n",
       "    <path d=\"M18.56 5.44l.94 2.06.94-2.06 2.06-.94-2.06-.94-.94-2.06-.94 2.06-2.06.94zm-11 1L8.5 8.5l.94-2.06 2.06-.94-2.06-.94L8.5 2.5l-.94 2.06-2.06.94zm10 10l.94 2.06.94-2.06 2.06-.94-2.06-.94-.94-2.06-.94 2.06-2.06.94z\"/><path d=\"M17.41 7.96l-1.37-1.37c-.4-.4-.92-.59-1.43-.59-.52 0-1.04.2-1.43.59L10.3 9.45l-7.72 7.72c-.78.78-.78 2.05 0 2.83L4 21.41c.39.39.9.59 1.41.59.51 0 1.02-.2 1.41-.59l7.78-7.78 2.81-2.81c.8-.78.8-2.07 0-2.86zM5.41 20L4 18.59l7.72-7.72 1.47 1.35L5.41 20z\"/>\n",
       "  </svg>\n",
       "      </button>\n",
       "      \n",
       "  <style>\n",
       "    .colab-df-container {\n",
       "      display:flex;\n",
       "      flex-wrap:wrap;\n",
       "      gap: 12px;\n",
       "    }\n",
       "\n",
       "    .colab-df-convert {\n",
       "      background-color: #E8F0FE;\n",
       "      border: none;\n",
       "      border-radius: 50%;\n",
       "      cursor: pointer;\n",
       "      display: none;\n",
       "      fill: #1967D2;\n",
       "      height: 32px;\n",
       "      padding: 0 0 0 0;\n",
       "      width: 32px;\n",
       "    }\n",
       "\n",
       "    .colab-df-convert:hover {\n",
       "      background-color: #E2EBFA;\n",
       "      box-shadow: 0px 1px 2px rgba(60, 64, 67, 0.3), 0px 1px 3px 1px rgba(60, 64, 67, 0.15);\n",
       "      fill: #174EA6;\n",
       "    }\n",
       "\n",
       "    [theme=dark] .colab-df-convert {\n",
       "      background-color: #3B4455;\n",
       "      fill: #D2E3FC;\n",
       "    }\n",
       "\n",
       "    [theme=dark] .colab-df-convert:hover {\n",
       "      background-color: #434B5C;\n",
       "      box-shadow: 0px 1px 3px 1px rgba(0, 0, 0, 0.15);\n",
       "      filter: drop-shadow(0px 1px 2px rgba(0, 0, 0, 0.3));\n",
       "      fill: #FFFFFF;\n",
       "    }\n",
       "  </style>\n",
       "\n",
       "      <script>\n",
       "        const buttonEl =\n",
       "          document.querySelector('#df-81e03d2d-2473-4d60-940f-e392d0dbb44d button.colab-df-convert');\n",
       "        buttonEl.style.display =\n",
       "          google.colab.kernel.accessAllowed ? 'block' : 'none';\n",
       "\n",
       "        async function convertToInteractive(key) {\n",
       "          const element = document.querySelector('#df-81e03d2d-2473-4d60-940f-e392d0dbb44d');\n",
       "          const dataTable =\n",
       "            await google.colab.kernel.invokeFunction('convertToInteractive',\n",
       "                                                     [key], {});\n",
       "          if (!dataTable) return;\n",
       "\n",
       "          const docLinkHtml = 'Like what you see? Visit the ' +\n",
       "            '<a target=\"_blank\" href=https://colab.research.google.com/notebooks/data_table.ipynb>data table notebook</a>'\n",
       "            + ' to learn more about interactive tables.';\n",
       "          element.innerHTML = '';\n",
       "          dataTable['output_type'] = 'display_data';\n",
       "          await google.colab.output.renderOutput(dataTable, element);\n",
       "          const docLink = document.createElement('div');\n",
       "          docLink.innerHTML = docLinkHtml;\n",
       "          element.appendChild(docLink);\n",
       "        }\n",
       "      </script>\n",
       "    </div>\n",
       "  </div>\n",
       "  "
      ],
      "text/plain": [
       "     product_id   category animal    size  price    sales  rating  \\\n",
       "0             1       Food   Bird   Large  51.10  1860.62     7.0   \n",
       "1             2    Housing   Bird  Medium  35.98   963.60     6.0   \n",
       "2             3       Food    Dog  Medium  31.23   898.30     5.0   \n",
       "3             4   Medicine    Cat   Small  24.95   982.15     6.0   \n",
       "4             5    Housing    Cat   Small  26.18   832.63     7.0   \n",
       "...         ...        ...    ...     ...    ...      ...     ...   \n",
       "1495       1496       Food   Bird  Medium  40.91  1203.36     5.0   \n",
       "1496       1497  Equipment    Dog   Small  32.89  1099.97     5.0   \n",
       "1497       1498       Food   Fish   Small  25.79   724.02     3.0   \n",
       "1498       1499   Medicine   Fish   Small  19.94   658.66     5.0   \n",
       "1499       1500       Food    Cat  Medium  25.95   826.08     4.0   \n",
       "\n",
       "      repeat_purchase  \n",
       "0                   1  \n",
       "1                   0  \n",
       "2                   1  \n",
       "3                   1  \n",
       "4                   1  \n",
       "...               ...  \n",
       "1495                0  \n",
       "1496                0  \n",
       "1497                0  \n",
       "1498                1  \n",
       "1499                1  \n",
       "\n",
       "[1500 rows x 8 columns]"
      ]
     },
     "execution_count": 39,
     "metadata": {},
     "output_type": "execute_result"
    }
   ],
   "source": [
    "data_cleared"
   ]
  },
  {
   "cell_type": "markdown",
   "metadata": {
    "id": "zSZ0U542JELY"
   },
   "source": [
    "The source data consists of 1500 rows and 8 columns. The first thing I did was to check all the columns for compliance.\n",
    "\n",
    "* product_id. The column had 1500 unique values, as expected.\n",
    "* category. The column had 25 missing values (written as '-'). I replaced them with 'Unknown' according to the condition. The column has 6 unique categories (Housing, Food, Toys, Equipment, Medicine, Accessory) and the category 'Unknown'.\n",
    "* animal. The values in the column correspond to one of the categories (Dog, Cat, Fish, Bird), there are no missing values.\n",
    "* size. the column contained different kinds of entries of the same categories (e.g. 'large', 'MEDIUM', 'medium'), so I reduced them to the same format and got three unique categories (Small, Medium, Large), as requested. There are no missing values.\n",
    "* price. The column contained 150 missing values (written as 'unlisted'). That's why I first replaced them with 0, then converted the column to the necessary format (float, rounded to 2 decimal places), calculated the median and replaced 0 with the median value.\n",
    "* sales. The column corresponded to the format, there were no missing values.\n",
    "* rating. The column contained 150 missing values, I replaced them with 0 as requested. The rating values vary from 1 to 9 (except for the replaced values), so they're all within the expected range\n",
    "* repeat_purchase. The column matched the format (0, 1), no missing values."
   ]
  },
  {
   "cell_type": "markdown",
   "metadata": {
    "id": "Dzq859uClpUF"
   },
   "source": [
    "# **2. Create a visualization that shows how many products are repeat purchases**\n",
    "\n",
    "Use the visualization to:\n",
    "  * State which category of the variable repeat purchases has the most\n",
    "observations\n",
    "\n",
    "  * Explain whether the observations are balanced across categories of the\n",
    "variable repeat purchases\n"
   ]
  },
  {
   "cell_type": "code",
   "execution_count": null,
   "metadata": {
    "id": "OHzwCXdGa5tT"
   },
   "outputs": [],
   "source": [
    "total = data_cleared[['category', 'repeat_purchase']].groupby('category', as_index=False) \\\n",
    "                                                     .count() \\\n",
    "                                                     .rename(columns={'repeat_purchase':'all_purchase_cnt'})"
   ]
  },
  {
   "cell_type": "code",
   "execution_count": null,
   "metadata": {
    "id": "UM1KsyAqblfU"
   },
   "outputs": [],
   "source": [
    "repeat = data_cleared[['category', 'repeat_purchase']][data_cleared['repeat_purchase'] == 1].groupby('category', as_index=False) \\\n",
    "                                                                                            .count() \\\n",
    "                                                                                            .rename(columns={'repeat_purchase':'repeat_purchase_cnt'})"
   ]
  },
  {
   "cell_type": "code",
   "execution_count": null,
   "metadata": {
    "id": "tV_l3TK6cZmb"
   },
   "outputs": [],
   "source": [
    "merged = total.merge(repeat, on='category')"
   ]
  },
  {
   "cell_type": "code",
   "execution_count": null,
   "metadata": {
    "colab": {
     "base_uri": "https://localhost:8080/",
     "height": 206
    },
    "id": "ALqmdrTBfcgz",
    "outputId": "4ae2dc0b-360d-4050-8330-6cf80eb08eea"
   },
   "outputs": [
    {
     "data": {
      "text/html": [
       "\n",
       "  <div id=\"df-319ae4b2-8dbf-4a11-9698-26f34e325070\">\n",
       "    <div class=\"colab-df-container\">\n",
       "      <div>\n",
       "<style scoped>\n",
       "    .dataframe tbody tr th:only-of-type {\n",
       "        vertical-align: middle;\n",
       "    }\n",
       "\n",
       "    .dataframe tbody tr th {\n",
       "        vertical-align: top;\n",
       "    }\n",
       "\n",
       "    .dataframe thead th {\n",
       "        text-align: right;\n",
       "    }\n",
       "</style>\n",
       "<table border=\"1\" class=\"dataframe\">\n",
       "  <thead>\n",
       "    <tr style=\"text-align: right;\">\n",
       "      <th></th>\n",
       "      <th>category</th>\n",
       "      <th>all_purchase_cnt</th>\n",
       "      <th>repeat_purchase_cnt</th>\n",
       "    </tr>\n",
       "  </thead>\n",
       "  <tbody>\n",
       "    <tr>\n",
       "      <th>0</th>\n",
       "      <td>Accessory</td>\n",
       "      <td>126</td>\n",
       "      <td>70</td>\n",
       "    </tr>\n",
       "    <tr>\n",
       "      <th>1</th>\n",
       "      <td>Equipment</td>\n",
       "      <td>370</td>\n",
       "      <td>221</td>\n",
       "    </tr>\n",
       "    <tr>\n",
       "      <th>2</th>\n",
       "      <td>Food</td>\n",
       "      <td>260</td>\n",
       "      <td>151</td>\n",
       "    </tr>\n",
       "    <tr>\n",
       "      <th>3</th>\n",
       "      <td>Housing</td>\n",
       "      <td>227</td>\n",
       "      <td>152</td>\n",
       "    </tr>\n",
       "    <tr>\n",
       "      <th>4</th>\n",
       "      <td>Medicine</td>\n",
       "      <td>237</td>\n",
       "      <td>153</td>\n",
       "    </tr>\n",
       "  </tbody>\n",
       "</table>\n",
       "</div>\n",
       "      <button class=\"colab-df-convert\" onclick=\"convertToInteractive('df-319ae4b2-8dbf-4a11-9698-26f34e325070')\"\n",
       "              title=\"Convert this dataframe to an interactive table.\"\n",
       "              style=\"display:none;\">\n",
       "        \n",
       "  <svg xmlns=\"http://www.w3.org/2000/svg\" height=\"24px\"viewBox=\"0 0 24 24\"\n",
       "       width=\"24px\">\n",
       "    <path d=\"M0 0h24v24H0V0z\" fill=\"none\"/>\n",
       "    <path d=\"M18.56 5.44l.94 2.06.94-2.06 2.06-.94-2.06-.94-.94-2.06-.94 2.06-2.06.94zm-11 1L8.5 8.5l.94-2.06 2.06-.94-2.06-.94L8.5 2.5l-.94 2.06-2.06.94zm10 10l.94 2.06.94-2.06 2.06-.94-2.06-.94-.94-2.06-.94 2.06-2.06.94z\"/><path d=\"M17.41 7.96l-1.37-1.37c-.4-.4-.92-.59-1.43-.59-.52 0-1.04.2-1.43.59L10.3 9.45l-7.72 7.72c-.78.78-.78 2.05 0 2.83L4 21.41c.39.39.9.59 1.41.59.51 0 1.02-.2 1.41-.59l7.78-7.78 2.81-2.81c.8-.78.8-2.07 0-2.86zM5.41 20L4 18.59l7.72-7.72 1.47 1.35L5.41 20z\"/>\n",
       "  </svg>\n",
       "      </button>\n",
       "      \n",
       "  <style>\n",
       "    .colab-df-container {\n",
       "      display:flex;\n",
       "      flex-wrap:wrap;\n",
       "      gap: 12px;\n",
       "    }\n",
       "\n",
       "    .colab-df-convert {\n",
       "      background-color: #E8F0FE;\n",
       "      border: none;\n",
       "      border-radius: 50%;\n",
       "      cursor: pointer;\n",
       "      display: none;\n",
       "      fill: #1967D2;\n",
       "      height: 32px;\n",
       "      padding: 0 0 0 0;\n",
       "      width: 32px;\n",
       "    }\n",
       "\n",
       "    .colab-df-convert:hover {\n",
       "      background-color: #E2EBFA;\n",
       "      box-shadow: 0px 1px 2px rgba(60, 64, 67, 0.3), 0px 1px 3px 1px rgba(60, 64, 67, 0.15);\n",
       "      fill: #174EA6;\n",
       "    }\n",
       "\n",
       "    [theme=dark] .colab-df-convert {\n",
       "      background-color: #3B4455;\n",
       "      fill: #D2E3FC;\n",
       "    }\n",
       "\n",
       "    [theme=dark] .colab-df-convert:hover {\n",
       "      background-color: #434B5C;\n",
       "      box-shadow: 0px 1px 3px 1px rgba(0, 0, 0, 0.15);\n",
       "      filter: drop-shadow(0px 1px 2px rgba(0, 0, 0, 0.3));\n",
       "      fill: #FFFFFF;\n",
       "    }\n",
       "  </style>\n",
       "\n",
       "      <script>\n",
       "        const buttonEl =\n",
       "          document.querySelector('#df-319ae4b2-8dbf-4a11-9698-26f34e325070 button.colab-df-convert');\n",
       "        buttonEl.style.display =\n",
       "          google.colab.kernel.accessAllowed ? 'block' : 'none';\n",
       "\n",
       "        async function convertToInteractive(key) {\n",
       "          const element = document.querySelector('#df-319ae4b2-8dbf-4a11-9698-26f34e325070');\n",
       "          const dataTable =\n",
       "            await google.colab.kernel.invokeFunction('convertToInteractive',\n",
       "                                                     [key], {});\n",
       "          if (!dataTable) return;\n",
       "\n",
       "          const docLinkHtml = 'Like what you see? Visit the ' +\n",
       "            '<a target=\"_blank\" href=https://colab.research.google.com/notebooks/data_table.ipynb>data table notebook</a>'\n",
       "            + ' to learn more about interactive tables.';\n",
       "          element.innerHTML = '';\n",
       "          dataTable['output_type'] = 'display_data';\n",
       "          await google.colab.output.renderOutput(dataTable, element);\n",
       "          const docLink = document.createElement('div');\n",
       "          docLink.innerHTML = docLinkHtml;\n",
       "          element.appendChild(docLink);\n",
       "        }\n",
       "      </script>\n",
       "    </div>\n",
       "  </div>\n",
       "  "
      ],
      "text/plain": [
       "    category  all_purchase_cnt  repeat_purchase_cnt\n",
       "0  Accessory               126                   70\n",
       "1  Equipment               370                  221\n",
       "2       Food               260                  151\n",
       "3    Housing               227                  152\n",
       "4   Medicine               237                  153"
      ]
     },
     "execution_count": 43,
     "metadata": {},
     "output_type": "execute_result"
    }
   ],
   "source": [
    "merged.head()"
   ]
  },
  {
   "cell_type": "code",
   "execution_count": null,
   "metadata": {
    "id": "ST6Res2lipFO"
   },
   "outputs": [],
   "source": [
    "categories = merged.category.tolist()\n",
    "categories = categories[:-1]"
   ]
  },
  {
   "cell_type": "code",
   "execution_count": null,
   "metadata": {
    "id": "BIZxlTkQY6JO"
   },
   "outputs": [],
   "source": [
    "import plotly.graph_objects as go\n",
    "\n",
    "categories=categories\n",
    "\n",
    "fig = go.Figure(data=[\n",
    "    go.Bar(name='Total purchases',\n",
    "           x=categories, \n",
    "           y=merged['all_purchase_cnt'], \n",
    "           text=merged['all_purchase_cnt'], \n",
    "           textposition = 'outside',  \n",
    "           outsidetextfont= dict(size=12),\n",
    "           opacity = 0.90, \n",
    "           hovertemplate='Category: %{label}<br>Purchase quantities: %{y}'),\n",
    "    go.Bar(name='Repeat purchase', \n",
    "           x=categories, \n",
    "           y=merged['repeat_purchase_cnt'], \n",
    "           marker = {\"color\": \"indianred\"}, \n",
    "           text=merged['repeat_purchase_cnt'], \n",
    "           textposition = 'outside',  \n",
    "           outsidetextfont = dict(size=12),\n",
    "           opacity = 0.90, \n",
    "           hovertemplate='Category: %{label}<br>Repeat purchase quantities: %{y}')\n",
    "])\n",
    "\n",
    "fig.update_layout(barmode='group')\n",
    "\n",
    "fig.update_layout(title='Ratio of primary and repeat purchases by category',\n",
    "                  xaxis_title='Category',\n",
    "                  yaxis_title='Amount of purchases')\n",
    "fig.show('notebook')"
   ]
  },
  {
   "cell_type": "markdown",
   "metadata": {
    "id": "F5KkrErF9q10"
   },
   "source": [
    "![newplot (7).png](data:image/png;base64,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)"
   ]
  },
  {
   "cell_type": "markdown",
   "metadata": {
    "id": "QIHOSvvGJTGN"
   },
   "source": [
    "This data includes six possible product categories (excluding the 'Unknown' category). The most common product category is Equipment; products from this category are also most often reordered. Primary and repeat sales from the categories Food, Housing, Medicine and Toys are distributed almost equally, while the number of sales from the Accessory category is significantly lower. This suggests that the PetMind team should focus on increasing the number of repeat sales of goods in the Equipment category, as it is the most promising.\n",
    "\n"
   ]
  },
  {
   "cell_type": "markdown",
   "metadata": {
    "id": "0rKgqmY8nilf"
   },
   "source": [
    "# **3. Describe the distribution of all of the sales**\n",
    "\n",
    "Your answer must include a visualization that shows the distribution."
   ]
  },
  {
   "cell_type": "code",
   "execution_count": null,
   "metadata": {
    "id": "So-sQwt8p-cu"
   },
   "outputs": [],
   "source": [
    "import plotly.express as px\n",
    "\n",
    "fig = px.histogram(data_cleared, x=\"sales\",\n",
    "                   title='Distribution of sales',\n",
    "                   labels={'sales':'Sales'}, \n",
    "                   opacity=0.9,\n",
    "                   color_discrete_sequence=['indianred']\n",
    ")\n",
    "fig.show('notebook')"
   ]
  },
  {
   "cell_type": "markdown",
   "metadata": {
    "id": "5Z7u-bgH9kPO"
   },
   "source": [
    "![newplot (6).png](data:image/png;base64,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)"
   ]
  },
  {
   "cell_type": "markdown",
   "metadata": {
    "id": "C570TDozJVvp"
   },
   "source": [
    "Since the sum of all sales of each product in the last year is important, we have to look at how the amount of sales is distributed. Looking at all sales, we see that the most products are bought for the amount of 1,000 to 1,050. The majority of all sales lie between 650 and 1450. There are some outliers, a small number of products bought for under 300 and from 2,200, but this is very rare. When looking for points of growth, the team should focus on a large number of sales of goods in the middle price range."
   ]
  },
  {
   "cell_type": "markdown",
   "metadata": {
    "id": "_AAW_0DHrLOg"
   },
   "source": [
    "# **4. Describe the relationship between repeat purchases and sales**\n",
    "\n",
    "Your answer must include a visualization to demonstrate the relationship"
   ]
  },
  {
   "cell_type": "code",
   "execution_count": null,
   "metadata": {
    "id": "ZvJ05OHVvJVg"
   },
   "outputs": [],
   "source": [
    "repeat_sales = data_cleared[['category', 'sales']][data_cleared['repeat_purchase'] == 1].groupby('category', as_index=False) \\\n",
    "                                                                                        .sum() \\\n",
    "                                                                                        .rename(columns={'sales':'repeat_sales'})"
   ]
  },
  {
   "cell_type": "code",
   "execution_count": null,
   "metadata": {
    "colab": {
     "base_uri": "https://localhost:8080/",
     "height": 206
    },
    "id": "MtXGQRhFvRMi",
    "outputId": "6d4aa5e1-e671-457b-bb7e-feb0ea288e2c"
   },
   "outputs": [
    {
     "data": {
      "text/html": [
       "\n",
       "  <div id=\"df-c958c892-cba1-4e73-a0ab-b0a1889c4f9f\">\n",
       "    <div class=\"colab-df-container\">\n",
       "      <div>\n",
       "<style scoped>\n",
       "    .dataframe tbody tr th:only-of-type {\n",
       "        vertical-align: middle;\n",
       "    }\n",
       "\n",
       "    .dataframe tbody tr th {\n",
       "        vertical-align: top;\n",
       "    }\n",
       "\n",
       "    .dataframe thead th {\n",
       "        text-align: right;\n",
       "    }\n",
       "</style>\n",
       "<table border=\"1\" class=\"dataframe\">\n",
       "  <thead>\n",
       "    <tr style=\"text-align: right;\">\n",
       "      <th></th>\n",
       "      <th>category</th>\n",
       "      <th>repeat_sales</th>\n",
       "    </tr>\n",
       "  </thead>\n",
       "  <tbody>\n",
       "    <tr>\n",
       "      <th>0</th>\n",
       "      <td>Accessory</td>\n",
       "      <td>63399.72</td>\n",
       "    </tr>\n",
       "    <tr>\n",
       "      <th>1</th>\n",
       "      <td>Equipment</td>\n",
       "      <td>205413.27</td>\n",
       "    </tr>\n",
       "    <tr>\n",
       "      <th>2</th>\n",
       "      <td>Food</td>\n",
       "      <td>166821.05</td>\n",
       "    </tr>\n",
       "    <tr>\n",
       "      <th>3</th>\n",
       "      <td>Housing</td>\n",
       "      <td>118031.21</td>\n",
       "    </tr>\n",
       "    <tr>\n",
       "      <th>4</th>\n",
       "      <td>Medicine</td>\n",
       "      <td>134637.06</td>\n",
       "    </tr>\n",
       "  </tbody>\n",
       "</table>\n",
       "</div>\n",
       "      <button class=\"colab-df-convert\" onclick=\"convertToInteractive('df-c958c892-cba1-4e73-a0ab-b0a1889c4f9f')\"\n",
       "              title=\"Convert this dataframe to an interactive table.\"\n",
       "              style=\"display:none;\">\n",
       "        \n",
       "  <svg xmlns=\"http://www.w3.org/2000/svg\" height=\"24px\"viewBox=\"0 0 24 24\"\n",
       "       width=\"24px\">\n",
       "    <path d=\"M0 0h24v24H0V0z\" fill=\"none\"/>\n",
       "    <path d=\"M18.56 5.44l.94 2.06.94-2.06 2.06-.94-2.06-.94-.94-2.06-.94 2.06-2.06.94zm-11 1L8.5 8.5l.94-2.06 2.06-.94-2.06-.94L8.5 2.5l-.94 2.06-2.06.94zm10 10l.94 2.06.94-2.06 2.06-.94-2.06-.94-.94-2.06-.94 2.06-2.06.94z\"/><path d=\"M17.41 7.96l-1.37-1.37c-.4-.4-.92-.59-1.43-.59-.52 0-1.04.2-1.43.59L10.3 9.45l-7.72 7.72c-.78.78-.78 2.05 0 2.83L4 21.41c.39.39.9.59 1.41.59.51 0 1.02-.2 1.41-.59l7.78-7.78 2.81-2.81c.8-.78.8-2.07 0-2.86zM5.41 20L4 18.59l7.72-7.72 1.47 1.35L5.41 20z\"/>\n",
       "  </svg>\n",
       "      </button>\n",
       "      \n",
       "  <style>\n",
       "    .colab-df-container {\n",
       "      display:flex;\n",
       "      flex-wrap:wrap;\n",
       "      gap: 12px;\n",
       "    }\n",
       "\n",
       "    .colab-df-convert {\n",
       "      background-color: #E8F0FE;\n",
       "      border: none;\n",
       "      border-radius: 50%;\n",
       "      cursor: pointer;\n",
       "      display: none;\n",
       "      fill: #1967D2;\n",
       "      height: 32px;\n",
       "      padding: 0 0 0 0;\n",
       "      width: 32px;\n",
       "    }\n",
       "\n",
       "    .colab-df-convert:hover {\n",
       "      background-color: #E2EBFA;\n",
       "      box-shadow: 0px 1px 2px rgba(60, 64, 67, 0.3), 0px 1px 3px 1px rgba(60, 64, 67, 0.15);\n",
       "      fill: #174EA6;\n",
       "    }\n",
       "\n",
       "    [theme=dark] .colab-df-convert {\n",
       "      background-color: #3B4455;\n",
       "      fill: #D2E3FC;\n",
       "    }\n",
       "\n",
       "    [theme=dark] .colab-df-convert:hover {\n",
       "      background-color: #434B5C;\n",
       "      box-shadow: 0px 1px 3px 1px rgba(0, 0, 0, 0.15);\n",
       "      filter: drop-shadow(0px 1px 2px rgba(0, 0, 0, 0.3));\n",
       "      fill: #FFFFFF;\n",
       "    }\n",
       "  </style>\n",
       "\n",
       "      <script>\n",
       "        const buttonEl =\n",
       "          document.querySelector('#df-c958c892-cba1-4e73-a0ab-b0a1889c4f9f button.colab-df-convert');\n",
       "        buttonEl.style.display =\n",
       "          google.colab.kernel.accessAllowed ? 'block' : 'none';\n",
       "\n",
       "        async function convertToInteractive(key) {\n",
       "          const element = document.querySelector('#df-c958c892-cba1-4e73-a0ab-b0a1889c4f9f');\n",
       "          const dataTable =\n",
       "            await google.colab.kernel.invokeFunction('convertToInteractive',\n",
       "                                                     [key], {});\n",
       "          if (!dataTable) return;\n",
       "\n",
       "          const docLinkHtml = 'Like what you see? Visit the ' +\n",
       "            '<a target=\"_blank\" href=https://colab.research.google.com/notebooks/data_table.ipynb>data table notebook</a>'\n",
       "            + ' to learn more about interactive tables.';\n",
       "          element.innerHTML = '';\n",
       "          dataTable['output_type'] = 'display_data';\n",
       "          await google.colab.output.renderOutput(dataTable, element);\n",
       "          const docLink = document.createElement('div');\n",
       "          docLink.innerHTML = docLinkHtml;\n",
       "          element.appendChild(docLink);\n",
       "        }\n",
       "      </script>\n",
       "    </div>\n",
       "  </div>\n",
       "  "
      ],
      "text/plain": [
       "    category  repeat_sales\n",
       "0  Accessory      63399.72\n",
       "1  Equipment     205413.27\n",
       "2       Food     166821.05\n",
       "3    Housing     118031.21\n",
       "4   Medicine     134637.06"
      ]
     },
     "execution_count": 48,
     "metadata": {},
     "output_type": "execute_result"
    }
   ],
   "source": [
    "repeat_sales.head()"
   ]
  },
  {
   "cell_type": "code",
   "execution_count": null,
   "metadata": {
    "colab": {
     "base_uri": "https://localhost:8080/",
     "height": 269
    },
    "id": "m5yHDm8svfut",
    "outputId": "19e54669-53be-45d9-fafd-d5589fdce5e6"
   },
   "outputs": [
    {
     "data": {
      "text/html": [
       "\n",
       "  <div id=\"df-6ed9b0dc-3934-4016-9598-9e9ae384a959\">\n",
       "    <div class=\"colab-df-container\">\n",
       "      <div>\n",
       "<style scoped>\n",
       "    .dataframe tbody tr th:only-of-type {\n",
       "        vertical-align: middle;\n",
       "    }\n",
       "\n",
       "    .dataframe tbody tr th {\n",
       "        vertical-align: top;\n",
       "    }\n",
       "\n",
       "    .dataframe thead th {\n",
       "        text-align: right;\n",
       "    }\n",
       "</style>\n",
       "<table border=\"1\" class=\"dataframe\">\n",
       "  <thead>\n",
       "    <tr style=\"text-align: right;\">\n",
       "      <th></th>\n",
       "      <th>category</th>\n",
       "      <th>not_repeat_sales</th>\n",
       "    </tr>\n",
       "  </thead>\n",
       "  <tbody>\n",
       "    <tr>\n",
       "      <th>0</th>\n",
       "      <td>Accessory</td>\n",
       "      <td>57873.72</td>\n",
       "    </tr>\n",
       "    <tr>\n",
       "      <th>1</th>\n",
       "      <td>Equipment</td>\n",
       "      <td>143461.97</td>\n",
       "    </tr>\n",
       "    <tr>\n",
       "      <th>2</th>\n",
       "      <td>Food</td>\n",
       "      <td>120317.11</td>\n",
       "    </tr>\n",
       "    <tr>\n",
       "      <th>3</th>\n",
       "      <td>Housing</td>\n",
       "      <td>57299.10</td>\n",
       "    </tr>\n",
       "    <tr>\n",
       "      <th>4</th>\n",
       "      <td>Medicine</td>\n",
       "      <td>79429.19</td>\n",
       "    </tr>\n",
       "    <tr>\n",
       "      <th>5</th>\n",
       "      <td>Toys</td>\n",
       "      <td>139865.35</td>\n",
       "    </tr>\n",
       "    <tr>\n",
       "      <th>6</th>\n",
       "      <td>Unknown</td>\n",
       "      <td>12604.16</td>\n",
       "    </tr>\n",
       "  </tbody>\n",
       "</table>\n",
       "</div>\n",
       "      <button class=\"colab-df-convert\" onclick=\"convertToInteractive('df-6ed9b0dc-3934-4016-9598-9e9ae384a959')\"\n",
       "              title=\"Convert this dataframe to an interactive table.\"\n",
       "              style=\"display:none;\">\n",
       "        \n",
       "  <svg xmlns=\"http://www.w3.org/2000/svg\" height=\"24px\"viewBox=\"0 0 24 24\"\n",
       "       width=\"24px\">\n",
       "    <path d=\"M0 0h24v24H0V0z\" fill=\"none\"/>\n",
       "    <path d=\"M18.56 5.44l.94 2.06.94-2.06 2.06-.94-2.06-.94-.94-2.06-.94 2.06-2.06.94zm-11 1L8.5 8.5l.94-2.06 2.06-.94-2.06-.94L8.5 2.5l-.94 2.06-2.06.94zm10 10l.94 2.06.94-2.06 2.06-.94-2.06-.94-.94-2.06-.94 2.06-2.06.94z\"/><path d=\"M17.41 7.96l-1.37-1.37c-.4-.4-.92-.59-1.43-.59-.52 0-1.04.2-1.43.59L10.3 9.45l-7.72 7.72c-.78.78-.78 2.05 0 2.83L4 21.41c.39.39.9.59 1.41.59.51 0 1.02-.2 1.41-.59l7.78-7.78 2.81-2.81c.8-.78.8-2.07 0-2.86zM5.41 20L4 18.59l7.72-7.72 1.47 1.35L5.41 20z\"/>\n",
       "  </svg>\n",
       "      </button>\n",
       "      \n",
       "  <style>\n",
       "    .colab-df-container {\n",
       "      display:flex;\n",
       "      flex-wrap:wrap;\n",
       "      gap: 12px;\n",
       "    }\n",
       "\n",
       "    .colab-df-convert {\n",
       "      background-color: #E8F0FE;\n",
       "      border: none;\n",
       "      border-radius: 50%;\n",
       "      cursor: pointer;\n",
       "      display: none;\n",
       "      fill: #1967D2;\n",
       "      height: 32px;\n",
       "      padding: 0 0 0 0;\n",
       "      width: 32px;\n",
       "    }\n",
       "\n",
       "    .colab-df-convert:hover {\n",
       "      background-color: #E2EBFA;\n",
       "      box-shadow: 0px 1px 2px rgba(60, 64, 67, 0.3), 0px 1px 3px 1px rgba(60, 64, 67, 0.15);\n",
       "      fill: #174EA6;\n",
       "    }\n",
       "\n",
       "    [theme=dark] .colab-df-convert {\n",
       "      background-color: #3B4455;\n",
       "      fill: #D2E3FC;\n",
       "    }\n",
       "\n",
       "    [theme=dark] .colab-df-convert:hover {\n",
       "      background-color: #434B5C;\n",
       "      box-shadow: 0px 1px 3px 1px rgba(0, 0, 0, 0.15);\n",
       "      filter: drop-shadow(0px 1px 2px rgba(0, 0, 0, 0.3));\n",
       "      fill: #FFFFFF;\n",
       "    }\n",
       "  </style>\n",
       "\n",
       "      <script>\n",
       "        const buttonEl =\n",
       "          document.querySelector('#df-6ed9b0dc-3934-4016-9598-9e9ae384a959 button.colab-df-convert');\n",
       "        buttonEl.style.display =\n",
       "          google.colab.kernel.accessAllowed ? 'block' : 'none';\n",
       "\n",
       "        async function convertToInteractive(key) {\n",
       "          const element = document.querySelector('#df-6ed9b0dc-3934-4016-9598-9e9ae384a959');\n",
       "          const dataTable =\n",
       "            await google.colab.kernel.invokeFunction('convertToInteractive',\n",
       "                                                     [key], {});\n",
       "          if (!dataTable) return;\n",
       "\n",
       "          const docLinkHtml = 'Like what you see? Visit the ' +\n",
       "            '<a target=\"_blank\" href=https://colab.research.google.com/notebooks/data_table.ipynb>data table notebook</a>'\n",
       "            + ' to learn more about interactive tables.';\n",
       "          element.innerHTML = '';\n",
       "          dataTable['output_type'] = 'display_data';\n",
       "          await google.colab.output.renderOutput(dataTable, element);\n",
       "          const docLink = document.createElement('div');\n",
       "          docLink.innerHTML = docLinkHtml;\n",
       "          element.appendChild(docLink);\n",
       "        }\n",
       "      </script>\n",
       "    </div>\n",
       "  </div>\n",
       "  "
      ],
      "text/plain": [
       "    category  not_repeat_sales\n",
       "0  Accessory          57873.72\n",
       "1  Equipment         143461.97\n",
       "2       Food         120317.11\n",
       "3    Housing          57299.10\n",
       "4   Medicine          79429.19\n",
       "5       Toys         139865.35\n",
       "6    Unknown          12604.16"
      ]
     },
     "execution_count": 49,
     "metadata": {},
     "output_type": "execute_result"
    }
   ],
   "source": [
    "not_repeat_sales = data_cleared[['category', 'sales']][data_cleared['repeat_purchase'] == 0].groupby('category', as_index=False) \\\n",
    "                                                                                            .sum() \\\n",
    "                                                                                            .rename(columns={'sales':'not_repeat_sales'})\n",
    "not_repeat_sales"
   ]
  },
  {
   "cell_type": "code",
   "execution_count": null,
   "metadata": {
    "colab": {
     "base_uri": "https://localhost:8080/",
     "height": 269
    },
    "id": "DFAEfbADvzrG",
    "outputId": "fe58374e-4371-4686-971f-b75b579507c6"
   },
   "outputs": [
    {
     "data": {
      "text/html": [
       "\n",
       "  <div id=\"df-f0fee0c3-d0c8-496a-9a1f-c1bccc4844c3\">\n",
       "    <div class=\"colab-df-container\">\n",
       "      <div>\n",
       "<style scoped>\n",
       "    .dataframe tbody tr th:only-of-type {\n",
       "        vertical-align: middle;\n",
       "    }\n",
       "\n",
       "    .dataframe tbody tr th {\n",
       "        vertical-align: top;\n",
       "    }\n",
       "\n",
       "    .dataframe thead th {\n",
       "        text-align: right;\n",
       "    }\n",
       "</style>\n",
       "<table border=\"1\" class=\"dataframe\">\n",
       "  <thead>\n",
       "    <tr style=\"text-align: right;\">\n",
       "      <th></th>\n",
       "      <th>category</th>\n",
       "      <th>total_sales</th>\n",
       "    </tr>\n",
       "  </thead>\n",
       "  <tbody>\n",
       "    <tr>\n",
       "      <th>0</th>\n",
       "      <td>Accessory</td>\n",
       "      <td>121273.44</td>\n",
       "    </tr>\n",
       "    <tr>\n",
       "      <th>1</th>\n",
       "      <td>Equipment</td>\n",
       "      <td>348875.24</td>\n",
       "    </tr>\n",
       "    <tr>\n",
       "      <th>2</th>\n",
       "      <td>Food</td>\n",
       "      <td>287138.16</td>\n",
       "    </tr>\n",
       "    <tr>\n",
       "      <th>3</th>\n",
       "      <td>Housing</td>\n",
       "      <td>175330.31</td>\n",
       "    </tr>\n",
       "    <tr>\n",
       "      <th>4</th>\n",
       "      <td>Medicine</td>\n",
       "      <td>214066.25</td>\n",
       "    </tr>\n",
       "    <tr>\n",
       "      <th>5</th>\n",
       "      <td>Toys</td>\n",
       "      <td>319897.10</td>\n",
       "    </tr>\n",
       "    <tr>\n",
       "      <th>6</th>\n",
       "      <td>Unknown</td>\n",
       "      <td>28316.27</td>\n",
       "    </tr>\n",
       "  </tbody>\n",
       "</table>\n",
       "</div>\n",
       "      <button class=\"colab-df-convert\" onclick=\"convertToInteractive('df-f0fee0c3-d0c8-496a-9a1f-c1bccc4844c3')\"\n",
       "              title=\"Convert this dataframe to an interactive table.\"\n",
       "              style=\"display:none;\">\n",
       "        \n",
       "  <svg xmlns=\"http://www.w3.org/2000/svg\" height=\"24px\"viewBox=\"0 0 24 24\"\n",
       "       width=\"24px\">\n",
       "    <path d=\"M0 0h24v24H0V0z\" fill=\"none\"/>\n",
       "    <path d=\"M18.56 5.44l.94 2.06.94-2.06 2.06-.94-2.06-.94-.94-2.06-.94 2.06-2.06.94zm-11 1L8.5 8.5l.94-2.06 2.06-.94-2.06-.94L8.5 2.5l-.94 2.06-2.06.94zm10 10l.94 2.06.94-2.06 2.06-.94-2.06-.94-.94-2.06-.94 2.06-2.06.94z\"/><path d=\"M17.41 7.96l-1.37-1.37c-.4-.4-.92-.59-1.43-.59-.52 0-1.04.2-1.43.59L10.3 9.45l-7.72 7.72c-.78.78-.78 2.05 0 2.83L4 21.41c.39.39.9.59 1.41.59.51 0 1.02-.2 1.41-.59l7.78-7.78 2.81-2.81c.8-.78.8-2.07 0-2.86zM5.41 20L4 18.59l7.72-7.72 1.47 1.35L5.41 20z\"/>\n",
       "  </svg>\n",
       "      </button>\n",
       "      \n",
       "  <style>\n",
       "    .colab-df-container {\n",
       "      display:flex;\n",
       "      flex-wrap:wrap;\n",
       "      gap: 12px;\n",
       "    }\n",
       "\n",
       "    .colab-df-convert {\n",
       "      background-color: #E8F0FE;\n",
       "      border: none;\n",
       "      border-radius: 50%;\n",
       "      cursor: pointer;\n",
       "      display: none;\n",
       "      fill: #1967D2;\n",
       "      height: 32px;\n",
       "      padding: 0 0 0 0;\n",
       "      width: 32px;\n",
       "    }\n",
       "\n",
       "    .colab-df-convert:hover {\n",
       "      background-color: #E2EBFA;\n",
       "      box-shadow: 0px 1px 2px rgba(60, 64, 67, 0.3), 0px 1px 3px 1px rgba(60, 64, 67, 0.15);\n",
       "      fill: #174EA6;\n",
       "    }\n",
       "\n",
       "    [theme=dark] .colab-df-convert {\n",
       "      background-color: #3B4455;\n",
       "      fill: #D2E3FC;\n",
       "    }\n",
       "\n",
       "    [theme=dark] .colab-df-convert:hover {\n",
       "      background-color: #434B5C;\n",
       "      box-shadow: 0px 1px 3px 1px rgba(0, 0, 0, 0.15);\n",
       "      filter: drop-shadow(0px 1px 2px rgba(0, 0, 0, 0.3));\n",
       "      fill: #FFFFFF;\n",
       "    }\n",
       "  </style>\n",
       "\n",
       "      <script>\n",
       "        const buttonEl =\n",
       "          document.querySelector('#df-f0fee0c3-d0c8-496a-9a1f-c1bccc4844c3 button.colab-df-convert');\n",
       "        buttonEl.style.display =\n",
       "          google.colab.kernel.accessAllowed ? 'block' : 'none';\n",
       "\n",
       "        async function convertToInteractive(key) {\n",
       "          const element = document.querySelector('#df-f0fee0c3-d0c8-496a-9a1f-c1bccc4844c3');\n",
       "          const dataTable =\n",
       "            await google.colab.kernel.invokeFunction('convertToInteractive',\n",
       "                                                     [key], {});\n",
       "          if (!dataTable) return;\n",
       "\n",
       "          const docLinkHtml = 'Like what you see? Visit the ' +\n",
       "            '<a target=\"_blank\" href=https://colab.research.google.com/notebooks/data_table.ipynb>data table notebook</a>'\n",
       "            + ' to learn more about interactive tables.';\n",
       "          element.innerHTML = '';\n",
       "          dataTable['output_type'] = 'display_data';\n",
       "          await google.colab.output.renderOutput(dataTable, element);\n",
       "          const docLink = document.createElement('div');\n",
       "          docLink.innerHTML = docLinkHtml;\n",
       "          element.appendChild(docLink);\n",
       "        }\n",
       "      </script>\n",
       "    </div>\n",
       "  </div>\n",
       "  "
      ],
      "text/plain": [
       "    category  total_sales\n",
       "0  Accessory    121273.44\n",
       "1  Equipment    348875.24\n",
       "2       Food    287138.16\n",
       "3    Housing    175330.31\n",
       "4   Medicine    214066.25\n",
       "5       Toys    319897.10\n",
       "6    Unknown     28316.27"
      ]
     },
     "execution_count": 50,
     "metadata": {},
     "output_type": "execute_result"
    }
   ],
   "source": [
    "total_sales = data_cleared[['category', 'sales']].groupby('category', as_index=False) \\\n",
    "                                                 .sum() \\\n",
    "                                                 .rename(columns={'sales':'total_sales'})\n",
    "total_sales"
   ]
  },
  {
   "cell_type": "code",
   "execution_count": null,
   "metadata": {
    "id": "fRRSYMRnwF4t"
   },
   "outputs": [],
   "source": [
    "merged_sales = repeat_sales.merge(not_repeat_sales, on='category') \\\n",
    "                           .merge(total_sales, on='category')"
   ]
  },
  {
   "cell_type": "code",
   "execution_count": null,
   "metadata": {
    "id": "10Tkmt1mwaM2"
   },
   "outputs": [],
   "source": [
    "merged_sales['repeat_sales_%'] = round((merged_sales['repeat_sales'] / merged_sales['total_sales']) * 100, 2)"
   ]
  },
  {
   "cell_type": "code",
   "execution_count": null,
   "metadata": {
    "id": "LFX1OXRcIXVv"
   },
   "outputs": [],
   "source": [
    "merged_sales['not_repeat_sales_%'] = round((merged_sales['not_repeat_sales'] / merged_sales['total_sales']) * 100, 2)"
   ]
  },
  {
   "cell_type": "code",
   "execution_count": null,
   "metadata": {
    "colab": {
     "base_uri": "https://localhost:8080/",
     "height": 269
    },
    "id": "L9TkgcfOIgSB",
    "outputId": "86e28a85-405d-4e71-a8ee-0a2380d9a479"
   },
   "outputs": [
    {
     "data": {
      "text/html": [
       "\n",
       "  <div id=\"df-ee6ca5d7-512b-4399-926f-911b9de76a1e\">\n",
       "    <div class=\"colab-df-container\">\n",
       "      <div>\n",
       "<style scoped>\n",
       "    .dataframe tbody tr th:only-of-type {\n",
       "        vertical-align: middle;\n",
       "    }\n",
       "\n",
       "    .dataframe tbody tr th {\n",
       "        vertical-align: top;\n",
       "    }\n",
       "\n",
       "    .dataframe thead th {\n",
       "        text-align: right;\n",
       "    }\n",
       "</style>\n",
       "<table border=\"1\" class=\"dataframe\">\n",
       "  <thead>\n",
       "    <tr style=\"text-align: right;\">\n",
       "      <th></th>\n",
       "      <th>category</th>\n",
       "      <th>repeat_sales</th>\n",
       "      <th>not_repeat_sales</th>\n",
       "      <th>total_sales</th>\n",
       "      <th>repeat_sales_%</th>\n",
       "      <th>not_repeat_sales_%</th>\n",
       "    </tr>\n",
       "  </thead>\n",
       "  <tbody>\n",
       "    <tr>\n",
       "      <th>0</th>\n",
       "      <td>Accessory</td>\n",
       "      <td>63399.72</td>\n",
       "      <td>57873.72</td>\n",
       "      <td>121273.44</td>\n",
       "      <td>52.28</td>\n",
       "      <td>47.72</td>\n",
       "    </tr>\n",
       "    <tr>\n",
       "      <th>1</th>\n",
       "      <td>Equipment</td>\n",
       "      <td>205413.27</td>\n",
       "      <td>143461.97</td>\n",
       "      <td>348875.24</td>\n",
       "      <td>58.88</td>\n",
       "      <td>41.12</td>\n",
       "    </tr>\n",
       "    <tr>\n",
       "      <th>2</th>\n",
       "      <td>Food</td>\n",
       "      <td>166821.05</td>\n",
       "      <td>120317.11</td>\n",
       "      <td>287138.16</td>\n",
       "      <td>58.10</td>\n",
       "      <td>41.90</td>\n",
       "    </tr>\n",
       "    <tr>\n",
       "      <th>3</th>\n",
       "      <td>Housing</td>\n",
       "      <td>118031.21</td>\n",
       "      <td>57299.10</td>\n",
       "      <td>175330.31</td>\n",
       "      <td>67.32</td>\n",
       "      <td>32.68</td>\n",
       "    </tr>\n",
       "    <tr>\n",
       "      <th>4</th>\n",
       "      <td>Medicine</td>\n",
       "      <td>134637.06</td>\n",
       "      <td>79429.19</td>\n",
       "      <td>214066.25</td>\n",
       "      <td>62.90</td>\n",
       "      <td>37.10</td>\n",
       "    </tr>\n",
       "    <tr>\n",
       "      <th>5</th>\n",
       "      <td>Toys</td>\n",
       "      <td>180031.75</td>\n",
       "      <td>139865.35</td>\n",
       "      <td>319897.10</td>\n",
       "      <td>56.28</td>\n",
       "      <td>43.72</td>\n",
       "    </tr>\n",
       "    <tr>\n",
       "      <th>6</th>\n",
       "      <td>Unknown</td>\n",
       "      <td>15712.11</td>\n",
       "      <td>12604.16</td>\n",
       "      <td>28316.27</td>\n",
       "      <td>55.49</td>\n",
       "      <td>44.51</td>\n",
       "    </tr>\n",
       "  </tbody>\n",
       "</table>\n",
       "</div>\n",
       "      <button class=\"colab-df-convert\" onclick=\"convertToInteractive('df-ee6ca5d7-512b-4399-926f-911b9de76a1e')\"\n",
       "              title=\"Convert this dataframe to an interactive table.\"\n",
       "              style=\"display:none;\">\n",
       "        \n",
       "  <svg xmlns=\"http://www.w3.org/2000/svg\" height=\"24px\"viewBox=\"0 0 24 24\"\n",
       "       width=\"24px\">\n",
       "    <path d=\"M0 0h24v24H0V0z\" fill=\"none\"/>\n",
       "    <path d=\"M18.56 5.44l.94 2.06.94-2.06 2.06-.94-2.06-.94-.94-2.06-.94 2.06-2.06.94zm-11 1L8.5 8.5l.94-2.06 2.06-.94-2.06-.94L8.5 2.5l-.94 2.06-2.06.94zm10 10l.94 2.06.94-2.06 2.06-.94-2.06-.94-.94-2.06-.94 2.06-2.06.94z\"/><path d=\"M17.41 7.96l-1.37-1.37c-.4-.4-.92-.59-1.43-.59-.52 0-1.04.2-1.43.59L10.3 9.45l-7.72 7.72c-.78.78-.78 2.05 0 2.83L4 21.41c.39.39.9.59 1.41.59.51 0 1.02-.2 1.41-.59l7.78-7.78 2.81-2.81c.8-.78.8-2.07 0-2.86zM5.41 20L4 18.59l7.72-7.72 1.47 1.35L5.41 20z\"/>\n",
       "  </svg>\n",
       "      </button>\n",
       "      \n",
       "  <style>\n",
       "    .colab-df-container {\n",
       "      display:flex;\n",
       "      flex-wrap:wrap;\n",
       "      gap: 12px;\n",
       "    }\n",
       "\n",
       "    .colab-df-convert {\n",
       "      background-color: #E8F0FE;\n",
       "      border: none;\n",
       "      border-radius: 50%;\n",
       "      cursor: pointer;\n",
       "      display: none;\n",
       "      fill: #1967D2;\n",
       "      height: 32px;\n",
       "      padding: 0 0 0 0;\n",
       "      width: 32px;\n",
       "    }\n",
       "\n",
       "    .colab-df-convert:hover {\n",
       "      background-color: #E2EBFA;\n",
       "      box-shadow: 0px 1px 2px rgba(60, 64, 67, 0.3), 0px 1px 3px 1px rgba(60, 64, 67, 0.15);\n",
       "      fill: #174EA6;\n",
       "    }\n",
       "\n",
       "    [theme=dark] .colab-df-convert {\n",
       "      background-color: #3B4455;\n",
       "      fill: #D2E3FC;\n",
       "    }\n",
       "\n",
       "    [theme=dark] .colab-df-convert:hover {\n",
       "      background-color: #434B5C;\n",
       "      box-shadow: 0px 1px 3px 1px rgba(0, 0, 0, 0.15);\n",
       "      filter: drop-shadow(0px 1px 2px rgba(0, 0, 0, 0.3));\n",
       "      fill: #FFFFFF;\n",
       "    }\n",
       "  </style>\n",
       "\n",
       "      <script>\n",
       "        const buttonEl =\n",
       "          document.querySelector('#df-ee6ca5d7-512b-4399-926f-911b9de76a1e button.colab-df-convert');\n",
       "        buttonEl.style.display =\n",
       "          google.colab.kernel.accessAllowed ? 'block' : 'none';\n",
       "\n",
       "        async function convertToInteractive(key) {\n",
       "          const element = document.querySelector('#df-ee6ca5d7-512b-4399-926f-911b9de76a1e');\n",
       "          const dataTable =\n",
       "            await google.colab.kernel.invokeFunction('convertToInteractive',\n",
       "                                                     [key], {});\n",
       "          if (!dataTable) return;\n",
       "\n",
       "          const docLinkHtml = 'Like what you see? Visit the ' +\n",
       "            '<a target=\"_blank\" href=https://colab.research.google.com/notebooks/data_table.ipynb>data table notebook</a>'\n",
       "            + ' to learn more about interactive tables.';\n",
       "          element.innerHTML = '';\n",
       "          dataTable['output_type'] = 'display_data';\n",
       "          await google.colab.output.renderOutput(dataTable, element);\n",
       "          const docLink = document.createElement('div');\n",
       "          docLink.innerHTML = docLinkHtml;\n",
       "          element.appendChild(docLink);\n",
       "        }\n",
       "      </script>\n",
       "    </div>\n",
       "  </div>\n",
       "  "
      ],
      "text/plain": [
       "    category  repeat_sales  not_repeat_sales  total_sales  repeat_sales_%  \\\n",
       "0  Accessory      63399.72          57873.72    121273.44           52.28   \n",
       "1  Equipment     205413.27         143461.97    348875.24           58.88   \n",
       "2       Food     166821.05         120317.11    287138.16           58.10   \n",
       "3    Housing     118031.21          57299.10    175330.31           67.32   \n",
       "4   Medicine     134637.06          79429.19    214066.25           62.90   \n",
       "5       Toys     180031.75         139865.35    319897.10           56.28   \n",
       "6    Unknown      15712.11          12604.16     28316.27           55.49   \n",
       "\n",
       "   not_repeat_sales_%  \n",
       "0               47.72  \n",
       "1               41.12  \n",
       "2               41.90  \n",
       "3               32.68  \n",
       "4               37.10  \n",
       "5               43.72  \n",
       "6               44.51  "
      ]
     },
     "execution_count": 54,
     "metadata": {},
     "output_type": "execute_result"
    }
   ],
   "source": [
    "merged_sales"
   ]
  },
  {
   "cell_type": "code",
   "execution_count": null,
   "metadata": {
    "id": "EArCdPZm4W4O"
   },
   "outputs": [],
   "source": [
    "import numpy as np\n",
    "import plotly.graph_objects as go\n",
    "\n",
    "category=categories\n",
    "\n",
    "fig = go.Figure(data=[\n",
    "    go.Bar(name='Repeated sales', \n",
    "           x=category, \n",
    "           y=merged_sales['repeat_sales'], \n",
    "           text = merged_sales['repeat_sales_%'], \n",
    "           textposition = 'inside',  \n",
    "           outsidetextfont= dict(size=12)),\n",
    "    go.Bar(name='Not repeat sales', \n",
    "           x=category, \n",
    "           y=merged_sales['not_repeat_sales'], \n",
    "           text = merged_sales['not_repeat_sales_%'], \n",
    "           textposition = 'outside',  \n",
    "           outsidetextfont= dict(size=12), \n",
    "           marker = {\"color\": \"indianred\"})\n",
    "])\n",
    "\n",
    "fig.update_layout(barmode='stack')\n",
    "fig.update_traces(texttemplate='%{text}%', textposition='inside')\n",
    "fig.update_layout(title='Distribution of the sales amount of repeat and not repeated purchases by category',\n",
    "                  xaxis_title='Category',\n",
    "                  yaxis_title='Sales')\n",
    "\n",
    "\n",
    "fig.show('notebook')"
   ]
  },
  {
   "cell_type": "markdown",
   "metadata": {
    "id": "jj5o-3Dn9fKv"
   },
   "source": [
    "![newplot (5).png](data:image/png;base64,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)"
   ]
  },
  {
   "cell_type": "markdown",
   "metadata": {
    "id": "bS76XI93JY9T"
   },
   "source": [
    "We want to see which categories are more repeat buyers and how the amount of repeat sales relates to the sum of all sales in each category.\n",
    "\n",
    "We can see that the average percentage of repeat sales ranges from 52-58 percent, with Housing and Medicine having the highest percentages (67 and 63 percent, respectively). However, despite the average percentage of repeat sales, items in the Equipment category make the most profit due to the highest volume of all sales.\n",
    "\n",
    "Since the Food, Housing, and Medicine product categories have a fairly high percentage of repeat sales, but the total volume is much lower than in the Equipment category, we can recommend focusing on increasing the total number of sales in those categories."
   ]
  },
  {
   "cell_type": "code",
   "execution_count": null,
   "metadata": {
    "id": "bkAfscFmgGs0"
   },
   "outputs": [],
   "source": [
    "import numpy as np\n",
    "import plotly.graph_objects as go\n",
    "\n",
    "category=categories\n",
    "\n",
    "fig = go.Figure(data=[\n",
    "    go.Bar(name='All sales', \n",
    "           x=category, \n",
    "           y=merged_sales['total_sales'], \n",
    "           text = merged_sales['total_sales'], \n",
    "           textposition = 'inside', \n",
    "           texttemplate='%{text:.2s}', \n",
    "           outsidetextfont= dict(size=12)),\n",
    "    go.Bar(name='Repeated sales', \n",
    "           x=category, \n",
    "           y=merged_sales['repeat_sales'], \n",
    "           text = merged_sales['repeat_sales_%'], \n",
    "           textposition = 'inside', \n",
    "           texttemplate='%{y:.2s}<br>%{text}%',  \n",
    "           outsidetextfont= dict(size=12), \n",
    "           marker = {\"color\": \"indianred\"})\n",
    "])\n",
    "\n",
    "fig.update_layout(barmode='group')\n",
    "fig.update_layout(title='Relationship between total sales and repeat purchases by category',\n",
    "                  xaxis_title='Category',\n",
    "                  yaxis_title='Sales')\n",
    "\n",
    "\n",
    "fig.show('notebook')"
   ]
  },
  {
   "cell_type": "markdown",
   "metadata": {
    "id": "jzAZcQTs9TmF"
   },
   "source": [
    "![newplot (4).png](data:image/png;base64,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)"
   ]
  },
  {
   "cell_type": "markdown",
   "metadata": {
    "id": "sAzmTPL4JcG4"
   },
   "source": [
    "Now let's look at the total ratio of repeat sales to all sales for last year. We can see that the amount of repeat sales is a little more than half of all sales (59.1%). A more thorough analysis is needed to assess how the proportion of repeat sales to total sales has changed over the past year, since we do not have historical data on what the ratio was before. Also, we need to clarify if any categories other than Food are included in the concept of \"Everyday products\"."
   ]
  },
  {
   "cell_type": "code",
   "execution_count": null,
   "metadata": {
    "id": "MmPrObxDplfN"
   },
   "outputs": [],
   "source": [
    "import plotly.express as px\n",
    "import warnings\n",
    "warnings.filterwarnings(\"ignore\")\n",
    "\n",
    "fig = px.pie(data_cleared, values='sales', \n",
    "             names='repeat_purchase',\n",
    "             color='repeat_purchase',\n",
    "             color_discrete_map={0 : 'royalblue',\n",
    "                                 1 :'indianred'},\n",
    "             title='Ratio of repeat sales to all sales')\n",
    "\n",
    "newnames = {0: 'Not repeated purchase', 1: 'Repeated purchase'}\n",
    "\n",
    "fig.for_each_trace(lambda t: t.update(labels=[newnames[label] for label in t.labels]))\n",
    "\n",
    "fig.show('notebook')"
   ]
  },
  {
   "cell_type": "markdown",
   "metadata": {
    "id": "E-clRRwa9Kyd"
   },
   "source": [
    "![newplot (3).png](data:image/png;base64,iVBORw0KGgoAAAANSUhEUgAAA9gAAAINCAYAAADFrtdZAAAAAXNSR0IArs4c6QAAIABJREFUeF7s3Ql4FeXZ//H7ZCEJkAUCmLAmYUdAoP+6tohLq1KthbrUrfqClKrYKigSFFFQQKmKtogbiFutWtu6VLCtvrzFWtTWyiIiuICQkJCNhITsyf+aQyYdDifJOTlzZp6Z+ea6vKpk5nnu+/M8sf4yy/E1Nzc3C18IIIAAAggggAACCCCAAAIIIBCRgI+AHZEfJyOAAAIIIIAAAggggAACCCDgFyBgsxEQQAABBBBAAAEEEEAAAQQQMEGAgG0CIkMggAACCCCAAAIIIIAAAgggQMBmDyCAAAIIIIAAAggggAACCCBgggAB2wREhkAAAQQQQAABBBBAAAEEEECAgM0eQAABBBBAAAEEEEAAAQQQQMAEAQK2CYgMgQACCCCAAAIIIIAAAggggAABmz2AAAIIIIAAAggggAACCCCAgAkCBGwTEBkCAQQQQAABBBBAAAEEEEAAAQI2ewABBBBAAAEEEEAAAQQQQAABEwQI2CYgMgQCCCCAAAIIIIAAAggggAACBGz2AAIIIIAAAggggAACCCCAAAImCBCwTUBkCAQQQAABBBBAAAEEEEAAAQQI2OwBBBBAAAEEEEAAAQQQQAABBEwQIGCbgMgQCCCAAAIIIIAAAggggAACCBCw2QMIIIAAAggggAACCCCAAAIImCBAwDYBkSEQQAABBBBAAAEEEEAAAQQQIGCzBxBAAAEEEEAAAQQQQAABBBAwQYCAbQIiQyCAAAIIIIAAAggggAACCCBAwGYPIIAAAggggAACCCCAAAIIIGCCAAHbBESGQAABBBBAAAEEEEAAAQQQQICAzR5AAAEEEEAAAQQQQAABBBBAwAQBArYJiAyBAAIIIIAAAggggAACCCCAAAGbPYAAAggggAACCCCAAAIIIICACQIEbBMQGQIBBBBAAAEEEEAAAQQQQAABAjZ7AAEEEEAAAQQQQAABBBBAAAETBAjYJiAyBAIIIIAAAggggAACCCCAAAIEbPYAAggggAACCCCAAAIIIIAAAiYIELBNQGQIBBBAAAEEEEAAAQQQQAABBAjY7AEEEEAAAQQQQAABBBBAAAEETBAgYJuAyBAIIIAAAggggAACCCCAAAIIELDZAwgggAACCCCAAAIIIIAAAgiYIEDANgGRIRBAAAEEEEAAAQQQQAABBBAgYLMHEEAAAQQQQAABBBBAAAEEEDBBgIBtAiJDIIAAAggggAACCCCAAAIIIEDAZg8ggAACCCCAAAIIIIAAAgggYIIAAdsERLuG+HJPvsyc+4DsLyzxl7B2xTz59rgRdpXj6nkffPxl+fCTHbJq2c3SIzXZ1b0amysrPyTXzXtIThw3QmbPvMT/LX3fXX/1hTJ18kTLLP7w1t/l0Wdek8fvnyODB/W1bF4mQgABBBBAAAEEEEAgVAHXBGw9CGz97Ktjel88d1qng0Bb/1Gvzzewbx+5+9ZpkpTYJVRzU46zK+SYUnwnBrE7XNkRsIOF207QRXQKATsiPk5GAAEEEEAAAQQQ8JiA6wK28UqbtpYffbJDrrlpmUy/bHLrFbhw1ljVgK3V9fIbGzxzRZWAfeTqsdVfBGyrxZkPAQQQQAABBBBAwMkCrg/Y2uJoVx/feveDTt1aanewa2tzEbCt/bHjCja3iFu745gNAQQQQAABBBBAwIkCng3YWkBdcP+ao9Ys87j0o0J4sGO0E7RnnYdk9zvm2VR9MC2MrX7xrdaxw716HjjvD846+ajb0APH1yYKPCZwM+oB8aG7bpCHnnhF/vzOJjH2W11TJwuXr/H/uf4VeGu98bZ07RijX7Dnv4Pdth94XKTr0N4z58F6MjoF+35blm0FbP0OCd1szMicY+4qCHxWXju2o8cW2nrkwVh/KL5t/Usp1N7NuIIduF8DjULZA1ofbf2yK5Q16GgvOPFf3tSMAAIIIIAAAgggoJ6A6wO2/h/WGr3xWWntP9a1L+NLmoL9B3xHt4gbb0kPNle4z2oHBjl9zG/yDxwV3MK9gq2HnMBfImgGegCcfOZJrbfRtxestJeqGQOiHnCM4Vn/M+NxwZ4bj3QdOgqQxnUP7EmzXb7qd3LF1LNbX5rV1n4JFrCD3RkRuF+C9RzMK1gf7T2D3d64HYV3ba5Qe480YLe1n43rEskeCGUN2vu5DHykRL1/RVMRAggggAACCCCAgJMEXB+w9atjobxhWw8Tl1wwqTV4hxOw2zo21BeStRW8goWczgTstt6CrYWUggOlx7ysLZSwqIc17eq3Hpq0/9X+OaNPz2Oeew/lVutw1qGtH7a2zLWw9fdNn8g5k05s8+dUW4fcpU8edTdDYN36+EtzZxz15vbAtWpvT1TX1Mro4dlt1tFWwG7rlwDaQJE+0hDYeyQBu71fELy94UOZePK4Nl8OGMoeCHUNItkLTvqXObUigAACCCCAAAII2C/guoAd+Bbx9m7PDnbrrrYkxiuA4QTstoJqqG+Dbis0BwtUZgXsYEFG35aBAaa9XxQYA2jpwUP+jw8LDJ/auMHCayTr0NaPkPH26Y5+uRLKLcqBAbs9f+M+2LbjK/9L9oLdOt7Rj39b+6a9NQv16rg+d0e9RxKwjbdld3RVvTN7INQ1qKmt9T/Oof27oaO90NGa8H0EEEAAAQQQQAABBNoTcF3ANt7yqd8WHew/qvXvGf/DP5SrZjpmsNuNjVdxjR/b1d4VR+PitHd1N5yAF2zB2xq7rWBjHEP3ay9gG8POF1/n+UNlW1/G29QjXYf2NnewZ5SNQVf/fnFp+VFXq0O5gh3sOXhjLcZnpQOfEdaOC+W5/LYCdnvrEOrdEqH2HknA1voM9uxz4GMKnd0D4axBR3uB/5tAAAEEEEAAAQQQQMAMAVcHbON/3BtDdlshJJKArS2G265gB24wM65gG8c0Yx3C+SHQg64efte9u0kefea1Y94uH0rADvcOgsBfpGgvwevoqm40r2C398Iw4+3xkQbstvZQr56p/ncK6Hc7XH/1hUe9DyGUn8VI1iBwL1j9Ofbh7FuORQABBBBAAAEEEHCOgKsDtrYMwa7UdfSss/EZ7GBhyziu8Yq5E5/BDvXqutZze8+yGp+5DvWWeDPWoa0fNa3WYM84G6/kP/27dRLsufRQAnaot2L/fdNm/+3hPVKTW0sN1Udfm8Bn2c14Bru9t6KbFbC1PrXbsieefMJRy2T8OSktq/Df7RB4l0koATvUNQhlLxjXxzn/+qZSBBBAAAEEEEAAAdUEXB+wjcFQv2qm/Zn2TKYxHBtvIe3ozddtBexgb/zWxx3Yt88xLxELthkC34ps5lvE23rJmR6cJ4weelSNgW+abitgB3uTsx5+Am+F1jyWPvKC5P7iCn/7ka5DewFbew7ceGU0MNi29/bzYLcxB/q19QiCNu7GD7b4X/AW7JcuoQZDrbeObu03vvk92Jvb2/IJtfdIrmAHOzfwlwP689Gh/CwGswxlDYLt21B/yaHav7CpBwEEEEAAAQQQQEBtAU8EbG0J9EChB6eeacmtLz7Svq9dZVySO0PmL31SjFewjefqS2n352BrdYR7e2xHb+9u63ORjQG5ree123qBV7DnXrXagz33rr+cLtx1aO9zsIM9+xx4W3bgMVq/3z1pbIdvEdf3QrA52nrGWD8n2EeltfWvicB1MetzsIPt62C9RxKwjb/c0j7aTf8K9ksX/SVk7f0shvo52NoYgcah7AW1/1VNdQgggAACCCCAAAJOEHBNwHYCttNrDPUFWk7vk/oRQAABBBBAAAEEEEAAgc4IELA7o+bRcwjYHl142kYAAQQQQAABBBBAAIGQBAjYITFxkCZAwGYfIIAAAggggAACCCCAAAJtCxCw2R0IIIAAAggggAACCCCAAAIImCBAwDYBkSEQQAABBBBAAAEEEEAAAQQQIGCzBxBAAAEEEEAAAQQQQAABBBAwQYCAbQIiQyCAAAIIIIAAAggggAACCCBAwGYPIIAAAggggAACCCCAAAIIIGCCAAHbBESGQAABBBBAAAEEEEAAAQQQQICAzR5AAAEEEEAAAQQQQAABBBBAwAQBArYJiAyBAAIIIIAAAggggAACCCCAAAGbPYAAAggggAACCCCAAAIIIICACQIEbBMQGQIBBBBAAAEEEEAAAQQQQAABAjZ7AAEEEEAAAQQQQAABBBBAAAETBAjYJiAyBAIIIIAAAggggAACCCCAAAIEbPYAAggggAACCCCAAAIIIIAAAiYIELBNQGQIBBBAAAEEEEAAAQQQQAABBAjY7AEEEEAAAQQQQAABBBBAAAEETBAgYJuAyBAIIIAAAggggAACCCCAAAIIELDZAwgggAACCCCAAAIIIIAAAgiYIEDANgGRIRBAAAEEEEAAAQQQQAABBBAgYLMHEEAAAQQQQAABBBBAAAEEEDBBgIBtAiJDIIAAAggggAACCCCAAAIIIEDAZg8ggAACCCCAAAIIIIAAAgggYIIAAdsERIZAAAEEEEAAAQQQQAABBBBAgIDNHkAAAQQQQAABBBBAAAEEEEDABAECtgmIDIEAAggggAACCCCAAAIIIIAAAZs9gAACCCCAAAIIIIAAAggggIAJAgRsExAZAgEEEEAAAQQQQAABBBBAAAECNnsAAQQQQAABBBBAAAEEEEAAARMECNgmIDIEAggggAACCCCAAAIIIIAAAgRs9gACCCCAAAIIIIAAAggggAACJggQsE1AZAgEEEAAAQQQQAABBBBAAAEECNjsAQQQQAABBBBAAAEEEEAAAQRMECBgm4DIEAgggAACCCCAAAIIIIAAAggQsNkDCCCAAAIIIIAAAggggAACCJggQMA2AZEhEEAAAQQQQAABBBBAAAEEECBgswcQQAABBBBAAAEEEEAAAQQQMEGAgG0CIkMggAACCCCAAAIIIIAAAgggQMBmDyCAAAIIIIAAAggggAACCCBgggAB2wREhkAAAQQQQAABBBBAAAEEEECAgM0eQAABBBBAAAEEEEAAAQQQQMAEAQK2CYgMgQACCCCAAAIIIIAAAggggAABmz2AAAIIIIAAAggggAACCCCAgAkCBGwTEBkCAQQQQAABBBBAAAEEEEAAAQI2ewABBBBAAAEEEEAAAQQQQAABEwQI2CYgMgQCCCCAAAIIIIAAAggggAACBGz2AAIIIIAAAggggAACCCCAAAImCBCwTUBkCAQQQAABBBBAAAEEEEAAAQQI2OwBBBBAAAEEEEAAAQQQQAABBEwQIGCbgMgQCCCAAAJtC5SUN8r+kgYpLGmQgtJGqapukrq6Zqmpa5ba+mapq2/y/2+t9s8tf9b6z/4/b5IfDsyXUzavlJiEBPHFxbX+FaP/fXy8xMTG+r8fl5IiXXr2lLjUVIlPS5MuPXr4/ze+Z0//9/lCAAEEEEAAAQSiJUDAjpYs4yKAAAIeEaioapL9xQ3+EF2g/VWsBekG/58VljZKXX1zxBJTs/Pl1C0rIx5HC9j+0J2eLgnHHSeJmZmSkJHR+r8RT8AACCCAAAIIIOBpAQK2p5ef5hFAAIHQBQ7XNMvne2rl82/qZMfuOvmmoN4fpGtqIw/QHVUxJTtfTjMhYHc0T0Jmpj9sJ7aE7sR+/aRrVpb44uM7OpXvI4AAAggggAACQsBmEyCAAAIIHCOghWYtSO/0/1Urn++pk30HGmyTMusKdqca8PkkqX9/6ZqdLd1ycqRrTo4kDRjgv02dLwQQQAABBBBAwChAwGY/IIAAAh4X0G7h3rm3TnbuqfMH6c+/qZW9hQ3SHP0L0yHL2xqw26hSC9za1W0tcHcbPNgfuvlCAAEEEEAAAW8LELC9vf50jwACHhX4Yl+9fPhptXy0vVq2fVkrjU1qQ6gYsAPF4tLSJOX44yVl9Gj/X9o/84UAAggggAAC3hIgYHtrvekWAQQ8KnDocJP867Ma+aAlVJdVKJ6oA9bJCQE7cGsl9u0ryS1hO3nkSIlJTPTo7qNtBBBAAAEEvCNAwPbOWtMpAgh4SKCpWeTz3XXy4fZq/1/aS8lUuuU73KVwYsA+qsfYWEkePlxSJ0yQtG99S7r06hUuAccjgAACCCCAgAMECNgOWCRKRAABBEIR0N7y/d7mw/LBtmr56LMaqTzsrKvU7fVo1VvEQ3E24xjt7eSp48dL2oQJ0m3IEBGfz4xhGQMBBBBwlEBTTY0UrlsXcs2xiYnS57zzQj6eAxGwQ4CAbYc6cyKAAAImCWhXqv+1vUbWb6qUf2w+LPX2vejbpI6CD+P4K9jt6MSlpEjquHH+q9vas9vaZ3XzhQACCHhBoP7gQdl6440htxqfliZjfv3rkI93+4Fl5YfkunkPyZyZl8i3x42wrd0v9+TL7UuflHtzZ8jgQX1tq0OViQnYqqwEdSCAAAJhCOwvbpA336uUv35QJcXljWGc6cxD3RywA1ckZdw46TVxoqR9+9vOXCyqRgABBEIUsDJgV9fUycLla+TP72xqrW7MyBxZtexm6ZGaHGLF5h4WaUCO9HyzuiFgHy1JwDZrZzEOAgggEGWB6tpmeeejKln/z0rZ/nVdlGdTa3gvBWxdPr5HD0k//XTpPWmSxKenq7UgVIMAAgiYIGBHwD75W6Nk6uSJ/uoffPxlKThQKnffOk2SEruY0FF4Q0QakCM9P7xq2z6agE3ANmsvMQ4CCCAQdQHtxWT/3lEjb2+qlI2fVIv2mdVe/PJiwG5dZ59PUsaMkV6TJvlfkCYxMV7cAvSMAAIuFLA7YH/0yQ554PGXW69iB17lXjx3mj+M60H2/LNPkbUvr5f9hSXyg7NOPiqYa2Ndc9My/yoFXhnXgvzqF9/yfy/zuHR5/P45/lupjX+ufU+fr72xtDA7c+4D/hr0r7Ur5gW9RfwPb/1dNv17u3Tv3lVeeu1d/+H6scHCuVZP1oAMf8+B506/bLLMnnmJGGvTe9HG1W4RP/97p8rSX7/gn0c/Xvt7fa6tn33l/16gXVs+ba2H6j8KXMFWfYWoDwEEPClQWNoob753SP7yQZUUlbn/FvCOFtnTAduAE5eaKunf/a70Puss3kTe0abh+wggoLyA3QFbC3balxYc9TCX0aen/5+1UJi75Em59fqfSM+0ZP+zzgP79vGHau1Lu91cvxquhc7cpU+2BmctnO7eW9A6zlvvbJIrpn7Pf57xqnlNbe0xz1B3NJZWxyUXTDoq+Lf1DLZWx4L717SGauMvFLRaAp/fDgzYxnO14wNr08J+dU2tJCUm+EP/5DNPau3ZOLZ2nvalPSeuh229B+17r7yxofWXFfqxo0fk+I2DrYfqz3kTsJX/Vw8FIoCAlwQ+31Mnz75VLv/cWu2ltjvslYB9LJF2NTvzRz+SpKysDv04AAEEEFBRwI6AbXwGW79irNkEu81ZD5xnnDb+mDCqX+HVAveqZ/7UGtT1sZY/+jtZOn/GMc93hxJy9dAfONYXX+cddcW9o1vEjTVqt8Abjx+S3a/DgK1d/TbePm/8hYRxPwXa6b+suPiCSUGvrBvH0Wp8+Y0NxzwL39566Lf4q7intZoI2KquDHUhgICnBD7eUSPPry+XT3bWeqrvUJslYLctlTx6tGT+8IfSfeTIUDk5DgEEEFBCwI6ArV91DgyfwW691pC0EB4sYBuvvGoBW78FXIc13iZuvK1a+77+Pe3vg11FbmssLWAbr/aGG7CNwbezAVu/hTzcgB14O7zxFnLj9/Tbx/MLi4+5FV5fDwK2Ej++FIEAAgioKfCPzdXywvpy2bHHWy8tC3c1CNgdi2mfp53xwx/6P1+bLwQQQMAJAnYGbD1s6oFbC9htXXUOFmQDr2AHC57aGgTeVh3KFez2xjI+Mx5uwLbrCnbgy+TauhJuXJMTjh/S5nqovre5gq36ClEfAgi4TkD77Or//VeVvLC+Qnbvr3ddf9FoiIAdumrSgAGSccEF0uPkk0V8vtBP5EgEEEDAYgE7A7bWqn7VemnuDAl85lf//hdf75MTx4886kpzYLANDNHauS/84a8y+ayTJfC2buMt0YkJCUc9yx0skBvH0v4+8Nlm7cVqHb3kTL/N2/hLAW0s43PkusX1V1941EvOjLeIB/tlgTZOzx4pR30OduAt4u096/72hg9lSHZ//0vfjAH7vDNPPuoZbON6nDPpRIt3anjTEbDD8+JoBBBAoNMCDY3i/4it3/2lQvKLGzo9jhdPJGCHv+pd+vSRvlOmSM/vfCf8kzkDAQQQsEDA7oCtB1o9pOohW39OW39Ltv6SM/0t2Np5xue3jePobPot0IFvwv7OiWOk/FBV6zPHxtvHg71FXBvPeDu18Xjtdupv8g9IRy8502sKfLu58bZ4bSztbeOjh2e1GbC1cfQXp2l/H/gW8XtzZxwVlPVnsI3zaOf06pHi/6VF4FvJA3sNtDO+gd2C7dnpKQjYnabjRAQQQCB0gT9uOOR/xrqsoin0kziyVWBKdr6ctmUlIp0QSBo4UPpdeqmkjB3bibM5BQEEEIiegJUBO5IuOroVO5Kxo3lu4HPm0ZyLsf8rQMBmNyCAAAJRFNBeXvbwS6Wyt5Ar1pEwcwU7Er0j53YfMUL6XXaZdMvJiXwwRkAAAQRMEGiqqZHCdetCHik2MVH6nHdeyMebdSAB2yxJb4xDwPbGOtMlAghYLLDvQIOs/H2ZfLCNj9syg56AbYbikTHSvv1t/xXthOOOM29QRkIAAQQQQAABvwABm42AAAIImChwuKZZ1r55ULRbwhu5G9w0WQK2aZRHBoqJkV6nny59f/xjiUtNNXlwhkMAAQQQQMC7AgRs7649nSOAgIkC2pvB33yvUta8flAqqkjWJtL6hyJgmy3akrMTEvwhu8855/hDN18IIIAAAgggEJkAATsyP85GAAEEZPOuGlnxuzLZw0duRW03ELCjRusfOLFvXxn0s59Jt8GDozsRoyOAAAIIIOByAQK2yxeY9hBAIHoC2kdtrXq1TP6xmeeso6d8ZGQCdrSFj4zf64wzpP9ll0lMUpI1EzILAggggAACLhMgYLtsQWkHAQSiL9DcLPL7dw/JU6+VST0vB48+OAHbEmN9kriUFOl/xRXS89RTLZ2XyRBAAAEEEHCDAAHbDatIDwggYJnAgbIGWby6WD79qs6yOZmIK9h27IHuw4fLoBkzeNu4HfjMiYBHBKprm+Xlv1WE3G3XxBi5+KzkkI/nQATsECBg26HOnAgg4EgB7SVmj75aJjW1zY6s38lFc4u4faunvQQt40c/sq8AZkYAAdcKlJQ3ysW5eSH3l54aK68s7Rfy8RzYOYHqmjpZuHyNnPytUTJ18sTODWLCWU79/HECtgmLzxAIIOBugdKKRlnydLF8/HmtuxtVuDsCtr2L0zU7W7JnzZKEPn3sLYTZEUDAVQJWBmw9NP75nU2ydsU8+fa4EX7Ljz7ZIa+8sUHuvnWaJCV2adf3wcdf9n9/9sxLlF+HSGolYEe2vATsyPw4GwEEXC7wzkdV8vBLZVJ5mI/esnOpCdh26h+ZOyYhQQZcdZWkn366/cVQAQIIuELAjoCd0aenFBwobQ3UBOxjtxIBO7IfLwJ2ZH6cjQACLhWoqGqU+54tlX9u5Q3hKiwxAVuFVThSQ+r48f5ns+OSeQ5SnVWhEgScKWBHwD7/e6fIm3/9p1x8wST/VezAgP3lnnyZOfcB2V9YIpnHpcvj98+RwYP6+o+75qZlrdA/OOvkY65667c0n3/2KbL25fX+Y/Xz//DW32XB/Wv8f2Y8V7vSXHm4RiorD4t2dd04p3asPubWz77yn2u8+m4c0/i9tmqtqa2V6+Y9JMHGCpxHG2/x3GlBbxHXjG5f+qSc/71TZemvX/DXNf2yya1X9gOvnhuN8wuLjzp3zMgcWbXsZv8Yxtq0uc84bbz/z3RPbU0C3bW5Vr/4lv/8QLu2fLRj21oPM36SCNhmKDIGAgi4SuCDT6tl2TMlUl7JVWtVFpaArcpKHKlDe9P4oJkzJXXsWLUKoxoEEHCUgB0BWwvW2pd+W/i2HV+1/r0eQOfMvKQ1fOcufbI1JHd027UeUgf27XNU+NbC3MtvbPAHyR6pyaKNkzUgwx9etb9/690Pjgrim/693X++Xs8lF0zyH6sF2+WP/k6Wzp8hiQkJ8uqf/09+/IPT/be2B5tD61O/nV2vra2xtGeutav72vEdXcHWfwkx+cyT/McHPivdUcDWfoGhn2v8JYJemzb/3zd9IieOH+kP2Lqndqzx2XBt3rfe2SRXTP2ef021efW7E7Qgr1tp5lrNX3y9T86ZdGJQK309zPgBImCbocgYCCDgCoHDNc3yyMul8pdNVa7ox01NELDVXE3/52ZfcYX/9nG+EEAAgXAF7ArYo0fk+INasLD9wOMvtwbhwKAZasDWA7rmESysGq/ornrmT342PQjrV4fvzZ0hpWUVEqwe/eq70dt4nnbFPVjIbWusnj1S/FeVtTm1c0MJ2Mbj9XCr99FRwA48V/Mw1qb3FewlZ8ZfTgTuN+M4X3ydJ8ZfjujHdrQeHT2HH8oeJ2CHosQxCCDgeoGd39TJgseLpKis0fW9OrHBKdn5ctqWlU4s3fU1J2RkyJBbbuHjvFy/0jSIgPkCdgVs463h+i3j2hVj49VsPWgFXm02huFAkWCB0PhyNePx+q3OgQFbGyN3yZNy6/U/8Qds423p+vn6beLG29m17xlvkQ4WctsaSwvYxqu9nQnY2hX03XsL/L8o6EzADvaiuVACduDt8Pot59pVa+Nt4Pqfa1f+tV+uaLfjB1sPArb5P+eMiAACHhTY+J/Dcs/TxVLf4MHmHdIyV7DVXqiYxETJufFGSeGWcbUXiuoQUEzAzoCth0jjS8+0gB2tK9jBrjpryxEYRgOvYLf1hnM9XC/NneG/nT2UK9jtjeXEK9hauDZepW7rSrjR+bqrf9R694L+Jnmzfyy4gm22KOMhgIBjBJqaRZ7800F56a8VjqnZq4USsJ2x8nxik0YdAAAgAElEQVRmtjPWiSoRUEXAzoCtGehXP/WryYHPPAcGOO2KqP58dLArnW19bnPg89FauNefnw68gm0M3IHPTes1a/8beFt3R7W2N5Z+y7z+udd6eL/+6gvbfcmZfkt5YLg3Omm1aleMtS/tLgH9JWf6udqfB9amP1s9+ayT/c9gG2+5N95REBiojc7aLeLalx6ija7trQdXsFX5twN1IICA4wSqqpv8t4R/spPPtnbC4hGwnbBKR2pMGTdOsm+4QWITE51TNJUigIAtAnYHbP0qth7+tHDV1lvEjUFQewt3e28RNwZCHTbwjdb6G7qNb8HWjg0cN/Dt3sZboI3njhmR7Z9KD67G8wJ/gaC/Rdw4lrHv75505AWW3z/9/7UZsPU3rev9Gd9ubrwtXrtt/ZpLzpUt279sM2BrYwTe7m58i3hbATvw9vvvnDhGyg9V+Z+hLz14qPVt8MFc21oPM34QuIJthiJjIICAowT2FtbLvJVFsr+Ye8KdsnAEbKes1JE6eS7bWetFtQjYJWBlwLarx47m7ejFaR2db8f3A69Y21GDynMSsFVeHWpDAAHTBT7aXi0LnyiWmrpm08dmwOgJELCjZxutkXkuO1qyjIuAewSqa5vl5b+F/phW18QYufisZPcABHkG2wnNEbDbXyUCthN2MTUigIApAs+tK5en3yg3ZSwGsVaAgG2tt5mz9b3oIsm48EIzh2QsBBBAAAEElBUgYCu7NBSGAAJmCdTWNcndTxXLpm01Zg3JOBYLELAtBjd5uvSJE2Xg9Onii4kxeWSGQwABBBBAQC0BArZa60E1CCBgskBBSYPkPloke/bXmzwyw1kpQMC2Ujs6c2kf4ZXzy19KTJcu0ZmAURFAAAEEEFBAgICtwCJQAgIIREdg9/56uenBQqmoaorOBIxqmQAB2zLqqE7UNTtbhsydK3Hdu0d1HgZHAAEEEEDALgECtl3yzIsAAlEV2PlNncx5uFCqqnmZWVShLRqcgG0RtAXTdOnTR4bm5kpCr14WzMYUCCCAAAIIWCtAwLbWm9kQQMACge1f18otDx/gTeEWWFs1BQHbKmlr5olLTpYht90mXQcNsmZCZkEAAQQQQMAiAQK2RdBMgwAC1gh8vKNG5q8qkrp6rlxbI27NLARsa5ytnMXXpYsMvvlmSRk92sppmQsBBBBAAIGoChCwo8rL4AggYKXAB59Wyx2riqSRR66tZLdkLgK2JczWTxIT43/xWdqECdbPzYwIIIAAAghEQYCAHQVUhkQAAesFNnx8WO5ZUyxNhGvr8S2YkYBtAbJdUxCy7ZJnXgQQQACBKAgQsKOAypAIIGCtwLr3K2X586XWTspslgoQsC3ltn6ymBgZPGeOpI4da/3czIgAAggggICJAgRsEzEZCgEErBd4/e+HZMXvyqyfmBktFSBgW8pty2S+2FjJmT2bkG2LPpMigAACCJglQMA2S5JxEEDAcoFn3yqXtW+WWz4vE1ovQMC23tyOGQnZdqgzJwIIIICAmQIEbDM1GQsBBCwTePqNcnluHeHaMnCbJ5qSnS+nbVlpcxVMb4UAIdsKZeZAAAEEEIiWAAE7WrKMiwACURN46x+V8qsXeOY6asAKDswVbAUXJYolEbKjiMvQCCCAAAJRFSBgR5WXwRFAwGyB97cclgWPF0szH3NtNq3S4xGwlV6eqBSnheyhubnSffjwqIzPoAgggAACCERDgIAdDVXGRACBqAh8trtWfvlAoTQ0RmV4BlVYgICt8OJEsbSYxEQZsWiRJGZmRnEWhkYAAQQQQMA8AQK2eZaMhAACURTYW1gv199fIFXVXLqOIrOyQxOwlV2aqBcWn5Ymwxctki49ekR9LiZAAAEEEEAgUgECdqSCnI8AAlEXKD7YINfdVygl5Vy6jjq2ohMQsBVdGIvKSsjI8F/Jjk1KsmhGpkEAAQQQQKBzAgTszrlxFgIIWCRwuKZJfr6sQPYdaLBoRqZRUYCAreKqWFtTt2HD/M9kx8TFWTsxsyGAAAIIIBCGAAE7DCwORQABawXqG5plzsMHZNuXtdZOzGzKCRCwlVsSWwpKHT9ecm6+WXw+ny3zMykCCCCAAAIdCRCwOxLi+wggYItAU1Oz/23h/9xabcv8TKqWAAFbrfWws5peZ58tA6++2s4SmBsBBBBAAIE2BQjYbA4EEFBSYPnzJbLu/Sola6Mo6wUI2NabqzzjgKuvlt5nn61yidSGAAIIIOBRAQK2RxeethFQWeDFv1TIk386qHKJ1GaxAAHbYnDVp/P5ZPidd0q3IUNUr5T6EEAAAQQ8JkDA9tiC0y4Cqgt8+Gm1zFtZpHqZ1GexAAHbYnAHTBeXkiIj7rmHj+9ywFpRIgIIIOAlAQK2l1abXhFQXKC0olGuvjufz7pWfJ3sKI+AbYe6+nMmDRokwxculJj4ePWLpUIEEEAAAU8IELA9scw0iYD6AtpLzX75YKF8+lWd+sVSoeUCBGzLyR0zYY9TTpHs6693TL0UigACCCDgbgECtrvXl+4QcIzA6tcPygvrKxxTL4VaK0DAttbbabP1v/xy6XPeeU4rm3oRQAABBFwoQMB24aLSEgJOE/jP5zX+z7vmC4G2BAjY7I12BXw+GTJ3rqSMHg0UAggggAACtgoQsG3lZ3IEENCeu562eL9UVDWBgUCbAgRsNkdHAjFJSTJqyRLp0qtXR4fyfQQQQAABBKImQMCOGi0DI4BARwLNzc3yiwd47rojJ74vQsBmF4QikDRwoIy8995QDuUYBBBAAAEEoiJAwI4KK4MigEAoAs++VS5r3ywP5VCO8bgAAdvjGyCM9o+bPFn6XXZZGGdwKAIIIIAAAuYJELDNs2QkBBAIQ2Dbl7X+t4Y3N4dxEod6VoCA7dml71TjQ+fPl+SRIzt1LichgAACCCAQiQABOxI9zkUAgU4JlFceee667BDPXXcK0IMnEbA9uOgRtByXmirHL18usUlJEYzCqQgggAACCIQvQMAO34wzEEAgAgHtuWvtjeGf7KyNYBRO9ZoAAdtrKx55v2knnig5N94Y+UCMgAACCCCAQBgCBOwwsDgUAQQiF3h9Y6WseLE08oEYwVMCBGxPLbdpzWZdd530PPVU08ZjIAQQQAABBDoSIGB3JMT3EUDANAHtI7muXJgvNbU8eG0aqkcGImB7ZKFNbjMmMVFGLV3KR3eZ7MpwCCCAAAJtCxCw2R0IIGCZwPxHD8imbTWWzcdE7hEgYLtnLa3upNuQITLszjvF5/NZPTXzIYAAAgh4UICA7cFFp2UE7BD4+38Oy11PFtsxNXO6QICA7YJFtLGFAT/9qfT+3vdsrICpEUAAAQS8IkDA9spK0ycCNgpUVjfJ1Xfl89ZwG9fA6VMTsJ2+gvbWr90qrr1VPD4tzd5CmB0BBBBAwPUCBGzXLzENImC/wK+eL5W33q+0vxAqcKwAAduxS6dM4T1OOkmyZ81Sph4KQQABBBBwpwAB253rSlcIKCOweVeN3PzQAWXqoRBnChCwnbluqlU9NDdXkkeNUq0s6kEAAQQQcJEAAdtFi0krCKgmUN/QLD+9K18KSxtVK416HCZAwHbYgilabpfevWXUffdJTHy8ohVSFgIIIICA0wUI2E5fQepHQGGBp147KL99u0LhCinNKQIEbKeslPp1Zvzwh9L34ovVL5QKEUAAAQQcKUDAduSyUTQC6gvszq+Ta+8tkCY+8lr9xXJAhQRsByySU0qMjfV/NnZiZqZTKqZOBBBAAAEHCRCwHbRYlIqAUwSam5tl5tIC+WJfvVNKpk7FBQjYii+Qw8rTPht7+MKFDquachFAAAEEnCBAwHbCKlEjAg4TeOWdQ7Lq1TKHVU25KgsQsFVeHWfWNmjGDEmfONGZxVM1AggggICyAgRsZZeGwhBwpkBFVaP85PZ8qanj3nBnrqCaVROw1VwXJ1cV262bjF6xQmITE53cBrUjgAACCCgmQMBWbEEoBwGnC6z8fZm8+u4hp7dB/YoJELAVWxCXlMMLz1yykLSBAAIIKCRAwFZoMSgFAacLFB1skMvvyJfGJqd3Qv2qCRCwVVsRd9Tji4+X0Q89JPGpqe5oiC4QQAABBGwXIGDbvgQUgIB7BJY9WyJ/2VTlnoboRBkBArYyS+G6QnqdcYYMnDbNdX3REAIIIICAPQIEbHvcmRUB1wnsLayXaxbtl2YevXbd2qrQEAFbhVVwaQ0+n4y67z4+tsuly0tbCCCAgNUCBGyrxZkPAZcK3PFYkby/pdql3dGW3QIEbLtXwN3zp33rW5Jz003ubpLuEEAAAQQsESBgW8LMJAi4W2DnN3Xy82UF7m6S7mwVIGDbyu+JyYfffbd0y8nxRK80iQACCCAQPQECdvRsGRkBzwjcuLxAPv26zjP90qj1AgRs6829NmO3YcNk+IIFXmubfhFAAAEETBYgYJsMynAIeE1g07Zqmf9okdfapl+LBQjYFoN7dLrBN98sqRMmeLR72kYAAQQQMEOAgG2GImMg4FGBpqZmufbeAtm9v96jArRtlQAB2yppb8+T2L+/jFq61NsIdI8AAgggEJEAATsiPk5GwNsCf/2wSpauLfE2At1bIkDAtoSZSURkyC23SMoJJ2CBAAIIIIBApwQI2J1i4yQEENAEfnJ7nhwoawQDgagLTMnOl9O2rIz6PEyAQPfhw2XYHXcAgQACCCCAQKcECNidYuMkBBDY8O/Dsmh1MRAIWCLAFWxLmJmkRWDYggXSfdgwPBBAAAEEEAhbgIAdNhknIICAJnDjrwrl069qwUDAEgECtiXMTNIioN0irt0qzhcCCCCAAALhChCwwxXjeAQQkC/21snPlvK512wF6wQI2NZZM9MRgZFLlkjSgAFwIIAAAgggEJYAATssLg5GAAFNQHuxmfaCM74QsEqAgG2VNPPoAj1OPlmyb7gBEAQQQAABBMISIGCHxcXBCCBQWtEol8zPk6YmLBCwToCAbZ01M7UI+Hxy/AMPSELv3pAggAACCCAQsgABO2QqDkQAAU3gmT+X+//iCwErBQjYVmozly7Q64wzZOC0aYAggAACCCAQsgABO2QqDkQAgcbGZv/V67JDXL5mN1grQMC21pvZjgj44uJk7MqVEtu1KyQIIIAAAgiEJEDADomJgxBAQBPQnrvWnr/mCwGrBQjYVoszny4w4KqrpPf3vw8IAggggAACIQkQsENi4iAEENAEZizZL1/uqwcDAcsFCNiWkzNhi0BCRoYcv3w5HggggAACCIQkQMAOiYmDEEBA+8xr7bOv+ULADgECth3qzKkLDL/zTuk2dCggCCCAAAIIdChAwO6QiAMQQEATWLS6WDb8+zAYCNgiQMC2hZ1JWwR6fuc7kjVzJh4IIIAAAgh0KEDA7pCIAxBAgI/mYg/YLUDAtnsFvD0/Lzvz9vrTPQIIIBCOAAE7HC2ORcCjAi+8XSGrXzvo0e5pWwUBArYKq+DtGvpfeaX0OeccbyPQPQIIIIBAhwIE7A6JOAABBHi5GXvAbgECtt0rwPy87Iw9gAACCCAQigABOxQljkHAwwJ5B+rlqrv2e1iA1lUQIGCrsArUMHzBAuk2bBgQCCCAAAIItClAwGZzIIBAuwLPrSuXp98oRwkBWwUI2LbyM3mLQK8zzpCB06bhgQACCCCAAAGbPYAAAp0TmH7Pfvk6n8++7pweZ5klQMA2S5JxIhGI7dZNxj76qPhiYiIZhnMRQAABBFwswBVsFy8urSEQqQC3h0cqyPlmCRCwzZJknEgFht52mySPHh3pMJyPAAIIIOBSAQK2SxeWthAwQ+CZP5eL9hdfCNgtQMC2ewWYXxdInzRJBk2fDggCCCCAAAJBBQjYbAwEEGhT4MqF+ZJf1IAQArYLELBtXwIKaBHgNnG2AgIIIIBAewIEbPYHAggEFdCeu9aev+YLARUECNgqrAI16AJDbr1VUsaOBQQBBBBAAIFjBAjYbAoEEAgqoL05XHuDOF8IqCBAwFZhFahBF0ifOFEGzZgBCAIIIIAAAgRs9gACCIQmwO3hoTlxlDUCBGxrnJklNAFuEw/NiaMQQAABLwpwBduLq07PCHQg8OW+epmxhNvD2SjqCBCw1VkLKjkiwG3i7AQEEEAAgWACBGz2BQIIHCOw+rWD8sLbFcggoIwAAVuZpaCQFoH000+XQddeiwcCCCCAAAJHCRCw2RAIIHCMwJV35kt+MW8PZ2uoIzAlO19O27JSnYKoxPMCcSkpMnYle9LzGwEABBBAIECAgM2WQACBowT2FzfIFXfmo4KAUgJcwVZqOSimRWDUffdJYt++eCCAAAIIINAqQMBmMyCAwFEC696vkuXPl6CCgFICBGylloNiWgT6X3ml9DnnHDwQQAABBBAgYLMHEEAguMCStSXytw+r4EFAKQECtlLLQTEtAqnjxsngOXPwQAABBBBAgIDNHkAAgeACU+fuk4OVTfAgoJQAAVup5aCYFoGYhAQ54fHHxRcbiwkCCCCAAAJ+AW4RZyMggECrQF5Rg1y1kOev2RLqCRCw1VsTKjoiMOz226X7iBFwIIAAAgggQMBmDyCAwNECb75XKQ/+thQWBJQTIGArtyQU1CKQceGF0veii/BAAAEEEECAgM0eQACBowXuWVMs7/7rMCwIKCdAwFZuSSioRaDr4MEy4q678EAAAQQQQICAzR5AAIGjBXj+mh2hqgABW9WVoS5NYOxjj0lct25gIIAAAgggwDPY7AEEEDgisLewQa6+m+ev2Q9qChCw1VwXqjoiMGTOHEkZNw4OBBBAAAEECNjsAQQQOCLw+sZKWfEiz1+zH9QUIGCruS5UdUQgc8oUyZw6FQ4EEEAAAQQI2OwBBBA4IrBodbFs+DfPX7Mf1BQgYKu5LlR1RCBl7FgZcuutcCCAAAIIIEDAZg8ggMARgQvm7JWq6mY4EFBSgICt5LJQVItATFKSjHviCTwQQAABBBAgYLMHEEBAZPf+epm2eD8UCCgrQMBWdmkorEVg9IMPSpfevfFAAAEEEPC4gK+5uZlLVh7fBLSPwPp/Vsn9z5UAgYCyAgRsZZeGwloEsmfNkh4nnYQHAggggIDHBQjYHt8AtI+AJrDq1TJ55Z1DYCCgrAABW9mlobAWgT7nnSf9L78cDwQQQAABjwsQsD2+AWgfAU3gtt8ckI+214CBgLICBGxll4bCWgS6Dx8uw+64Aw8EEEAAAY8LELA9vgFoHwFN4JL5eVJ8sBEMBJQVIGAruzQU1iLgi4+XcU89Jb6YGEwQQAABBDwsQMD28OLTOgKaQHVtk/zg5n1gIKC0AAFb6eWhuBaBkUuWSNKAAXgggAACCHhYgIDt4cWndQQ0gW1f1covflUIBgJKCxCwlV4eimsRyJo5U3p+5zt4IIAAAgh4WICA7eHFp3UENIE336uUB39bCkaAwJoFmdKnR5w8/LtS+euHVf7v3nJlT5l8anf/3x+uaT7qe8EAf/WLPjJhRGLQ4685P1Uu+36qxMeJ//b8pWuL5T87a/3HanOXljfKLY8cYF1aBAjYbAUnCGRceKH0vegiJ5RKjQgggAACURIgYEcJlmERcIrAr18ukz9u4A3ixvXSAm5WZvxRIVoLxBedmSK/f7dC1r5ZLlp4HpgRf1QwNo6hhfFJE7q1hnBtzO5JMa3Ha/+8/eta+dXzpf5Arf+9Ns/ZJ3aTB54vaQ3cTtlL0ayTgB1NXcY2S0D7mC7t47r4QgABBBDwrgAB27trT+cI+AXmrCgkyBn2ghace6bG+gOvMSDrfz5t8X7/0YGB27idxg9LkNxresk3BfWtV6GNx2/eWSNzrkyXv31Y1RrWtfO1K9bGsM0W/a8AAZvd4ASBpIEDZeS99zqhVGpEAAEEEIiSAAE7SrAMi4BTBKbO3ScHK5ucUm5U6zRelT7rxG7HXIHWJtcD9vdO7Ca//ElP2fBxlf8qdEcBO/D4YFewtVvFuXodfIkJ2FHd+gxukoAvLk7GP/20SaMxDAIIIICAEwUI2E5cNWpGwCSBiqpG+dGteSaN5uxhtFu6TxyV1HoLd7BbvI3PRbcXsDWJwFvIA48P9gz2jZf29F851770Z713769vDfXOFo6segJ2ZH6cbZ3AmEcekfgePaybkJkQQAABBJQSIGArtRwUg4C1Ap/srJXZK3iDuB6I9ReSGVdBf5nZZeek+P84lCvY2nH6beK90mJbh6tvEHnxL+X+28IDv/Rnr595s1yuPj/Vf/u4diu5dqv5h9urj7lKbu1OsX82Arb9a0AFoQkMzc2V5FGjQjuYoxBAAAEEXCdAwHbdktIQAqELaC83015yxtexAoFXsMN5BjuYZ0cvL9NvGd+8s1auv6iHvPb3Q/4gzjPZRzQJ2PyUOkVg4P/8j/Q680ynlEudCCCAAAImCxCwTQZlOAScJPDwS6Xy2v9VOqlky2oNDNgdvUVcv+X7rx9WHnO1uaPbyY3hW2tQfwEaV7D/u9xTsvPltC0rLVt/JkKgswJ9zjtP+l9+eWdP5zwEEEAAAYcLELAdvoCUj0AkAgseL5J/bK6OZAjXnhsYsLVG2/sc7MCArYfqrok+ae/WcO1WcuMbxbV5jM9n8wz2kS3GFWzX/qi5rrHUceNk8Jw5ruuLhhBAAAEEQhMgYIfmxFEIuFJg1vIC2f51nSt7oyl3CRCw3bWebu4macAAGblkiZtbpDcEEEAAgXYECNhsDwQ8LHDlnfmSX9zgYQFad4oAAdspK0WdcSkpMnYljzOwExBAAAGvChCwvbry9I2AiPzg5r1SXduMBQLKCxCwlV8iCjQIjH/2WfH5fJgggAACCHhQgIDtwUWnZQQ0gYbGZvn+jXvBQMARAgRsRywTRbYIaFewtSvZfCGAAAIIeE+AgO29NadjBPwChaWNctkdeWgg4AgBArYjlokiWwRGLV0qif3744EAAggg4EEBArYHF52WEdAEduypk+vvKwADAUcIELAdsUwU2SIwdN48ST7+eDwQQAABBDwoQMD24KLTMgKawD+3Vsvtq4rAQMARAgRsRywTRbYIZF13nfQ89VQ8EEAAAQQ8KEDA9uCi0zICmsC696tk+fMlYCDgCAECtiOWiSJbBPpffrn0Oe88PBBAAAEEPChAwPbgotMyAprAb9+ukKdeOwgGAo4QIGA7YpkoskXguPPPl36XXooHAggggIAHBQjYHlx0WkZAE1j5+zJ59d1DYCDgCAECtiOWiSJbBNInTpRBM2bggQACCCDgQQECtgcXnZYR0ATufbpY3vnoMBgIOEKAgO2IZaLIFoHU8eNl8OzZeCCAAAIIeFCAgO3BRadlBDSBWx45IB/vqAEDAUcIELAdsUwU2SLQfeRIGTZ/Ph4IIIAAAh4UIGB7cNFpGQFNYPo9++Xr/HowEHCEAAHbEctEkS0CXXNyZMTdd+OBAAIIIOBBAQK2BxedlhHQBK64M1/2FzeAgYAjBAjYjlgmimwRSOzXT0YtW4YHAggggIAHBQjYHlx0WkZAE7h8QZ4UlDSCgYAjBAjYjlgmimwR6JKeLqNXrMADAQQQQMCDAgRsDy46LSOgCVx2R54UlhKw2Q3OECBgO2OdqPKIQFxqqoz9zW/gQAABBBDwoAAB24OLTssIELDZA04TIGA7bcW8XW9s9+5ywqpV3kagewQQQMCjAgRsjy48bSPwk9vz5EAZV7DZCc4QIGA7Y52o8ohATFKSjHviCTgQQAABBDwoQMD24KLTMgKawKW350kRAZvN4BABArZDFooy/QK+Ll1k/OrVaCCAAAIIeFCAgO3BRadlBDSBS+bnSfFBrmCzG5whQMB2xjpR5REBX2ysjF+7Fg4EEEAAAQ8KELA9uOi0jIA/YOfmSXE5AZvd4AyBn2btlLFbn3FGsVSJgIhMeO45HBBAAAEEPChAwPbgotMyAprAxbl5UkLAZjM4QGBgL5Eb9iyU2CY+t90By0WJmkBMjEx4hl8IsRkQQAABLwoQsL246vSMgIhcNC9PSiu4gs1mUF9gXsqr0ivvY/ULpUIEWgR88fEyfs0aPBBAAAEEPChAwPbgotMyApoAAZt94ASByTklcubmB51QKjUi0CoQk5Ag4556ChEEEEAAAQ8KELA9uOi0jIAm8ON5+6SsogkMBJQV6JPmk9kFiyWuvlrZGikMgWACsV27ygmPPw4OAggggIAHBQjYHlx0WkbAH7Bv2ydlhwjY7AZ1Beakr5fM3RvVLZDKEGhDIC4lRcauXIkPAggggIAHBQjYHlx0WkZAE/jJ7XlygM/BZjMoKnBGdoX8YMt9ilZHWQi0L9Cld28Z/SCPNrBPEEAAAS8KELC9uOr0jICIzFiyX77cV48FAsoJpHX3ya0H75eE6oPK1UZBCIQikNivn4xatiyUQzkGAQQQQMBlAgRsly0o7SAQqsCchw/Ifz6vCfVwjkPAMoFZGe9J1q51ls3HRAiYLdA1O1tGLFpk9rCMhwACCCDgAAECtgMWiRIRiIbAoqeKZcPHh6MxNGMi0GmBkwfVykXbCCadBuREJQS6Dx8uw+64Q4laKAIBBBBAwFoBAra13syGgDICK14sldc3VipTD4Ug0DXRJ7k1j0jSoQIwEHC0QOr48TJ49mxH90DxCCCAAAKdEyBgd86NsxBwvMDq1w/KC+srHN8HDbhHYNrAbTLq0xfd0xCdeFYg/fTTZdC113q2fxpHAAEEvCxAwPby6tO7pwVeeeeQrHq1zNMGNK+OwKi+jTLt8zvVKYhKEIhAIOOCC6TvJZdEMAKnIoAAAgg4VYCA7dSVo24EIhT4y6YqWfZsSYSjcDoCkQt0iRfJ9a2W5JKvIh+MERBQQKD/5ZdLn/POU6ASSkAAAQQQsFqAgG21OPMhoIjApm3VMv/RIkWqoQwvC1ye9aVM2LrGywT07jKBrOuuk56nnuqyrmgHAQQQQCAUAQJ2KEocg4ALBbZ/XSezlvMyKXtkQ5sAACAASURBVBcuraNaGpbRJDN2LRCfo6qmWATaFxh6222SPHo0TAgggAACHhQgYHtw0WkZAU1g34EG+eld+WAgYJtATIzI7V2ekdSinbbVwMQIRENg5D33SNKgQdEYmjERQAABBBQXIGArvkCUh0C0BCqqmuRHt+6L1vCMi0CHAlNz8uXUzSs7PI4DEHCawJhHHpH4Hj2cVjb1IoAAAgiYIEDANgGRIRBwokBTU7N878a90tzsxOqp2ekCA3uJ3LBnocQ2NTi9FepH4BiB8c8+Kz4fDz6wNRBAAAEvChCwvbjq9IxAi8CFt+yTQ4eb8EDAcoF5Ka9Kr7yPLZ+XCRGItkBs165ywuOPR3saxkcAAQQQUFSAgK3owlAWAlYIzLh3v3yZV2/FVMyBQKvA5JwSOXPzg4gg4EqBpAEDZOSSJa7sjaYQQAABBDoWIGB3bMQRCLhWYNHqYtnw78Ou7Y/G1BPok+aT2QWLJa6+Wr3iFK4o88c/lozzzxdfXFxrlU01NfLN2rVS+o9/SOD3SzZskD2rV3fY0ahly6T+4EHZtWxZ67E9TztNBl5zjcQkJopxDu2AofPmSXxammyfN6/Dsb16QNq3vy05v/iFV9unbwQQQMDzAgRsz28BALwssPbNcnn2rXIvE9C7xQJz0tdL5u6NFs/q/Om0AH3cuedK4fr1sv/VV49qSA/EZZs2+UP1oOnTped3viMFb755zLH6iVpQTj7+eP8/Hvr006MCtvY97UsL3ca/1+bpd+mlkvfSS/5Qz1dwgYwLLpC+l1wCDwIIIICARwUI2B5deNpGQBN456PDcu/TxWAgYInAmdmHZPKW/14ptWRSl0zSXsDWQnBi376y+7HH5ND27ZI8apRk/fznUpOff1RwDkYR7Aq29mdVu3a1hvVuQ4f6r1gbw7ZLWKPSxqAZMyR94sSojM2gCCCAAALqCxCw1V8jKkQgagK79tbJzKUFURufgRHQBdK6++TWg/dLQvVBUDohEHgLuPHW7cCArQ2vhWTtq6NbuYMF7GBXsEs2buTqdYjrNuyOO6T78OEhHs1hCCCAAAJuEyBgu21F6QeBMATq6pvl3F/uDeMMDkWgcwKzMt6TrF3rOncyZx0joAVj7W3V2lXr7iNHHnP7eCQBO9gz2Onf/a6/hspdu1qfBa8vK2u9as4S/Vdg7MqVEpeSAgkCCCCAgEcFCNgeXXjaRkAXuPT2PCkqawQEgagJnDyoVi7atihq43txYO2Kdu+zzpJ9L7zgfx7a+Ey17hH4bHUwp2BXsAOPMz57rT1frN8+Hsq5XlubmIQEGffUU15rm34RQAABBAwCBGy2AwIeF7jlkQPy8Y4ajyvQfrQEuib6JLfmEUk6xKMIZhoHBmzj2Noz2NqLzkref7/Nl5zpx4cSkvVbxgtef93/bHfF5s3+57N5JvvYFe2alSUjFi82c6kZCwEEEEDAYQIEbIctGOUiYLbAIy+VyZ/+75DZwzIeAn6B6QO2ysjtv0MjQoHBs2fL4T17WgNze7eAB35Pv+W76ssvj3npWUcBO/DN4cYXoHV0boQtO/L0HqecItnXX+/I2ikaAQQQQMAcAQK2OY6MgoBjBf644ZD8+uUyx9ZP4eoKjMpskGk7F6pboIMq065Ip0+a1Fpx4PPPWthN7NfP//3AW8ODBezAW8qbGxqCfqyXMVBrYxufz+YZ7GM3UOaUKZI5daqDdhalIoAAAgiYLUDANluU8RBwmMC/d9TIrY8ccFjVlKu6QJd4kVzfakku+Ur1UqkPAdMEcm68UdJOPNG08RgIAQQQQMB5AgRs560ZFSNgqoD2gjPtRWd8IWCmwBVZX8r4rWvMHJKxEFBeYPSDD0qX3r2Vr5MCEUAAAQSiJ0DAjp4tIyPgGIFzfvGN1Dc4plwKVVxgWEaTzNi1QHyK10l5CJgpEJOYKOOefNLMIRkLAQQQQMCBAgRsBy4aJSNgtsDPlxXIzm/qzB6W8TwqsCDxOUkt2uHR7mnbqwIpY8bIkLlzvdo+fSOAAAIItAgQsNkKCCAgvEmcTWCWwI9z8uSUzY+aNRzjIOAYgYwf/lD6XnyxY+qlUAQQQACB6AgQsKPjyqgIOEpgw78Py6LVxY6qmWLVExjYS+SGPQsltonnDdRbHSqKtkDOTTdJ2re+Fe1pGB8BBBBAQHEBArbiC0R5CFghUF7ZKFPm8qIzK6zdPMe8lFelV97Hbm6R3hBoU2DMI49IfI8eCCGAAAIIeFyAgO3xDUD7COgCV96ZL/nFXHlkR3RO4Ac5xXLG5oc6dzJnIeBwgdju3eWEVasc3gXlI4AAAgiYIUDANkORMRBwgcB9z5bI25uqXNAJLVgt0CfNJ7MLFktcfbXVUzMfAkoIpI4bJ4PnzFGiFopAAAEEELBXgIBtrz+zI6CMwLr3q2T58yXK1EMhzhGYk75eMndvdE7BVIqAyQKZU6dK5pQpJo/KcAgggAACThQgYDtx1agZgSgI7DvQID+9Kz8KIzOkmwXOzK6QyVvuc3OL9IZAhwJD582T5OOP7/A4DkAAAQQQcL8AAdv9a0yHCIQs8KNb90lFVVPIx3OgtwXSuvvk1oP3S0L1QW9D0L2nBXxxcXLCE09ITHy8px1oHgEEEEDgiAABm52AAAKtAnc9WSx//89hRBAISWBWxnuStWtdSMdyEAJuFUgePVqG3nabW9ujLwQQQACBMAUI2GGCcTgCbhb4w/8ekt+8UubmFunNJIFTBtXIj7ctNmk0hkHAuQL9Lr1Ujjv/fOc2QOUIIIAAAqYKELBN5WQwBJwtsGtvncxcWuDsJqg+6gJdE32SW/OIJB1ir0QdmwmUFxi5eLEkZWUpXycFIoAAAghYI0DAtsaZWRBwhEBTU7NcMGefVNc2O6JeirRHYPqALTJy+0v2TM6sCCgkEJOUJOOeeEKhiigFAQQQQMBuAQK23SvA/AgoJnDbbw7IR9trFKuKclQROKF/g1z12UJVyqEOBGwV6HHSSZI9a5atNTA5AggggIBaAgRstdaDahCwXeD37x6SR3/Pc9i2L4SCBXSJF7m96THpdnCvgtVREgLWCwycPl16TZpk/cTMiAACCCCgrAABW9mloTAE7BEoKW+Ui3Pz7JmcWZUWuCLrCxm/9Wmla6Q4BKwUGP3ww9KlZ08rp2QuBBBAAAHFBQjYii8Q5SFgh8DPlxXIzm/q7JiaORUVGJbRJDN2LRCfovVRFgJWCyRkZMjxy5dbPS3zIYAAAggoLkDAVnyBKA8BOwReWF8hq18/aMfUzKmgQEyMyO1dnpHUop0KVkdJCNgjkHHBBdL3kkvsmZxZEUAAAQSUFSBgK7s0FIaAfQJ7C+vl6rv321cAMysl8OOcPDll86NK1UQxCNgtMGLxYunKx3PZvQzMjwACCCgnQMBWbkkoCAE1BK5ZlC/fFDSoUQxV2CYwsJfIDXsWSmwTe8G2RWBi5QTie/aUMQ8/rFxdFIQAAgggYL8AAdv+NaACBJQU0G4R124V58u7AjE+kbnJr0qvvI+9i0DnCAQROG7yZOl32WXYIIAAAgggcIwAAZtNgQACQQW0l5xpLzvjy7sCP8gpljM2P+RdADpHoA2BEXfdJV0HD8YHAQQQQAABAjZ7AAEEQhe47I48KSxtDP0EjnSNQJ80n8wuWCxx9dWu6YlGEDBDIC4lRcauXGnGUIyBAAIIIOBCAa5gu3BRaQkBswRWvVomr7xzyKzhGMdBAnPS10vm7o0OqphSEbBGoM+550r/K66wZjJmQQABBBBwnAAB23FLRsEIWCew7cta+cUDhdZNyExKCJyZfUgmb1mmRC0UgYBqAsPvvFO6DR2qWlnUgwACCCCgiAABW5GFoAwEVBRobm6WKXPzpKKqScXyqCkKAmndfXLrwfsloZrPQY8CL0M6XEC7PXzMb34jPp/P4Z1QPgIIIIBAtAQI2NGSZVwEXCLw0Iul8sbGSpd0QxsdCczKeE+ydq3r6DC+j4AnBXh7uCeXnaYRQACBsAQI2GFxcTAC3hP4ZGetzF7BbeJeWPlTB1XL1G33eKFVekSgUwKj7r9fEjMzO3UuJyGAAAIIeEOAgO2NdaZLBCISuHJhvuQXNUQ0BierLdA10Sfzqx+UxMpitQulOgRsEtCeu9aev+YLAQQQQACB9gQI2OwPBBDoUOCPGw7Jr18u6/A4DnCuwPQBW2Tk9pec2wCVIxBlgUEzZkj6xIlRnoXhEUAAAQScLkDAdvoKUj8CFgjU1DXJlFvzpLa+2YLZmMJqgRP6N8hVny20elrmQ8AxAjEJCf6Xm8UmJjqmZgpFAAEEELBHgIBtjzuzIuA4AV525rglC6ngLvEitzc9Jt0O7g3peA5CwIsC6ZMmyaDp073YOj0jgAACCIQpQMAOE4zDEfCqwO78Opl2T4FX23dt31dkfSHjtz7t2v5oDAEzBIYvXCjdhgwxYyjGQAABBBBwuQAB2+ULTHsImCnwywcKZeuXtWYOyVg2CgzLaJIZuxYIn+hr4yIwtfICCRkZcvzy5crXSYEIIIAAAmoIELDVWAeqQMARAu/+67Dcs4a3TDtisTooMi5WJDf+GUkt2umGdugBgagJ9L/8culz3nlRG5+BEUAAAQTcJUDAdtd60g0CURVobGyWH8/Lk4qqpqjOw+DRF7goZ5+cvHlV9CdiBgQcLjD20UclLjnZ4V1QPgIIIICAVQIEbKukmQcBlwiseaNcnl9X7pJuvNnGwF4iN+xZKLFNfLa5N3cAXYcq0Ouss2TgNdeEejjHIYAAAgggIARsNgECCIQlUFreKBfPz5NmPrErLDdVDo7xicxNflV65X2sSknUgYCaAj6fHP/AA5LQu7ea9VEVAggggICSAgRsJZeFohBQW+DOx4vkvc3VahdJdUEFzs8plkmbH0IHAQQ6EOhx0kmSPWsWTggggAACCIQlQMAOi4uDEUBAE/h4R43c8sgBMBwm0CfNJ7MLFktcPb8ccdjSUa4NAiOXLJGkAQNsmJkpEUAAAQScLEDAdvLqUTsCNgr8bMl++WJfvY0VMHW4AnPS10vm7o3hnsbxCHhOIHnUKBmam+u5vmkYAQQQQCByAQJ25IaMgIAnBT78tEbmreQqtlMW/6zsCjlvy31OKZc6EbBVYMjcuZIyZoytNTA5AggggIAzBQjYzlw3qkZACYEb7i+Qz3bXKVELRbQtkNbdJ7eVLpH42kqYEECgA4HE/v1l1NKlOCGAAAIIINApAQJ2p9g4CQEENIFPdtbI7BVcxVZ9N8zKeE+ydq1TvUzqQ0AJgezrr5cep5yiRC0UgQACCCDgPAECtvPWjIoRUEpgzopC+c/OWqVqopj/Cpw6qFqmbrsHEgQQCEEgISNDRt13n/hiYkI4mkMQQAABBBA4VoCAza5AAIGIBLZ/XSuzlhdGNAYnR0ega6JP5lc/KImVxdGZgFERcJnA4JtvltQJE1zWFe0ggAACCFgpQMC2Upu5EHCpQO7KA/LBpzUu7c65bV07YIuM2P6ScxugcgQsFOg2ZIgMX7jQwhmZCgEEEEDAjQIEbDeuKj0hYLHArr11MnNpgcWzMl17Aif0b5CrPiMssEsQCFVgxOLF0jUrK9TDOQ4BBBBAAIGgAgRsNgYCCJgicOfjRfLe5mpTxmKQyAS6xIvc3vSYdDu4N7KBOBsBjwikfutbMvimmzzSLW0igAACCERTgIAdTV3GRsBDArv318u0xfs91LG6rV6RtUvGb12rboFUhoBKAj6f/8VmiZmZKlVFLQgggAACDhUgYDt04SgbARUF7llTLO/+67CKpXmmpmEZTTJj1wLxeaZjGkUgMoH0SZNk0PTpkQ3C2QgggAACCLQIELDZCgggYJpA3oF6+end+6W52bQhGSgMgbhYkdz4ZyS1aGcYZ3EoAt4V8MXHy+iHHpL41FTvItA5AggggICpAgRsUzkZDAEEHvxtqbz5XiUQNghcnLNPTtq8yoaZmRIBZwocd/750u/SS51ZPFUjgAACCCgpQMBWclkoCgHnClQebpIrF+ZLRVWTc5twYOUDe4ncsGehxDY1OLB6SkbAeoG41FQ5/le/ktjEROsnZ0YEEEAAAdcKELBdu7Q0hoB9An/5oEqWPVNiXwEemznGJzI3+VXplfexxzqnXQQ6L5A9a5b0OOmkzg/AmQgggAACCAQRIGCzLRBAICoCs1cUyic7a6MyNoMeLXB+TrFM2vwQLAggEKJA9xEjZNjtt4d4NIchgAACCCAQugABO3QrjkQAgTAE8osb5Oq78qWRO8XDUAv/0D5pPpldsFji6vkM8vD1OMOLAr64OP/HciX06ePF9ukZAQQQQCDKAgTsKAMzPAJeFlj7Zrk8+1a5lwmi3vuc9PWSuXtj1OdhAgTcIpA5dapkTpnilnboAwEEEEBAMQECtmILQjkIuEmgrr5Z/mdRvuwvaXRTW8r0clZ2hZy35T5l6qEQBFQX6NK7t//qdUx8vOqlUh8CCCCAgEMFCNgOXTjKRsApAv/5vEbmPHzAKeU6ps607j65rXSJxNfykWiOWTQKtV1g6Pz5kjxypO11UAACCCCAgHsFCNjuXVs6Q0AZgXvWFMu7/zqsTD1uKGRWxnuStWudG1qhBwQsEdDeGK69OZwvBBBAAAEEoilAwI6mLmMjgIBfoLyyUS5fkC/Vtc2ImCBwala1TN16jwkjMQQC3hCISUjwf+Z1fFqaNxqmSwQQQAAB2wQI2LbRMzEC3hJ4fWOlrHix1FtNR6Hbrok+mV/9oCRWFkdhdIZEwJ0CA6dNk15nnOHO5ugKAQQQQEApAQK2UstBMQi4V6C5uVmuu69Qdn5T594mLehs+oDNMnL7yxbMxBQIuEOAz7x2xzrSBQIIIOAUAQK2U1aKOhFwgcDewnq59t79Ut/ggmZsaOGE/g1y1WcLbZiZKRFwpkBMYqIcv3w5t4Y7c/moGgEEEHCkAAHbkctG0Qg4V+Ct9yvlV89zq3i4K5jYxSe5jauk28G94Z7K8Qh4VmDQz34m6d/9rmf7p3EEEEAAAesFCNjWmzMjAp4XWPhEkWz8pNrzDuEAXJm1S8ZtXRvOKRyLgKcFkseMkaFz53ragOYRQAABBKwXIGBbb86MCHhe4HBNk/zPov1SdLDR8xahAAzLaJIZuxaIL5SDOQYBBCS2a1cZpd0anpKCBgIIIIAAApYKELAt5WYyBBDQBT77ulZufKBQmpowaU8gLlYkN/4ZSS3aCRQCCIQokH399dLjlFNCPJrDEEAAAQQQME+AgG2eJSMhgECYAi+8XSGrXzsY5lneOvyi7L1y8pbHvNU03SIQgUDqhAky+OabIxiBUxFAAAEEEOi8AAG783aciQACEQpoH91180MHZMsXtRGO5M7TB/YSuWHPQolt4rXr7lxhujJbID49XUYtWeK/RZwvBBBAAAEE7BAgYNuhzpwIINAqUFreKNPu2S8VVdwrbtwWMT6RucmvSq+8j9ktCCAQgoAvLk5GLFokSQMGhHA0hyCAAAIIIBAdAQJ2dFwZFQEEwhD4944aufWRA2Gc4f5Dz88pkkmbV7i/UTpEwCSBrOuuk56nnmrSaAyDAAIIIIBA5wQI2J1z4ywEEDBZ4DevlMkf/veQyaM6c7g+aT6Zk3+XxDbWObMBqkbAYoHeZ58tA66+2uJZmQ4BBBBAAIFjBQjY7AoEEFBCoL6hWWYuLZDd++uVqMfOIuakr5fM3RvtLIG5EXCMQNfBg2X4HXeIdos4XwgggAACCNgtQMC2ewWYHwEEWgX2HWiQmUv3S3Vts2dVzs4ul3O33O/Z/mkcgXAE4lJSZOSSJRKfmhrOaRyLAAIIIIBA1AQI2FGjZWAEEOiMwOZdNXLLwwek0YPvPEvr7pPbSpdIfG1lZ+g4BwFvCfh8MvzOO6XbkCHe6ptuEUAAAQSUFiBgK708FIeANwXe+ahK7n26xHPNz8p4T7J2rfNc3zSMQGcE+l9xhfQ599zOnMo5CCCAAAIIRE2AgB01WgZGAIFIBJ5bVy5Pv1EeyRCOOvfUrGqZuvUeR9VMsQjYJZB++uky6Npr7ZqeeRFAAAEEEGhTgIDN5kAAAWUF7nu2RN7eVKVsfWYVltzVJ7dVPSiJlcVmDck4CLhWIHX8eMm56SbxxcS4tkcaQwABBBBwrgAB27lrR+UIuF6gsalZ5v2mSLTPyXbz17UDPpER219xc4v0hoApAl1zcmTYggUSwxvDTfFkEAQQQAAB8wUI2OabMiICCJgoUF3bJNfdVyDfFDSYOKo6Q53Qv0Gu+myhOgVRCQKKCiRkZMjwu+6SuG7dFK2QshBAAAEEEBAhYLMLEEBAeYGisgb5+X0FUlbhrleLJ3bxSW7jKul2cK/ya0CBCNgpEJ+WJsMXLZIuPXrYWQZzI4AAAggg0KEAAbtDIg5AAAEVBL7Mq5MblxdKTZ17PiP7qqydcsLWZ1TgpQYElBWI7drVf+U6MTNT2RopDAEEEEAAAV2AgM1eQAABxwj867Nq/zPZTS7I2MMymmTGrgXic4w+hSJgvYAvNtb/zHW3wYOtn5wZEUAAAQQQ6IQAAbsTaJyCAAL2Caz/Z6Xc/1ypfQWYMHNcrEhuwnOSWrjDhNEYAgH3CgyePVu0t4bzhQACCCCAgFMECNhOWSnqRACBVoE/bjgkv365zLEiF2fvlZO2PObY+ikcgagLxMRIzi9/KWkTJkR9KiZAAAEEEEDATAECtpmajIUAApYJ/Pm9Snngt867kj2wl8is3QskptldL2yzbOGZyP0ChGv3rzEdIoAAAi4WIGC7eHFpDQG3C/xlU6Use9Y5ITvGJzI3+VXplfex25eG/hDonADhunNunIUAAgggoIwAAVuZpaAQBBDojMC7/6qSJU+XOOLFZxfkFMnpm1d0pk3OQcD9Aj6f5Nx0E7eFu3+l6RABBBBwtQAB29XLS3MIeENg4yeH5e6niqVJ4buu+6T5ZE7+XRLbWOeNRaFLBMIR8Pkke9Ys6XHiieGcxbEIIIAAAggoJ0DAVm5JKAgBBDojsGlbtSx4rEgaFQ3Zc9LXS+bujZ1pjXMQcLcA4drd60t3CCCAgMcECNgeW3DaRcDNAtrnZN++qkjqG9Tq8uzscjl3y/1qFUU1CCgg4IuP978tPPWEExSohhIQQAABBBCIXICAHbkhIyCAgEICn+yskfmriqSmtlmJqtK6++S20iUSX1upRD0UgYAqAjFJSTJ03jzplpOjSknUgQACCCCAQMQCBOyICRkAAQRUE9ixu1ZueeSAHK6xP2TPynhPsnatU42IehCwVSC+Rw8ZmpsriZmZttbB5AgggAACCJgtQMA2W5TxEEBACYGd39TJbb85IOWV9j2UfdqgwzJl271KeFAEAqoIJPbr579yHZ+WpkpJ1IEAAggggIBpAgRs0ygZCAEEVBMoPtggc39dJLv311teWnJXn9xW9aAkVhZbPjcTIqCqQLchQ2TI3LkSm5SkaonUhQACCCCAQEQCBOyI+DgZAQRUF6ipa5J71pTI+1uqLS312gGfyIjtr1g6J5MhoLJA6oQJ/o/iiomPV7lMakMAAQQQQCAiAQJ2RHycjAACThFY80a5PL+u3JJyT+jfIFd9ttCSuZgEAScIpE+cKAOvvVZ8Pp8TyqVGBBBAAAEEOi1AwO40HScigIDTBDZ8fFiWPF0sDY3Rqzyxi09yG1dJt4N7ozcJIyPgFIGYGOl/+eXS55xznFIxdSKAAAIIIBCRAAE7Ij5ORgABpwlobxif/2iRHIzSy8+uytopJ2x9xmks1IuA6QKx3bvL4Jtuku7Dh5s+NgMigAACCCCgqgABW9WVoS4EEIiaQLRefjYso0lm7Fog3AQbtaVjYIcIJA0YIINvuUW69OzpkIopEwEEEEAAAXMECNjmODIKAgg4TMDsl5/FxYrkxj8jqUU7HSZBuQiYK9DztNNk4PTpvMzMXFZGQwABBBBwiAAB2yELRZkIIBAdgbVvlsuzb0X+8rOLc/bKSZsfi06RjIqAEwRiY2XA5ZdL7+9/3wnVUiMCCCCAAAJRESBgR4WVQRFAwEkCH35aLcueKen0c9kDe4nM2r1AYpqbnNQ2tSJgmkBccrIMnj1btM+55gsBBBBAAAEvCxCwvbz69I4AAq0C5ZWNsmRtiXy0vSYslRifyNzkV6VX3sdhncfBCLhFIHnUKMm6/nqJT011S0v0gQACCCCAQKcFCNidpuNEBBBwo8Cb71XKylfKpLa+OaT2Lsg5IKdvfjikYzkIATcJ+OLjpd+ll/IRXG5aVHpBAAEEEIhYgIAdMSEDIICA2wTyixvkrieK5It99e221ifNJ3Py75LYxjq3EdAPAu0KJPbtK9m/+IUk9euHFAIIIIAAAggYBAjYbAcEEEAgiEBjk8izfy6XF9aXS1MbF7PnpK+XzN0b8UPAUwJ9zj3Xf+XaFxfnqb5pFgEEEEAAgVAECNihKHEMAgh4VmDH7lq5+6liKSxtPMrgeznlcs7m+z3rQuPeE4hLTZXsWbMkecQI7zVPxwgggAACCIQoQMAOEYrDEEDAuwLVtc3yyEul8vamKj9CerJPbilZIvG1ld5FoXNPCaSOHy+DZs6UuG7dPNU3zSKAAAIIIBCuAAE7XDGORwABzwps/OSw3P9ciVyb/K4M+PJvnnWgce8IxKWlyYArrpAeJ5/snabpFAEEEEAAgQgECNgR4HEqAgh4T6CivFZKnn9KyjZt8l7zdOwpgd5nnSV9L7lEYrt29VTfNIsAAggggEAkAgTsSPQ4FwEEPCtw6NNPZc+aNVJ34IBnDWjcnQLaG8KzrrtOumZlubNBukIAAQQQQCCKAgTsKOIyNAIIuFuguaFBCt98U/a//ro017f/kV7ulqA7NwjEJCRI5tSpcty554rExLihJXpAAAEEEEDAcgECtuXkTIgAAm4TqC0qkm+efloObd3qttboxyMCyWPG4lcEJwAADHdJREFUyKAZM6RLj//f3t38VlVvYQBecEqBlkILhrR8KKLRqBA1SkSj0YFTJXHoxP/NiXFmoiEOTFASTbRqHElCFIhXpb2Ujwtt6QctN3sbCSbe61foOnud5yQnp2jp+r3P6uTN3ucwMSCJxSRAgAABAvdGQMG+N65+KgECAyjwn6+/jn+9/XasXL48gOlF7qLA1qmpOPDmm7Hrqae6eHxnJkCAAAECfSegYPfdShyIAIEuCzS3is9++GHMvP9+rN+82eUozl5YoDc6GvveeCOaDzKLXq9wUtEIECBAgMDGCijYG+ttGgECAyKwNj8fF997L/790UcRa2sDklrMvhfo9WLvq6+277X26eB9vy0HJECAAIEOCijYHVyaIxMg0B2BlUuX4qd3342rn3/enUM7aUmBXU8/3d4OvnVysmQ+oQgQIECAQD8IKNj9sAVnIECgvMDCuXPt+7MXv/++fFYB+0tg2/79cfCtt2Lsscf662BOQ4AAAQIECgoo2AWXKhIBAv0rcO2rr+Knd96J5dnZ/j2kk5UQaK5UT504EbtffLFEHiEIECBAgEAXBBTsLmzJGQkQKCdw+fTp9oPQlmdmymUTKFdg5NChmDxxIsaffTb3IKYTIECAAIEBFFCwB3DpIhMg0D8C17/5JmZOnoz5M2f651BO0kmBsccfj8nXXouxI0c6eX6HJkCAAAECFQQU7ApblIEAgc4L3LxwIWY++CCufvFFxO3bnc8jwMYJjD/zTHvFeuTBBzduqEkECBAgQIDA7woo2H4xCBAg0EcCK3NzMXvyZMx98kncXlnpo5M5Sl8J9Hqx+/nnY+r112Pr1FRfHc1hCBAgQIDAIAso2IO8fdkJEOhbgbXFxbjy2Wcxd+pU3Pzhh749p4NtrMDw3r1x38svx32vvBJDO3du7HDTCBAgQIAAgT8UULD/kMg3ECBAIFdg8cKFmPv447jy6aexvrSUexjTN1xg09BQjB871pbq5n3WHgQIECBAgED/CijY/bsbJyNAgMBvBJpbxpv3aF86dSoWzp6lU1xg24EDbane89JL0RsZKZ5WPAIECBAgUENAwa6xRykIEBgwgeWLF9ur2nOnT8fa/PyApa8bt7nte/cLL8TE8eMx+tBDdYNKRoAAAQIEigoo2EUXKxYBAgMisL4eN779Nq5OT8e1L7+MW9evD0jwOjGHxsdj4tixmHjuudjxyCMRmzbVCScJAQIECBAYMAEFe8AWLi4BAoUFbt+O+bNn49r0dFu4V69cKRy229GaK9VtqT5+PHY8+qhS3e11Oj0BAgQIELgjoGD7ZSBAgEBRgcVz5365sj09Hcuzs0VTdiRWrxc7Hn44dh49GjuPHImRw4eV6o6szjEJECBAgMBfEVCw/4qW7yVAgEBHBZqCfePMmZg/c6a9pXz12rWOJunOsbdOTv5SqI8ebT/9e/PWrd05vJMSIECAAAECf0tAwf5bbP4SAQIEui2wPDPTFu5fn7cU7n+80N7oaIw98URbqHc9+WRsmZj4xz/TDyBAgAABAgS6JaBgd2tfTkuAAIF7IrD088/t1e35776L5tby5s8e/19g+wMPtB9KNnLoUIwePhzNP6vlQYAAAQIECAy2gII92PuXngABAr8rsL68HIsXLrRle+H8+Vg8fz6aq96D+hjeu7f9Z7OaIt28NqV605Ytg8ohNwECBAgQIPA/BBRsvxoECBAg8KcE1peWYuHcubZs3/zxx7ZwL128GGsLC3/q73fhm4bGxtor0SP33x/b9u2L7QcOxPaDB2Pz9u1dOL4zEiBAgAABAskCCnbyAownQIBA1wVu3bhxp2w3hbt5LjevfXqbeXPluXl/9PCePbFtcrIt0Nv2729LdW/Hjq6vw/kJECBAgACBRAEFOxHfaAIECFQXWJufj6aA//pcvevr9r9dvx7rKyvR3JJ++9atWF9dbV/br5vX1dX2/939aD6Ne1OvF5uGhtrbtDc3r3c9Nw8PR3MlenhiIraMj//y3L37zte9kZHq7PIRIECAAAECSQIKdhK8sQQIECBAgAABAgQIECBQS0DBrrVPaQgQIECAAAECBAgQIEAgSUDBToI3lgABAgQIECBAgAABAgRqCSjYtfYpDQECBAgQIECAAAECBAgkCSjYSfDGEiBAgAABAgQIECBAgEAtAQW71j6lIUCAAAECBAgQIECAAIEkAQU7Cd5YAgQIECBAgAABAgQIEKgloGDX2qc0BAgQIECAAAECBAgQIJAkoGAnwRtLgAABAgQIECBAgAABArUEFOxa+5SGAAECBAgQIECAAAECBJIEFOwkeGMJECBAgAABAgQIECBAoJaAgl1rn9IQIECAAAECBAgQIECAQJKAgp0EbywBAgQIECBAgAABAgQI1BJQsGvtUxoCBAgQIECAAAECBAgQSBJQsJPgjSVAgAABAgQIECBAgACBWgIKdq19SkOAAAECBAgQIECAAAECSQIKdhK8sQQIECBAgAABAgQIECBQS0DBrrVPaQgQIECAAAECBAgQIEAgSUDBToI3lgABAgQIECBAgAABAgRqCSjYtfYpDQECBAgQIECAAAECBAgkCSjYSfDGEiBAgAABAgQIECBAgEAtAQW71j6lIUCAAAECBAgQIECAAIEkAQU7Cd5YAgQIECBAgAABAgQIEKgloGDX2qc0BAgQIECAAAECBAgQIJAkoGAnwRtLgAABAgQIECBAgAABArUEFOxa+5SGAAECBAgQIECAAAECBJIEFOwkeGMJECBAgAABAgQIECBAoJaAgl1rn9IQIECAAAECBAgQIECAQJKAgp0EbywBAgQIECBAgAABAgQI1BJQsGvtUxoCBAgQIECAAAECBAgQSBJQsJPgjSVAgAABAgQIECBAgACBWgIKdq19SkOAAAECBAgQIECAAAECSQIKdhK8sQQIECBAgAABAgQIECBQS0DBrrVPaQgQIECAAAECBAgQIEAgSUDBToI3lgABAgQIECBAgAABAgRqCSjYtfYpDQECBAgQIECAAAECBAgkCSjYSfDGEiBAgAABAgQIECBAgEAtAQW71j6lIUCAAAECBAgQIECAAIEkAQU7Cd5YAgQIECBAgAABAgQIEKgloGDX2qc0BAgQIECAAAECBAgQIJAkoGAnwRtLgAABAgQIECBAgAABArUEFOxa+5SGAAECBAgQIECAAAECBJIEFOwkeGMJECBAgAABAgQIECBAoJaAgl1rn9IQIECAAAECBAgQIECAQJKAgp0EbywBAgQIECBAgAABAgQI1BJQsGvtUxoCBAgQIECAAAECBAgQSBJQsJPgjSVAgAABAgQIECBAgACBWgIKdq19SkOAAAECBAgQIECAAAECSQIKdhK8sQQIECBAgAABAgQIECBQS0DBrrVPaQgQIECAAAECBAgQIEAgSUDBToI3lgABAgQIECBAgAABAgRqCSjYtfYpDQECBAgQIECAAAECBAgkCSjYSfDGEiBAgAABAgQIECBAgEAtAQW71j6lIUCAAAECBAgQIECAAIEkAQU7Cd5YAgQIECBAgAABAgQIEKgloGDX2qc0BAgQIECAAAECBAgQIJAkoGAnwRtLgAABAgQIECBAgAABArUEFOxa+5SGAAECBAgQIECAAAECBJIEFOwkeGMJECBAgAABAgQIECBAoJaAgl1rn9IQIECAAAECBAgQIECAQJKAgp0EbywBAgQIECBAgAABAgQI1BJQsGvtUxoCBAgQIECAAAECBAgQSBJQsJPgjSVAgAABAgQIECBAgACBWgIKdq19SkOAAAECBAgQIECAAAECSQIKdhK8sQQIECBAgAABAgQIECBQS0DBrrVPaQgQIECAAAECBAgQIEAgSUDBToI3lgABAgQIECBAgAABAgRqCSjYtfYpDQECBAgQIECAAAECBAgkCSjYSfDGEiBAgAABAgQIECBAgEAtAQW71j6lIUCAAAECBAgQIECAAIEkAQU7Cd5YAgQIECBAgAABAgQIEKgloGDX2qc0BAgQIECAAAECBAgQIJAkoGAnwRtLgAABAgQIECBAgAABArUEFOxa+5SGAAECBAgQIECAAAECBJIEFOwkeGMJECBAgAABAgQIECBAoJaAgl1rn9IQIECAAAECBAgQIECAQJKAgp0EbywBAgQIECBAgAABAgQI1BJQsGvtUxoCBAgQIECAAAECBAgQSBJQsJPgjSVAgAABAgQIECBAgACBWgIKdq19SkOAAAECBAgQIECAAAECSQL/BcWRbG6EAQyBAAAAAElFTkSuQmCC)"
   ]
  },
  {
   "cell_type": "markdown",
   "metadata": {
    "id": "wAFon7B8JfvZ"
   },
   "source": [
    "Based on the data we have and our analysis of it, we can recommend focusing on increasing total sales of Housing and Medicine products, since they have a high repeat purchase rate, and paying attention to increasing repeat sales in Equimpent and Food categories, because while total sales are high, repeat sales in these categories are lower."
   ]
  }
 ],
 "metadata": {
  "colab": {
   "provenance": []
  },
  "kernelspec": {
   "display_name": "Python 3 (ipykernel)",
   "language": "python",
   "name": "python3"
  },
  "language_info": {
   "codemirror_mode": {
    "name": "ipython",
    "version": 3
   },
   "file_extension": ".py",
   "mimetype": "text/x-python",
   "name": "python",
   "nbconvert_exporter": "python",
   "pygments_lexer": "ipython3",
   "version": "3.9.13"
  }
 },
 "nbformat": 4,
 "nbformat_minor": 1
}
