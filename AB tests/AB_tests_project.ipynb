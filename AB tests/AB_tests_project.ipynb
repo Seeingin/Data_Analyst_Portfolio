{
 "cells": [
  {
   "cell_type": "code",
   "execution_count": null,
   "metadata": {
    "id": "w9jcEvhDJy41"
   },
   "outputs": [],
   "source": [
    "import pandas as pd\n",
    "import numpy as np\n",
    "import scipy\n",
    "import scipy.stats as stats\n",
    "import warnings\n",
    "warnings.filterwarnings(\"ignore\")"
   ]
  },
  {
   "cell_type": "markdown",
   "metadata": {
    "id": "d8c6f14f"
   },
   "source": [
    "##  <ins>Кейс 1.</ins>"
   ]
  },
  {
   "cell_type": "markdown",
   "metadata": {
    "id": "ORAc8SI5ca6f"
   },
   "source": [
    "**Контекст**\n",
    "\n",
    "В связи с постановлением Центрального Банка\n",
    "наше текущее содержание диалога с клиентом (скрипт)\n",
    "операторов считается слишком жёстким,\n",
    "и нам нужно придумать более мягкий скрипт,\n",
    "который будет всё ещё иметь хорошие показатели.\n",
    "У нас есть два варианта более мягкого скрипта,\n",
    "и мы хотим выбрать лучший из них.\n",
    "При этом у нас нет времени\n",
    "чтобы ждать вызревания долгих метрик вроде PV.\n",
    "\n",
    "**Тест**\n",
    "\n",
    "Мы проводим тест,\n",
    "в рамках которого мы разбиваем весь поток\n",
    "на две части рановероятно,\n",
    "где одной части мы продаём одним вариантом скрипта,\n",
    "другой - другим.\n",
    "Целью этого теста\n",
    "является поиск наилучшего скрипта.\n",
    "\n",
    "**Статистические вводные**\n",
    "\n",
    "Уровень значимости 5%.\n",
    "Мы хотели бы различать 8%-ное\n",
    "изменение целевой метрики\n",
    "с вероятностью 80%."
   ]
  },
  {
   "cell_type": "markdown",
   "metadata": {
    "id": "0dd4c840"
   },
   "source": [
    "### 1. Выберем целевую метрику."
   ]
  },
  {
   "cell_type": "markdown",
   "metadata": {
    "id": "fo5CmnRP6Lri"
   },
   "source": [
    "По условию задачи у нас нет времени, чтобы ждать вызревания долгих метрик вроде PV (а значит и NPV). Поэтому в качестве целевой метрики мы возьмем конверсию в покупку (доля  покупок от количества всех заданий). В исторических данных конверсия составляет 30.22%"
   ]
  },
  {
   "cell_type": "code",
   "execution_count": null,
   "metadata": {
    "id": "vG7kmtMEjHOU"
   },
   "outputs": [],
   "source": [
    "data = pd.read_csv('test1_hist_telesales.csv', sep=',')"
   ]
  },
  {
   "cell_type": "code",
   "execution_count": null,
   "metadata": {
    "colab": {
     "base_uri": "https://localhost:8080/",
     "height": 206
    },
    "id": "kIsMWMlLXEFe",
    "outputId": "5c003c8a-9d1b-4013-b18d-deceb4623d4a"
   },
   "outputs": [
    {
     "data": {
      "text/html": [
       "\n",
       "  <div id=\"df-b1bf8e13-e3cf-40d1-b8b2-64ea34901e85\">\n",
       "    <div class=\"colab-df-container\">\n",
       "      <div>\n",
       "<style scoped>\n",
       "    .dataframe tbody tr th:only-of-type {\n",
       "        vertical-align: middle;\n",
       "    }\n",
       "\n",
       "    .dataframe tbody tr th {\n",
       "        vertical-align: top;\n",
       "    }\n",
       "\n",
       "    .dataframe thead th {\n",
       "        text-align: right;\n",
       "    }\n",
       "</style>\n",
       "<table border=\"1\" class=\"dataframe\">\n",
       "  <thead>\n",
       "    <tr style=\"text-align: right;\">\n",
       "      <th></th>\n",
       "      <th>ID</th>\n",
       "      <th>Флаг дозвона</th>\n",
       "      <th>Флаг продажи</th>\n",
       "      <th>Расходы</th>\n",
       "      <th>PV</th>\n",
       "      <th>NPV</th>\n",
       "    </tr>\n",
       "  </thead>\n",
       "  <tbody>\n",
       "    <tr>\n",
       "      <th>0</th>\n",
       "      <td>0</td>\n",
       "      <td>1</td>\n",
       "      <td>0</td>\n",
       "      <td>90</td>\n",
       "      <td>0</td>\n",
       "      <td>-90</td>\n",
       "    </tr>\n",
       "    <tr>\n",
       "      <th>1</th>\n",
       "      <td>1</td>\n",
       "      <td>0</td>\n",
       "      <td>0</td>\n",
       "      <td>5</td>\n",
       "      <td>0</td>\n",
       "      <td>-5</td>\n",
       "    </tr>\n",
       "    <tr>\n",
       "      <th>2</th>\n",
       "      <td>2</td>\n",
       "      <td>0</td>\n",
       "      <td>0</td>\n",
       "      <td>68</td>\n",
       "      <td>0</td>\n",
       "      <td>-68</td>\n",
       "    </tr>\n",
       "    <tr>\n",
       "      <th>3</th>\n",
       "      <td>3</td>\n",
       "      <td>1</td>\n",
       "      <td>0</td>\n",
       "      <td>22</td>\n",
       "      <td>0</td>\n",
       "      <td>-22</td>\n",
       "    </tr>\n",
       "    <tr>\n",
       "      <th>4</th>\n",
       "      <td>4</td>\n",
       "      <td>1</td>\n",
       "      <td>0</td>\n",
       "      <td>22</td>\n",
       "      <td>0</td>\n",
       "      <td>-22</td>\n",
       "    </tr>\n",
       "  </tbody>\n",
       "</table>\n",
       "</div>\n",
       "      <button class=\"colab-df-convert\" onclick=\"convertToInteractive('df-b1bf8e13-e3cf-40d1-b8b2-64ea34901e85')\"\n",
       "              title=\"Convert this dataframe to an interactive table.\"\n",
       "              style=\"display:none;\">\n",
       "        \n",
       "  <svg xmlns=\"http://www.w3.org/2000/svg\" height=\"24px\"viewBox=\"0 0 24 24\"\n",
       "       width=\"24px\">\n",
       "    <path d=\"M0 0h24v24H0V0z\" fill=\"none\"/>\n",
       "    <path d=\"M18.56 5.44l.94 2.06.94-2.06 2.06-.94-2.06-.94-.94-2.06-.94 2.06-2.06.94zm-11 1L8.5 8.5l.94-2.06 2.06-.94-2.06-.94L8.5 2.5l-.94 2.06-2.06.94zm10 10l.94 2.06.94-2.06 2.06-.94-2.06-.94-.94-2.06-.94 2.06-2.06.94z\"/><path d=\"M17.41 7.96l-1.37-1.37c-.4-.4-.92-.59-1.43-.59-.52 0-1.04.2-1.43.59L10.3 9.45l-7.72 7.72c-.78.78-.78 2.05 0 2.83L4 21.41c.39.39.9.59 1.41.59.51 0 1.02-.2 1.41-.59l7.78-7.78 2.81-2.81c.8-.78.8-2.07 0-2.86zM5.41 20L4 18.59l7.72-7.72 1.47 1.35L5.41 20z\"/>\n",
       "  </svg>\n",
       "      </button>\n",
       "      \n",
       "  <style>\n",
       "    .colab-df-container {\n",
       "      display:flex;\n",
       "      flex-wrap:wrap;\n",
       "      gap: 12px;\n",
       "    }\n",
       "\n",
       "    .colab-df-convert {\n",
       "      background-color: #E8F0FE;\n",
       "      border: none;\n",
       "      border-radius: 50%;\n",
       "      cursor: pointer;\n",
       "      display: none;\n",
       "      fill: #1967D2;\n",
       "      height: 32px;\n",
       "      padding: 0 0 0 0;\n",
       "      width: 32px;\n",
       "    }\n",
       "\n",
       "    .colab-df-convert:hover {\n",
       "      background-color: #E2EBFA;\n",
       "      box-shadow: 0px 1px 2px rgba(60, 64, 67, 0.3), 0px 1px 3px 1px rgba(60, 64, 67, 0.15);\n",
       "      fill: #174EA6;\n",
       "    }\n",
       "\n",
       "    [theme=dark] .colab-df-convert {\n",
       "      background-color: #3B4455;\n",
       "      fill: #D2E3FC;\n",
       "    }\n",
       "\n",
       "    [theme=dark] .colab-df-convert:hover {\n",
       "      background-color: #434B5C;\n",
       "      box-shadow: 0px 1px 3px 1px rgba(0, 0, 0, 0.15);\n",
       "      filter: drop-shadow(0px 1px 2px rgba(0, 0, 0, 0.3));\n",
       "      fill: #FFFFFF;\n",
       "    }\n",
       "  </style>\n",
       "\n",
       "      <script>\n",
       "        const buttonEl =\n",
       "          document.querySelector('#df-b1bf8e13-e3cf-40d1-b8b2-64ea34901e85 button.colab-df-convert');\n",
       "        buttonEl.style.display =\n",
       "          google.colab.kernel.accessAllowed ? 'block' : 'none';\n",
       "\n",
       "        async function convertToInteractive(key) {\n",
       "          const element = document.querySelector('#df-b1bf8e13-e3cf-40d1-b8b2-64ea34901e85');\n",
       "          const dataTable =\n",
       "            await google.colab.kernel.invokeFunction('convertToInteractive',\n",
       "                                                     [key], {});\n",
       "          if (!dataTable) return;\n",
       "\n",
       "          const docLinkHtml = 'Like what you see? Visit the ' +\n",
       "            '<a target=\"_blank\" href=https://colab.research.google.com/notebooks/data_table.ipynb>data table notebook</a>'\n",
       "            + ' to learn more about interactive tables.';\n",
       "          element.innerHTML = '';\n",
       "          dataTable['output_type'] = 'display_data';\n",
       "          await google.colab.output.renderOutput(dataTable, element);\n",
       "          const docLink = document.createElement('div');\n",
       "          docLink.innerHTML = docLinkHtml;\n",
       "          element.appendChild(docLink);\n",
       "        }\n",
       "      </script>\n",
       "    </div>\n",
       "  </div>\n",
       "  "
      ],
      "text/plain": [
       "   ID  Флаг дозвона  Флаг продажи  Расходы  PV  NPV\n",
       "0   0             1             0       90   0  -90\n",
       "1   1             0             0        5   0   -5\n",
       "2   2             0             0       68   0  -68\n",
       "3   3             1             0       22   0  -22\n",
       "4   4             1             0       22   0  -22"
      ]
     },
     "execution_count": 51,
     "metadata": {},
     "output_type": "execute_result"
    }
   ],
   "source": [
    "data.head()"
   ]
  },
  {
   "cell_type": "code",
   "execution_count": null,
   "metadata": {
    "colab": {
     "base_uri": "https://localhost:8080/"
    },
    "id": "pW-Vm3RkvjHc",
    "outputId": "a92f4351-2b4d-40a5-b271-93f9be44ddf2"
   },
   "outputs": [
    {
     "data": {
      "text/plain": [
       "Флаг продажи\n",
       "1    30.22\n",
       "dtype: float64"
      ]
     },
     "execution_count": 4,
     "metadata": {},
     "output_type": "execute_result"
    }
   ],
   "source": [
    "((data[data['Флаг продажи'] == 1].value_counts('Флаг продажи') / len(data)) * 100).round(decimals=2)"
   ]
  },
  {
   "cell_type": "markdown",
   "metadata": {
    "id": "b644cd0a"
   },
   "source": [
    "### 2. Альтернатива в критерии."
   ]
  },
  {
   "cell_type": "markdown",
   "metadata": {
    "id": "itePLvuqxrDo"
   },
   "source": [
    "Сформулируем гипотезу и альтернативу:\n",
    "\n",
    "H0: p1 = p2. Конверсии в двух группах не имеют значимого различия\n",
    "\n",
    "H1: p1 != p2. Есть значимое различие в конверсиях"
   ]
  },
  {
   "cell_type": "markdown",
   "metadata": {
    "id": "727aefc4"
   },
   "source": [
    "### 3.1. Расчет размера выборки."
   ]
  },
  {
   "cell_type": "markdown",
   "metadata": {
    "id": "528R6vrpyU-Q"
   },
   "source": [
    "В исторических данных для каждого клиента у нас проставлено значение 1, если был факт продажи в результате звонка, и 0 - если не было. Получаем распределение Бернулли.\n",
    "Размер выборки считаем по формуле:"
   ]
  },
  {
   "cell_type": "markdown",
   "metadata": {
    "id": "xAuRKMY4TO4V"
   },
   "source": [
    "![image.png](data:image/png;base64,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)"
   ]
  },
  {
   "cell_type": "markdown",
   "metadata": {
    "id": "DEs7ML97zLy8"
   },
   "source": [
    "где p0 - базовый коэффициент конверсии (30.2% или 0.302)"
   ]
  },
  {
   "cell_type": "code",
   "execution_count": null,
   "metadata": {
    "colab": {
     "base_uri": "https://localhost:8080/"
    },
    "id": "KtZHdKKqXuJt",
    "outputId": "a5ba7cd6-b208-4020-bf4e-e6108f5afbd7"
   },
   "outputs": [
    {
     "data": {
      "text/plain": [
       "Флаг продажи\n",
       "1    30.22\n",
       "dtype: float64"
      ]
     },
     "execution_count": 5,
     "metadata": {},
     "output_type": "execute_result"
    }
   ],
   "source": [
    "((data[data['Флаг продажи'] == 1].value_counts('Флаг продажи') / len(data)) * 100).round(decimals=2)"
   ]
  },
  {
   "cell_type": "markdown",
   "metadata": {
    "id": "hrd9pfFjX1KT"
   },
   "source": [
    "\n",
    "d^2 это MDE; Учитывая, что мы хотим выявить 8%-ное изменение целевой метрики, мы можем рассчитать MDE следующим образом:\n",
    "\n",
    "MDE = 0.08 * 30.2% = 0.024 (2.4% изменения).\n",
    "\n",
    "Z1-a\\2 - Z-значение для желаемого уровня значимости (0.05). Z1-a\\2 = 1,96;"
   ]
  },
  {
   "cell_type": "code",
   "execution_count": null,
   "metadata": {
    "colab": {
     "base_uri": "https://localhost:8080/"
    },
    "id": "LGm5ks0NXTV7",
    "outputId": "0387d7ca-d961-4950-eaa7-502b22b52195"
   },
   "outputs": [
    {
     "data": {
      "text/plain": [
       "1.959963984540054"
      ]
     },
     "execution_count": 24,
     "metadata": {},
     "output_type": "execute_result"
    }
   ],
   "source": [
    "scipy.stats.norm.ppf(1-.05/2)"
   ]
  },
  {
   "cell_type": "markdown",
   "metadata": {
    "id": "fPKzTFGXXSiJ"
   },
   "source": [
    "Zβ - Z-значение для желаемой статистической мощности (0.8). Zβ = -0,842"
   ]
  },
  {
   "cell_type": "code",
   "execution_count": null,
   "metadata": {
    "colab": {
     "base_uri": "https://localhost:8080/"
    },
    "id": "7-ZzSI5cXV8e",
    "outputId": "7422cd05-f7b0-4ade-b83b-a6170db91417"
   },
   "outputs": [
    {
     "data": {
      "text/plain": [
       "-0.8416212335729142"
      ]
     },
     "execution_count": 25,
     "metadata": {},
     "output_type": "execute_result"
    }
   ],
   "source": [
    "scipy.stats.norm.ppf(0.2)"
   ]
  },
  {
   "cell_type": "markdown",
   "metadata": {
    "id": "B-hZyH2CzSxi"
   },
   "source": [
    "Тогда n = 2*0.302(1-0.302)(1.96-(-0.842))^2 / (0.08 * 0.302)^2 = 5667"
   ]
  },
  {
   "cell_type": "markdown",
   "metadata": {
    "id": "8df8ee73"
   },
   "source": [
    "### 3.2. Получаем выборки для теста и контроля необходимого размера."
   ]
  },
  {
   "cell_type": "code",
   "execution_count": null,
   "metadata": {
    "id": "wcySEWctABVe"
   },
   "outputs": [],
   "source": [
    "control = pd.read_csv('test1_control.csv', sep=',')\n",
    "test = pd.read_csv('test1_test.csv', sep=',')"
   ]
  },
  {
   "cell_type": "code",
   "execution_count": null,
   "metadata": {
    "colab": {
     "base_uri": "https://localhost:8080/"
    },
    "id": "MPjXUk31JIIK",
    "outputId": "caa1c216-e787-4f4f-a4ba-218126052ef2"
   },
   "outputs": [
    {
     "data": {
      "text/plain": [
       "Флаг продажи\n",
       "1    1693\n",
       "dtype: int64"
      ]
     },
     "execution_count": 27,
     "metadata": {},
     "output_type": "execute_result"
    }
   ],
   "source": [
    "# количество продаж в тестовой группе\n",
    "test[test['Флаг продажи'] == 1].value_counts('Флаг продажи')"
   ]
  },
  {
   "cell_type": "code",
   "execution_count": null,
   "metadata": {
    "colab": {
     "base_uri": "https://localhost:8080/"
    },
    "id": "d88T87cSIfdl",
    "outputId": "41fd6e67-952e-4adb-f0eb-59edae46036c"
   },
   "outputs": [
    {
     "data": {
      "text/plain": [
       "Флаг продажи\n",
       "1    29.87\n",
       "dtype: float64"
      ]
     },
     "execution_count": 28,
     "metadata": {},
     "output_type": "execute_result"
    }
   ],
   "source": [
    "# конверсия в тестовой группе\n",
    "((test[(test['Флаг продажи'] == 1)].value_counts('Флаг продажи') / len(test)) * 100).round(decimals=2)"
   ]
  },
  {
   "cell_type": "code",
   "execution_count": null,
   "metadata": {
    "colab": {
     "base_uri": "https://localhost:8080/"
    },
    "id": "XOLu1baGJSFT",
    "outputId": "9a512627-eea4-4e11-d15d-8a8ae874be1b"
   },
   "outputs": [
    {
     "data": {
      "text/plain": [
       "Флаг продажи\n",
       "1    1737\n",
       "dtype: int64"
      ]
     },
     "execution_count": 29,
     "metadata": {},
     "output_type": "execute_result"
    }
   ],
   "source": [
    "# количество продаж в контрольной группе\n",
    "control[control['Флаг продажи'] == 1].value_counts('Флаг продажи')"
   ]
  },
  {
   "cell_type": "code",
   "execution_count": null,
   "metadata": {
    "colab": {
     "base_uri": "https://localhost:8080/"
    },
    "id": "Vdyy9p7bImx-",
    "outputId": "a4a197fc-e76c-4a4d-9116-55be8fa3fee0"
   },
   "outputs": [
    {
     "data": {
      "text/plain": [
       "Флаг продажи\n",
       "1    30.65\n",
       "dtype: float64"
      ]
     },
     "execution_count": 30,
     "metadata": {},
     "output_type": "execute_result"
    }
   ],
   "source": [
    "# конверсия в контрольной группе\n",
    "((control[(control['Флаг продажи'] == 1)].value_counts('Флаг продажи') / len(control)) * 100).round(decimals=2)"
   ]
  },
  {
   "cell_type": "markdown",
   "metadata": {
    "id": "JnQr4qZhT20Q"
   },
   "source": [
    "Построим таблицу сопряженности:"
   ]
  },
  {
   "cell_type": "code",
   "execution_count": null,
   "metadata": {
    "id": "kGVS5qzzNbDW"
   },
   "outputs": [],
   "source": [
    "test = test[['ID', 'Флаг продажи']]"
   ]
  },
  {
   "cell_type": "code",
   "execution_count": null,
   "metadata": {
    "id": "nvdm26BfPBZR"
   },
   "outputs": [],
   "source": [
    "control = control[['ID', 'Флаг продажи']]"
   ]
  },
  {
   "cell_type": "code",
   "execution_count": null,
   "metadata": {
    "id": "tMtuUYWKNkG8"
   },
   "outputs": [],
   "source": [
    "# добавим колонку для обозначения контрольной\\тестовой группы. 1 - тестовая группа\n",
    "test.insert(loc=1 , column='Group', value=1)"
   ]
  },
  {
   "cell_type": "code",
   "execution_count": null,
   "metadata": {
    "id": "WFTKW3rXPE3R"
   },
   "outputs": [],
   "source": [
    "# 0 - контрольная группа\n",
    "control.insert(loc=1 , column='Group', value=0)"
   ]
  },
  {
   "cell_type": "code",
   "execution_count": null,
   "metadata": {
    "id": "X_3ysF_0PIt0"
   },
   "outputs": [],
   "source": [
    "# переименуем колонки\n",
    "test = test.rename(columns={'ID':'Order', 'Флаг продажи':'Status'})\n",
    "control = control.rename(columns={'ID':'Order', 'Флаг продажи':'Status'})"
   ]
  },
  {
   "cell_type": "code",
   "execution_count": null,
   "metadata": {
    "id": "TbcOT0KOP3ct"
   },
   "outputs": [],
   "source": [
    "# соеденим две таблицы\n",
    "result = pd.concat([test, control], sort=False, axis=0)"
   ]
  },
  {
   "cell_type": "code",
   "execution_count": null,
   "metadata": {
    "colab": {
     "base_uri": "https://localhost:8080/",
     "height": 175
    },
    "id": "1Nqz7jTYLzea",
    "outputId": "e4a83880-f620-4efe-fcef-bf54d8fae07a"
   },
   "outputs": [
    {
     "data": {
      "text/html": [
       "\n",
       "  <div id=\"df-a75fa92c-d2b8-4431-b480-170c78218fc2\">\n",
       "    <div class=\"colab-df-container\">\n",
       "      <div>\n",
       "<style scoped>\n",
       "    .dataframe tbody tr th:only-of-type {\n",
       "        vertical-align: middle;\n",
       "    }\n",
       "\n",
       "    .dataframe tbody tr th {\n",
       "        vertical-align: top;\n",
       "    }\n",
       "\n",
       "    .dataframe thead th {\n",
       "        text-align: right;\n",
       "    }\n",
       "</style>\n",
       "<table border=\"1\" class=\"dataframe\">\n",
       "  <thead>\n",
       "    <tr style=\"text-align: right;\">\n",
       "      <th>Status</th>\n",
       "      <th>0</th>\n",
       "      <th>1</th>\n",
       "      <th>All</th>\n",
       "    </tr>\n",
       "    <tr>\n",
       "      <th>Group</th>\n",
       "      <th></th>\n",
       "      <th></th>\n",
       "      <th></th>\n",
       "    </tr>\n",
       "  </thead>\n",
       "  <tbody>\n",
       "    <tr>\n",
       "      <th>0</th>\n",
       "      <td>3930</td>\n",
       "      <td>1737</td>\n",
       "      <td>5667</td>\n",
       "    </tr>\n",
       "    <tr>\n",
       "      <th>1</th>\n",
       "      <td>3974</td>\n",
       "      <td>1693</td>\n",
       "      <td>5667</td>\n",
       "    </tr>\n",
       "    <tr>\n",
       "      <th>All</th>\n",
       "      <td>7904</td>\n",
       "      <td>3430</td>\n",
       "      <td>11334</td>\n",
       "    </tr>\n",
       "  </tbody>\n",
       "</table>\n",
       "</div>\n",
       "      <button class=\"colab-df-convert\" onclick=\"convertToInteractive('df-a75fa92c-d2b8-4431-b480-170c78218fc2')\"\n",
       "              title=\"Convert this dataframe to an interactive table.\"\n",
       "              style=\"display:none;\">\n",
       "        \n",
       "  <svg xmlns=\"http://www.w3.org/2000/svg\" height=\"24px\"viewBox=\"0 0 24 24\"\n",
       "       width=\"24px\">\n",
       "    <path d=\"M0 0h24v24H0V0z\" fill=\"none\"/>\n",
       "    <path d=\"M18.56 5.44l.94 2.06.94-2.06 2.06-.94-2.06-.94-.94-2.06-.94 2.06-2.06.94zm-11 1L8.5 8.5l.94-2.06 2.06-.94-2.06-.94L8.5 2.5l-.94 2.06-2.06.94zm10 10l.94 2.06.94-2.06 2.06-.94-2.06-.94-.94-2.06-.94 2.06-2.06.94z\"/><path d=\"M17.41 7.96l-1.37-1.37c-.4-.4-.92-.59-1.43-.59-.52 0-1.04.2-1.43.59L10.3 9.45l-7.72 7.72c-.78.78-.78 2.05 0 2.83L4 21.41c.39.39.9.59 1.41.59.51 0 1.02-.2 1.41-.59l7.78-7.78 2.81-2.81c.8-.78.8-2.07 0-2.86zM5.41 20L4 18.59l7.72-7.72 1.47 1.35L5.41 20z\"/>\n",
       "  </svg>\n",
       "      </button>\n",
       "      \n",
       "  <style>\n",
       "    .colab-df-container {\n",
       "      display:flex;\n",
       "      flex-wrap:wrap;\n",
       "      gap: 12px;\n",
       "    }\n",
       "\n",
       "    .colab-df-convert {\n",
       "      background-color: #E8F0FE;\n",
       "      border: none;\n",
       "      border-radius: 50%;\n",
       "      cursor: pointer;\n",
       "      display: none;\n",
       "      fill: #1967D2;\n",
       "      height: 32px;\n",
       "      padding: 0 0 0 0;\n",
       "      width: 32px;\n",
       "    }\n",
       "\n",
       "    .colab-df-convert:hover {\n",
       "      background-color: #E2EBFA;\n",
       "      box-shadow: 0px 1px 2px rgba(60, 64, 67, 0.3), 0px 1px 3px 1px rgba(60, 64, 67, 0.15);\n",
       "      fill: #174EA6;\n",
       "    }\n",
       "\n",
       "    [theme=dark] .colab-df-convert {\n",
       "      background-color: #3B4455;\n",
       "      fill: #D2E3FC;\n",
       "    }\n",
       "\n",
       "    [theme=dark] .colab-df-convert:hover {\n",
       "      background-color: #434B5C;\n",
       "      box-shadow: 0px 1px 3px 1px rgba(0, 0, 0, 0.15);\n",
       "      filter: drop-shadow(0px 1px 2px rgba(0, 0, 0, 0.3));\n",
       "      fill: #FFFFFF;\n",
       "    }\n",
       "  </style>\n",
       "\n",
       "      <script>\n",
       "        const buttonEl =\n",
       "          document.querySelector('#df-a75fa92c-d2b8-4431-b480-170c78218fc2 button.colab-df-convert');\n",
       "        buttonEl.style.display =\n",
       "          google.colab.kernel.accessAllowed ? 'block' : 'none';\n",
       "\n",
       "        async function convertToInteractive(key) {\n",
       "          const element = document.querySelector('#df-a75fa92c-d2b8-4431-b480-170c78218fc2');\n",
       "          const dataTable =\n",
       "            await google.colab.kernel.invokeFunction('convertToInteractive',\n",
       "                                                     [key], {});\n",
       "          if (!dataTable) return;\n",
       "\n",
       "          const docLinkHtml = 'Like what you see? Visit the ' +\n",
       "            '<a target=\"_blank\" href=https://colab.research.google.com/notebooks/data_table.ipynb>data table notebook</a>'\n",
       "            + ' to learn more about interactive tables.';\n",
       "          element.innerHTML = '';\n",
       "          dataTable['output_type'] = 'display_data';\n",
       "          await google.colab.output.renderOutput(dataTable, element);\n",
       "          const docLink = document.createElement('div');\n",
       "          docLink.innerHTML = docLinkHtml;\n",
       "          element.appendChild(docLink);\n",
       "        }\n",
       "      </script>\n",
       "    </div>\n",
       "  </div>\n",
       "  "
      ],
      "text/plain": [
       "Status     0     1    All\n",
       "Group                    \n",
       "0       3930  1737   5667\n",
       "1       3974  1693   5667\n",
       "All     7904  3430  11334"
      ]
     },
     "execution_count": 37,
     "metadata": {},
     "output_type": "execute_result"
    }
   ],
   "source": [
    "# построим таблицу сопряженности\n",
    "table = pd.crosstab(\n",
    "    result['Group'],\n",
    "    result['Status'],\n",
    "    margins = True\n",
    ")\n",
    "table"
   ]
  },
  {
   "cell_type": "markdown",
   "metadata": {
    "id": "22e2d9b0"
   },
   "source": [
    "### 4. Проведение теста и принятие решения."
   ]
  },
  {
   "cell_type": "markdown",
   "metadata": {
    "id": "Yc6jE7gPVYzv"
   },
   "source": [
    "Для сравнения конверсий в двух выборках будем использовать Хи-квадрат Пирсона, т.к он позволяет сравнить отношения количества успеха к неуспехам в двух таблицах. Вспомним нашу гипотезу:\n",
    "\n",
    "H0: p1 = p2. Конверсии в двух группах не имеют значимого различия\n",
    "\n",
    "H1: p1 != p2. Есть значимое различие в конверсиях\n",
    "\n",
    "Число степеней свободы в нашем случае:(rows - 1) * (cols - 1) = (2-1) * (2-1) = 1 * 1 = 1"
   ]
  },
  {
   "cell_type": "code",
   "execution_count": null,
   "metadata": {
    "id": "tHNOgu0xTE01"
   },
   "outputs": [],
   "source": [
    "# функция принимает на вход таблицу сопряженности и возвращает статистику критерия\n",
    "def Chisq(table):\n",
    "    expected = []\n",
    "    obs1 = np.append(table.iloc[0][0:2].values, table.iloc[1][0:2].values)\n",
    "    rows = table.iloc[0:2,2].values\n",
    "    cols = table.iloc[2,0:2].values\n",
    "    total = table.loc['All','All']\n",
    "    for count in range(2):\n",
    "        for column in cols:\n",
    "            expected.append((rows[count]*column)/total)\n",
    "    obs = obs1 + 0.5 * np.sign(expected - obs1)\n",
    "    return sum(((obs - expected)**2)/expected)"
   ]
  },
  {
   "cell_type": "code",
   "execution_count": null,
   "metadata": {
    "colab": {
     "base_uri": "https://localhost:8080/"
    },
    "id": "GafpykK6Wdw_",
    "outputId": "0de08479-5718-49fe-d122-a565e03625fe"
   },
   "outputs": [
    {
     "data": {
      "text/plain": [
       "0.7729992416284037"
      ]
     },
     "execution_count": 39,
     "metadata": {},
     "output_type": "execute_result"
    }
   ],
   "source": [
    "chi = Chisq(table)\n",
    "chi"
   ]
  },
  {
   "cell_type": "code",
   "execution_count": null,
   "metadata": {
    "colab": {
     "base_uri": "https://localhost:8080/"
    },
    "id": "isO2VJclWiK6",
    "outputId": "9cc7c1ec-737f-469a-d4ef-5a4fb0efbacd"
   },
   "outputs": [
    {
     "name": "stdout",
     "output_type": "stream",
     "text": [
      "Не можем отклонить нулевую гипотезу \n",
      "Хи-квадрат критерий = 0.7729992416284037 \n",
      "p-value =  0.37929080919453106\n"
     ]
    }
   ],
   "source": [
    "p_value =  1- stats.chi2.cdf(chi,1)\n",
    "\n",
    "if p_value > 0.05:\n",
    "    print('Не можем отклонить нулевую гипотезу', '\\nХи-квадрат критерий =',Chisq(table),'\\np-value = ',p_value)\n",
    "else:\n",
    "    print('Не можем принять нулевую гипотезу','\\nХи-квадрат критерий =',Chisq(table),'\\np-value = ',p_value)"
   ]
  },
  {
   "cell_type": "markdown",
   "metadata": {
    "id": "TrDA7WPlY2Ok"
   },
   "source": [
    "Проверим наш результат с помощью Z-теста:"
   ]
  },
  {
   "cell_type": "code",
   "execution_count": null,
   "metadata": {
    "colab": {
     "base_uri": "https://localhost:8080/"
    },
    "id": "C9NO-_o3jON1",
    "outputId": "6887d02c-9838-4ebb-e946-5b6bfac929fa"
   },
   "outputs": [
    {
     "name": "stdout",
     "output_type": "stream",
     "text": [
      "Не можем отклонить нулевую гипотезу \n",
      "p-value =  0.3683063516455425\n"
     ]
    }
   ],
   "source": [
    "from statsmodels.stats.proportion import proportions_ztest\n",
    "\n",
    "count = np.array([1693, 1737]) # кол-во продаж в каждой выборке\n",
    "nobs = np.array([5667, 5667]) # кол-во наблюдений в каждой выборке\n",
    "stat, p_value = proportions_ztest(count, nobs)\n",
    "\n",
    "alpha = 0.05\n",
    "if p_value > alpha:\n",
    "    print('Не можем отклонить нулевую гипотезу \\np-value = ',p_value)\n",
    "else:\n",
    "    print('Не можем принять нулевую гипотезу \\np-value = ',p_value)"
   ]
  },
  {
   "cell_type": "markdown",
   "metadata": {
    "id": "JhBQLMFWafvW"
   },
   "source": [
    "По результатам проведенного теста можно сказать, что у нас нет достаточно оснований, чтобы отвергнуть нулевую гипотез о равенстве конверсий в тестовой и контрольной группе, а значит на данном этапе мы не можем выбрать лучший из двух скриптов."
   ]
  },
  {
   "cell_type": "markdown",
   "metadata": {
    "id": "f9e15111"
   },
   "source": [
    "------------------"
   ]
  },
  {
   "cell_type": "markdown",
   "metadata": {
    "id": "7ea196b1"
   },
   "source": [
    "##  <ins>Кейс 2.</ins>"
   ]
  },
  {
   "cell_type": "markdown",
   "metadata": {
    "id": "oR2BMUALc_na"
   },
   "source": [
    "\n",
    "**Контекст**\n",
    "\n",
    "Мы провели Cust Dev и поняли,\n",
    "что форма авторизации для клиента сложна,\n",
    "и из-за этого часть клиентов\n",
    "отваливается в заявочном процессе.\n",
    "Мы решили разработать\n",
    "новый процесс авторизации,\n",
    "и у нас есть гипотеза,\n",
    "что он позволит повысить\n",
    "утилизации наших счетов.\n",
    "\n",
    "**Тест**\n",
    "\n",
    "Мы проводим тест,\n",
    "в рамках которого мы разбиваем весь поток\n",
    "на две части рановероятно,\n",
    "где у одной части (контроля)\n",
    "старый процесс авторизации,\n",
    "а у второй части (теста) - новый.\n",
    "Целью этого теста\n",
    "является повышение утилизаций счёта.\n",
    "\n",
    "**Статистические вводные**\n",
    "\n",
    "Проверка однородности выбранного параметра\n",
    "осуществяется с уровнем значимости 2%.\n",
    "\n",
    "Уровень значимости 5%.\n",
    "Мы хотели бы различать 3%-ное\n",
    "изменение целевой метрики\n",
    "с вероятностью 95%."
   ]
  },
  {
   "cell_type": "code",
   "execution_count": null,
   "metadata": {
    "id": "dilLxeLfHQuJ"
   },
   "outputs": [],
   "source": [
    "data2 = pd.read_csv('test2_hist_credit_card.csv', sep=',')"
   ]
  },
  {
   "cell_type": "code",
   "execution_count": null,
   "metadata": {
    "colab": {
     "base_uri": "https://localhost:8080/",
     "height": 206
    },
    "id": "Q3Zae2tSjQFW",
    "outputId": "141d7d78-f853-439b-d8a2-5c3a8b48f048"
   },
   "outputs": [
    {
     "data": {
      "text/html": [
       "\n",
       "  <div id=\"df-2596a054-87b3-4596-b399-8d966856405b\">\n",
       "    <div class=\"colab-df-container\">\n",
       "      <div>\n",
       "<style scoped>\n",
       "    .dataframe tbody tr th:only-of-type {\n",
       "        vertical-align: middle;\n",
       "    }\n",
       "\n",
       "    .dataframe tbody tr th {\n",
       "        vertical-align: top;\n",
       "    }\n",
       "\n",
       "    .dataframe thead th {\n",
       "        text-align: right;\n",
       "    }\n",
       "</style>\n",
       "<table border=\"1\" class=\"dataframe\">\n",
       "  <thead>\n",
       "    <tr style=\"text-align: right;\">\n",
       "      <th></th>\n",
       "      <th>ID</th>\n",
       "      <th>Возраст</th>\n",
       "      <th>Доход клиента</th>\n",
       "      <th>Вероятность банкротства</th>\n",
       "      <th>Флаг утилизации счёта</th>\n",
       "      <th>Расходы</th>\n",
       "      <th>PV КК</th>\n",
       "      <th>PV услуги</th>\n",
       "      <th>NPV</th>\n",
       "    </tr>\n",
       "  </thead>\n",
       "  <tbody>\n",
       "    <tr>\n",
       "      <th>0</th>\n",
       "      <td>0</td>\n",
       "      <td>19</td>\n",
       "      <td>21620.835463</td>\n",
       "      <td>0.138061</td>\n",
       "      <td>0</td>\n",
       "      <td>102</td>\n",
       "      <td>0</td>\n",
       "      <td>0</td>\n",
       "      <td>-102</td>\n",
       "    </tr>\n",
       "    <tr>\n",
       "      <th>1</th>\n",
       "      <td>1</td>\n",
       "      <td>27</td>\n",
       "      <td>24897.990863</td>\n",
       "      <td>0.035508</td>\n",
       "      <td>1</td>\n",
       "      <td>409</td>\n",
       "      <td>11686</td>\n",
       "      <td>1754</td>\n",
       "      <td>13031</td>\n",
       "    </tr>\n",
       "    <tr>\n",
       "      <th>2</th>\n",
       "      <td>2</td>\n",
       "      <td>50</td>\n",
       "      <td>23989.526947</td>\n",
       "      <td>0.098793</td>\n",
       "      <td>0</td>\n",
       "      <td>16</td>\n",
       "      <td>0</td>\n",
       "      <td>0</td>\n",
       "      <td>-16</td>\n",
       "    </tr>\n",
       "    <tr>\n",
       "      <th>3</th>\n",
       "      <td>3</td>\n",
       "      <td>18</td>\n",
       "      <td>38442.409756</td>\n",
       "      <td>0.365661</td>\n",
       "      <td>1</td>\n",
       "      <td>788</td>\n",
       "      <td>13738</td>\n",
       "      <td>1578</td>\n",
       "      <td>14528</td>\n",
       "    </tr>\n",
       "    <tr>\n",
       "      <th>4</th>\n",
       "      <td>4</td>\n",
       "      <td>24</td>\n",
       "      <td>21291.521612</td>\n",
       "      <td>0.036909</td>\n",
       "      <td>1</td>\n",
       "      <td>1048</td>\n",
       "      <td>6594</td>\n",
       "      <td>2213</td>\n",
       "      <td>7759</td>\n",
       "    </tr>\n",
       "  </tbody>\n",
       "</table>\n",
       "</div>\n",
       "      <button class=\"colab-df-convert\" onclick=\"convertToInteractive('df-2596a054-87b3-4596-b399-8d966856405b')\"\n",
       "              title=\"Convert this dataframe to an interactive table.\"\n",
       "              style=\"display:none;\">\n",
       "        \n",
       "  <svg xmlns=\"http://www.w3.org/2000/svg\" height=\"24px\"viewBox=\"0 0 24 24\"\n",
       "       width=\"24px\">\n",
       "    <path d=\"M0 0h24v24H0V0z\" fill=\"none\"/>\n",
       "    <path d=\"M18.56 5.44l.94 2.06.94-2.06 2.06-.94-2.06-.94-.94-2.06-.94 2.06-2.06.94zm-11 1L8.5 8.5l.94-2.06 2.06-.94-2.06-.94L8.5 2.5l-.94 2.06-2.06.94zm10 10l.94 2.06.94-2.06 2.06-.94-2.06-.94-.94-2.06-.94 2.06-2.06.94z\"/><path d=\"M17.41 7.96l-1.37-1.37c-.4-.4-.92-.59-1.43-.59-.52 0-1.04.2-1.43.59L10.3 9.45l-7.72 7.72c-.78.78-.78 2.05 0 2.83L4 21.41c.39.39.9.59 1.41.59.51 0 1.02-.2 1.41-.59l7.78-7.78 2.81-2.81c.8-.78.8-2.07 0-2.86zM5.41 20L4 18.59l7.72-7.72 1.47 1.35L5.41 20z\"/>\n",
       "  </svg>\n",
       "      </button>\n",
       "      \n",
       "  <style>\n",
       "    .colab-df-container {\n",
       "      display:flex;\n",
       "      flex-wrap:wrap;\n",
       "      gap: 12px;\n",
       "    }\n",
       "\n",
       "    .colab-df-convert {\n",
       "      background-color: #E8F0FE;\n",
       "      border: none;\n",
       "      border-radius: 50%;\n",
       "      cursor: pointer;\n",
       "      display: none;\n",
       "      fill: #1967D2;\n",
       "      height: 32px;\n",
       "      padding: 0 0 0 0;\n",
       "      width: 32px;\n",
       "    }\n",
       "\n",
       "    .colab-df-convert:hover {\n",
       "      background-color: #E2EBFA;\n",
       "      box-shadow: 0px 1px 2px rgba(60, 64, 67, 0.3), 0px 1px 3px 1px rgba(60, 64, 67, 0.15);\n",
       "      fill: #174EA6;\n",
       "    }\n",
       "\n",
       "    [theme=dark] .colab-df-convert {\n",
       "      background-color: #3B4455;\n",
       "      fill: #D2E3FC;\n",
       "    }\n",
       "\n",
       "    [theme=dark] .colab-df-convert:hover {\n",
       "      background-color: #434B5C;\n",
       "      box-shadow: 0px 1px 3px 1px rgba(0, 0, 0, 0.15);\n",
       "      filter: drop-shadow(0px 1px 2px rgba(0, 0, 0, 0.3));\n",
       "      fill: #FFFFFF;\n",
       "    }\n",
       "  </style>\n",
       "\n",
       "      <script>\n",
       "        const buttonEl =\n",
       "          document.querySelector('#df-2596a054-87b3-4596-b399-8d966856405b button.colab-df-convert');\n",
       "        buttonEl.style.display =\n",
       "          google.colab.kernel.accessAllowed ? 'block' : 'none';\n",
       "\n",
       "        async function convertToInteractive(key) {\n",
       "          const element = document.querySelector('#df-2596a054-87b3-4596-b399-8d966856405b');\n",
       "          const dataTable =\n",
       "            await google.colab.kernel.invokeFunction('convertToInteractive',\n",
       "                                                     [key], {});\n",
       "          if (!dataTable) return;\n",
       "\n",
       "          const docLinkHtml = 'Like what you see? Visit the ' +\n",
       "            '<a target=\"_blank\" href=https://colab.research.google.com/notebooks/data_table.ipynb>data table notebook</a>'\n",
       "            + ' to learn more about interactive tables.';\n",
       "          element.innerHTML = '';\n",
       "          dataTable['output_type'] = 'display_data';\n",
       "          await google.colab.output.renderOutput(dataTable, element);\n",
       "          const docLink = document.createElement('div');\n",
       "          docLink.innerHTML = docLinkHtml;\n",
       "          element.appendChild(docLink);\n",
       "        }\n",
       "      </script>\n",
       "    </div>\n",
       "  </div>\n",
       "  "
      ],
      "text/plain": [
       "   ID  Возраст  Доход клиента  Вероятность банкротства  Флаг утилизации счёта  \\\n",
       "0   0       19   21620.835463                 0.138061                      0   \n",
       "1   1       27   24897.990863                 0.035508                      1   \n",
       "2   2       50   23989.526947                 0.098793                      0   \n",
       "3   3       18   38442.409756                 0.365661                      1   \n",
       "4   4       24   21291.521612                 0.036909                      1   \n",
       "\n",
       "   Расходы  PV КК  PV услуги    NPV  \n",
       "0      102      0          0   -102  \n",
       "1      409  11686       1754  13031  \n",
       "2       16      0          0    -16  \n",
       "3      788  13738       1578  14528  \n",
       "4     1048   6594       2213   7759  "
      ]
     },
     "execution_count": 6,
     "metadata": {},
     "output_type": "execute_result"
    }
   ],
   "source": [
    "data2.head()"
   ]
  },
  {
   "cell_type": "code",
   "execution_count": null,
   "metadata": {
    "colab": {
     "base_uri": "https://localhost:8080/"
    },
    "id": "8wthPlIUmayK",
    "outputId": "65418a80-85ab-4644-cf50-baa06a688862"
   },
   "outputs": [
    {
     "data": {
      "text/plain": [
       "(123255, 9)"
      ]
     },
     "execution_count": 7,
     "metadata": {},
     "output_type": "execute_result"
    }
   ],
   "source": [
    "data2.shape"
   ]
  },
  {
   "cell_type": "markdown",
   "metadata": {
    "id": "e4691844"
   },
   "source": [
    "### 1. Необходимо выбрать метрику и привести аргументацию."
   ]
  },
  {
   "cell_type": "markdown",
   "metadata": {
    "id": "CjNw81BSJhUv"
   },
   "source": [
    "Так как целью теста является повышение утилизаций счёта, то метрикой будет конверсия в утилизацию счета."
   ]
  },
  {
   "cell_type": "code",
   "execution_count": null,
   "metadata": {
    "colab": {
     "base_uri": "https://localhost:8080/"
    },
    "id": "ggJaKpQYmZ1j",
    "outputId": "c91134d3-aaf4-411a-8cef-e2a053793431"
   },
   "outputs": [
    {
     "data": {
      "text/plain": [
       "Флаг утилизации счёта\n",
       "1    91399\n",
       "dtype: int64"
      ]
     },
     "execution_count": 91,
     "metadata": {},
     "output_type": "execute_result"
    }
   ],
   "source": [
    "# количество утилизаций в историчесих данных\n",
    "data2[data2['Флаг утилизации счёта'] == 1].value_counts('Флаг утилизации счёта')"
   ]
  },
  {
   "cell_type": "code",
   "execution_count": null,
   "metadata": {
    "colab": {
     "base_uri": "https://localhost:8080/"
    },
    "id": "VZkx7DMWmHec",
    "outputId": "f36d10cc-d186-4405-829f-b8fcf21e6f09"
   },
   "outputs": [
    {
     "data": {
      "text/plain": [
       "Флаг утилизации счёта\n",
       "1    74.15\n",
       "dtype: float64"
      ]
     },
     "execution_count": 89,
     "metadata": {},
     "output_type": "execute_result"
    }
   ],
   "source": [
    "# конверсия в утилизацию в исторических данных\n",
    "((data2[data2['Флаг утилизации счёта'] == 1].value_counts('Флаг утилизации счёта') / len(data2)) * 100).round(decimals=2)"
   ]
  },
  {
   "cell_type": "markdown",
   "metadata": {
    "id": "e36b594c"
   },
   "source": [
    "### 2. Альтернатива в критерии."
   ]
  },
  {
   "cell_type": "markdown",
   "metadata": {
    "id": "cUVd_w5xhITF"
   },
   "source": [
    "Сформулируем гипотезу и альтернативу:\n",
    "\n",
    "H0: p1 = p2. Конверсии в двух группах не имеют значимого различия\n",
    "\n",
    "H1: p1 > p2. Конверсия в тестовой группе выше"
   ]
  },
  {
   "cell_type": "markdown",
   "metadata": {
    "id": "692b97f3"
   },
   "source": [
    "### 3. Выберем параметр(-ы), влияющий(-ие) на целевую метрику."
   ]
  },
  {
   "cell_type": "code",
   "execution_count": null,
   "metadata": {
    "id": "KzlFGY4wiKUF"
   },
   "outputs": [],
   "source": [
    "age = data2['Возраст'].to_numpy()\n",
    "income = data2['Доход клиента'].to_numpy()\n",
    "bancrupt = data2['Вероятность банкротства'].to_numpy()\n",
    "target_utility = data2['Флаг утилизации счёта'].to_numpy()"
   ]
  },
  {
   "cell_type": "code",
   "execution_count": null,
   "metadata": {
    "colab": {
     "base_uri": "https://localhost:8080/"
    },
    "id": "4bYv6W9ljUEg",
    "outputId": "8c8a10e8-671f-4e3a-a058-68a985674f52"
   },
   "outputs": [
    {
     "data": {
      "text/plain": [
       "PearsonRResult(statistic=0.0072766581976316524, pvalue=0.010628710293983797)"
      ]
     },
     "execution_count": 84,
     "metadata": {},
     "output_type": "execute_result"
    }
   ],
   "source": [
    "# корреляция между возрастом и целевой метрикой\n",
    "scipy.stats.pearsonr(age, target_utility, alternative='two-sided')"
   ]
  },
  {
   "cell_type": "code",
   "execution_count": null,
   "metadata": {
    "colab": {
     "base_uri": "https://localhost:8080/"
    },
    "id": "GvWWw8NMi6iP",
    "outputId": "b62ee8f6-2fb7-4206-bdf1-9ae8963d960b"
   },
   "outputs": [
    {
     "data": {
      "text/plain": [
       "PearsonRResult(statistic=0.0007063099072110418, pvalue=0.8041602344068762)"
      ]
     },
     "execution_count": 85,
     "metadata": {},
     "output_type": "execute_result"
    }
   ],
   "source": [
    "# корреляция между доходом и целевой метрикой\n",
    "scipy.stats.pearsonr(income, target_utility, alternative='two-sided')"
   ]
  },
  {
   "cell_type": "code",
   "execution_count": null,
   "metadata": {
    "colab": {
     "base_uri": "https://localhost:8080/"
    },
    "id": "pCYzrGUYi-Cb",
    "outputId": "a8538fce-179b-4c7b-d1fe-ce1548a4bb0b"
   },
   "outputs": [
    {
     "data": {
      "text/plain": [
       "PearsonRResult(statistic=-0.215397874622958, pvalue=0.0)"
      ]
     },
     "execution_count": 87,
     "metadata": {},
     "output_type": "execute_result"
    }
   ],
   "source": [
    "# корреляция между вероятностью банкротства и целевой метрикой\n",
    "scipy.stats.pearsonr(bancrupt, target_utility, alternative='two-sided')"
   ]
  },
  {
   "cell_type": "code",
   "execution_count": null,
   "metadata": {
    "colab": {
     "base_uri": "https://localhost:8080/",
     "height": 331
    },
    "id": "k7ZlttGTlPkR",
    "outputId": "fce09273-4cae-4652-940c-fb7999b6d40e"
   },
   "outputs": [
    {
     "data": {
      "text/html": [
       "\n",
       "  <div id=\"df-50e354a8-4c65-454b-a7fa-df2475dfebc2\">\n",
       "    <div class=\"colab-df-container\">\n",
       "      <div>\n",
       "<style scoped>\n",
       "    .dataframe tbody tr th:only-of-type {\n",
       "        vertical-align: middle;\n",
       "    }\n",
       "\n",
       "    .dataframe tbody tr th {\n",
       "        vertical-align: top;\n",
       "    }\n",
       "\n",
       "    .dataframe thead th {\n",
       "        text-align: right;\n",
       "    }\n",
       "</style>\n",
       "<table border=\"1\" class=\"dataframe\">\n",
       "  <thead>\n",
       "    <tr style=\"text-align: right;\">\n",
       "      <th></th>\n",
       "      <th>ID</th>\n",
       "      <th>Возраст</th>\n",
       "      <th>Доход клиента</th>\n",
       "      <th>Вероятность банкротства</th>\n",
       "      <th>Флаг утилизации счёта</th>\n",
       "      <th>Расходы</th>\n",
       "      <th>PV КК</th>\n",
       "      <th>PV услуги</th>\n",
       "      <th>NPV</th>\n",
       "    </tr>\n",
       "  </thead>\n",
       "  <tbody>\n",
       "    <tr>\n",
       "      <th>ID</th>\n",
       "      <td>1.000000</td>\n",
       "      <td>-0.002624</td>\n",
       "      <td>0.004518</td>\n",
       "      <td>0.001279</td>\n",
       "      <td>-0.000964</td>\n",
       "      <td>-0.000077</td>\n",
       "      <td>-0.003181</td>\n",
       "      <td>-0.005220</td>\n",
       "      <td>-0.003480</td>\n",
       "    </tr>\n",
       "    <tr>\n",
       "      <th>Возраст</th>\n",
       "      <td>-0.002624</td>\n",
       "      <td>1.000000</td>\n",
       "      <td>0.001514</td>\n",
       "      <td>-0.004102</td>\n",
       "      <td>0.007277</td>\n",
       "      <td>0.002460</td>\n",
       "      <td>0.003447</td>\n",
       "      <td>0.006117</td>\n",
       "      <td>0.003747</td>\n",
       "    </tr>\n",
       "    <tr>\n",
       "      <th>Доход клиента</th>\n",
       "      <td>0.004518</td>\n",
       "      <td>0.001514</td>\n",
       "      <td>1.000000</td>\n",
       "      <td>-0.000882</td>\n",
       "      <td>0.000706</td>\n",
       "      <td>0.001032</td>\n",
       "      <td>-0.002142</td>\n",
       "      <td>-0.001937</td>\n",
       "      <td>-0.002269</td>\n",
       "    </tr>\n",
       "    <tr>\n",
       "      <th>Вероятность банкротства</th>\n",
       "      <td>0.001279</td>\n",
       "      <td>-0.004102</td>\n",
       "      <td>-0.000882</td>\n",
       "      <td>1.000000</td>\n",
       "      <td>-0.215398</td>\n",
       "      <td>-0.099635</td>\n",
       "      <td>-0.043319</td>\n",
       "      <td>-0.139128</td>\n",
       "      <td>-0.049433</td>\n",
       "    </tr>\n",
       "    <tr>\n",
       "      <th>Флаг утилизации счёта</th>\n",
       "      <td>-0.000964</td>\n",
       "      <td>0.007277</td>\n",
       "      <td>0.000706</td>\n",
       "      <td>-0.215398</td>\n",
       "      <td>1.000000</td>\n",
       "      <td>0.452036</td>\n",
       "      <td>0.204981</td>\n",
       "      <td>0.646524</td>\n",
       "      <td>0.233611</td>\n",
       "    </tr>\n",
       "    <tr>\n",
       "      <th>Расходы</th>\n",
       "      <td>-0.000077</td>\n",
       "      <td>0.002460</td>\n",
       "      <td>0.001032</td>\n",
       "      <td>-0.099635</td>\n",
       "      <td>0.452036</td>\n",
       "      <td>1.000000</td>\n",
       "      <td>0.090826</td>\n",
       "      <td>0.294538</td>\n",
       "      <td>0.086146</td>\n",
       "    </tr>\n",
       "    <tr>\n",
       "      <th>PV КК</th>\n",
       "      <td>-0.003181</td>\n",
       "      <td>0.003447</td>\n",
       "      <td>-0.002142</td>\n",
       "      <td>-0.043319</td>\n",
       "      <td>0.204981</td>\n",
       "      <td>0.090826</td>\n",
       "      <td>1.000000</td>\n",
       "      <td>0.128742</td>\n",
       "      <td>0.998232</td>\n",
       "    </tr>\n",
       "    <tr>\n",
       "      <th>PV услуги</th>\n",
       "      <td>-0.005220</td>\n",
       "      <td>0.006117</td>\n",
       "      <td>-0.001937</td>\n",
       "      <td>-0.139128</td>\n",
       "      <td>0.646524</td>\n",
       "      <td>0.294538</td>\n",
       "      <td>0.128742</td>\n",
       "      <td>1.000000</td>\n",
       "      <td>0.183529</td>\n",
       "    </tr>\n",
       "    <tr>\n",
       "      <th>NPV</th>\n",
       "      <td>-0.003480</td>\n",
       "      <td>0.003747</td>\n",
       "      <td>-0.002269</td>\n",
       "      <td>-0.049433</td>\n",
       "      <td>0.233611</td>\n",
       "      <td>0.086146</td>\n",
       "      <td>0.998232</td>\n",
       "      <td>0.183529</td>\n",
       "      <td>1.000000</td>\n",
       "    </tr>\n",
       "  </tbody>\n",
       "</table>\n",
       "</div>\n",
       "      <button class=\"colab-df-convert\" onclick=\"convertToInteractive('df-50e354a8-4c65-454b-a7fa-df2475dfebc2')\"\n",
       "              title=\"Convert this dataframe to an interactive table.\"\n",
       "              style=\"display:none;\">\n",
       "        \n",
       "  <svg xmlns=\"http://www.w3.org/2000/svg\" height=\"24px\"viewBox=\"0 0 24 24\"\n",
       "       width=\"24px\">\n",
       "    <path d=\"M0 0h24v24H0V0z\" fill=\"none\"/>\n",
       "    <path d=\"M18.56 5.44l.94 2.06.94-2.06 2.06-.94-2.06-.94-.94-2.06-.94 2.06-2.06.94zm-11 1L8.5 8.5l.94-2.06 2.06-.94-2.06-.94L8.5 2.5l-.94 2.06-2.06.94zm10 10l.94 2.06.94-2.06 2.06-.94-2.06-.94-.94-2.06-.94 2.06-2.06.94z\"/><path d=\"M17.41 7.96l-1.37-1.37c-.4-.4-.92-.59-1.43-.59-.52 0-1.04.2-1.43.59L10.3 9.45l-7.72 7.72c-.78.78-.78 2.05 0 2.83L4 21.41c.39.39.9.59 1.41.59.51 0 1.02-.2 1.41-.59l7.78-7.78 2.81-2.81c.8-.78.8-2.07 0-2.86zM5.41 20L4 18.59l7.72-7.72 1.47 1.35L5.41 20z\"/>\n",
       "  </svg>\n",
       "      </button>\n",
       "      \n",
       "  <style>\n",
       "    .colab-df-container {\n",
       "      display:flex;\n",
       "      flex-wrap:wrap;\n",
       "      gap: 12px;\n",
       "    }\n",
       "\n",
       "    .colab-df-convert {\n",
       "      background-color: #E8F0FE;\n",
       "      border: none;\n",
       "      border-radius: 50%;\n",
       "      cursor: pointer;\n",
       "      display: none;\n",
       "      fill: #1967D2;\n",
       "      height: 32px;\n",
       "      padding: 0 0 0 0;\n",
       "      width: 32px;\n",
       "    }\n",
       "\n",
       "    .colab-df-convert:hover {\n",
       "      background-color: #E2EBFA;\n",
       "      box-shadow: 0px 1px 2px rgba(60, 64, 67, 0.3), 0px 1px 3px 1px rgba(60, 64, 67, 0.15);\n",
       "      fill: #174EA6;\n",
       "    }\n",
       "\n",
       "    [theme=dark] .colab-df-convert {\n",
       "      background-color: #3B4455;\n",
       "      fill: #D2E3FC;\n",
       "    }\n",
       "\n",
       "    [theme=dark] .colab-df-convert:hover {\n",
       "      background-color: #434B5C;\n",
       "      box-shadow: 0px 1px 3px 1px rgba(0, 0, 0, 0.15);\n",
       "      filter: drop-shadow(0px 1px 2px rgba(0, 0, 0, 0.3));\n",
       "      fill: #FFFFFF;\n",
       "    }\n",
       "  </style>\n",
       "\n",
       "      <script>\n",
       "        const buttonEl =\n",
       "          document.querySelector('#df-50e354a8-4c65-454b-a7fa-df2475dfebc2 button.colab-df-convert');\n",
       "        buttonEl.style.display =\n",
       "          google.colab.kernel.accessAllowed ? 'block' : 'none';\n",
       "\n",
       "        async function convertToInteractive(key) {\n",
       "          const element = document.querySelector('#df-50e354a8-4c65-454b-a7fa-df2475dfebc2');\n",
       "          const dataTable =\n",
       "            await google.colab.kernel.invokeFunction('convertToInteractive',\n",
       "                                                     [key], {});\n",
       "          if (!dataTable) return;\n",
       "\n",
       "          const docLinkHtml = 'Like what you see? Visit the ' +\n",
       "            '<a target=\"_blank\" href=https://colab.research.google.com/notebooks/data_table.ipynb>data table notebook</a>'\n",
       "            + ' to learn more about interactive tables.';\n",
       "          element.innerHTML = '';\n",
       "          dataTable['output_type'] = 'display_data';\n",
       "          await google.colab.output.renderOutput(dataTable, element);\n",
       "          const docLink = document.createElement('div');\n",
       "          docLink.innerHTML = docLinkHtml;\n",
       "          element.appendChild(docLink);\n",
       "        }\n",
       "      </script>\n",
       "    </div>\n",
       "  </div>\n",
       "  "
      ],
      "text/plain": [
       "                               ID   Возраст  Доход клиента  \\\n",
       "ID                       1.000000 -0.002624       0.004518   \n",
       "Возраст                 -0.002624  1.000000       0.001514   \n",
       "Доход клиента            0.004518  0.001514       1.000000   \n",
       "Вероятность банкротства  0.001279 -0.004102      -0.000882   \n",
       "Флаг утилизации счёта   -0.000964  0.007277       0.000706   \n",
       "Расходы                 -0.000077  0.002460       0.001032   \n",
       "PV КК                   -0.003181  0.003447      -0.002142   \n",
       "PV услуги               -0.005220  0.006117      -0.001937   \n",
       "NPV                     -0.003480  0.003747      -0.002269   \n",
       "\n",
       "                         Вероятность банкротства  Флаг утилизации счёта  \\\n",
       "ID                                      0.001279              -0.000964   \n",
       "Возраст                                -0.004102               0.007277   \n",
       "Доход клиента                          -0.000882               0.000706   \n",
       "Вероятность банкротства                 1.000000              -0.215398   \n",
       "Флаг утилизации счёта                  -0.215398               1.000000   \n",
       "Расходы                                -0.099635               0.452036   \n",
       "PV КК                                  -0.043319               0.204981   \n",
       "PV услуги                              -0.139128               0.646524   \n",
       "NPV                                    -0.049433               0.233611   \n",
       "\n",
       "                          Расходы     PV КК  PV услуги       NPV  \n",
       "ID                      -0.000077 -0.003181  -0.005220 -0.003480  \n",
       "Возраст                  0.002460  0.003447   0.006117  0.003747  \n",
       "Доход клиента            0.001032 -0.002142  -0.001937 -0.002269  \n",
       "Вероятность банкротства -0.099635 -0.043319  -0.139128 -0.049433  \n",
       "Флаг утилизации счёта    0.452036  0.204981   0.646524  0.233611  \n",
       "Расходы                  1.000000  0.090826   0.294538  0.086146  \n",
       "PV КК                    0.090826  1.000000   0.128742  0.998232  \n",
       "PV услуги                0.294538  0.128742   1.000000  0.183529  \n",
       "NPV                      0.086146  0.998232   0.183529  1.000000  "
      ]
     },
     "execution_count": 88,
     "metadata": {},
     "output_type": "execute_result"
    }
   ],
   "source": [
    "# проверим\n",
    "data2.corr(method='pearson', min_periods=1, numeric_only=False)"
   ]
  },
  {
   "cell_type": "markdown",
   "metadata": {
    "id": "dfCKNBiwjcnI"
   },
   "source": [
    "Нас интересует корреляция только с параметрами, которые характеризуют человека (соцдем, параметры нашего скоринга).\n",
    "Как видно из результатов применения критерия Пирсона наибольшая корреляция (отрицательная) наблюдается между целевой метрикой и вероятностью банкротства.\n",
    "\n",
    "Коэффициент корреляции – -0.215, а двустороннее значение p – 0,0. Поскольку это значение p меньше 0,05, мы можем заключить, что существует статистически значимая корреляция между двумя переменными."
   ]
  },
  {
   "cell_type": "markdown",
   "metadata": {
    "id": "9b40ecbb"
   },
   "source": [
    "### 4.1. Расчет размера выборки."
   ]
  },
  {
   "cell_type": "markdown",
   "metadata": {
    "id": "GjjIJivYnOiW"
   },
   "source": [
    "Так как в этом задании мы так же имеем дело со случаем Бернулли, размер выборки рассчитаем по той же формуле, что и в первом задании."
   ]
  },
  {
   "cell_type": "markdown",
   "metadata": {
    "id": "mM4gcstPneSu"
   },
   "source": [
    "где p0 - базовый коэффициент конверсии (74.15% или 0.741)"
   ]
  },
  {
   "cell_type": "markdown",
   "metadata": {
    "id": "jiaJiyplnub_"
   },
   "source": [
    "d^2 это MDE; Учитывая, что мы хотим выявить 3%-ное изменение целевой метрики, мы можем рассчитать MDE следующим образом:\n",
    "\n",
    "MDE = 0.03 * 0.741 = 0.022 (2.2% изменения)."
   ]
  },
  {
   "cell_type": "markdown",
   "metadata": {
    "id": "M8HLVavnoDGi"
   },
   "source": [
    "Z1-a - Z-значение для желаемого уровня значимости (0.05). Z1-a = 1,64;"
   ]
  },
  {
   "cell_type": "code",
   "execution_count": null,
   "metadata": {
    "colab": {
     "base_uri": "https://localhost:8080/"
    },
    "id": "tk7WBLvmjSnM",
    "outputId": "04f96ee3-fe1d-4aa4-dc8b-0b44ea4bb697"
   },
   "outputs": [
    {
     "data": {
      "text/plain": [
       "1.6448536269514722"
      ]
     },
     "execution_count": 16,
     "metadata": {},
     "output_type": "execute_result"
    }
   ],
   "source": [
    "scipy.stats.norm.ppf(1-.05)"
   ]
  },
  {
   "cell_type": "markdown",
   "metadata": {
    "id": "fwpmWHvjoKcW"
   },
   "source": [
    "Zβ - Z-значение для желаемой статистической мощности (0.95). Zβ = -1,64"
   ]
  },
  {
   "cell_type": "code",
   "execution_count": null,
   "metadata": {
    "colab": {
     "base_uri": "https://localhost:8080/"
    },
    "id": "o-JoY-igoU0J",
    "outputId": "6ad9df98-4086-483f-a66e-2975108c60d6"
   },
   "outputs": [
    {
     "data": {
      "text/plain": [
       "-1.6448536269514729"
      ]
     },
     "execution_count": 2,
     "metadata": {},
     "output_type": "execute_result"
    }
   ],
   "source": [
    "scipy.stats.norm.ppf(0.05)"
   ]
  },
  {
   "cell_type": "markdown",
   "metadata": {
    "id": "7xsLmvzrogmo"
   },
   "source": [
    "Тогда n = 2*0.741(1-0.741)(1.64-(-1.64))^2 / (0.03 * 0.741)^2 = 8358"
   ]
  },
  {
   "cell_type": "markdown",
   "metadata": {
    "id": "b13ea8ee"
   },
   "source": [
    "### 4.2. Получаем выборки для теста и контроля необходимого размера."
   ]
  },
  {
   "cell_type": "code",
   "execution_count": null,
   "metadata": {
    "id": "F5c-oqIBjVJS"
   },
   "outputs": [],
   "source": [
    "control2 = pd.read_csv('test2_control.csv', sep=',')\n",
    "test2 = pd.read_csv('test2_test.csv', sep=',')"
   ]
  },
  {
   "cell_type": "code",
   "execution_count": null,
   "metadata": {
    "colab": {
     "base_uri": "https://localhost:8080/",
     "height": 206
    },
    "id": "tp4HSs5ouD5b",
    "outputId": "3f127d44-554a-43c2-d4ee-30d2618aa471"
   },
   "outputs": [
    {
     "data": {
      "text/html": [
       "\n",
       "  <div id=\"df-4e6ef6ac-17a0-4ff4-b753-af80a56cdf15\">\n",
       "    <div class=\"colab-df-container\">\n",
       "      <div>\n",
       "<style scoped>\n",
       "    .dataframe tbody tr th:only-of-type {\n",
       "        vertical-align: middle;\n",
       "    }\n",
       "\n",
       "    .dataframe tbody tr th {\n",
       "        vertical-align: top;\n",
       "    }\n",
       "\n",
       "    .dataframe thead th {\n",
       "        text-align: right;\n",
       "    }\n",
       "</style>\n",
       "<table border=\"1\" class=\"dataframe\">\n",
       "  <thead>\n",
       "    <tr style=\"text-align: right;\">\n",
       "      <th></th>\n",
       "      <th>ID</th>\n",
       "      <th>Возраст</th>\n",
       "      <th>Доход клиента</th>\n",
       "      <th>Вероятность банкротства</th>\n",
       "      <th>Флаг утилизации счёта</th>\n",
       "      <th>Расходы</th>\n",
       "      <th>PV КК</th>\n",
       "      <th>PV услуги</th>\n",
       "      <th>NPV</th>\n",
       "    </tr>\n",
       "  </thead>\n",
       "  <tbody>\n",
       "    <tr>\n",
       "      <th>0</th>\n",
       "      <td>0</td>\n",
       "      <td>74</td>\n",
       "      <td>24217.049838</td>\n",
       "      <td>0.206652</td>\n",
       "      <td>1</td>\n",
       "      <td>376</td>\n",
       "      <td>6192</td>\n",
       "      <td>1771</td>\n",
       "      <td>7587</td>\n",
       "    </tr>\n",
       "    <tr>\n",
       "      <th>1</th>\n",
       "      <td>1</td>\n",
       "      <td>65</td>\n",
       "      <td>58415.877169</td>\n",
       "      <td>0.149160</td>\n",
       "      <td>0</td>\n",
       "      <td>4</td>\n",
       "      <td>0</td>\n",
       "      <td>0</td>\n",
       "      <td>-4</td>\n",
       "    </tr>\n",
       "    <tr>\n",
       "      <th>2</th>\n",
       "      <td>2</td>\n",
       "      <td>44</td>\n",
       "      <td>21011.031878</td>\n",
       "      <td>0.096335</td>\n",
       "      <td>1</td>\n",
       "      <td>123</td>\n",
       "      <td>6167</td>\n",
       "      <td>1383</td>\n",
       "      <td>7427</td>\n",
       "    </tr>\n",
       "    <tr>\n",
       "      <th>3</th>\n",
       "      <td>3</td>\n",
       "      <td>34</td>\n",
       "      <td>29045.811689</td>\n",
       "      <td>0.071980</td>\n",
       "      <td>1</td>\n",
       "      <td>132</td>\n",
       "      <td>5300</td>\n",
       "      <td>1569</td>\n",
       "      <td>6737</td>\n",
       "    </tr>\n",
       "    <tr>\n",
       "      <th>4</th>\n",
       "      <td>4</td>\n",
       "      <td>47</td>\n",
       "      <td>32321.673508</td>\n",
       "      <td>0.019266</td>\n",
       "      <td>1</td>\n",
       "      <td>513</td>\n",
       "      <td>11546</td>\n",
       "      <td>1679</td>\n",
       "      <td>12712</td>\n",
       "    </tr>\n",
       "  </tbody>\n",
       "</table>\n",
       "</div>\n",
       "      <button class=\"colab-df-convert\" onclick=\"convertToInteractive('df-4e6ef6ac-17a0-4ff4-b753-af80a56cdf15')\"\n",
       "              title=\"Convert this dataframe to an interactive table.\"\n",
       "              style=\"display:none;\">\n",
       "        \n",
       "  <svg xmlns=\"http://www.w3.org/2000/svg\" height=\"24px\"viewBox=\"0 0 24 24\"\n",
       "       width=\"24px\">\n",
       "    <path d=\"M0 0h24v24H0V0z\" fill=\"none\"/>\n",
       "    <path d=\"M18.56 5.44l.94 2.06.94-2.06 2.06-.94-2.06-.94-.94-2.06-.94 2.06-2.06.94zm-11 1L8.5 8.5l.94-2.06 2.06-.94-2.06-.94L8.5 2.5l-.94 2.06-2.06.94zm10 10l.94 2.06.94-2.06 2.06-.94-2.06-.94-.94-2.06-.94 2.06-2.06.94z\"/><path d=\"M17.41 7.96l-1.37-1.37c-.4-.4-.92-.59-1.43-.59-.52 0-1.04.2-1.43.59L10.3 9.45l-7.72 7.72c-.78.78-.78 2.05 0 2.83L4 21.41c.39.39.9.59 1.41.59.51 0 1.02-.2 1.41-.59l7.78-7.78 2.81-2.81c.8-.78.8-2.07 0-2.86zM5.41 20L4 18.59l7.72-7.72 1.47 1.35L5.41 20z\"/>\n",
       "  </svg>\n",
       "      </button>\n",
       "      \n",
       "  <style>\n",
       "    .colab-df-container {\n",
       "      display:flex;\n",
       "      flex-wrap:wrap;\n",
       "      gap: 12px;\n",
       "    }\n",
       "\n",
       "    .colab-df-convert {\n",
       "      background-color: #E8F0FE;\n",
       "      border: none;\n",
       "      border-radius: 50%;\n",
       "      cursor: pointer;\n",
       "      display: none;\n",
       "      fill: #1967D2;\n",
       "      height: 32px;\n",
       "      padding: 0 0 0 0;\n",
       "      width: 32px;\n",
       "    }\n",
       "\n",
       "    .colab-df-convert:hover {\n",
       "      background-color: #E2EBFA;\n",
       "      box-shadow: 0px 1px 2px rgba(60, 64, 67, 0.3), 0px 1px 3px 1px rgba(60, 64, 67, 0.15);\n",
       "      fill: #174EA6;\n",
       "    }\n",
       "\n",
       "    [theme=dark] .colab-df-convert {\n",
       "      background-color: #3B4455;\n",
       "      fill: #D2E3FC;\n",
       "    }\n",
       "\n",
       "    [theme=dark] .colab-df-convert:hover {\n",
       "      background-color: #434B5C;\n",
       "      box-shadow: 0px 1px 3px 1px rgba(0, 0, 0, 0.15);\n",
       "      filter: drop-shadow(0px 1px 2px rgba(0, 0, 0, 0.3));\n",
       "      fill: #FFFFFF;\n",
       "    }\n",
       "  </style>\n",
       "\n",
       "      <script>\n",
       "        const buttonEl =\n",
       "          document.querySelector('#df-4e6ef6ac-17a0-4ff4-b753-af80a56cdf15 button.colab-df-convert');\n",
       "        buttonEl.style.display =\n",
       "          google.colab.kernel.accessAllowed ? 'block' : 'none';\n",
       "\n",
       "        async function convertToInteractive(key) {\n",
       "          const element = document.querySelector('#df-4e6ef6ac-17a0-4ff4-b753-af80a56cdf15');\n",
       "          const dataTable =\n",
       "            await google.colab.kernel.invokeFunction('convertToInteractive',\n",
       "                                                     [key], {});\n",
       "          if (!dataTable) return;\n",
       "\n",
       "          const docLinkHtml = 'Like what you see? Visit the ' +\n",
       "            '<a target=\"_blank\" href=https://colab.research.google.com/notebooks/data_table.ipynb>data table notebook</a>'\n",
       "            + ' to learn more about interactive tables.';\n",
       "          element.innerHTML = '';\n",
       "          dataTable['output_type'] = 'display_data';\n",
       "          await google.colab.output.renderOutput(dataTable, element);\n",
       "          const docLink = document.createElement('div');\n",
       "          docLink.innerHTML = docLinkHtml;\n",
       "          element.appendChild(docLink);\n",
       "        }\n",
       "      </script>\n",
       "    </div>\n",
       "  </div>\n",
       "  "
      ],
      "text/plain": [
       "   ID  Возраст  Доход клиента  Вероятность банкротства  Флаг утилизации счёта  \\\n",
       "0   0       74   24217.049838                 0.206652                      1   \n",
       "1   1       65   58415.877169                 0.149160                      0   \n",
       "2   2       44   21011.031878                 0.096335                      1   \n",
       "3   3       34   29045.811689                 0.071980                      1   \n",
       "4   4       47   32321.673508                 0.019266                      1   \n",
       "\n",
       "   Расходы  PV КК  PV услуги    NPV  \n",
       "0      376   6192       1771   7587  \n",
       "1        4      0          0     -4  \n",
       "2      123   6167       1383   7427  \n",
       "3      132   5300       1569   6737  \n",
       "4      513  11546       1679  12712  "
      ]
     },
     "execution_count": 18,
     "metadata": {},
     "output_type": "execute_result"
    }
   ],
   "source": [
    "test2.head()"
   ]
  },
  {
   "cell_type": "markdown",
   "metadata": {
    "id": "f6945c8f"
   },
   "source": [
    "### 5. Проверка на однородность, применение критерия. Принятие решения."
   ]
  },
  {
   "cell_type": "markdown",
   "metadata": {
    "id": "5yxPAn47HqQC"
   },
   "source": [
    "Для проверки однородности выборок возьмем признак \"Вероятность банкротства\", как имеющий наибольшую корреляцию с целевой метркой из всех признаков, поступающих для скоринга.\n",
    "\n",
    "Сформулируем гипотезу и альтернативу:\n",
    "\n",
    "H0 = выборки однородны, F = F\n",
    "\n",
    "H1 = выборки не однородны, F != F\n",
    "\n",
    "Для проверки однородности будем использовать критерий Андерсона-Дарлинга."
   ]
  },
  {
   "cell_type": "code",
   "execution_count": null,
   "metadata": {
    "id": "nzUweeHUHeYD"
   },
   "outputs": [],
   "source": [
    "x = control2['Вероятность банкротства'].to_numpy()\n",
    "y = test2['Вероятность банкротства'].to_numpy()"
   ]
  },
  {
   "cell_type": "code",
   "execution_count": null,
   "metadata": {
    "colab": {
     "base_uri": "https://localhost:8080/"
    },
    "id": "LVlEnA4DjWp5",
    "outputId": "5b3d188d-76fd-4897-f3be-a77097bed7e3"
   },
   "outputs": [
    {
     "name": "stdout",
     "output_type": "stream",
     "text": [
      "Не можем отвергнуть нулевую гипотезу \n",
      "p-value =  0.07250131342289769\n"
     ]
    }
   ],
   "source": [
    "import scipy.stats as stats\n",
    "\n",
    "res = stats.anderson_ksamp([x,y])\n",
    "p_value = res.pvalue\n",
    "alpha = 0.02\n",
    "\n",
    "if p_value > alpha:\n",
    "    print('Не можем отклонить нулевую гипотезу \\np-value = ',p_value)\n",
    "else:\n",
    "    print('Не можем принять нулевую гипотезу \\np-value = ',p_value)"
   ]
  },
  {
   "cell_type": "markdown",
   "metadata": {
    "id": "XcE6DQkCLqoI"
   },
   "source": [
    "По результатам теста мы не можем отклонить нулевую гипотезу об однородности выборок, а значит, мы можем провести тест и проверить, действительно ли в тестовой группе наблюдается значительное увеличение конверсии в утилизацию счета."
   ]
  },
  {
   "cell_type": "code",
   "execution_count": null,
   "metadata": {
    "colab": {
     "base_uri": "https://localhost:8080/"
    },
    "id": "rC1tGZUOSOs0",
    "outputId": "a24b88d1-0856-48f9-94a9-286440fc5c51"
   },
   "outputs": [
    {
     "data": {
      "text/plain": [
       "Флаг утилизации счёта\n",
       "1    6175\n",
       "dtype: int64"
      ]
     },
     "execution_count": 21,
     "metadata": {},
     "output_type": "execute_result"
    }
   ],
   "source": [
    "# количество утилизаций в контрольной группе\n",
    "control2[control2['Флаг утилизации счёта'] == 1].value_counts('Флаг утилизации счёта')"
   ]
  },
  {
   "cell_type": "code",
   "execution_count": null,
   "metadata": {
    "colab": {
     "base_uri": "https://localhost:8080/"
    },
    "id": "dIGEK3IHSSAW",
    "outputId": "74c36346-1484-435c-f94a-609e5fa0a7fc"
   },
   "outputs": [
    {
     "data": {
      "text/plain": [
       "Флаг утилизации счёта\n",
       "1    6437\n",
       "dtype: int64"
      ]
     },
     "execution_count": 22,
     "metadata": {},
     "output_type": "execute_result"
    }
   ],
   "source": [
    "# количество утилизаций в тестовойгруппе\n",
    "test2[test2['Флаг утилизации счёта'] == 1].value_counts('Флаг утилизации счёта')"
   ]
  },
  {
   "cell_type": "markdown",
   "metadata": {
    "id": "19-GWtU0SnYS"
   },
   "source": [
    "Для проверки первоночальной гипотезы используем z-тест. Вспомним нашу гипотезу:\n",
    "\n",
    "H0: p1 = p2. Конверсии в двух группах не имеют значимого различия\n",
    "\n",
    "H1: p1 > p2. Конверсия в тестовой группе выше"
   ]
  },
  {
   "cell_type": "code",
   "execution_count": null,
   "metadata": {
    "colab": {
     "base_uri": "https://localhost:8080/"
    },
    "id": "wpon_6YoLqwr",
    "outputId": "e111543a-36b9-4814-fae7-4730c6344045"
   },
   "outputs": [
    {
     "name": "stdout",
     "output_type": "stream",
     "text": [
      "Не можем отклонить нулевую гипотезу \n",
      "p-value =  0.07250131342289769\n"
     ]
    }
   ],
   "source": [
    "from statsmodels.stats.proportion import proportions_ztest\n",
    "\n",
    "count = np.array([6175, 6437])\n",
    "nobs = np.array([10070, 10070])\n",
    "stat, p_val = proportions_ztest(count, nobs, alternative='larger')\n",
    "\n",
    "alpha = 0.05\n",
    "if p_value > alpha:\n",
    "    print('Не можем отклонить нулевую гипотезу \\np-value = ',p_value)\n",
    "else:\n",
    "    print('Не можем принять нулевую гипотезу \\np-value = ',p_value)"
   ]
  },
  {
   "cell_type": "markdown",
   "metadata": {
    "id": "kXiPbn7OSz7H"
   },
   "source": [
    "В результате проверки гипотезы мы не можем отклонить H0, что может говорить о том, что статистически значимой разницы в конверсиях тестовой и контрольной группы нет."
   ]
  }
 ],
 "metadata": {
  "colab": {
   "provenance": []
  },
  "kernelspec": {
   "display_name": "Python 3",
   "language": "python",
   "name": "python3"
  },
  "language_info": {
   "codemirror_mode": {
    "name": "ipython",
    "version": 3
   },
   "file_extension": ".py",
   "mimetype": "text/x-python",
   "name": "python",
   "nbconvert_exporter": "python",
   "pygments_lexer": "ipython3",
   "version": "3.7.3"
  }
 },
 "nbformat": 4,
 "nbformat_minor": 5
}
